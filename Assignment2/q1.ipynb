{
 "cells": [
  {
   "cell_type": "markdown",
   "metadata": {},
   "source": [
    "## Question 1. Backpropagation"
   ]
  },
  {
   "cell_type": "code",
   "execution_count": 51,
   "metadata": {},
   "outputs": [],
   "source": [
    "import numpy as np\n",
    "import gzip\n",
    "import idx2numpy\n",
    "from sklearn.model_selection import train_test_split\n",
    "from sklearn.preprocessing import StandardScaler\n",
    "from sklearn import datasets\n",
    "from sklearn.neural_network import MLPClassifier\n",
    "import matplotlib.pyplot as plt\n",
    "from sklearn.model_selection import train_test_split\n",
    "import random\n",
    "from operator import add\n",
    "from scipy.special import expit\n",
    "import math\n",
    "from tqdm import tqdm\n",
    "import joblib\n",
    "from sklearn.preprocessing import StandardScaler\n",
    "import matplotlib.pyplot as plt\n",
    "import pandas as pd\n",
    "import seaborn as sns\n",
    "from tabulate import tabulate\n",
    "import warnings\n",
    "warnings.filterwarnings('ignore')"
   ]
  },
  {
   "cell_type": "code",
   "execution_count": 2,
   "metadata": {},
   "outputs": [],
   "source": [
    "training_loss = {\n",
    "    \"tanh\" : [],\n",
    "    \"sigmoid\": [],\n",
    "    \"relu\": [],\n",
    "    \"linear\": []\n",
    "}\n",
    "\n",
    "validation_loss = {\n",
    "    \"tanh\" : [],\n",
    "    \"sigmoid\": [],\n",
    "    \"relu\": [],\n",
    "    \"linear\": []\n",
    "}"
   ]
  },
  {
   "cell_type": "code",
   "execution_count": 3,
   "metadata": {},
   "outputs": [],
   "source": [
    "#helper function to save the learnt weights and biases.\n",
    "def dump_learned_weights_and_bias(weights, bias, activation, epoch):\n",
    "    weights_path = \"checkpoints/\"+activation+\"/\"+str(epoch)+\"_\"+activation+\"_\"+\"weights.pkl\"\n",
    "    bias_path = \"checkpoints/\"+activation+\"/\"+str(epoch)+\"_\"+activation+\"_\"+\"bias.pkl\"\n",
    "    joblib.dump(weights, weights_path)\n",
    "    joblib.dump(bias, bias_path)\n",
    "    return"
   ]
  },
  {
   "cell_type": "markdown",
   "metadata": {},
   "source": [
    "##### **Question 1: Part 1 to Part 4**"
   ]
  },
  {
   "cell_type": "code",
   "execution_count": 4,
   "metadata": {},
   "outputs": [],
   "source": [
    "class MyNeuralNetwork():\n",
    "    \"\"\"\n",
    "    My implementation of a Neural Network Classifier.\n",
    "    \"\"\"\n",
    "\n",
    "    acti_fns = ['relu', 'sigmoid', 'linear', 'tanh', 'softmax']\n",
    "    weight_inits = ['zero', 'random', 'normal']\n",
    "\n",
    "    def __init__(self, n_layers, layer_sizes, activation, learning_rate, weight_init, batch_size, num_epochs):\n",
    "        \"\"\"\n",
    "        Parameters\n",
    "        ----------\n",
    "        n_layers : int value specifying the number of layers\n",
    "        layer_sizes : integer array of size n_layers specifying the number of nodes in each layer\n",
    "        activation : string specifying the activation function out of relu, sigmoid, linear, tanh\n",
    "        learning_rate : float value specifying the learning rate to be used\n",
    "        weight_init : string specifying the weight initialization function to be used: zero, random, normal\n",
    "        batch_size : int value specifying the batch size to be used\n",
    "        num_epochs : int value specifying the number of epochs to be used\n",
    "        \"\"\"\n",
    "\n",
    "        if activation not in self.acti_fns:\n",
    "            raise Exception('Incorrect Activation Function')\n",
    "\n",
    "        if weight_init not in self.weight_inits:\n",
    "            raise Exception('Incorrect Weight Initialization Function')\n",
    "        \n",
    "        l = [784] #append input and output layer to existing layers\n",
    "        l.extend(layer_sizes)\n",
    "        l.append(10)\n",
    "        \n",
    "        np.random.seed(420)\n",
    "        self.n_layers = n_layers\n",
    "        self.layer_sizes = l\n",
    "        self.activation = activation\n",
    "        self.learning_rate = learning_rate\n",
    "        self.weight_init = weight_init\n",
    "        self.batch_size = batch_size\n",
    "        self.num_epochs = num_epochs\n",
    "        self.weights = {}\n",
    "        self.bias = {}\n",
    "        self.cache = {} #cache\n",
    "        self.initialise_weights()   #initialise model weights and biases\n",
    "\n",
    "    def compare_with_mlp(self,loss_from_your_model,X_train,y_train):\n",
    "        # comparing with MLP\n",
    "        # X is all data and Y is all labels\n",
    "        act = self.activation\n",
    "        if(act==\"sigmoid\"):\n",
    "            act = \"logistic\"\n",
    "        if(act==\"linear\"):\n",
    "            act = \"identity\"\n",
    "        mlp = MLPClassifier(hidden_layer_sizes=(256, 128, 64), activation =act ,solver = 'sgd' , alpha = 0, batch_size = 32, max_iter=50, learning_rate_init = self.learning_rate, learning_rate = 'constant', shuffle=True, momentum = 0, nesterovs_momentum=False, validation_fraction = 0.1, verbose=True, warm_start=True)\n",
    "        mlp.fit(X_train, y_train)\n",
    "        mlp_file = \"checkpoints/sklearn/\"+\"50_\"+self.activation+\"_model.pkl\"\n",
    "        joblib.dump(mlp, mlp_file)\n",
    "        mlp.fit(X_train, y_train)\n",
    "        mlp_file = \"checkpoints/sklearn/\"+\"100_\"+self.activation+\"_model.pkl\"\n",
    "        joblib.dump(mlp, mlp_file)\n",
    "        loss_from_sklearn = mlp.loss_curve_\n",
    "        sns.set()\n",
    "        plt.plot(loss_from_sklearn,label=\"sklearn\")\n",
    "        plt.plot(loss_from_your_model,label=\"my NN\")\n",
    "        plt.xlabel(\"Epochs\")\n",
    "        plt.ylabel(\"Loss\")\n",
    "        plt.legend(loc=\"upper left\")\n",
    "        plt.savefig(self.activation+\"_comparison.png\")\n",
    "        plt.close()\n",
    "\n",
    "    def relu(self, X):\n",
    "        \"\"\"\n",
    "        Calculating the ReLU activation for a particular layer\n",
    "\n",
    "        Parameters\n",
    "        ----------\n",
    "        X : 1-dimentional numpy array \n",
    "\n",
    "        Returns\n",
    "        -------\n",
    "        x_calc : 1-dimensional numpy array after calculating the necessary function over X\n",
    "        \"\"\"\n",
    "        x_calc = X * (X > 0)\n",
    "        return x_calc\n",
    "\n",
    "    def relu_grad(self, X):\n",
    "        \"\"\"\n",
    "        Calculating the gradient of ReLU activation for a particular layer\n",
    "\n",
    "        Parameters\n",
    "        ----------\n",
    "        X : 1-dimentional numpy array \n",
    "\n",
    "        Returns\n",
    "        -------\n",
    "        x_calc : 1-dimensional numpy array after calculating the necessary function over X\n",
    "        \"\"\"\n",
    "        x_calc = np.where(X < 0, 0, 1)\n",
    "        return x_calc\n",
    "\n",
    "    def sigmoid(self, X):\n",
    "        \"\"\"\n",
    "        Calculating the Sigmoid activation for a particular layer\n",
    "\n",
    "        Parameters\n",
    "        ----------\n",
    "        X : 1-dimentional numpy array \n",
    "\n",
    "        Returns\n",
    "        -------\n",
    "        x_calc : 1-dimensional numpy array after calculating the necessary function over X\n",
    "        \"\"\"\n",
    "        x_calc = expit(X)\n",
    "        return x_calc\n",
    "\n",
    "    def sigmoid_grad(self, X):\n",
    "        \"\"\"\n",
    "        Calculating the gradient of Sigmoid activation for a particular layer\n",
    "\n",
    "        Parameters\n",
    "        ----------\n",
    "        X : 1-dimentional numpy array \n",
    "\n",
    "        Returns\n",
    "        -------\n",
    "        x_calc : 1-dimensional numpy array after calculating the necessary function over X\n",
    "        \"\"\"\n",
    "        sig = self.sigmoid(X)\n",
    "        x_calc = sig * (1 - sig)\n",
    "        return x_calc\n",
    "\n",
    "    def linear(self, X):\n",
    "        \"\"\"\n",
    "        Calculating the Linear activation for a particular layer\n",
    "\n",
    "        Parameters\n",
    "        ----------\n",
    "        X : 1-dimentional numpy array \n",
    "\n",
    "        Returns\n",
    "        -------\n",
    "        x_calc : 1-dimensional numpy array after calculating the necessary function over X\n",
    "        \"\"\"\n",
    "        x_calc = X\n",
    "        return x_calc\n",
    "\n",
    "    def linear_grad(self, X):\n",
    "        \"\"\"\n",
    "        Calculating the gradient of Linear activation for a particular layer\n",
    "\n",
    "        Parameters\n",
    "        ----------\n",
    "        X : 1-dimentional numpy array \n",
    "\n",
    "        Returns\n",
    "        -------\n",
    "        x_calc : 1-dimensional numpy array after calculating the necessary function over X\n",
    "        \"\"\"\n",
    "        x_calc = np.ones(X.shape)\n",
    "        return x_calc\n",
    "\n",
    "    def tanh(self, X):\n",
    "        \"\"\"\n",
    "        Calculating the Tanh activation for a particular layer\n",
    "\n",
    "        Parameters\n",
    "        ----------\n",
    "        X : 1-dimentional numpy array \n",
    "\n",
    "        Returns\n",
    "        -------\n",
    "        x_calc : 1-dimensional numpy array after calculating the necessary function over X\n",
    "        \"\"\"\n",
    "        x_calc = np.tanh(X)\n",
    "        return x_calc\n",
    "\n",
    "    def tanh_grad(self, X):\n",
    "        \"\"\"\n",
    "        Calculating the gradient of Tanh activation for a particular layer\n",
    "\n",
    "        Parameters\n",
    "        ----------\n",
    "        X : 1-dimentional numpy array \n",
    "\n",
    "        Returns\n",
    "        -------\n",
    "        x_calc : 1-dimensional numpy array after calculating the necessary function over X\n",
    "        \"\"\"\n",
    "        tn = self.tanh(X)\n",
    "        x_calc = 1 - tn**2\n",
    "        return x_calc\n",
    "\n",
    "    def softmax(self, X):\n",
    "        \"\"\"\n",
    "        Calculating the ReLU activation for a particular layer\n",
    "\n",
    "        Parameters\n",
    "        ----------\n",
    "        X : 1-dimentional numpy array \n",
    "\n",
    "        Returns\n",
    "        -------\n",
    "        x_calc : 1-dimensional numpy array after calculating the necessary function over X\n",
    "        \"\"\"\n",
    "        X_ = X - np.max(X)\n",
    "        X_ = np.exp(X_)\n",
    "        x_calc = X_ / np.sum(X_, axis=0)\n",
    "        return x_calc\n",
    "\n",
    "    def softmax_grad(self, X):\n",
    "        \"\"\"\n",
    "        Calculating the gradient of Softmax activation for a particular layer\n",
    "\n",
    "        Parameters\n",
    "        ----------\n",
    "        X : 1-dimentional numpy array \n",
    "\n",
    "        Returns\n",
    "        -------\n",
    "        x_calc : 1-dimensional numpy array after calculating the necessary function over X\n",
    "        \"\"\"\n",
    "        #calculate gradient of softmax\n",
    "        z = self.softmax(X)[None, :] # (1,n)\n",
    "        ex1 = np.einsum('ij,ik->ijk', z, z) # (1,n,n) [z1^2, z2*z1, z3*z1 ...]\n",
    "        ex2 = np.diag(z[0]) # (n,n) [z1, 0, 0 ...]\n",
    "        x_calc = ex2 - ex1 # (n,n) derivative of softmax\n",
    "        return x_calc\n",
    "    \n",
    "    def initialise_weights(self):\n",
    "        \"\"\"\n",
    "        Calculating the initial weights for all the layers\n",
    "\n",
    "        Parameters\n",
    "        ----------\n",
    "        None\n",
    "\n",
    "        Returns\n",
    "        -------\n",
    "        None\n",
    "        \"\"\"\n",
    "        for i in range (1, len(self.layer_sizes)):\n",
    "            self.bias['b'+str(i)] = self.zero_init((self.layer_sizes[i], 1)) #initialise bias with 0s\n",
    "            if self.weight_init == 'zero':\n",
    "                self.weights['W'+str(i)] = self.zero_init((self.layer_sizes[i], self.layer_sizes[i-1]))\n",
    "                \n",
    "            elif self.weight_init == 'random':\n",
    "                self.weights['W'+str(i)] = self.random_init((self.layer_sizes[i], self.layer_sizes[i-1]))\n",
    "                \n",
    "            elif self.weight_init == 'normal':\n",
    "                self.weights['W'+str(i)] = self.normal_init((self.layer_sizes[i], self.layer_sizes[i-1]))\n",
    "\n",
    "    def return_activation_function(self, activation):\n",
    "        activation_function = None\n",
    "        activation_gradient = None\n",
    "        if activation==\"relu\":\n",
    "            activation_function = self.relu\n",
    "            activation_gradient = self.relu_grad\n",
    "        elif activation==\"sigmoid\":\n",
    "            activation_function = self.sigmoid\n",
    "            activation_gradient = self.sigmoid_grad\n",
    "        elif activation==\"linear\":\n",
    "            activation_function = self.linear\n",
    "            activation_gradient = self.linear_grad\n",
    "        elif activation==\"tanh\":\n",
    "            activation_function = self.tanh\n",
    "            activation_gradient = self.tanh_grad\n",
    "        elif activation==\"softmax\":\n",
    "            activation_function = self.softmax\n",
    "            activation_gradient = self.softmax_grad\n",
    "        else:\n",
    "            print(\"Invalid activation function\")\n",
    "            return None, None\n",
    "        return activation_function, activation_gradient\n",
    "\n",
    "    def zero_init(self, shape):\n",
    "        \"\"\"\n",
    "        Calculating the initial weights after Zero Activation for a particular layer\n",
    "\n",
    "        Parameters\n",
    "        ----------\n",
    "        shape : tuple specifying the shape of the layer for which weights have to be generated \n",
    "\n",
    "        Returns\n",
    "        -------\n",
    "        weight : 2-dimensional numpy array which contains the initial weights for the requested layer\n",
    "        \"\"\"\n",
    "        weight = np.zeros(shape)\n",
    "        return weight\n",
    "\n",
    "    def random_init(self, shape):\n",
    "        \"\"\"\n",
    "        Calculating the initial weights after Random Activation for a particular layer\n",
    "\n",
    "        Parameters\n",
    "        ----------\n",
    "        shape : tuple specifying the shape of the layer for which weights have to be generated \n",
    "\n",
    "        Returns\n",
    "        -------\n",
    "        weight : 2-dimensional numpy array which contains the initial weights for the requested layer\n",
    "        \"\"\"\n",
    "        weight = np.random.rand(shape[0], shape[1]) * 0.01 \n",
    "        return weight\n",
    "\n",
    "    def normal_init(self, shape):\n",
    "        \"\"\"\n",
    "        Calculating the initial weights after Normal(0,1) Activation for a particular layer\n",
    "\n",
    "        Parameters\n",
    "        ----------\n",
    "        shape : tuple specifying the shape of the layer for which weights have to be generated \n",
    "\n",
    "        Returns\n",
    "        -------\n",
    "        weight : 2-dimensional numpy array which contains the initial weights for the requested layer\n",
    "        \"\"\"\n",
    "        weight = np.random.randn(shape[0], shape[1]) * 0.01 #normal distribution with mean 0 and standard deviation 1\n",
    "        return weight\n",
    "    \n",
    "    def one_hot_encode(self, y, n_labels):\n",
    "        mat = np.eye(n_labels)[y]\n",
    "        return mat\n",
    "\n",
    "    def sg_descent(self):\n",
    "        for i in range(1,self.n_layers+2):\n",
    "            self.weights['W'+str(i)] -= self.gradients['dW'+str(i)] * self.learning_rate\n",
    "            self.bias['b'+str(i)] -= self.gradients['db'+str(i)] * self.learning_rate\n",
    "    \n",
    "    def cross_entropy_loss(self, y, y_pred):\n",
    "        return -np.sum(np.multiply(y.T, np.log(y_pred+1e-8)))/y.shape[0]\n",
    "\n",
    "    def forward_propagation(self, X):\n",
    "        activation, _ = self.return_activation_function(self.activation)\n",
    "        self.cache['A'+str(0)] = X.T\n",
    "        for i in range(1, self.n_layers+2):\n",
    "            if i==1:\n",
    "                self.cache['Z'+str(i)]= np.matmul(self.weights['W'+str(i)], self.cache['A'+str(0)]) + self.bias['b'+str(i)]\n",
    "            else:\n",
    "                self.cache['Z'+str(i)]= np.matmul(self.weights['W'+str(i)], self.cache['A'+str(i-1)]) + self.bias['b'+str(i)]\n",
    "            if i==self.n_layers+1:\n",
    "                self.cache['A'+str(i)] = self.softmax(self.cache['Z'+str(i)])\n",
    "            else:\n",
    "                self.cache['A'+str(i)] = activation(self.cache['Z'+str(i)]) \n",
    "        return self.cache['A'+str(self.n_layers+1)]\n",
    "\n",
    "    def backward_propagation(self, y, output):\n",
    "        self.gradients = {}\n",
    "        _, gradient_activation = self.return_activation_function(self.activation)\n",
    "        dZ = output - y.T\n",
    "        for i in range(len(self.layer_sizes)-1, 0, -1):\n",
    "            # print(dZ.shape, self.cache['A'+str(i-1)].shape)\n",
    "            self.gradients['dW'+str(i)] = np.matmul(dZ, self.cache['A'+str(i-1)].T) * 1/y.shape[0]\n",
    "            self.gradients['db'+str(i)] = np.sum(dZ, axis=1, keepdims=True) * 1/y.shape[0] \n",
    "            if i>1:\n",
    "                dA = np.matmul(self.weights['W'+str(i)].T, dZ)\n",
    "                dZ = dA * gradient_activation(self.cache['Z'+str(i-1)])\n",
    "        return self.gradients\n",
    "\n",
    "    def fit(self, X, y):\n",
    "        \"\"\"\n",
    "        Fitting (training) the linear model.\n",
    "\n",
    "        Parameters\n",
    "        ----------\n",
    "        X : 2-dimensional numpy array of shape (n_samples, n_features) which acts as training data.\n",
    "\n",
    "        y : 2-dimensional numpy array one hot encoded array corresponding to the training labels.\n",
    "        \n",
    "        Returns\n",
    "        -------\n",
    "        self : an instance of self\n",
    "        \"\"\"\n",
    "        global training_loss\n",
    "        global validation_loss\n",
    "        for epoch in tqdm(range(self.num_epochs)):\n",
    "            print(\"\\n----------- Epoch:\", epoch+1, \"of\", self.num_epochs, \"-----------\")\n",
    "            #divide dataset into training and validation\n",
    "            X_train, X_val, y_train, y_val = train_test_split(X, y, test_size=0.11, shuffle=True) #random shuffle\n",
    "            n_batches = int(np.ceil(X_train.shape[0]/self.batch_size))\n",
    "            for i in range(n_batches):\n",
    "                # print(\"Training Batch:\", i)\n",
    "                ind1 = i*self.batch_size\n",
    "                ind2 = np.min([ind1+self.batch_size, X_train.shape[0]-1])\n",
    "                X_train_batch = X_train[ind1:ind2]\n",
    "                y_train_batch = y_train[ind1:ind2]\n",
    "\n",
    "                #forward propagation\n",
    "                a_n = self.forward_propagation(X_train_batch)\n",
    "                #back propagation and update weights\n",
    "                self.backward_propagation(y_train_batch, a_n)\n",
    "                self.sg_descent()\n",
    "            \n",
    "            if epoch==49 or epoch==99 or epoch==2:\n",
    "                dump_learned_weights_and_bias(self.weights, self.bias, self.activation, epoch+1)                \n",
    "\n",
    "            t_loss = self.cross_entropy_loss(y_train, self.predict_proba(X_train))\n",
    "            v_loss = self.cross_entropy_loss(y_val, self.predict_proba(X_val))\n",
    "            training_loss[self.activation].append(t_loss) \n",
    "            validation_loss[self.activation].append(v_loss)\n",
    "\n",
    "            print(\"\\nTraining Results for epoch:\", epoch+1, \"of\", self.num_epochs)\n",
    "            print(\"Training Loss:\", t_loss)\n",
    "            print(\"Training Accuracy:\", self.score(X_train, np.argmax(y_train, axis=-1))*100)\n",
    "            print(\"Validation Results for epoch:\", epoch+1, \"of\", self.num_epochs)\n",
    "            print(\"Validation Loss:\", v_loss)\n",
    "            print(\"Validation Accuracy:\", self.score(X_val, np.argmax(y_val, axis=-1))*100)\n",
    "\n",
    "        return self\n",
    "\n",
    "    def predict_proba(self, X):\n",
    "        \"\"\"\n",
    "        Predicting probabilities using the trained linear model.\n",
    "\n",
    "        Parameters\n",
    "        ----------\n",
    "        X : 2-dimensional numpy array of shape (n_samples, n_features) which acts as testing data.\n",
    "\n",
    "        Returns\n",
    "        -------\n",
    "        y : 2-dimensional numpy array of shape (n_samples, n_classes) which contains the \n",
    "            class wise prediction probabilities.\n",
    "        \"\"\"\n",
    "\n",
    "        # return the numpy array y which contains the predicted values\n",
    "        return self.forward_propagation(X)\n",
    "\n",
    "    def predict(self, X):\n",
    "        \"\"\"\n",
    "        Predicting values using the trained linear model.\n",
    "\n",
    "        Parameters\n",
    "        ----------\n",
    "        X : 2-dimensional numpy array of shape (n_samples, n_features) which acts as testing data.\n",
    "\n",
    "        Returns\n",
    "        -------\n",
    "        y : 1-dimensional numpy array of shape (n_samples,) which contains the predicted values.\n",
    "        \"\"\"\n",
    "        y_pred = self.forward_propagation(X)\n",
    "        return np.argmax(y_pred, axis=0)\n",
    "\n",
    "    def score(self, X, y):\n",
    "        \"\"\"\n",
    "        Predicting values using the trained linear model.\n",
    "\n",
    "        Parameters\n",
    "        ----------\n",
    "        X : 2-dimensional numpy array of shape (n_samples, n_features) which acts as testing data.\n",
    "\n",
    "        y : 1-dimensional numpy array of shape (n_samples,) which acts as testing labels.\n",
    "\n",
    "        Returns\n",
    "        -------\n",
    "        acc : float value specifying the accuracy of the model on the provided testing set\n",
    "        \"\"\"\n",
    "        y_pred = self.forward_propagation(X)\n",
    "        acc = np.mean(y == np.argmax(y_pred.T, axis=-1))\n",
    "        return acc\n",
    "\n"
   ]
  },
  {
   "cell_type": "code",
   "execution_count": 5,
   "metadata": {},
   "outputs": [],
   "source": [
    "def flatten(dataset):\n",
    "  nimages, nfeatures = dataset.shape\n",
    "  lis = np.linspace(1, nfeatures, nfeatures, dtype=np.int64)\n",
    "  lis = lis.tolist()\n",
    "  lis = [str(x) for x in lis]\n",
    "  dataset_flat = dataset.reshape((nimages, nfeatures))\n",
    "  dataset_df = pd.DataFrame(dataset_flat, columns=lis)\n",
    "  return dataset_df"
   ]
  },
  {
   "cell_type": "code",
   "execution_count": 6,
   "metadata": {},
   "outputs": [],
   "source": [
    "images = gzip.open('fashion-mnist_train/FashionMNIST/raw/train-images-idx3-ubyte.gz','r')\n",
    "labels = gzip.open('fashion-mnist_train/FashionMNIST/raw/train-labels-idx1-ubyte.gz','r')\n",
    "mnist_images = idx2numpy.convert_from_file(images)\n",
    "mnist_labels = idx2numpy.convert_from_file(labels)\n",
    "#split into 90:10 train:test\n",
    "mnist_train, mnist_test, mnist_train_labels, mnist_test_labels = train_test_split(mnist_images, mnist_labels, test_size=0.1, random_state=42, shuffle=True)"
   ]
  },
  {
   "cell_type": "code",
   "execution_count": 7,
   "metadata": {},
   "outputs": [],
   "source": [
    "scaler = StandardScaler()\n",
    "scaler.fit(mnist_images.reshape(mnist_images.shape[0], -1))\n",
    "# mnist_test = scaler.transform(mnist_test.reshape(mnist_test.shape[0], -1))\n",
    "# mnist_train = scaler.transform(mnist_train.reshape(mnist_train.shape[0], -1))\n",
    "mnist_test_flat = flatten(mnist_test.reshape(mnist_test.shape[0], -1))/255.0\n",
    "mnist_train_flat = flatten(mnist_train.reshape(mnist_train.shape[0], -1))/255.0"
   ]
  },
  {
   "cell_type": "code",
   "execution_count": 8,
   "metadata": {},
   "outputs": [],
   "source": [
    "all_mnist_train = mnist_images.reshape(mnist_images.shape[0], -1)/255.0"
   ]
  },
  {
   "cell_type": "code",
   "execution_count": 9,
   "metadata": {},
   "outputs": [
    {
     "data": {
      "text/html": [
       "<div>\n",
       "<style scoped>\n",
       "    .dataframe tbody tr th:only-of-type {\n",
       "        vertical-align: middle;\n",
       "    }\n",
       "\n",
       "    .dataframe tbody tr th {\n",
       "        vertical-align: top;\n",
       "    }\n",
       "\n",
       "    .dataframe thead th {\n",
       "        text-align: right;\n",
       "    }\n",
       "</style>\n",
       "<table border=\"1\" class=\"dataframe\">\n",
       "  <thead>\n",
       "    <tr style=\"text-align: right;\">\n",
       "      <th></th>\n",
       "      <th>1</th>\n",
       "      <th>2</th>\n",
       "      <th>3</th>\n",
       "      <th>4</th>\n",
       "      <th>5</th>\n",
       "      <th>6</th>\n",
       "      <th>7</th>\n",
       "      <th>8</th>\n",
       "      <th>9</th>\n",
       "      <th>10</th>\n",
       "      <th>...</th>\n",
       "      <th>775</th>\n",
       "      <th>776</th>\n",
       "      <th>777</th>\n",
       "      <th>778</th>\n",
       "      <th>779</th>\n",
       "      <th>780</th>\n",
       "      <th>781</th>\n",
       "      <th>782</th>\n",
       "      <th>783</th>\n",
       "      <th>784</th>\n",
       "    </tr>\n",
       "  </thead>\n",
       "  <tbody>\n",
       "    <tr>\n",
       "      <th>0</th>\n",
       "      <td>0.0</td>\n",
       "      <td>0.0</td>\n",
       "      <td>0.0</td>\n",
       "      <td>0.0</td>\n",
       "      <td>0.0</td>\n",
       "      <td>0.0</td>\n",
       "      <td>0.0</td>\n",
       "      <td>0.0</td>\n",
       "      <td>0.0</td>\n",
       "      <td>0.0</td>\n",
       "      <td>...</td>\n",
       "      <td>0.000000</td>\n",
       "      <td>0.000000</td>\n",
       "      <td>0.000000</td>\n",
       "      <td>0.0</td>\n",
       "      <td>0.000000</td>\n",
       "      <td>0.000000</td>\n",
       "      <td>0.000000</td>\n",
       "      <td>0.0</td>\n",
       "      <td>0.0</td>\n",
       "      <td>0.0</td>\n",
       "    </tr>\n",
       "    <tr>\n",
       "      <th>1</th>\n",
       "      <td>0.0</td>\n",
       "      <td>0.0</td>\n",
       "      <td>0.0</td>\n",
       "      <td>0.0</td>\n",
       "      <td>0.0</td>\n",
       "      <td>0.0</td>\n",
       "      <td>0.0</td>\n",
       "      <td>0.0</td>\n",
       "      <td>0.0</td>\n",
       "      <td>0.0</td>\n",
       "      <td>...</td>\n",
       "      <td>0.015686</td>\n",
       "      <td>0.003922</td>\n",
       "      <td>0.003922</td>\n",
       "      <td>0.0</td>\n",
       "      <td>0.321569</td>\n",
       "      <td>0.705882</td>\n",
       "      <td>0.305882</td>\n",
       "      <td>0.0</td>\n",
       "      <td>0.0</td>\n",
       "      <td>0.0</td>\n",
       "    </tr>\n",
       "    <tr>\n",
       "      <th>2</th>\n",
       "      <td>0.0</td>\n",
       "      <td>0.0</td>\n",
       "      <td>0.0</td>\n",
       "      <td>0.0</td>\n",
       "      <td>0.0</td>\n",
       "      <td>0.0</td>\n",
       "      <td>0.0</td>\n",
       "      <td>0.0</td>\n",
       "      <td>0.0</td>\n",
       "      <td>0.0</td>\n",
       "      <td>...</td>\n",
       "      <td>0.000000</td>\n",
       "      <td>0.000000</td>\n",
       "      <td>0.000000</td>\n",
       "      <td>0.0</td>\n",
       "      <td>0.000000</td>\n",
       "      <td>0.000000</td>\n",
       "      <td>0.000000</td>\n",
       "      <td>0.0</td>\n",
       "      <td>0.0</td>\n",
       "      <td>0.0</td>\n",
       "    </tr>\n",
       "    <tr>\n",
       "      <th>3</th>\n",
       "      <td>0.0</td>\n",
       "      <td>0.0</td>\n",
       "      <td>0.0</td>\n",
       "      <td>0.0</td>\n",
       "      <td>0.0</td>\n",
       "      <td>0.0</td>\n",
       "      <td>0.0</td>\n",
       "      <td>0.0</td>\n",
       "      <td>0.0</td>\n",
       "      <td>0.0</td>\n",
       "      <td>...</td>\n",
       "      <td>0.000000</td>\n",
       "      <td>0.000000</td>\n",
       "      <td>0.000000</td>\n",
       "      <td>0.0</td>\n",
       "      <td>0.000000</td>\n",
       "      <td>0.000000</td>\n",
       "      <td>0.000000</td>\n",
       "      <td>0.0</td>\n",
       "      <td>0.0</td>\n",
       "      <td>0.0</td>\n",
       "    </tr>\n",
       "    <tr>\n",
       "      <th>4</th>\n",
       "      <td>0.0</td>\n",
       "      <td>0.0</td>\n",
       "      <td>0.0</td>\n",
       "      <td>0.0</td>\n",
       "      <td>0.0</td>\n",
       "      <td>0.0</td>\n",
       "      <td>0.0</td>\n",
       "      <td>0.0</td>\n",
       "      <td>0.0</td>\n",
       "      <td>0.0</td>\n",
       "      <td>...</td>\n",
       "      <td>0.000000</td>\n",
       "      <td>0.000000</td>\n",
       "      <td>0.000000</td>\n",
       "      <td>0.0</td>\n",
       "      <td>0.000000</td>\n",
       "      <td>0.000000</td>\n",
       "      <td>0.000000</td>\n",
       "      <td>0.0</td>\n",
       "      <td>0.0</td>\n",
       "      <td>0.0</td>\n",
       "    </tr>\n",
       "  </tbody>\n",
       "</table>\n",
       "<p>5 rows × 784 columns</p>\n",
       "</div>"
      ],
      "text/plain": [
       "     1    2    3    4    5    6    7    8    9   10  ...       775       776  \\\n",
       "0  0.0  0.0  0.0  0.0  0.0  0.0  0.0  0.0  0.0  0.0  ...  0.000000  0.000000   \n",
       "1  0.0  0.0  0.0  0.0  0.0  0.0  0.0  0.0  0.0  0.0  ...  0.015686  0.003922   \n",
       "2  0.0  0.0  0.0  0.0  0.0  0.0  0.0  0.0  0.0  0.0  ...  0.000000  0.000000   \n",
       "3  0.0  0.0  0.0  0.0  0.0  0.0  0.0  0.0  0.0  0.0  ...  0.000000  0.000000   \n",
       "4  0.0  0.0  0.0  0.0  0.0  0.0  0.0  0.0  0.0  0.0  ...  0.000000  0.000000   \n",
       "\n",
       "        777  778       779       780       781  782  783  784  \n",
       "0  0.000000  0.0  0.000000  0.000000  0.000000  0.0  0.0  0.0  \n",
       "1  0.003922  0.0  0.321569  0.705882  0.305882  0.0  0.0  0.0  \n",
       "2  0.000000  0.0  0.000000  0.000000  0.000000  0.0  0.0  0.0  \n",
       "3  0.000000  0.0  0.000000  0.000000  0.000000  0.0  0.0  0.0  \n",
       "4  0.000000  0.0  0.000000  0.000000  0.000000  0.0  0.0  0.0  \n",
       "\n",
       "[5 rows x 784 columns]"
      ]
     },
     "execution_count": 9,
     "metadata": {},
     "output_type": "execute_result"
    }
   ],
   "source": [
    "mnist_train_flat.head()"
   ]
  },
  {
   "cell_type": "markdown",
   "metadata": {},
   "source": [
    "##### **Question 1: Part 5**\n"
   ]
  },
  {
   "cell_type": "code",
   "execution_count": 11,
   "metadata": {},
   "outputs": [
    {
     "name": "stderr",
     "output_type": "stream",
     "text": [
      "  0%|          | 0/100 [00:00<?, ?it/s]"
     ]
    },
    {
     "name": "stdout",
     "output_type": "stream",
     "text": [
      "\n",
      "----------- Epoch: 1 of 100 -----------\n",
      "\n",
      "Training Results for epoch: 1 of 100\n",
      "Training Loss: 0.8217929307877331\n"
     ]
    },
    {
     "name": "stderr",
     "output_type": "stream",
     "text": [
      "  1%|          | 1/100 [00:08<14:45,  8.95s/it]"
     ]
    },
    {
     "name": "stdout",
     "output_type": "stream",
     "text": [
      "Training Accuracy: 70.51810237203495\n",
      "Validation Results for epoch: 1 of 100\n",
      "Validation Loss: 0.8311205663313597\n",
      "Validation Accuracy: 69.14141414141413\n",
      "\n",
      "----------- Epoch: 2 of 100 -----------\n",
      "\n",
      "Training Results for epoch: 2 of 100\n",
      "Training Loss: 0.4917838474509859\n"
     ]
    },
    {
     "name": "stderr",
     "output_type": "stream",
     "text": [
      "  2%|▏         | 2/100 [00:16<13:33,  8.30s/it]"
     ]
    },
    {
     "name": "stdout",
     "output_type": "stream",
     "text": [
      "Training Accuracy: 81.78318768206408\n",
      "Validation Results for epoch: 2 of 100\n",
      "Validation Loss: 0.5003265075052694\n",
      "Validation Accuracy: 81.83501683501684\n",
      "\n",
      "----------- Epoch: 3 of 100 -----------\n",
      "\n",
      "Training Results for epoch: 3 of 100\n",
      "Training Loss: 0.41386726931175516\n",
      "Training Accuracy: 85.3391593841032\n",
      "Validation Results for epoch: 3 of 100\n",
      "Validation Loss: 0.43065287209204645\n"
     ]
    },
    {
     "name": "stderr",
     "output_type": "stream",
     "text": [
      "  3%|▎         | 3/100 [00:28<15:57,  9.87s/it]"
     ]
    },
    {
     "name": "stdout",
     "output_type": "stream",
     "text": [
      "Validation Accuracy: 84.64646464646465\n",
      "\n",
      "----------- Epoch: 4 of 100 -----------\n",
      "\n",
      "Training Results for epoch: 4 of 100\n",
      "Training Loss: 0.3643087191406052\n",
      "Training Accuracy: 86.68331252600916\n",
      "Validation Results for epoch: 4 of 100\n",
      "Validation Loss: 0.36332360261420027\n"
     ]
    },
    {
     "name": "stderr",
     "output_type": "stream",
     "text": [
      "  4%|▍         | 4/100 [00:41<17:57, 11.22s/it]"
     ]
    },
    {
     "name": "stdout",
     "output_type": "stream",
     "text": [
      "Validation Accuracy: 86.63299663299662\n",
      "\n",
      "----------- Epoch: 5 of 100 -----------\n",
      "\n",
      "Training Results for epoch: 5 of 100\n",
      "Training Loss: 0.3563039979351357\n",
      "Training Accuracy: 86.61048689138576\n",
      "Validation Results for epoch: 5 of 100\n",
      "Validation Loss: 0.364549029896962\n"
     ]
    },
    {
     "name": "stderr",
     "output_type": "stream",
     "text": [
      "  5%|▌         | 5/100 [00:56<19:31, 12.33s/it]"
     ]
    },
    {
     "name": "stdout",
     "output_type": "stream",
     "text": [
      "Validation Accuracy: 86.19528619528619\n",
      "\n",
      "----------- Epoch: 6 of 100 -----------\n",
      "\n",
      "Training Results for epoch: 6 of 100\n",
      "Training Loss: 0.31543200879383243\n"
     ]
    },
    {
     "name": "stderr",
     "output_type": "stream",
     "text": [
      "  6%|▌         | 6/100 [01:06<18:04, 11.54s/it]"
     ]
    },
    {
     "name": "stdout",
     "output_type": "stream",
     "text": [
      "Training Accuracy: 88.64336246358718\n",
      "Validation Results for epoch: 6 of 100\n",
      "Validation Loss: 0.324955698974941\n",
      "Validation Accuracy: 88.56902356902356\n",
      "\n",
      "----------- Epoch: 7 of 100 -----------\n",
      "\n",
      "Training Results for epoch: 7 of 100\n",
      "Training Loss: 0.33075675765020435\n"
     ]
    },
    {
     "name": "stderr",
     "output_type": "stream",
     "text": [
      "  7%|▋         | 7/100 [01:17<17:38, 11.38s/it]"
     ]
    },
    {
     "name": "stdout",
     "output_type": "stream",
     "text": [
      "Training Accuracy: 87.60299625468166\n",
      "Validation Results for epoch: 7 of 100\n",
      "Validation Loss: 0.35290643125730586\n",
      "Validation Accuracy: 86.68350168350169\n",
      "\n",
      "----------- Epoch: 8 of 100 -----------\n",
      "\n",
      "Training Results for epoch: 8 of 100\n",
      "Training Loss: 0.3157601437571141\n",
      "Training Accuracy: 88.30420307948398\n",
      "Validation Results for epoch: 8 of 100\n",
      "Validation Loss: 0.3427746169075132\n"
     ]
    },
    {
     "name": "stderr",
     "output_type": "stream",
     "text": [
      "  8%|▊         | 8/100 [01:26<16:15, 10.61s/it]"
     ]
    },
    {
     "name": "stdout",
     "output_type": "stream",
     "text": [
      "Validation Accuracy: 87.07070707070706\n",
      "\n",
      "----------- Epoch: 9 of 100 -----------\n",
      "\n",
      "Training Results for epoch: 9 of 100\n",
      "Training Loss: 0.2896803497832691\n"
     ]
    },
    {
     "name": "stderr",
     "output_type": "stream",
     "text": [
      "  9%|▉         | 9/100 [01:37<16:18, 10.75s/it]"
     ]
    },
    {
     "name": "stdout",
     "output_type": "stream",
     "text": [
      "Training Accuracy: 89.16146483562214\n",
      "Validation Results for epoch: 9 of 100\n",
      "Validation Loss: 0.2775896922878785\n",
      "Validation Accuracy: 89.66329966329967\n",
      "\n",
      "----------- Epoch: 10 of 100 -----------\n",
      "\n",
      "Training Results for epoch: 10 of 100\n",
      "Training Loss: 0.26865012329410004\n"
     ]
    },
    {
     "name": "stderr",
     "output_type": "stream",
     "text": [
      " 10%|█         | 10/100 [01:49<16:38, 11.10s/it]"
     ]
    },
    {
     "name": "stdout",
     "output_type": "stream",
     "text": [
      "Training Accuracy: 90.34124011652102\n",
      "Validation Results for epoch: 10 of 100\n",
      "Validation Loss: 0.2750040651959016\n",
      "Validation Accuracy: 89.78114478114479\n",
      "\n",
      "----------- Epoch: 11 of 100 -----------\n",
      "\n",
      "Training Results for epoch: 11 of 100\n",
      "Training Loss: 0.34526133888962235\n"
     ]
    },
    {
     "name": "stderr",
     "output_type": "stream",
     "text": [
      " 11%|█         | 11/100 [01:59<16:01, 10.80s/it]"
     ]
    },
    {
     "name": "stdout",
     "output_type": "stream",
     "text": [
      "Training Accuracy: 87.3491468997087\n",
      "Validation Results for epoch: 11 of 100\n",
      "Validation Loss: 0.3540264191570357\n",
      "Validation Accuracy: 87.47474747474747\n",
      "\n",
      "----------- Epoch: 12 of 100 -----------\n",
      "\n",
      "Training Results for epoch: 12 of 100\n",
      "Training Loss: 0.27281305743198403\n"
     ]
    },
    {
     "name": "stderr",
     "output_type": "stream",
     "text": [
      " 12%|█▏        | 12/100 [02:09<15:40, 10.69s/it]"
     ]
    },
    {
     "name": "stdout",
     "output_type": "stream",
     "text": [
      "Training Accuracy: 89.8876404494382\n",
      "Validation Results for epoch: 12 of 100\n",
      "Validation Loss: 0.2727044006466592\n",
      "Validation Accuracy: 90.26936026936026\n",
      "\n",
      "----------- Epoch: 13 of 100 -----------\n",
      "\n",
      "Training Results for epoch: 13 of 100\n",
      "Training Loss: 0.2463220595501448\n"
     ]
    },
    {
     "name": "stderr",
     "output_type": "stream",
     "text": [
      " 13%|█▎        | 13/100 [02:22<16:20, 11.26s/it]"
     ]
    },
    {
     "name": "stdout",
     "output_type": "stream",
     "text": [
      "Training Accuracy: 90.74074074074075\n",
      "Validation Results for epoch: 13 of 100\n",
      "Validation Loss: 0.2701770475518959\n",
      "Validation Accuracy: 90.23569023569024\n",
      "\n",
      "----------- Epoch: 14 of 100 -----------\n",
      "\n",
      "Training Results for epoch: 14 of 100\n",
      "Training Loss: 0.27530617766654975\n"
     ]
    },
    {
     "name": "stderr",
     "output_type": "stream",
     "text": [
      " 14%|█▍        | 14/100 [02:29<14:22, 10.03s/it]"
     ]
    },
    {
     "name": "stdout",
     "output_type": "stream",
     "text": [
      "Training Accuracy: 89.42363712026633\n",
      "Validation Results for epoch: 14 of 100\n",
      "Validation Loss: 0.2970876809792951\n",
      "Validation Accuracy: 88.53535353535354\n",
      "\n",
      "----------- Epoch: 15 of 100 -----------\n",
      "\n",
      "Training Results for epoch: 15 of 100\n",
      "Training Loss: 0.24908844557425674\n"
     ]
    },
    {
     "name": "stderr",
     "output_type": "stream",
     "text": [
      " 15%|█▌        | 15/100 [02:37<13:22,  9.44s/it]"
     ]
    },
    {
     "name": "stdout",
     "output_type": "stream",
     "text": [
      "Training Accuracy: 90.7136912193092\n",
      "Validation Results for epoch: 15 of 100\n",
      "Validation Loss: 0.2666384430243388\n",
      "Validation Accuracy: 90.11784511784512\n",
      "\n",
      "----------- Epoch: 16 of 100 -----------\n",
      "\n",
      "Training Results for epoch: 16 of 100\n",
      "Training Loss: 0.2744197896209238\n"
     ]
    },
    {
     "name": "stderr",
     "output_type": "stream",
     "text": [
      " 16%|█▌        | 16/100 [02:44<12:15,  8.75s/it]"
     ]
    },
    {
     "name": "stdout",
     "output_type": "stream",
     "text": [
      "Training Accuracy: 89.31751976695796\n",
      "Validation Results for epoch: 16 of 100\n",
      "Validation Loss: 0.282592884250055\n",
      "Validation Accuracy: 89.52861952861953\n",
      "\n",
      "----------- Epoch: 17 of 100 -----------\n",
      "\n",
      "Training Results for epoch: 17 of 100\n",
      "Training Loss: 0.2089604694633078\n"
     ]
    },
    {
     "name": "stderr",
     "output_type": "stream",
     "text": [
      " 17%|█▋        | 17/100 [02:52<11:47,  8.53s/it]"
     ]
    },
    {
     "name": "stdout",
     "output_type": "stream",
     "text": [
      "Training Accuracy: 92.18476903870162\n",
      "Validation Results for epoch: 17 of 100\n",
      "Validation Loss: 0.22738180526194327\n",
      "Validation Accuracy: 91.46464646464646\n",
      "\n",
      "----------- Epoch: 18 of 100 -----------\n",
      "\n",
      "Training Results for epoch: 18 of 100\n",
      "Training Loss: 0.20978661164212942\n"
     ]
    },
    {
     "name": "stderr",
     "output_type": "stream",
     "text": [
      " 18%|█▊        | 18/100 [02:59<11:02,  8.08s/it]"
     ]
    },
    {
     "name": "stdout",
     "output_type": "stream",
     "text": [
      "Training Accuracy: 92.18476903870162\n",
      "Validation Results for epoch: 18 of 100\n",
      "Validation Loss: 0.22263336927629435\n",
      "Validation Accuracy: 91.11111111111111\n",
      "\n",
      "----------- Epoch: 19 of 100 -----------\n",
      "\n",
      "Training Results for epoch: 19 of 100\n",
      "Training Loss: 0.21578801430607855\n"
     ]
    },
    {
     "name": "stderr",
     "output_type": "stream",
     "text": [
      " 19%|█▉        | 19/100 [03:07<10:50,  8.03s/it]"
     ]
    },
    {
     "name": "stdout",
     "output_type": "stream",
     "text": [
      "Training Accuracy: 91.78318768206408\n",
      "Validation Results for epoch: 19 of 100\n",
      "Validation Loss: 0.22960073871545617\n",
      "Validation Accuracy: 91.0942760942761\n",
      "\n",
      "----------- Epoch: 20 of 100 -----------\n",
      "\n",
      "Training Results for epoch: 20 of 100\n",
      "Training Loss: 0.20199770166010939\n"
     ]
    },
    {
     "name": "stderr",
     "output_type": "stream",
     "text": [
      " 20%|██        | 20/100 [03:14<10:20,  7.75s/it]"
     ]
    },
    {
     "name": "stdout",
     "output_type": "stream",
     "text": [
      "Training Accuracy: 92.24719101123596\n",
      "Validation Results for epoch: 20 of 100\n",
      "Validation Loss: 0.2120160222751752\n",
      "Validation Accuracy: 91.95286195286195\n",
      "\n",
      "----------- Epoch: 21 of 100 -----------\n",
      "\n",
      "Training Results for epoch: 21 of 100\n",
      "Training Loss: 0.19512774538371422\n"
     ]
    },
    {
     "name": "stderr",
     "output_type": "stream",
     "text": [
      " 21%|██        | 21/100 [03:22<10:16,  7.80s/it]"
     ]
    },
    {
     "name": "stdout",
     "output_type": "stream",
     "text": [
      "Training Accuracy: 92.62172284644194\n",
      "Validation Results for epoch: 21 of 100\n",
      "Validation Loss: 0.2125546844339821\n",
      "Validation Accuracy: 92.05387205387206\n",
      "\n",
      "----------- Epoch: 22 of 100 -----------\n",
      "\n",
      "Training Results for epoch: 22 of 100\n",
      "Training Loss: 0.18617579096600015\n"
     ]
    },
    {
     "name": "stderr",
     "output_type": "stream",
     "text": [
      " 22%|██▏       | 22/100 [03:29<09:50,  7.57s/it]"
     ]
    },
    {
     "name": "stdout",
     "output_type": "stream",
     "text": [
      "Training Accuracy: 92.87973366625052\n",
      "Validation Results for epoch: 22 of 100\n",
      "Validation Loss: 0.1914124938470754\n",
      "Validation Accuracy: 92.52525252525253\n",
      "\n",
      "----------- Epoch: 23 of 100 -----------\n",
      "\n",
      "Training Results for epoch: 23 of 100\n",
      "Training Loss: 0.20762764700820685\n"
     ]
    },
    {
     "name": "stderr",
     "output_type": "stream",
     "text": [
      " 23%|██▎       | 23/100 [03:37<09:51,  7.68s/it]"
     ]
    },
    {
     "name": "stdout",
     "output_type": "stream",
     "text": [
      "Training Accuracy: 91.93091968372867\n",
      "Validation Results for epoch: 23 of 100\n",
      "Validation Loss: 0.2152219196258846\n",
      "Validation Accuracy: 91.95286195286195\n",
      "\n",
      "----------- Epoch: 24 of 100 -----------\n",
      "\n",
      "Training Results for epoch: 24 of 100\n",
      "Training Loss: 0.2765747713346997\n"
     ]
    },
    {
     "name": "stderr",
     "output_type": "stream",
     "text": [
      " 24%|██▍       | 24/100 [03:44<09:28,  7.49s/it]"
     ]
    },
    {
     "name": "stdout",
     "output_type": "stream",
     "text": [
      "Training Accuracy: 89.45692883895131\n",
      "Validation Results for epoch: 24 of 100\n",
      "Validation Loss: 0.29893671566882996\n",
      "Validation Accuracy: 88.65319865319864\n",
      "\n",
      "----------- Epoch: 25 of 100 -----------\n",
      "\n",
      "Training Results for epoch: 25 of 100\n",
      "Training Loss: 0.18290118661750382\n"
     ]
    },
    {
     "name": "stderr",
     "output_type": "stream",
     "text": [
      " 25%|██▌       | 25/100 [03:52<09:32,  7.63s/it]"
     ]
    },
    {
     "name": "stdout",
     "output_type": "stream",
     "text": [
      "Training Accuracy: 92.99417394923013\n",
      "Validation Results for epoch: 25 of 100\n",
      "Validation Loss: 0.18015477625514628\n",
      "Validation Accuracy: 93.04713804713805\n",
      "\n",
      "----------- Epoch: 26 of 100 -----------\n",
      "\n",
      "Training Results for epoch: 26 of 100\n",
      "Training Loss: 0.1721139482465362\n"
     ]
    },
    {
     "name": "stderr",
     "output_type": "stream",
     "text": [
      " 26%|██▌       | 26/100 [03:59<09:13,  7.48s/it]"
     ]
    },
    {
     "name": "stdout",
     "output_type": "stream",
     "text": [
      "Training Accuracy: 93.27923429047024\n",
      "Validation Results for epoch: 26 of 100\n",
      "Validation Loss: 0.19879322280463393\n",
      "Validation Accuracy: 92.3063973063973\n",
      "\n",
      "----------- Epoch: 27 of 100 -----------\n",
      "\n",
      "Training Results for epoch: 27 of 100\n",
      "Training Loss: 0.17164311392414322\n"
     ]
    },
    {
     "name": "stderr",
     "output_type": "stream",
     "text": [
      " 27%|██▋       | 27/100 [04:07<09:15,  7.60s/it]"
     ]
    },
    {
     "name": "stdout",
     "output_type": "stream",
     "text": [
      "Training Accuracy: 93.4560965459842\n",
      "Validation Results for epoch: 27 of 100\n",
      "Validation Loss: 0.19083964666542425\n",
      "Validation Accuracy: 92.45791245791246\n",
      "\n",
      "----------- Epoch: 28 of 100 -----------\n",
      "\n",
      "Training Results for epoch: 28 of 100\n",
      "Training Loss: 0.16766596899517286\n"
     ]
    },
    {
     "name": "stderr",
     "output_type": "stream",
     "text": [
      " 28%|██▊       | 28/100 [04:14<08:54,  7.43s/it]"
     ]
    },
    {
     "name": "stdout",
     "output_type": "stream",
     "text": [
      "Training Accuracy: 93.42072409488141\n",
      "Validation Results for epoch: 28 of 100\n",
      "Validation Loss: 0.18392987451880907\n",
      "Validation Accuracy: 92.92929292929293\n",
      "\n",
      "----------- Epoch: 29 of 100 -----------\n",
      "\n",
      "Training Results for epoch: 29 of 100\n",
      "Training Loss: 0.1698344114976906\n"
     ]
    },
    {
     "name": "stderr",
     "output_type": "stream",
     "text": [
      " 29%|██▉       | 29/100 [04:22<08:59,  7.60s/it]"
     ]
    },
    {
     "name": "stdout",
     "output_type": "stream",
     "text": [
      "Training Accuracy: 93.50395339159384\n",
      "Validation Results for epoch: 29 of 100\n",
      "Validation Loss: 0.17588825086959087\n",
      "Validation Accuracy: 93.26599326599326\n",
      "\n",
      "----------- Epoch: 30 of 100 -----------\n",
      "\n",
      "Training Results for epoch: 30 of 100\n",
      "Training Loss: 0.14970232066096784\n"
     ]
    },
    {
     "name": "stderr",
     "output_type": "stream",
     "text": [
      " 30%|███       | 30/100 [04:29<08:39,  7.43s/it]"
     ]
    },
    {
     "name": "stdout",
     "output_type": "stream",
     "text": [
      "Training Accuracy: 94.2675821889305\n",
      "Validation Results for epoch: 30 of 100\n",
      "Validation Loss: 0.159830753391289\n",
      "Validation Accuracy: 94.15824915824916\n",
      "\n",
      "----------- Epoch: 31 of 100 -----------\n",
      "\n",
      "Training Results for epoch: 31 of 100\n",
      "Training Loss: 0.1598244809935349\n"
     ]
    },
    {
     "name": "stderr",
     "output_type": "stream",
     "text": [
      " 31%|███       | 31/100 [04:38<09:03,  7.88s/it]"
     ]
    },
    {
     "name": "stdout",
     "output_type": "stream",
     "text": [
      "Training Accuracy: 93.84727424053267\n",
      "Validation Results for epoch: 31 of 100\n",
      "Validation Loss: 0.18276640287571785\n",
      "Validation Accuracy: 93.08080808080808\n",
      "\n",
      "----------- Epoch: 32 of 100 -----------\n",
      "\n",
      "Training Results for epoch: 32 of 100\n",
      "Training Loss: 0.16228441619073009\n"
     ]
    },
    {
     "name": "stderr",
     "output_type": "stream",
     "text": [
      " 32%|███▏      | 32/100 [04:45<08:43,  7.71s/it]"
     ]
    },
    {
     "name": "stdout",
     "output_type": "stream",
     "text": [
      "Training Accuracy: 93.70162297128589\n",
      "Validation Results for epoch: 32 of 100\n",
      "Validation Loss: 0.17351581479939382\n",
      "Validation Accuracy: 93.35016835016835\n",
      "\n",
      "----------- Epoch: 33 of 100 -----------\n",
      "\n",
      "Training Results for epoch: 33 of 100\n",
      "Training Loss: 0.16583059938954925\n"
     ]
    },
    {
     "name": "stderr",
     "output_type": "stream",
     "text": [
      " 33%|███▎      | 33/100 [04:54<08:45,  7.84s/it]"
     ]
    },
    {
     "name": "stdout",
     "output_type": "stream",
     "text": [
      "Training Accuracy: 93.45401581356637\n",
      "Validation Results for epoch: 33 of 100\n",
      "Validation Loss: 0.16540538515708994\n",
      "Validation Accuracy: 93.7037037037037\n",
      "\n",
      "----------- Epoch: 34 of 100 -----------\n",
      "\n",
      "Training Results for epoch: 34 of 100\n",
      "Training Loss: 0.15226562569352817\n"
     ]
    },
    {
     "name": "stderr",
     "output_type": "stream",
     "text": [
      " 34%|███▍      | 34/100 [05:01<08:24,  7.65s/it]"
     ]
    },
    {
     "name": "stdout",
     "output_type": "stream",
     "text": [
      "Training Accuracy: 94.28838951310861\n",
      "Validation Results for epoch: 34 of 100\n",
      "Validation Loss: 0.1751393741986045\n",
      "Validation Accuracy: 93.23232323232324\n",
      "\n",
      "----------- Epoch: 35 of 100 -----------\n",
      "\n",
      "Training Results for epoch: 35 of 100\n",
      "Training Loss: 0.15978909903588517\n"
     ]
    },
    {
     "name": "stderr",
     "output_type": "stream",
     "text": [
      " 35%|███▌      | 35/100 [05:11<09:06,  8.41s/it]"
     ]
    },
    {
     "name": "stdout",
     "output_type": "stream",
     "text": [
      "Training Accuracy: 94.01373283395755\n",
      "Validation Results for epoch: 35 of 100\n",
      "Validation Loss: 0.16059463146097364\n",
      "Validation Accuracy: 93.77104377104376\n",
      "\n",
      "----------- Epoch: 36 of 100 -----------\n",
      "\n",
      "Training Results for epoch: 36 of 100\n",
      "Training Loss: 0.13978873107925976\n"
     ]
    },
    {
     "name": "stderr",
     "output_type": "stream",
     "text": [
      " 36%|███▌      | 36/100 [05:18<08:41,  8.14s/it]"
     ]
    },
    {
     "name": "stdout",
     "output_type": "stream",
     "text": [
      "Training Accuracy: 94.68164794007491\n",
      "Validation Results for epoch: 36 of 100\n",
      "Validation Loss: 0.16375651440107566\n",
      "Validation Accuracy: 94.04040404040404\n",
      "\n",
      "----------- Epoch: 37 of 100 -----------\n",
      "\n",
      "Training Results for epoch: 37 of 100\n",
      "Training Loss: 0.13332153636480215\n"
     ]
    },
    {
     "name": "stderr",
     "output_type": "stream",
     "text": [
      " 37%|███▋      | 37/100 [06:38<30:54, 29.44s/it]"
     ]
    },
    {
     "name": "stdout",
     "output_type": "stream",
     "text": [
      "Training Accuracy: 94.98959633791094\n",
      "Validation Results for epoch: 37 of 100\n",
      "Validation Loss: 0.15753795788864514\n",
      "Validation Accuracy: 94.17508417508418\n",
      "\n",
      "----------- Epoch: 38 of 100 -----------\n",
      "\n",
      "Training Results for epoch: 38 of 100\n",
      "Training Loss: 0.1543596223791092\n"
     ]
    },
    {
     "name": "stderr",
     "output_type": "stream",
     "text": [
      " 38%|███▊      | 38/100 [06:46<23:58, 23.20s/it]"
     ]
    },
    {
     "name": "stdout",
     "output_type": "stream",
     "text": [
      "Training Accuracy: 94.15938410320433\n",
      "Validation Results for epoch: 38 of 100\n",
      "Validation Loss: 0.1757682129932712\n",
      "Validation Accuracy: 93.46801346801347\n",
      "\n",
      "----------- Epoch: 39 of 100 -----------\n",
      "\n",
      "Training Results for epoch: 39 of 100\n",
      "Training Loss: 0.13428971031710552\n"
     ]
    },
    {
     "name": "stderr",
     "output_type": "stream",
     "text": [
      " 39%|███▉      | 39/100 [06:54<18:59, 18.68s/it]"
     ]
    },
    {
     "name": "stdout",
     "output_type": "stream",
     "text": [
      "Training Accuracy: 95.03537245110279\n",
      "Validation Results for epoch: 39 of 100\n",
      "Validation Loss: 0.15783239970036914\n",
      "Validation Accuracy: 94.15824915824916\n",
      "\n",
      "----------- Epoch: 40 of 100 -----------\n",
      "\n",
      "Training Results for epoch: 40 of 100\n",
      "Training Loss: 0.12543681462076778\n"
     ]
    },
    {
     "name": "stderr",
     "output_type": "stream",
     "text": [
      " 40%|████      | 40/100 [07:02<15:14, 15.23s/it]"
     ]
    },
    {
     "name": "stdout",
     "output_type": "stream",
     "text": [
      "Training Accuracy: 95.44111527257596\n",
      "Validation Results for epoch: 40 of 100\n",
      "Validation Loss: 0.13266620187149988\n",
      "Validation Accuracy: 94.98316498316498\n",
      "\n",
      "----------- Epoch: 41 of 100 -----------\n",
      "\n",
      "Training Results for epoch: 41 of 100\n",
      "Training Loss: 0.14334818929539345\n"
     ]
    },
    {
     "name": "stderr",
     "output_type": "stream",
     "text": [
      " 41%|████      | 41/100 [07:09<12:46, 13.00s/it]"
     ]
    },
    {
     "name": "stdout",
     "output_type": "stream",
     "text": [
      "Training Accuracy: 94.55472326258844\n",
      "Validation Results for epoch: 41 of 100\n",
      "Validation Loss: 0.1553727565337648\n",
      "Validation Accuracy: 93.82154882154882\n",
      "\n",
      "----------- Epoch: 42 of 100 -----------\n",
      "\n",
      "Training Results for epoch: 42 of 100\n",
      "Training Loss: 0.1327172806131987\n"
     ]
    },
    {
     "name": "stderr",
     "output_type": "stream",
     "text": [
      " 42%|████▏     | 42/100 [07:16<10:47, 11.16s/it]"
     ]
    },
    {
     "name": "stdout",
     "output_type": "stream",
     "text": [
      "Training Accuracy: 94.83978360382854\n",
      "Validation Results for epoch: 42 of 100\n",
      "Validation Loss: 0.1379697262853445\n",
      "Validation Accuracy: 94.4949494949495\n",
      "\n",
      "----------- Epoch: 43 of 100 -----------\n",
      "\n",
      "Training Results for epoch: 43 of 100\n",
      "Training Loss: 0.12806563834033866\n"
     ]
    },
    {
     "name": "stderr",
     "output_type": "stream",
     "text": [
      " 43%|████▎     | 43/100 [07:24<09:40, 10.18s/it]"
     ]
    },
    {
     "name": "stdout",
     "output_type": "stream",
     "text": [
      "Training Accuracy: 94.90844777361632\n",
      "Validation Results for epoch: 43 of 100\n",
      "Validation Loss: 0.14231835371318374\n",
      "Validation Accuracy: 94.39393939393939\n",
      "\n",
      "----------- Epoch: 44 of 100 -----------\n",
      "\n",
      "Training Results for epoch: 44 of 100\n",
      "Training Loss: 0.12535605952774062\n"
     ]
    },
    {
     "name": "stderr",
     "output_type": "stream",
     "text": [
      " 44%|████▍     | 44/100 [07:31<08:36,  9.23s/it]"
     ]
    },
    {
     "name": "stdout",
     "output_type": "stream",
     "text": [
      "Training Accuracy: 95.15813566375364\n",
      "Validation Results for epoch: 44 of 100\n",
      "Validation Loss: 0.13320018097836572\n",
      "Validation Accuracy: 94.8989898989899\n",
      "\n",
      "----------- Epoch: 45 of 100 -----------\n",
      "\n",
      "Training Results for epoch: 45 of 100\n",
      "Training Loss: 0.13334811675561675\n"
     ]
    },
    {
     "name": "stderr",
     "output_type": "stream",
     "text": [
      " 45%|████▌     | 45/100 [07:39<08:06,  8.85s/it]"
     ]
    },
    {
     "name": "stdout",
     "output_type": "stream",
     "text": [
      "Training Accuracy: 94.87931751976696\n",
      "Validation Results for epoch: 45 of 100\n",
      "Validation Loss: 0.14705669367293062\n",
      "Validation Accuracy: 94.37710437710439\n",
      "\n",
      "----------- Epoch: 46 of 100 -----------\n",
      "\n",
      "Training Results for epoch: 46 of 100\n",
      "Training Loss: 0.12366595556550461\n"
     ]
    },
    {
     "name": "stderr",
     "output_type": "stream",
     "text": [
      " 46%|████▌     | 46/100 [07:46<07:30,  8.33s/it]"
     ]
    },
    {
     "name": "stdout",
     "output_type": "stream",
     "text": [
      "Training Accuracy: 95.1706200582605\n",
      "Validation Results for epoch: 46 of 100\n",
      "Validation Loss: 0.137108007386809\n",
      "Validation Accuracy: 94.51178451178451\n",
      "\n",
      "----------- Epoch: 47 of 100 -----------\n",
      "\n",
      "Training Results for epoch: 47 of 100\n",
      "Training Loss: 0.1171318129628042\n"
     ]
    },
    {
     "name": "stderr",
     "output_type": "stream",
     "text": [
      " 47%|████▋     | 47/100 [07:54<07:17,  8.25s/it]"
     ]
    },
    {
     "name": "stdout",
     "output_type": "stream",
     "text": [
      "Training Accuracy: 95.52434456928839\n",
      "Validation Results for epoch: 47 of 100\n",
      "Validation Loss: 0.129433806256003\n",
      "Validation Accuracy: 94.8989898989899\n",
      "\n",
      "----------- Epoch: 48 of 100 -----------\n",
      "\n",
      "Training Results for epoch: 48 of 100\n",
      "Training Loss: 0.11384049370190064\n"
     ]
    },
    {
     "name": "stderr",
     "output_type": "stream",
     "text": [
      " 48%|████▊     | 48/100 [08:01<06:48,  7.86s/it]"
     ]
    },
    {
     "name": "stdout",
     "output_type": "stream",
     "text": [
      "Training Accuracy: 95.63046192259675\n",
      "Validation Results for epoch: 48 of 100\n",
      "Validation Loss: 0.11534284695479502\n",
      "Validation Accuracy: 95.8080808080808\n",
      "\n",
      "----------- Epoch: 49 of 100 -----------\n",
      "\n",
      "Training Results for epoch: 49 of 100\n",
      "Training Loss: 0.11293828022284416\n"
     ]
    },
    {
     "name": "stderr",
     "output_type": "stream",
     "text": [
      " 49%|████▉     | 49/100 [08:09<06:42,  7.89s/it]"
     ]
    },
    {
     "name": "stdout",
     "output_type": "stream",
     "text": [
      "Training Accuracy: 95.61173533083645\n",
      "Validation Results for epoch: 49 of 100\n",
      "Validation Loss: 0.12842139608375086\n",
      "Validation Accuracy: 95.53872053872054\n",
      "\n",
      "----------- Epoch: 50 of 100 -----------\n",
      "\n",
      "Training Results for epoch: 50 of 100\n",
      "Training Loss: 0.10664533081301318\n"
     ]
    },
    {
     "name": "stderr",
     "output_type": "stream",
     "text": [
      " 50%|█████     | 50/100 [08:16<06:21,  7.63s/it]"
     ]
    },
    {
     "name": "stdout",
     "output_type": "stream",
     "text": [
      "Training Accuracy: 95.92800665834373\n",
      "Validation Results for epoch: 50 of 100\n",
      "Validation Loss: 0.10258230858072957\n",
      "Validation Accuracy: 96.32996632996634\n",
      "\n",
      "----------- Epoch: 51 of 100 -----------\n",
      "\n",
      "Training Results for epoch: 51 of 100\n",
      "Training Loss: 0.13097900411522126\n"
     ]
    },
    {
     "name": "stderr",
     "output_type": "stream",
     "text": [
      " 51%|█████     | 51/100 [08:23<06:05,  7.47s/it]"
     ]
    },
    {
     "name": "stdout",
     "output_type": "stream",
     "text": [
      "Training Accuracy: 94.81897627965043\n",
      "Validation Results for epoch: 51 of 100\n",
      "Validation Loss: 0.1477901805799011\n",
      "Validation Accuracy: 93.63636363636364\n",
      "\n",
      "----------- Epoch: 52 of 100 -----------\n",
      "\n",
      "Training Results for epoch: 52 of 100\n",
      "Training Loss: 0.1150429531917523\n"
     ]
    },
    {
     "name": "stderr",
     "output_type": "stream",
     "text": [
      " 52%|█████▏    | 52/100 [08:32<06:12,  7.76s/it]"
     ]
    },
    {
     "name": "stdout",
     "output_type": "stream",
     "text": [
      "Training Accuracy: 95.56387848522681\n",
      "Validation Results for epoch: 52 of 100\n",
      "Validation Loss: 0.12358410260178196\n",
      "Validation Accuracy: 95.01683501683502\n",
      "\n",
      "----------- Epoch: 53 of 100 -----------\n",
      "\n",
      "Training Results for epoch: 53 of 100\n",
      "Training Loss: 0.11357291355860064\n"
     ]
    },
    {
     "name": "stderr",
     "output_type": "stream",
     "text": [
      " 53%|█████▎    | 53/100 [08:39<05:56,  7.57s/it]"
     ]
    },
    {
     "name": "stdout",
     "output_type": "stream",
     "text": [
      "Training Accuracy: 95.68456096545984\n",
      "Validation Results for epoch: 53 of 100\n",
      "Validation Loss: 0.13230487058075316\n",
      "Validation Accuracy: 94.81481481481482\n",
      "\n",
      "----------- Epoch: 54 of 100 -----------\n",
      "\n",
      "Training Results for epoch: 54 of 100\n",
      "Training Loss: 0.09666719938714165\n"
     ]
    },
    {
     "name": "stderr",
     "output_type": "stream",
     "text": [
      " 54%|█████▍    | 54/100 [08:47<05:56,  7.75s/it]"
     ]
    },
    {
     "name": "stdout",
     "output_type": "stream",
     "text": [
      "Training Accuracy: 96.27965043695382\n",
      "Validation Results for epoch: 54 of 100\n",
      "Validation Loss: 0.11709302120361716\n",
      "Validation Accuracy: 95.85858585858585\n",
      "\n",
      "----------- Epoch: 55 of 100 -----------\n",
      "\n",
      "Training Results for epoch: 55 of 100\n",
      "Training Loss: 0.09284077024509105\n"
     ]
    },
    {
     "name": "stderr",
     "output_type": "stream",
     "text": [
      " 55%|█████▌    | 55/100 [08:54<05:41,  7.58s/it]"
     ]
    },
    {
     "name": "stdout",
     "output_type": "stream",
     "text": [
      "Training Accuracy: 96.41905950894714\n",
      "Validation Results for epoch: 55 of 100\n",
      "Validation Loss: 0.10311239008387914\n",
      "Validation Accuracy: 96.07744107744108\n",
      "\n",
      "----------- Epoch: 56 of 100 -----------\n",
      "\n",
      "Training Results for epoch: 56 of 100\n",
      "Training Loss: 0.10069988232286808\n"
     ]
    },
    {
     "name": "stderr",
     "output_type": "stream",
     "text": [
      " 56%|█████▌    | 56/100 [09:03<05:50,  7.96s/it]"
     ]
    },
    {
     "name": "stdout",
     "output_type": "stream",
     "text": [
      "Training Accuracy: 96.28173116937162\n",
      "Validation Results for epoch: 56 of 100\n",
      "Validation Loss: 0.11603133284961188\n",
      "Validation Accuracy: 95.62289562289563\n",
      "\n",
      "----------- Epoch: 57 of 100 -----------\n",
      "\n",
      "Training Results for epoch: 57 of 100\n",
      "Training Loss: 0.09157013974694711\n",
      "Training Accuracy: 96.47315855181023\n",
      "Validation Results for epoch: 57 of 100\n",
      "Validation Loss: 0.11256154573484482\n"
     ]
    },
    {
     "name": "stderr",
     "output_type": "stream",
     "text": [
      " 57%|█████▋    | 57/100 [09:13<06:09,  8.58s/it]"
     ]
    },
    {
     "name": "stdout",
     "output_type": "stream",
     "text": [
      "Validation Accuracy: 96.11111111111111\n",
      "\n",
      "----------- Epoch: 58 of 100 -----------\n",
      "\n",
      "Training Results for epoch: 58 of 100\n",
      "Training Loss: 0.11924388489656453\n",
      "Training Accuracy: 95.27465667915106\n",
      "Validation Results for epoch: 58 of 100\n",
      "Validation Loss: 0.12438655832448126\n"
     ]
    },
    {
     "name": "stderr",
     "output_type": "stream",
     "text": [
      " 58%|█████▊    | 58/100 [09:29<07:30, 10.72s/it]"
     ]
    },
    {
     "name": "stdout",
     "output_type": "stream",
     "text": [
      "Validation Accuracy: 94.84848484848484\n",
      "\n",
      "----------- Epoch: 59 of 100 -----------\n",
      "\n",
      "Training Results for epoch: 59 of 100\n",
      "Training Loss: 0.09433680134915824\n",
      "Training Accuracy: 96.32334581772784\n",
      "Validation Results for epoch: 59 of 100\n",
      "Validation Loss: 0.11127643138576004\n"
     ]
    },
    {
     "name": "stderr",
     "output_type": "stream",
     "text": [
      " 59%|█████▉    | 59/100 [09:39<07:19, 10.71s/it]"
     ]
    },
    {
     "name": "stdout",
     "output_type": "stream",
     "text": [
      "Validation Accuracy: 95.6902356902357\n",
      "\n",
      "----------- Epoch: 60 of 100 -----------\n",
      "\n",
      "Training Results for epoch: 60 of 100\n",
      "Training Loss: 0.0922187693559986\n"
     ]
    },
    {
     "name": "stderr",
     "output_type": "stream",
     "text": [
      " 60%|██████    | 60/100 [09:53<07:36, 11.42s/it]"
     ]
    },
    {
     "name": "stdout",
     "output_type": "stream",
     "text": [
      "Training Accuracy: 96.47940074906367\n",
      "Validation Results for epoch: 60 of 100\n",
      "Validation Loss: 0.0907166997487917\n",
      "Validation Accuracy: 96.68350168350169\n",
      "\n",
      "----------- Epoch: 61 of 100 -----------\n",
      "\n",
      "Training Results for epoch: 61 of 100\n",
      "Training Loss: 0.09863005496338642\n"
     ]
    },
    {
     "name": "stderr",
     "output_type": "stream",
     "text": [
      " 61%|██████    | 61/100 [10:00<06:37, 10.19s/it]"
     ]
    },
    {
     "name": "stdout",
     "output_type": "stream",
     "text": [
      "Training Accuracy: 96.2401165210154\n",
      "Validation Results for epoch: 61 of 100\n",
      "Validation Loss: 0.10606421822400418\n",
      "Validation Accuracy: 96.06060606060606\n",
      "\n",
      "----------- Epoch: 62 of 100 -----------\n",
      "\n",
      "Training Results for epoch: 62 of 100\n",
      "Training Loss: 0.10851470710836207\n"
     ]
    },
    {
     "name": "stderr",
     "output_type": "stream",
     "text": [
      " 62%|██████▏   | 62/100 [10:14<07:15, 11.47s/it]"
     ]
    },
    {
     "name": "stdout",
     "output_type": "stream",
     "text": [
      "Training Accuracy: 95.78027465667915\n",
      "Validation Results for epoch: 62 of 100\n",
      "Validation Loss: 0.11355057852891914\n",
      "Validation Accuracy: 95.63973063973063\n",
      "\n",
      "----------- Epoch: 63 of 100 -----------\n",
      "\n",
      "Training Results for epoch: 63 of 100\n",
      "Training Loss: 0.0814178485488647\n"
     ]
    },
    {
     "name": "stderr",
     "output_type": "stream",
     "text": [
      " 63%|██████▎   | 63/100 [10:24<06:47, 11.01s/it]"
     ]
    },
    {
     "name": "stdout",
     "output_type": "stream",
     "text": [
      "Training Accuracy: 96.87473990844776\n",
      "Validation Results for epoch: 63 of 100\n",
      "Validation Loss: 0.0807810023127118\n",
      "Validation Accuracy: 96.96969696969697\n",
      "\n",
      "----------- Epoch: 64 of 100 -----------\n",
      "\n",
      "Training Results for epoch: 64 of 100\n",
      "Training Loss: 0.08418194011915678\n"
     ]
    },
    {
     "name": "stderr",
     "output_type": "stream",
     "text": [
      " 64%|██████▍   | 64/100 [10:37<06:57, 11.61s/it]"
     ]
    },
    {
     "name": "stdout",
     "output_type": "stream",
     "text": [
      "Training Accuracy: 96.77694548481065\n",
      "Validation Results for epoch: 64 of 100\n",
      "Validation Loss: 0.10303448967189081\n",
      "Validation Accuracy: 96.06060606060606\n",
      "\n",
      "----------- Epoch: 65 of 100 -----------\n",
      "\n",
      "Training Results for epoch: 65 of 100\n",
      "Training Loss: 0.07909686823063886\n"
     ]
    },
    {
     "name": "stderr",
     "output_type": "stream",
     "text": [
      " 65%|██████▌   | 65/100 [10:45<06:02, 10.37s/it]"
     ]
    },
    {
     "name": "stdout",
     "output_type": "stream",
     "text": [
      "Training Accuracy: 96.96004993757803\n",
      "Validation Results for epoch: 65 of 100\n",
      "Validation Loss: 0.09674419628772987\n",
      "Validation Accuracy: 96.06060606060606\n",
      "\n",
      "----------- Epoch: 66 of 100 -----------\n",
      "\n",
      "Training Results for epoch: 66 of 100\n",
      "Training Loss: 0.08354734645971575\n"
     ]
    },
    {
     "name": "stderr",
     "output_type": "stream",
     "text": [
      " 66%|██████▌   | 66/100 [10:57<06:10, 10.89s/it]"
     ]
    },
    {
     "name": "stdout",
     "output_type": "stream",
     "text": [
      "Training Accuracy: 96.79151061173533\n",
      "Validation Results for epoch: 66 of 100\n",
      "Validation Loss: 0.09516787393161003\n",
      "Validation Accuracy: 96.32996632996634\n",
      "\n",
      "----------- Epoch: 67 of 100 -----------\n",
      "\n",
      "Training Results for epoch: 67 of 100\n",
      "Training Loss: 0.08088787865351187\n"
     ]
    },
    {
     "name": "stderr",
     "output_type": "stream",
     "text": [
      " 67%|██████▋   | 67/100 [11:09<06:08, 11.15s/it]"
     ]
    },
    {
     "name": "stdout",
     "output_type": "stream",
     "text": [
      "Training Accuracy: 97.02039117769455\n",
      "Validation Results for epoch: 67 of 100\n",
      "Validation Loss: 0.08438839093697313\n",
      "Validation Accuracy: 96.73400673400674\n",
      "\n",
      "----------- Epoch: 68 of 100 -----------\n",
      "\n",
      "Training Results for epoch: 68 of 100\n",
      "Training Loss: 0.07838021223852898\n"
     ]
    },
    {
     "name": "stderr",
     "output_type": "stream",
     "text": [
      " 68%|██████▊   | 68/100 [11:21<06:05, 11.44s/it]"
     ]
    },
    {
     "name": "stdout",
     "output_type": "stream",
     "text": [
      "Training Accuracy: 96.92259675405744\n",
      "Validation Results for epoch: 68 of 100\n",
      "Validation Loss: 0.09507217842431855\n",
      "Validation Accuracy: 96.1952861952862\n",
      "\n",
      "----------- Epoch: 69 of 100 -----------\n",
      "\n",
      "Training Results for epoch: 69 of 100\n",
      "Training Loss: 0.0799713385026805\n",
      "Training Accuracy: 96.88098210570121\n",
      "Validation Results for epoch: 69 of 100\n",
      "Validation Loss: 0.08804406814094583\n"
     ]
    },
    {
     "name": "stderr",
     "output_type": "stream",
     "text": [
      " 69%|██████▉   | 69/100 [11:31<05:43, 11.07s/it]"
     ]
    },
    {
     "name": "stdout",
     "output_type": "stream",
     "text": [
      "Validation Accuracy: 96.63299663299664\n",
      "\n",
      "----------- Epoch: 70 of 100 -----------\n",
      "\n",
      "Training Results for epoch: 70 of 100\n",
      "Training Loss: 0.0659901484877964\n"
     ]
    },
    {
     "name": "stderr",
     "output_type": "stream",
     "text": [
      " 70%|███████   | 70/100 [11:44<05:53, 11.79s/it]"
     ]
    },
    {
     "name": "stdout",
     "output_type": "stream",
     "text": [
      "Training Accuracy: 97.46982937994174\n",
      "Validation Results for epoch: 70 of 100\n",
      "Validation Loss: 0.07018898494260059\n",
      "Validation Accuracy: 97.35690235690235\n",
      "\n",
      "----------- Epoch: 71 of 100 -----------\n",
      "\n",
      "Training Results for epoch: 71 of 100\n",
      "Training Loss: 0.0736964223476171\n"
     ]
    },
    {
     "name": "stderr",
     "output_type": "stream",
     "text": [
      " 71%|███████   | 71/100 [11:52<05:08, 10.65s/it]"
     ]
    },
    {
     "name": "stdout",
     "output_type": "stream",
     "text": [
      "Training Accuracy: 97.20349563046192\n",
      "Validation Results for epoch: 71 of 100\n",
      "Validation Loss: 0.0875776679076288\n",
      "Validation Accuracy: 96.70033670033669\n",
      "\n",
      "----------- Epoch: 72 of 100 -----------\n",
      "\n",
      "Training Results for epoch: 72 of 100\n",
      "Training Loss: 0.07620873211176048\n"
     ]
    },
    {
     "name": "stderr",
     "output_type": "stream",
     "text": [
      " 72%|███████▏  | 72/100 [12:02<04:45, 10.21s/it]"
     ]
    },
    {
     "name": "stdout",
     "output_type": "stream",
     "text": [
      "Training Accuracy: 97.06200582605076\n",
      "Validation Results for epoch: 72 of 100\n",
      "Validation Loss: 0.08693953475532878\n",
      "Validation Accuracy: 96.98653198653199\n",
      "\n",
      "----------- Epoch: 73 of 100 -----------\n",
      "\n",
      "Training Results for epoch: 73 of 100\n",
      "Training Loss: 0.07117711456148378\n"
     ]
    },
    {
     "name": "stderr",
     "output_type": "stream",
     "text": [
      " 73%|███████▎  | 73/100 [12:13<04:46, 10.62s/it]"
     ]
    },
    {
     "name": "stdout",
     "output_type": "stream",
     "text": [
      "Training Accuracy: 97.29920932168123\n",
      "Validation Results for epoch: 73 of 100\n",
      "Validation Loss: 0.07674209788017204\n",
      "Validation Accuracy: 97.07070707070707\n",
      "\n",
      "----------- Epoch: 74 of 100 -----------\n",
      "\n",
      "Training Results for epoch: 74 of 100\n",
      "Training Loss: 0.07813385344477815\n"
     ]
    },
    {
     "name": "stderr",
     "output_type": "stream",
     "text": [
      " 74%|███████▍  | 74/100 [12:24<04:36, 10.62s/it]"
     ]
    },
    {
     "name": "stdout",
     "output_type": "stream",
     "text": [
      "Training Accuracy: 96.96213066999584\n",
      "Validation Results for epoch: 74 of 100\n",
      "Validation Loss: 0.09252675913183278\n",
      "Validation Accuracy: 96.36363636363636\n",
      "\n",
      "----------- Epoch: 75 of 100 -----------\n",
      "\n",
      "Training Results for epoch: 75 of 100\n",
      "Training Loss: 0.08793918506655213\n"
     ]
    },
    {
     "name": "stderr",
     "output_type": "stream",
     "text": [
      " 75%|███████▌  | 75/100 [12:32<04:06,  9.86s/it]"
     ]
    },
    {
     "name": "stdout",
     "output_type": "stream",
     "text": [
      "Training Accuracy: 96.60840615896795\n",
      "Validation Results for epoch: 75 of 100\n",
      "Validation Loss: 0.09556707451772217\n",
      "Validation Accuracy: 96.46464646464646\n",
      "\n",
      "----------- Epoch: 76 of 100 -----------\n",
      "\n",
      "Training Results for epoch: 76 of 100\n",
      "Training Loss: 0.07258406717697145\n"
     ]
    },
    {
     "name": "stderr",
     "output_type": "stream",
     "text": [
      " 76%|███████▌  | 76/100 [12:40<03:44,  9.34s/it]"
     ]
    },
    {
     "name": "stdout",
     "output_type": "stream",
     "text": [
      "Training Accuracy: 97.19933416562631\n",
      "Validation Results for epoch: 76 of 100\n",
      "Validation Loss: 0.07086918689796559\n",
      "Validation Accuracy: 97.20538720538721\n",
      "\n",
      "----------- Epoch: 77 of 100 -----------\n",
      "\n",
      "Training Results for epoch: 77 of 100\n",
      "Training Loss: 0.07175233399241877\n"
     ]
    },
    {
     "name": "stderr",
     "output_type": "stream",
     "text": [
      " 77%|███████▋  | 77/100 [12:48<03:24,  8.88s/it]"
     ]
    },
    {
     "name": "stdout",
     "output_type": "stream",
     "text": [
      "Training Accuracy: 97.27632126508531\n",
      "Validation Results for epoch: 77 of 100\n",
      "Validation Loss: 0.07657818938144154\n",
      "Validation Accuracy: 96.9023569023569\n",
      "\n",
      "----------- Epoch: 78 of 100 -----------\n",
      "\n",
      "Training Results for epoch: 78 of 100\n",
      "Training Loss: 0.06754202825267354\n"
     ]
    },
    {
     "name": "stderr",
     "output_type": "stream",
     "text": [
      " 78%|███████▊  | 78/100 [12:58<03:24,  9.28s/it]"
     ]
    },
    {
     "name": "stdout",
     "output_type": "stream",
     "text": [
      "Training Accuracy: 97.38451935081149\n",
      "Validation Results for epoch: 78 of 100\n",
      "Validation Loss: 0.07925854260943878\n",
      "Validation Accuracy: 96.8013468013468\n",
      "\n",
      "----------- Epoch: 79 of 100 -----------\n",
      "\n",
      "Training Results for epoch: 79 of 100\n",
      "Training Loss: 0.0743819856248538\n"
     ]
    },
    {
     "name": "stderr",
     "output_type": "stream",
     "text": [
      " 79%|███████▉  | 79/100 [13:07<03:12,  9.16s/it]"
     ]
    },
    {
     "name": "stdout",
     "output_type": "stream",
     "text": [
      "Training Accuracy: 97.22638368705785\n",
      "Validation Results for epoch: 79 of 100\n",
      "Validation Loss: 0.08374504037379743\n",
      "Validation Accuracy: 96.70033670033669\n",
      "\n",
      "----------- Epoch: 80 of 100 -----------\n",
      "\n",
      "Training Results for epoch: 80 of 100\n",
      "Training Loss: 0.07008331399185853\n"
     ]
    },
    {
     "name": "stderr",
     "output_type": "stream",
     "text": [
      " 80%|████████  | 80/100 [13:19<03:24, 10.20s/it]"
     ]
    },
    {
     "name": "stdout",
     "output_type": "stream",
     "text": [
      "Training Accuracy: 97.31585518102372\n",
      "Validation Results for epoch: 80 of 100\n",
      "Validation Loss: 0.08519834184324734\n",
      "Validation Accuracy: 96.66666666666667\n",
      "\n",
      "----------- Epoch: 81 of 100 -----------\n",
      "\n",
      "Training Results for epoch: 81 of 100\n",
      "Training Loss: 0.0519515446758139\n"
     ]
    },
    {
     "name": "stderr",
     "output_type": "stream",
     "text": [
      " 81%|████████  | 81/100 [13:28<03:04,  9.72s/it]"
     ]
    },
    {
     "name": "stdout",
     "output_type": "stream",
     "text": [
      "Training Accuracy: 98.02330420307949\n",
      "Validation Results for epoch: 81 of 100\n",
      "Validation Loss: 0.055453800311342547\n",
      "Validation Accuracy: 97.65993265993266\n",
      "\n",
      "----------- Epoch: 82 of 100 -----------\n",
      "\n",
      "Training Results for epoch: 82 of 100\n",
      "Training Loss: 0.0918434641556099\n"
     ]
    },
    {
     "name": "stderr",
     "output_type": "stream",
     "text": [
      " 82%|████████▏ | 82/100 [13:38<02:56,  9.80s/it]"
     ]
    },
    {
     "name": "stdout",
     "output_type": "stream",
     "text": [
      "Training Accuracy: 96.4294631710362\n",
      "Validation Results for epoch: 82 of 100\n",
      "Validation Loss: 0.10595113062259012\n",
      "Validation Accuracy: 96.01010101010101\n",
      "\n",
      "----------- Epoch: 83 of 100 -----------\n",
      "\n",
      "Training Results for epoch: 83 of 100\n",
      "Training Loss: 0.05711655418452724\n",
      "Training Accuracy: 97.80482729920932\n",
      "Validation Results for epoch: 83 of 100\n",
      "Validation Loss: 0.0650043781036304\n"
     ]
    },
    {
     "name": "stderr",
     "output_type": "stream",
     "text": [
      " 83%|████████▎ | 83/100 [13:47<02:39,  9.41s/it]"
     ]
    },
    {
     "name": "stdout",
     "output_type": "stream",
     "text": [
      "Validation Accuracy: 97.45791245791246\n",
      "\n",
      "----------- Epoch: 84 of 100 -----------\n",
      "\n",
      "Training Results for epoch: 84 of 100\n",
      "Training Loss: 0.062822097841889\n"
     ]
    },
    {
     "name": "stderr",
     "output_type": "stream",
     "text": [
      " 84%|████████▍ | 84/100 [13:57<02:35,  9.73s/it]"
     ]
    },
    {
     "name": "stdout",
     "output_type": "stream",
     "text": [
      "Training Accuracy: 97.51352476071577\n",
      "Validation Results for epoch: 84 of 100\n",
      "Validation Loss: 0.07631895149110192\n",
      "Validation Accuracy: 96.96969696969697\n",
      "\n",
      "----------- Epoch: 85 of 100 -----------\n",
      "\n",
      "Training Results for epoch: 85 of 100\n",
      "Training Loss: 0.0652502514077011\n"
     ]
    },
    {
     "name": "stderr",
     "output_type": "stream",
     "text": [
      " 85%|████████▌ | 85/100 [14:05<02:15,  9.06s/it]"
     ]
    },
    {
     "name": "stdout",
     "output_type": "stream",
     "text": [
      "Training Accuracy: 97.52184769038702\n",
      "Validation Results for epoch: 85 of 100\n",
      "Validation Loss: 0.07862625893163981\n",
      "Validation Accuracy: 96.88552188552188\n",
      "\n",
      "----------- Epoch: 86 of 100 -----------\n",
      "\n",
      "Training Results for epoch: 86 of 100\n",
      "Training Loss: 0.08027575668390806\n"
     ]
    },
    {
     "name": "stderr",
     "output_type": "stream",
     "text": [
      " 86%|████████▌ | 86/100 [14:14<02:08,  9.16s/it]"
     ]
    },
    {
     "name": "stdout",
     "output_type": "stream",
     "text": [
      "Training Accuracy: 96.86849771119435\n",
      "Validation Results for epoch: 86 of 100\n",
      "Validation Loss: 0.08848002847134079\n",
      "Validation Accuracy: 96.44781144781145\n",
      "\n",
      "----------- Epoch: 87 of 100 -----------\n",
      "\n",
      "Training Results for epoch: 87 of 100\n",
      "Training Loss: 0.05591660606551534\n"
     ]
    },
    {
     "name": "stderr",
     "output_type": "stream",
     "text": [
      " 87%|████████▋ | 87/100 [14:22<01:53,  8.72s/it]"
     ]
    },
    {
     "name": "stdout",
     "output_type": "stream",
     "text": [
      "Training Accuracy: 97.86516853932584\n",
      "Validation Results for epoch: 87 of 100\n",
      "Validation Loss: 0.07215434089809937\n",
      "Validation Accuracy: 97.17171717171718\n",
      "\n",
      "----------- Epoch: 88 of 100 -----------\n",
      "\n",
      "Training Results for epoch: 88 of 100\n",
      "Training Loss: 0.05805447467673457\n",
      "Training Accuracy: 97.74864752392843\n",
      "Validation Results for epoch: 88 of 100\n",
      "Validation Loss: 0.06838577116946992\n"
     ]
    },
    {
     "name": "stderr",
     "output_type": "stream",
     "text": [
      " 88%|████████▊ | 88/100 [14:32<01:52,  9.34s/it]"
     ]
    },
    {
     "name": "stdout",
     "output_type": "stream",
     "text": [
      "Validation Accuracy: 97.45791245791246\n",
      "\n",
      "----------- Epoch: 89 of 100 -----------\n",
      "\n",
      "Training Results for epoch: 89 of 100\n",
      "Training Loss: 0.06325408387743087\n"
     ]
    },
    {
     "name": "stderr",
     "output_type": "stream",
     "text": [
      " 89%|████████▉ | 89/100 [14:42<01:44,  9.49s/it]"
     ]
    },
    {
     "name": "stdout",
     "output_type": "stream",
     "text": [
      "Training Accuracy: 97.57386600083228\n",
      "Validation Results for epoch: 89 of 100\n",
      "Validation Loss: 0.07556686046484377\n",
      "Validation Accuracy: 97.13804713804713\n",
      "\n",
      "----------- Epoch: 90 of 100 -----------\n",
      "\n",
      "Training Results for epoch: 90 of 100\n",
      "Training Loss: 0.05839644946545182\n"
     ]
    },
    {
     "name": "stderr",
     "output_type": "stream",
     "text": [
      " 90%|█████████ | 90/100 [14:56<01:46, 10.64s/it]"
     ]
    },
    {
     "name": "stdout",
     "output_type": "stream",
     "text": [
      "Training Accuracy: 97.75488972118185\n",
      "Validation Results for epoch: 90 of 100\n",
      "Validation Loss: 0.060821548323140046\n",
      "Validation Accuracy: 97.57575757575758\n",
      "\n",
      "----------- Epoch: 91 of 100 -----------\n",
      "\n",
      "Training Results for epoch: 91 of 100\n",
      "Training Loss: 0.057228435412052595\n"
     ]
    },
    {
     "name": "stderr",
     "output_type": "stream",
     "text": [
      " 91%|█████████ | 91/100 [15:05<01:31, 10.15s/it]"
     ]
    },
    {
     "name": "stdout",
     "output_type": "stream",
     "text": [
      "Training Accuracy: 97.77777777777777\n",
      "Validation Results for epoch: 91 of 100\n",
      "Validation Loss: 0.06143853653695534\n",
      "Validation Accuracy: 97.52525252525253\n",
      "\n",
      "----------- Epoch: 92 of 100 -----------\n",
      "\n",
      "Training Results for epoch: 92 of 100\n",
      "Training Loss: 0.04886218600287988\n"
     ]
    },
    {
     "name": "stderr",
     "output_type": "stream",
     "text": [
      " 92%|█████████▏| 92/100 [15:14<01:20, 10.02s/it]"
     ]
    },
    {
     "name": "stdout",
     "output_type": "stream",
     "text": [
      "Training Accuracy: 98.12942155638785\n",
      "Validation Results for epoch: 92 of 100\n",
      "Validation Loss: 0.05266271436609578\n",
      "Validation Accuracy: 98.06397306397307\n",
      "\n",
      "----------- Epoch: 93 of 100 -----------\n",
      "\n",
      "Training Results for epoch: 93 of 100\n",
      "Training Loss: 0.06335443764862297\n"
     ]
    },
    {
     "name": "stderr",
     "output_type": "stream",
     "text": [
      " 93%|█████████▎| 93/100 [15:22<01:05,  9.29s/it]"
     ]
    },
    {
     "name": "stdout",
     "output_type": "stream",
     "text": [
      "Training Accuracy: 97.5010403662089\n",
      "Validation Results for epoch: 93 of 100\n",
      "Validation Loss: 0.07056456735478227\n",
      "Validation Accuracy: 97.49158249158249\n",
      "\n",
      "----------- Epoch: 94 of 100 -----------\n",
      "\n",
      "Training Results for epoch: 94 of 100\n",
      "Training Loss: 0.04855270110585847\n"
     ]
    },
    {
     "name": "stderr",
     "output_type": "stream",
     "text": [
      " 94%|█████████▍| 94/100 [15:32<00:56,  9.48s/it]"
     ]
    },
    {
     "name": "stdout",
     "output_type": "stream",
     "text": [
      "Training Accuracy: 98.11277569704536\n",
      "Validation Results for epoch: 94 of 100\n",
      "Validation Loss: 0.061060854364803505\n",
      "Validation Accuracy: 97.57575757575758\n",
      "\n",
      "----------- Epoch: 95 of 100 -----------\n",
      "\n",
      "Training Results for epoch: 95 of 100\n",
      "Training Loss: 0.0728943650407488\n"
     ]
    },
    {
     "name": "stderr",
     "output_type": "stream",
     "text": [
      " 95%|█████████▌| 95/100 [15:40<00:45,  9.11s/it]"
     ]
    },
    {
     "name": "stdout",
     "output_type": "stream",
     "text": [
      "Training Accuracy: 97.15355805243445\n",
      "Validation Results for epoch: 95 of 100\n",
      "Validation Loss: 0.07406892062137292\n",
      "Validation Accuracy: 97.12121212121212\n",
      "\n",
      "----------- Epoch: 96 of 100 -----------\n",
      "\n",
      "Training Results for epoch: 96 of 100\n",
      "Training Loss: 0.0583440870154988\n"
     ]
    },
    {
     "name": "stderr",
     "output_type": "stream",
     "text": [
      " 96%|█████████▌| 96/100 [15:49<00:36,  9.12s/it]"
     ]
    },
    {
     "name": "stdout",
     "output_type": "stream",
     "text": [
      "Training Accuracy: 97.72159800249688\n",
      "Validation Results for epoch: 96 of 100\n",
      "Validation Loss: 0.06265056365834536\n",
      "Validation Accuracy: 97.39057239057239\n",
      "\n",
      "----------- Epoch: 97 of 100 -----------\n",
      "\n",
      "Training Results for epoch: 97 of 100\n",
      "Training Loss: 0.04352565980308201\n"
     ]
    },
    {
     "name": "stderr",
     "output_type": "stream",
     "text": [
      " 97%|█████████▋| 97/100 [15:58<00:26,  8.98s/it]"
     ]
    },
    {
     "name": "stdout",
     "output_type": "stream",
     "text": [
      "Training Accuracy: 98.27715355805243\n",
      "Validation Results for epoch: 97 of 100\n",
      "Validation Loss: 0.05524509110708467\n",
      "Validation Accuracy: 97.92929292929293\n",
      "\n",
      "----------- Epoch: 98 of 100 -----------\n",
      "\n",
      "Training Results for epoch: 98 of 100\n",
      "Training Loss: 0.05203842930815126\n"
     ]
    },
    {
     "name": "stderr",
     "output_type": "stream",
     "text": [
      " 98%|█████████▊| 98/100 [16:06<00:17,  8.87s/it]"
     ]
    },
    {
     "name": "stdout",
     "output_type": "stream",
     "text": [
      "Training Accuracy: 97.99417394923013\n",
      "Validation Results for epoch: 98 of 100\n",
      "Validation Loss: 0.05477251511587635\n",
      "Validation Accuracy: 97.74410774410775\n",
      "\n",
      "----------- Epoch: 99 of 100 -----------\n",
      "\n",
      "Training Results for epoch: 99 of 100\n",
      "Training Loss: 0.06295398530110559\n",
      "Training Accuracy: 97.60299625468166\n",
      "Validation Results for epoch: 99 of 100\n",
      "Validation Loss: 0.07084267874098943\n"
     ]
    },
    {
     "name": "stderr",
     "output_type": "stream",
     "text": [
      " 99%|█████████▉| 99/100 [16:14<00:08,  8.58s/it]"
     ]
    },
    {
     "name": "stdout",
     "output_type": "stream",
     "text": [
      "Validation Accuracy: 97.23905723905723\n",
      "\n",
      "----------- Epoch: 100 of 100 -----------\n",
      "\n",
      "Training Results for epoch: 100 of 100\n",
      "Training Loss: 0.04926162058678624\n"
     ]
    },
    {
     "name": "stderr",
     "output_type": "stream",
     "text": [
      "100%|██████████| 100/100 [16:24<00:00,  9.84s/it]"
     ]
    },
    {
     "name": "stdout",
     "output_type": "stream",
     "text": [
      "Training Accuracy: 98.08780690803162\n",
      "Validation Results for epoch: 100 of 100\n",
      "Validation Loss: 0.05315767084655088\n",
      "Validation Accuracy: 97.96296296296296\n"
     ]
    },
    {
     "name": "stderr",
     "output_type": "stream",
     "text": [
      "\n"
     ]
    },
    {
     "data": {
      "text/plain": [
       "<__main__.MyNeuralNetwork at 0x10e317b80>"
      ]
     },
     "execution_count": 11,
     "metadata": {},
     "output_type": "execute_result"
    }
   ],
   "source": [
    "#Training using ReLU\n",
    "nn1 = MyNeuralNetwork(n_layers=3, layer_sizes=[256, 128, 64], learning_rate=0.1, num_epochs=100, batch_size=32, weight_init='normal', activation=\"relu\")\n",
    "nn1.fit(np.array(mnist_train_flat, dtype='float32'), nn1.one_hot_encode(mnist_train_labels.astype(int),10))"
   ]
  },
  {
   "cell_type": "code",
   "execution_count": 36,
   "metadata": {},
   "outputs": [
    {
     "name": "stderr",
     "output_type": "stream",
     "text": [
      "  0%|          | 0/100 [00:00<?, ?it/s]"
     ]
    },
    {
     "name": "stdout",
     "output_type": "stream",
     "text": [
      "\n",
      "----------- Epoch: 1 of 100 -----------\n",
      "\n",
      "Training Results for epoch: 1 of 100\n",
      "Training Loss: 0.6282535078075241\n"
     ]
    },
    {
     "name": "stderr",
     "output_type": "stream",
     "text": [
      "  1%|          | 1/100 [00:08<14:39,  8.89s/it]"
     ]
    },
    {
     "name": "stdout",
     "output_type": "stream",
     "text": [
      "Training Accuracy: 76.67707032875572\n",
      "Validation Results for epoch: 1 of 100\n",
      "Validation Loss: 0.6379690397581033\n",
      "Validation Accuracy: 76.1952861952862\n",
      "\n",
      "----------- Epoch: 2 of 100 -----------\n",
      "\n",
      "Training Results for epoch: 2 of 100\n",
      "Training Loss: 0.47898384682305867\n"
     ]
    },
    {
     "name": "stderr",
     "output_type": "stream",
     "text": [
      "  2%|▏         | 2/100 [00:16<13:32,  8.29s/it]"
     ]
    },
    {
     "name": "stdout",
     "output_type": "stream",
     "text": [
      "Training Accuracy: 82.94423637120266\n",
      "Validation Results for epoch: 2 of 100\n",
      "Validation Loss: 0.4888365279951529\n",
      "Validation Accuracy: 82.67676767676768\n",
      "\n",
      "----------- Epoch: 3 of 100 -----------\n",
      "\n",
      "Training Results for epoch: 3 of 100\n",
      "Training Loss: 0.4339922937666308\n"
     ]
    },
    {
     "name": "stderr",
     "output_type": "stream",
     "text": [
      "  3%|▎         | 3/100 [00:24<13:18,  8.23s/it]"
     ]
    },
    {
     "name": "stdout",
     "output_type": "stream",
     "text": [
      "Training Accuracy: 84.35497295047857\n",
      "Validation Results for epoch: 3 of 100\n",
      "Validation Loss: 0.45637265547036\n",
      "Validation Accuracy: 83.9057239057239\n",
      "\n",
      "----------- Epoch: 4 of 100 -----------\n",
      "\n",
      "Training Results for epoch: 4 of 100\n",
      "Training Loss: 0.3927907956680156\n"
     ]
    },
    {
     "name": "stderr",
     "output_type": "stream",
     "text": [
      "  4%|▍         | 4/100 [00:33<13:33,  8.48s/it]"
     ]
    },
    {
     "name": "stdout",
     "output_type": "stream",
     "text": [
      "Training Accuracy: 85.78443612151477\n",
      "Validation Results for epoch: 4 of 100\n",
      "Validation Loss: 0.3880218830394679\n",
      "Validation Accuracy: 85.47138047138047\n",
      "\n",
      "----------- Epoch: 5 of 100 -----------\n",
      "\n",
      "Training Results for epoch: 5 of 100\n",
      "Training Loss: 0.3934514482191929\n",
      "Training Accuracy: 85.32875572201415\n",
      "Validation Results for epoch: 5 of 100\n",
      "Validation Loss: 0.3993817037140781\n"
     ]
    },
    {
     "name": "stderr",
     "output_type": "stream",
     "text": [
      "  5%|▌         | 5/100 [00:43<14:09,  8.94s/it]"
     ]
    },
    {
     "name": "stdout",
     "output_type": "stream",
     "text": [
      "Validation Accuracy: 85.25252525252526\n",
      "\n",
      "----------- Epoch: 6 of 100 -----------\n",
      "\n",
      "Training Results for epoch: 6 of 100\n",
      "Training Loss: 0.3382149990552071\n",
      "Training Accuracy: 87.64253017062006\n",
      "Validation Results for epoch: 6 of 100\n",
      "Validation Loss: 0.3441713991959143\n"
     ]
    },
    {
     "name": "stderr",
     "output_type": "stream",
     "text": [
      "  6%|▌         | 6/100 [00:54<15:00,  9.58s/it]"
     ]
    },
    {
     "name": "stdout",
     "output_type": "stream",
     "text": [
      "Validation Accuracy: 87.44107744107744\n",
      "\n",
      "----------- Epoch: 7 of 100 -----------\n",
      "\n",
      "Training Results for epoch: 7 of 100\n",
      "Training Loss: 0.35356748636249696\n",
      "Training Accuracy: 87.26175613816064\n",
      "Validation Results for epoch: 7 of 100\n",
      "Validation Loss: 0.36932683466810867\n"
     ]
    },
    {
     "name": "stderr",
     "output_type": "stream",
     "text": [
      "  7%|▋         | 7/100 [01:15<20:29, 13.22s/it]"
     ]
    },
    {
     "name": "stdout",
     "output_type": "stream",
     "text": [
      "Validation Accuracy: 86.43097643097644\n",
      "\n",
      "----------- Epoch: 8 of 100 -----------\n",
      "\n",
      "Training Results for epoch: 8 of 100\n",
      "Training Loss: 0.3160214768332883\n",
      "Training Accuracy: 88.67249271743654\n",
      "Validation Results for epoch: 8 of 100\n",
      "Validation Loss: 0.3359367436505122\n"
     ]
    },
    {
     "name": "stderr",
     "output_type": "stream",
     "text": [
      "  8%|▊         | 8/100 [01:29<20:54, 13.64s/it]"
     ]
    },
    {
     "name": "stdout",
     "output_type": "stream",
     "text": [
      "Validation Accuracy: 87.27272727272727\n",
      "\n",
      "----------- Epoch: 9 of 100 -----------\n",
      "\n",
      "Training Results for epoch: 9 of 100\n",
      "Training Loss: 0.334002393839386\n"
     ]
    },
    {
     "name": "stderr",
     "output_type": "stream",
     "text": [
      "  9%|▉         | 9/100 [01:39<19:08, 12.62s/it]"
     ]
    },
    {
     "name": "stdout",
     "output_type": "stream",
     "text": [
      "Training Accuracy: 87.62172284644195\n",
      "Validation Results for epoch: 9 of 100\n",
      "Validation Loss: 0.326700927755303\n",
      "Validation Accuracy: 87.8114478114478\n",
      "\n",
      "----------- Epoch: 10 of 100 -----------\n",
      "\n",
      "Training Results for epoch: 10 of 100\n",
      "Training Loss: 0.3173218944383287\n"
     ]
    },
    {
     "name": "stderr",
     "output_type": "stream",
     "text": [
      " 10%|█         | 10/100 [01:50<18:10, 12.12s/it]"
     ]
    },
    {
     "name": "stdout",
     "output_type": "stream",
     "text": [
      "Training Accuracy: 88.26258843112775\n",
      "Validation Results for epoch: 10 of 100\n",
      "Validation Loss: 0.3253286677649263\n",
      "Validation Accuracy: 87.97979797979798\n",
      "\n",
      "----------- Epoch: 11 of 100 -----------\n",
      "\n",
      "Training Results for epoch: 11 of 100\n",
      "Training Loss: 0.2996674035541924\n"
     ]
    },
    {
     "name": "stderr",
     "output_type": "stream",
     "text": [
      " 11%|█         | 11/100 [02:02<17:46, 11.99s/it]"
     ]
    },
    {
     "name": "stdout",
     "output_type": "stream",
     "text": [
      "Training Accuracy: 88.65584685809405\n",
      "Validation Results for epoch: 11 of 100\n",
      "Validation Loss: 0.31234185934206893\n",
      "Validation Accuracy: 88.36700336700338\n",
      "\n",
      "----------- Epoch: 12 of 100 -----------\n",
      "\n",
      "Training Results for epoch: 12 of 100\n",
      "Training Loss: 0.3140550497896681\n"
     ]
    },
    {
     "name": "stderr",
     "output_type": "stream",
     "text": [
      " 12%|█▏        | 12/100 [02:14<17:32, 11.96s/it]"
     ]
    },
    {
     "name": "stdout",
     "output_type": "stream",
     "text": [
      "Training Accuracy: 88.54556803995007\n",
      "Validation Results for epoch: 12 of 100\n",
      "Validation Loss: 0.317775083275841\n",
      "Validation Accuracy: 88.68686868686869\n",
      "\n",
      "----------- Epoch: 13 of 100 -----------\n",
      "\n",
      "Training Results for epoch: 13 of 100\n",
      "Training Loss: 0.2678020614488999\n"
     ]
    },
    {
     "name": "stderr",
     "output_type": "stream",
     "text": [
      " 13%|█▎        | 13/100 [02:26<17:18, 11.94s/it]"
     ]
    },
    {
     "name": "stdout",
     "output_type": "stream",
     "text": [
      "Training Accuracy: 90.04785684560966\n",
      "Validation Results for epoch: 13 of 100\n",
      "Validation Loss: 0.287598137361279\n",
      "Validation Accuracy: 88.98989898989899\n",
      "\n",
      "----------- Epoch: 14 of 100 -----------\n",
      "\n",
      "Training Results for epoch: 14 of 100\n",
      "Training Loss: 0.2948226511841875\n"
     ]
    },
    {
     "name": "stderr",
     "output_type": "stream",
     "text": [
      " 14%|█▍        | 14/100 [02:36<16:26, 11.47s/it]"
     ]
    },
    {
     "name": "stdout",
     "output_type": "stream",
     "text": [
      "Training Accuracy: 88.54972950478567\n",
      "Validation Results for epoch: 14 of 100\n",
      "Validation Loss: 0.30890678435302504\n",
      "Validation Accuracy: 87.87878787878788\n",
      "\n",
      "----------- Epoch: 15 of 100 -----------\n",
      "\n",
      "Training Results for epoch: 15 of 100\n",
      "Training Loss: 0.2885128923147759\n",
      "Training Accuracy: 88.90345401581357\n",
      "Validation Results for epoch: 15 of 100\n",
      "Validation Loss: 0.30451204307859553\n"
     ]
    },
    {
     "name": "stderr",
     "output_type": "stream",
     "text": [
      " 15%|█▌        | 15/100 [02:47<15:41, 11.08s/it]"
     ]
    },
    {
     "name": "stdout",
     "output_type": "stream",
     "text": [
      "Validation Accuracy: 88.43434343434343\n",
      "\n",
      "----------- Epoch: 16 of 100 -----------\n",
      "\n",
      "Training Results for epoch: 16 of 100\n",
      "Training Loss: 0.29541319594655996\n"
     ]
    },
    {
     "name": "stderr",
     "output_type": "stream",
     "text": [
      " 16%|█▌        | 16/100 [02:57<15:25, 11.02s/it]"
     ]
    },
    {
     "name": "stdout",
     "output_type": "stream",
     "text": [
      "Training Accuracy: 88.86183936745734\n",
      "Validation Results for epoch: 16 of 100\n",
      "Validation Loss: 0.2996963506199537\n",
      "Validation Accuracy: 88.9057239057239\n",
      "\n",
      "----------- Epoch: 17 of 100 -----------\n",
      "\n",
      "Training Results for epoch: 17 of 100\n",
      "Training Loss: 0.23799743072362034\n"
     ]
    },
    {
     "name": "stderr",
     "output_type": "stream",
     "text": [
      " 17%|█▋        | 17/100 [03:06<14:16, 10.32s/it]"
     ]
    },
    {
     "name": "stdout",
     "output_type": "stream",
     "text": [
      "Training Accuracy: 91.17145235122763\n",
      "Validation Results for epoch: 17 of 100\n",
      "Validation Loss: 0.2543416678767242\n",
      "Validation Accuracy: 90.8080808080808\n",
      "\n",
      "----------- Epoch: 18 of 100 -----------\n",
      "\n",
      "Training Results for epoch: 18 of 100\n",
      "Training Loss: 0.2701878208081114\n"
     ]
    },
    {
     "name": "stderr",
     "output_type": "stream",
     "text": [
      " 18%|█▊        | 18/100 [03:15<13:36,  9.96s/it]"
     ]
    },
    {
     "name": "stdout",
     "output_type": "stream",
     "text": [
      "Training Accuracy: 89.57969205160217\n",
      "Validation Results for epoch: 18 of 100\n",
      "Validation Loss: 0.2894378053387026\n",
      "Validation Accuracy: 88.85521885521885\n",
      "\n",
      "----------- Epoch: 19 of 100 -----------\n",
      "\n",
      "Training Results for epoch: 19 of 100\n",
      "Training Loss: 0.24479160233051955\n"
     ]
    },
    {
     "name": "stderr",
     "output_type": "stream",
     "text": [
      " 19%|█▉        | 19/100 [03:26<13:38, 10.11s/it]"
     ]
    },
    {
     "name": "stdout",
     "output_type": "stream",
     "text": [
      "Training Accuracy: 90.6034124011652\n",
      "Validation Results for epoch: 19 of 100\n",
      "Validation Loss: 0.25590184052238263\n",
      "Validation Accuracy: 90.45454545454545\n",
      "\n",
      "----------- Epoch: 20 of 100 -----------\n",
      "\n",
      "Training Results for epoch: 20 of 100\n",
      "Training Loss: 0.23884836099041862\n"
     ]
    },
    {
     "name": "stderr",
     "output_type": "stream",
     "text": [
      " 20%|██        | 20/100 [03:36<13:31, 10.14s/it]"
     ]
    },
    {
     "name": "stdout",
     "output_type": "stream",
     "text": [
      "Training Accuracy: 91.12983770287141\n",
      "Validation Results for epoch: 20 of 100\n",
      "Validation Loss: 0.24691923084118608\n",
      "Validation Accuracy: 91.06060606060606\n",
      "\n",
      "----------- Epoch: 21 of 100 -----------\n",
      "\n",
      "Training Results for epoch: 21 of 100\n",
      "Training Loss: 0.2173401118953623\n",
      "Training Accuracy: 91.90178942987932\n",
      "Validation Results for epoch: 21 of 100\n",
      "Validation Loss: 0.22995123950419397\n"
     ]
    },
    {
     "name": "stderr",
     "output_type": "stream",
     "text": [
      " 21%|██        | 21/100 [03:46<13:26, 10.21s/it]"
     ]
    },
    {
     "name": "stdout",
     "output_type": "stream",
     "text": [
      "Validation Accuracy: 91.34680134680134\n",
      "\n",
      "----------- Epoch: 22 of 100 -----------\n",
      "\n",
      "Training Results for epoch: 22 of 100\n",
      "Training Loss: 0.23323386218621267\n"
     ]
    },
    {
     "name": "stderr",
     "output_type": "stream",
     "text": [
      " 22%|██▏       | 22/100 [03:58<13:40, 10.52s/it]"
     ]
    },
    {
     "name": "stdout",
     "output_type": "stream",
     "text": [
      "Training Accuracy: 91.07573866000833\n",
      "Validation Results for epoch: 22 of 100\n",
      "Validation Loss: 0.24018494879643\n",
      "Validation Accuracy: 90.40404040404042\n",
      "\n",
      "----------- Epoch: 23 of 100 -----------\n",
      "\n",
      "Training Results for epoch: 23 of 100\n",
      "Training Loss: 0.23149445493756027\n"
     ]
    },
    {
     "name": "stderr",
     "output_type": "stream",
     "text": [
      " 23%|██▎       | 23/100 [04:09<13:41, 10.67s/it]"
     ]
    },
    {
     "name": "stdout",
     "output_type": "stream",
     "text": [
      "Training Accuracy: 91.17353308364544\n",
      "Validation Results for epoch: 23 of 100\n",
      "Validation Loss: 0.23757419404279906\n",
      "Validation Accuracy: 91.27946127946129\n",
      "\n",
      "----------- Epoch: 24 of 100 -----------\n",
      "\n",
      "Training Results for epoch: 24 of 100\n",
      "Training Loss: 0.2451614429400463\n",
      "Training Accuracy: 90.39117769454849\n",
      "Validation Results for epoch: 24 of 100\n",
      "Validation Loss: 0.2613943000918524\n"
     ]
    },
    {
     "name": "stderr",
     "output_type": "stream",
     "text": [
      " 24%|██▍       | 24/100 [04:21<14:14, 11.25s/it]"
     ]
    },
    {
     "name": "stdout",
     "output_type": "stream",
     "text": [
      "Validation Accuracy: 89.74747474747474\n",
      "\n",
      "----------- Epoch: 25 of 100 -----------\n",
      "\n",
      "Training Results for epoch: 25 of 100\n",
      "Training Loss: 0.22748635428612413\n"
     ]
    },
    {
     "name": "stderr",
     "output_type": "stream",
     "text": [
      " 25%|██▌       | 25/100 [04:31<13:37, 10.91s/it]"
     ]
    },
    {
     "name": "stdout",
     "output_type": "stream",
     "text": [
      "Training Accuracy: 91.30253849354973\n",
      "Validation Results for epoch: 25 of 100\n",
      "Validation Loss: 0.22365386523075298\n",
      "Validation Accuracy: 91.68350168350167\n",
      "\n",
      "----------- Epoch: 26 of 100 -----------\n",
      "\n",
      "Training Results for epoch: 26 of 100\n",
      "Training Loss: 0.21629536067658048\n"
     ]
    },
    {
     "name": "stderr",
     "output_type": "stream",
     "text": [
      " 26%|██▌       | 26/100 [04:39<12:21, 10.03s/it]"
     ]
    },
    {
     "name": "stdout",
     "output_type": "stream",
     "text": [
      "Training Accuracy: 91.74573449854348\n",
      "Validation Results for epoch: 26 of 100\n",
      "Validation Loss: 0.2483013471690101\n",
      "Validation Accuracy: 90.89225589225589\n",
      "\n",
      "----------- Epoch: 27 of 100 -----------\n",
      "\n",
      "Training Results for epoch: 27 of 100\n",
      "Training Loss: 0.20500026780166697\n"
     ]
    },
    {
     "name": "stderr",
     "output_type": "stream",
     "text": [
      " 27%|██▋       | 27/100 [04:51<12:45, 10.48s/it]"
     ]
    },
    {
     "name": "stdout",
     "output_type": "stream",
     "text": [
      "Training Accuracy: 92.27424053266749\n",
      "Validation Results for epoch: 27 of 100\n",
      "Validation Loss: 0.22922480210132298\n",
      "Validation Accuracy: 91.41414141414141\n",
      "\n",
      "----------- Epoch: 28 of 100 -----------\n",
      "\n",
      "Training Results for epoch: 28 of 100\n",
      "Training Loss: 0.22325549276319753\n"
     ]
    },
    {
     "name": "stderr",
     "output_type": "stream",
     "text": [
      " 28%|██▊       | 28/100 [05:00<12:14, 10.20s/it]"
     ]
    },
    {
     "name": "stdout",
     "output_type": "stream",
     "text": [
      "Training Accuracy: 91.65626300457761\n",
      "Validation Results for epoch: 28 of 100\n",
      "Validation Loss: 0.23332785240712414\n",
      "Validation Accuracy: 91.31313131313131\n",
      "\n",
      "----------- Epoch: 29 of 100 -----------\n",
      "\n",
      "Training Results for epoch: 29 of 100\n",
      "Training Loss: 0.1927240780785903\n"
     ]
    },
    {
     "name": "stderr",
     "output_type": "stream",
     "text": [
      " 29%|██▉       | 29/100 [05:10<12:03, 10.20s/it]"
     ]
    },
    {
     "name": "stdout",
     "output_type": "stream",
     "text": [
      "Training Accuracy: 92.69662921348315\n",
      "Validation Results for epoch: 29 of 100\n",
      "Validation Loss: 0.202690965145969\n",
      "Validation Accuracy: 92.18855218855218\n",
      "\n",
      "----------- Epoch: 30 of 100 -----------\n",
      "\n",
      "Training Results for epoch: 30 of 100\n",
      "Training Loss: 0.18877593678762283\n",
      "Training Accuracy: 92.86516853932584\n",
      "Validation Results for epoch: 30 of 100\n",
      "Validation Loss: 0.20682529911600214\n"
     ]
    },
    {
     "name": "stderr",
     "output_type": "stream",
     "text": [
      " 30%|███       | 30/100 [05:20<11:45, 10.07s/it]"
     ]
    },
    {
     "name": "stdout",
     "output_type": "stream",
     "text": [
      "Validation Accuracy: 92.57575757575758\n",
      "\n",
      "----------- Epoch: 31 of 100 -----------\n",
      "\n",
      "Training Results for epoch: 31 of 100\n",
      "Training Loss: 0.20147234806195635\n",
      "Training Accuracy: 92.46982937994174\n",
      "Validation Results for epoch: 31 of 100\n",
      "Validation Loss: 0.22743788954052482\n"
     ]
    },
    {
     "name": "stderr",
     "output_type": "stream",
     "text": [
      " 31%|███       | 31/100 [05:30<11:34, 10.06s/it]"
     ]
    },
    {
     "name": "stdout",
     "output_type": "stream",
     "text": [
      "Validation Accuracy: 91.14478114478113\n",
      "\n",
      "----------- Epoch: 32 of 100 -----------\n",
      "\n",
      "Training Results for epoch: 32 of 100\n",
      "Training Loss: 0.17265797966090685\n"
     ]
    },
    {
     "name": "stderr",
     "output_type": "stream",
     "text": [
      " 32%|███▏      | 32/100 [05:39<10:54,  9.62s/it]"
     ]
    },
    {
     "name": "stdout",
     "output_type": "stream",
     "text": [
      "Training Accuracy: 93.6100707449022\n",
      "Validation Results for epoch: 32 of 100\n",
      "Validation Loss: 0.18157681843276285\n",
      "Validation Accuracy: 93.16498316498316\n",
      "\n",
      "----------- Epoch: 33 of 100 -----------\n",
      "\n",
      "Training Results for epoch: 33 of 100\n",
      "Training Loss: 0.19647699201215385\n"
     ]
    },
    {
     "name": "stderr",
     "output_type": "stream",
     "text": [
      " 33%|███▎      | 33/100 [05:49<10:51,  9.73s/it]"
     ]
    },
    {
     "name": "stdout",
     "output_type": "stream",
     "text": [
      "Training Accuracy: 92.50104036620891\n",
      "Validation Results for epoch: 33 of 100\n",
      "Validation Loss: 0.194356366619099\n",
      "Validation Accuracy: 93.26599326599326\n",
      "\n",
      "----------- Epoch: 34 of 100 -----------\n",
      "\n",
      "Training Results for epoch: 34 of 100\n",
      "Training Loss: 0.1727145679877905\n"
     ]
    },
    {
     "name": "stderr",
     "output_type": "stream",
     "text": [
      " 34%|███▍      | 34/100 [05:59<10:51,  9.87s/it]"
     ]
    },
    {
     "name": "stdout",
     "output_type": "stream",
     "text": [
      "Training Accuracy: 93.44985434873075\n",
      "Validation Results for epoch: 34 of 100\n",
      "Validation Loss: 0.19089162834075177\n",
      "Validation Accuracy: 93.01346801346801\n",
      "\n",
      "----------- Epoch: 35 of 100 -----------\n",
      "\n",
      "Training Results for epoch: 35 of 100\n",
      "Training Loss: 0.1749116841139206\n",
      "Training Accuracy: 93.38535164377862\n",
      "Validation Results for epoch: 35 of 100\n",
      "Validation Loss: 0.17292969827085394\n"
     ]
    },
    {
     "name": "stderr",
     "output_type": "stream",
     "text": [
      " 35%|███▌      | 35/100 [06:11<11:25, 10.54s/it]"
     ]
    },
    {
     "name": "stdout",
     "output_type": "stream",
     "text": [
      "Validation Accuracy: 93.68686868686868\n",
      "\n",
      "----------- Epoch: 36 of 100 -----------\n",
      "\n",
      "Training Results for epoch: 36 of 100\n",
      "Training Loss: 0.16888797306460085\n",
      "Training Accuracy: 93.67249271743654\n",
      "Validation Results for epoch: 36 of 100\n",
      "Validation Loss: 0.1947049970486553\n"
     ]
    },
    {
     "name": "stderr",
     "output_type": "stream",
     "text": [
      " 36%|███▌      | 36/100 [06:24<11:52, 11.13s/it]"
     ]
    },
    {
     "name": "stdout",
     "output_type": "stream",
     "text": [
      "Validation Accuracy: 92.71043771043772\n",
      "\n",
      "----------- Epoch: 37 of 100 -----------\n",
      "\n",
      "Training Results for epoch: 37 of 100\n",
      "Training Loss: 0.16931102303556034\n"
     ]
    },
    {
     "name": "stderr",
     "output_type": "stream",
     "text": [
      " 37%|███▋      | 37/100 [06:34<11:18, 10.77s/it]"
     ]
    },
    {
     "name": "stdout",
     "output_type": "stream",
     "text": [
      "Training Accuracy: 93.70162297128589\n",
      "Validation Results for epoch: 37 of 100\n",
      "Validation Loss: 0.1961554805466067\n",
      "Validation Accuracy: 92.76094276094277\n",
      "\n",
      "----------- Epoch: 38 of 100 -----------\n",
      "\n",
      "Training Results for epoch: 38 of 100\n",
      "Training Loss: 0.16283123374199754\n",
      "Training Accuracy: 93.94090719933416\n",
      "Validation Results for epoch: 38 of 100\n",
      "Validation Loss: 0.17836273448655718\n"
     ]
    },
    {
     "name": "stderr",
     "output_type": "stream",
     "text": [
      " 38%|███▊      | 38/100 [06:44<11:00, 10.65s/it]"
     ]
    },
    {
     "name": "stdout",
     "output_type": "stream",
     "text": [
      "Validation Accuracy: 93.58585858585859\n",
      "\n",
      "----------- Epoch: 39 of 100 -----------\n",
      "\n",
      "Training Results for epoch: 39 of 100\n",
      "Training Loss: 0.15807905052979115\n"
     ]
    },
    {
     "name": "stderr",
     "output_type": "stream",
     "text": [
      " 39%|███▉      | 39/100 [06:54<10:40, 10.50s/it]"
     ]
    },
    {
     "name": "stdout",
     "output_type": "stream",
     "text": [
      "Training Accuracy: 94.03037869330004\n",
      "Validation Results for epoch: 39 of 100\n",
      "Validation Loss: 0.18475791468117228\n",
      "Validation Accuracy: 92.84511784511784\n",
      "\n",
      "----------- Epoch: 40 of 100 -----------\n",
      "\n",
      "Training Results for epoch: 40 of 100\n",
      "Training Loss: 0.18820612526204278\n"
     ]
    },
    {
     "name": "stderr",
     "output_type": "stream",
     "text": [
      " 40%|████      | 40/100 [07:04<10:10, 10.17s/it]"
     ]
    },
    {
     "name": "stdout",
     "output_type": "stream",
     "text": [
      "Training Accuracy: 92.81523096129838\n",
      "Validation Results for epoch: 40 of 100\n",
      "Validation Loss: 0.19099009532572017\n",
      "Validation Accuracy: 92.74410774410774\n",
      "\n",
      "----------- Epoch: 41 of 100 -----------\n",
      "\n",
      "Training Results for epoch: 41 of 100\n",
      "Training Loss: 0.15670256701151708\n"
     ]
    },
    {
     "name": "stderr",
     "output_type": "stream",
     "text": [
      " 41%|████      | 41/100 [07:14<10:08, 10.31s/it]"
     ]
    },
    {
     "name": "stdout",
     "output_type": "stream",
     "text": [
      "Training Accuracy: 94.11360799001248\n",
      "Validation Results for epoch: 41 of 100\n",
      "Validation Loss: 0.16573450957952685\n",
      "Validation Accuracy: 93.43434343434343\n",
      "\n",
      "----------- Epoch: 42 of 100 -----------\n",
      "\n",
      "Training Results for epoch: 42 of 100\n",
      "Training Loss: 0.16273663573026861\n"
     ]
    },
    {
     "name": "stderr",
     "output_type": "stream",
     "text": [
      " 42%|████▏     | 42/100 [07:23<09:37,  9.96s/it]"
     ]
    },
    {
     "name": "stdout",
     "output_type": "stream",
     "text": [
      "Training Accuracy: 93.85767790262173\n",
      "Validation Results for epoch: 42 of 100\n",
      "Validation Loss: 0.16687108592163993\n",
      "Validation Accuracy: 93.45117845117845\n",
      "\n",
      "----------- Epoch: 43 of 100 -----------\n",
      "\n",
      "Training Results for epoch: 43 of 100\n",
      "Training Loss: 0.13705202471333403\n"
     ]
    },
    {
     "name": "stderr",
     "output_type": "stream",
     "text": [
      " 43%|████▎     | 43/100 [07:32<09:06,  9.60s/it]"
     ]
    },
    {
     "name": "stdout",
     "output_type": "stream",
     "text": [
      "Training Accuracy: 94.88764044943821\n",
      "Validation Results for epoch: 43 of 100\n",
      "Validation Loss: 0.14384946250991795\n",
      "Validation Accuracy: 94.5959595959596\n",
      "\n",
      "----------- Epoch: 44 of 100 -----------\n",
      "\n",
      "Training Results for epoch: 44 of 100\n",
      "Training Loss: 0.14312785752034646\n"
     ]
    },
    {
     "name": "stderr",
     "output_type": "stream",
     "text": [
      " 44%|████▍     | 44/100 [07:40<08:34,  9.19s/it]"
     ]
    },
    {
     "name": "stdout",
     "output_type": "stream",
     "text": [
      "Training Accuracy: 94.70661672908864\n",
      "Validation Results for epoch: 44 of 100\n",
      "Validation Loss: 0.15313611038473457\n",
      "Validation Accuracy: 94.04040404040404\n",
      "\n",
      "----------- Epoch: 45 of 100 -----------\n",
      "\n",
      "Training Results for epoch: 45 of 100\n",
      "Training Loss: 0.14605720561936245\n",
      "Training Accuracy: 94.35913441531419\n",
      "Validation Results for epoch: 45 of 100\n",
      "Validation Loss: 0.1533238579679593\n"
     ]
    },
    {
     "name": "stderr",
     "output_type": "stream",
     "text": [
      " 45%|████▌     | 45/100 [07:50<08:36,  9.39s/it]"
     ]
    },
    {
     "name": "stdout",
     "output_type": "stream",
     "text": [
      "Validation Accuracy: 94.006734006734\n",
      "\n",
      "----------- Epoch: 46 of 100 -----------\n",
      "\n",
      "Training Results for epoch: 46 of 100\n",
      "Training Loss: 0.14810952769730393\n"
     ]
    },
    {
     "name": "stderr",
     "output_type": "stream",
     "text": [
      " 46%|████▌     | 46/100 [08:00<08:29,  9.43s/it]"
     ]
    },
    {
     "name": "stdout",
     "output_type": "stream",
     "text": [
      "Training Accuracy: 94.43612151477319\n",
      "Validation Results for epoch: 46 of 100\n",
      "Validation Loss: 0.16768090239137878\n",
      "Validation Accuracy: 93.53535353535354\n",
      "\n",
      "----------- Epoch: 47 of 100 -----------\n",
      "\n",
      "Training Results for epoch: 47 of 100\n",
      "Training Loss: 0.13333119575098823\n"
     ]
    },
    {
     "name": "stderr",
     "output_type": "stream",
     "text": [
      " 47%|████▋     | 47/100 [08:09<08:15,  9.35s/it]"
     ]
    },
    {
     "name": "stdout",
     "output_type": "stream",
     "text": [
      "Training Accuracy: 95.04785684560966\n",
      "Validation Results for epoch: 47 of 100\n",
      "Validation Loss: 0.14685566015332716\n",
      "Validation Accuracy: 94.36026936026936\n",
      "\n",
      "----------- Epoch: 48 of 100 -----------\n",
      "\n",
      "Training Results for epoch: 48 of 100\n",
      "Training Loss: 0.13255002872592592\n"
     ]
    },
    {
     "name": "stderr",
     "output_type": "stream",
     "text": [
      " 48%|████▊     | 48/100 [08:18<08:10,  9.43s/it]"
     ]
    },
    {
     "name": "stdout",
     "output_type": "stream",
     "text": [
      "Training Accuracy: 94.99167707032875\n",
      "Validation Results for epoch: 48 of 100\n",
      "Validation Loss: 0.13557431024843322\n",
      "Validation Accuracy: 94.64646464646465\n",
      "\n",
      "----------- Epoch: 49 of 100 -----------\n",
      "\n",
      "Training Results for epoch: 49 of 100\n",
      "Training Loss: 0.12127405806277083\n"
     ]
    },
    {
     "name": "stderr",
     "output_type": "stream",
     "text": [
      " 49%|████▉     | 49/100 [08:27<07:53,  9.29s/it]"
     ]
    },
    {
     "name": "stdout",
     "output_type": "stream",
     "text": [
      "Training Accuracy: 95.45984186433625\n",
      "Validation Results for epoch: 49 of 100\n",
      "Validation Loss: 0.1418206441833792\n",
      "Validation Accuracy: 95.08417508417509\n",
      "\n",
      "----------- Epoch: 50 of 100 -----------\n",
      "\n",
      "Training Results for epoch: 50 of 100\n",
      "Training Loss: 0.12269119491049062\n"
     ]
    },
    {
     "name": "stderr",
     "output_type": "stream",
     "text": [
      " 50%|█████     | 50/100 [08:37<07:44,  9.29s/it]"
     ]
    },
    {
     "name": "stdout",
     "output_type": "stream",
     "text": [
      "Training Accuracy: 95.40158135663754\n",
      "Validation Results for epoch: 50 of 100\n",
      "Validation Loss: 0.13290209837160355\n",
      "Validation Accuracy: 95.18518518518519\n",
      "\n",
      "----------- Epoch: 51 of 100 -----------\n",
      "\n",
      "Training Results for epoch: 51 of 100\n",
      "Training Loss: 0.13485778918343666\n"
     ]
    },
    {
     "name": "stderr",
     "output_type": "stream",
     "text": [
      " 51%|█████     | 51/100 [08:48<08:05,  9.91s/it]"
     ]
    },
    {
     "name": "stdout",
     "output_type": "stream",
     "text": [
      "Training Accuracy: 94.83354140657512\n",
      "Validation Results for epoch: 51 of 100\n",
      "Validation Loss: 0.14686179287774787\n",
      "Validation Accuracy: 94.41077441077441\n",
      "\n",
      "----------- Epoch: 52 of 100 -----------\n",
      "\n",
      "Training Results for epoch: 52 of 100\n",
      "Training Loss: 0.12685087114171184\n"
     ]
    },
    {
     "name": "stderr",
     "output_type": "stream",
     "text": [
      " 52%|█████▏    | 52/100 [09:00<08:22, 10.46s/it]"
     ]
    },
    {
     "name": "stdout",
     "output_type": "stream",
     "text": [
      "Training Accuracy: 95.2621722846442\n",
      "Validation Results for epoch: 52 of 100\n",
      "Validation Loss: 0.14288989048385614\n",
      "Validation Accuracy: 94.5959595959596\n",
      "\n",
      "----------- Epoch: 53 of 100 -----------\n",
      "\n",
      "Training Results for epoch: 53 of 100\n",
      "Training Loss: 0.18126074662443048\n"
     ]
    },
    {
     "name": "stderr",
     "output_type": "stream",
     "text": [
      " 53%|█████▎    | 53/100 [09:09<07:59, 10.20s/it]"
     ]
    },
    {
     "name": "stdout",
     "output_type": "stream",
     "text": [
      "Training Accuracy: 92.66541822721598\n",
      "Validation Results for epoch: 53 of 100\n",
      "Validation Loss: 0.2017157205938781\n",
      "Validation Accuracy: 91.98653198653199\n",
      "\n",
      "----------- Epoch: 54 of 100 -----------\n",
      "\n",
      "Training Results for epoch: 54 of 100\n",
      "Training Loss: 0.12287883238302089\n"
     ]
    },
    {
     "name": "stderr",
     "output_type": "stream",
     "text": [
      " 54%|█████▍    | 54/100 [09:17<07:18,  9.54s/it]"
     ]
    },
    {
     "name": "stdout",
     "output_type": "stream",
     "text": [
      "Training Accuracy: 95.31210986267166\n",
      "Validation Results for epoch: 54 of 100\n",
      "Validation Loss: 0.13876609006581714\n",
      "Validation Accuracy: 94.83164983164983\n",
      "\n",
      "----------- Epoch: 55 of 100 -----------\n",
      "\n",
      "Training Results for epoch: 55 of 100\n",
      "Training Loss: 0.11547215559239749\n",
      "Training Accuracy: 95.58468580940492\n",
      "Validation Results for epoch: 55 of 100\n",
      "Validation Loss: 0.13055346952924074\n"
     ]
    },
    {
     "name": "stderr",
     "output_type": "stream",
     "text": [
      " 55%|█████▌    | 55/100 [09:28<07:26,  9.92s/it]"
     ]
    },
    {
     "name": "stdout",
     "output_type": "stream",
     "text": [
      "Validation Accuracy: 94.7979797979798\n",
      "\n",
      "----------- Epoch: 56 of 100 -----------\n",
      "\n",
      "Training Results for epoch: 56 of 100\n",
      "Training Loss: 0.10963370263298568\n",
      "Training Accuracy: 95.98210570120682\n",
      "Validation Results for epoch: 56 of 100\n",
      "Validation Loss: 0.11832643007928338\n"
     ]
    },
    {
     "name": "stderr",
     "output_type": "stream",
     "text": [
      " 56%|█████▌    | 56/100 [09:40<07:40, 10.46s/it]"
     ]
    },
    {
     "name": "stdout",
     "output_type": "stream",
     "text": [
      "Validation Accuracy: 95.26936026936028\n",
      "\n",
      "----------- Epoch: 57 of 100 -----------\n",
      "\n",
      "Training Results for epoch: 57 of 100\n",
      "Training Loss: 0.11413142161105051\n"
     ]
    },
    {
     "name": "stderr",
     "output_type": "stream",
     "text": [
      " 57%|█████▋    | 57/100 [09:49<07:14, 10.10s/it]"
     ]
    },
    {
     "name": "stdout",
     "output_type": "stream",
     "text": [
      "Training Accuracy: 95.65959217644611\n",
      "Validation Results for epoch: 57 of 100\n",
      "Validation Loss: 0.12987435532403502\n",
      "Validation Accuracy: 95.03367003367003\n",
      "\n",
      "----------- Epoch: 58 of 100 -----------\n",
      "\n",
      "Training Results for epoch: 58 of 100\n",
      "Training Loss: 0.10904657822875419\n"
     ]
    },
    {
     "name": "stderr",
     "output_type": "stream",
     "text": [
      " 58%|█████▊    | 58/100 [09:57<06:39,  9.52s/it]"
     ]
    },
    {
     "name": "stdout",
     "output_type": "stream",
     "text": [
      "Training Accuracy: 95.98834789846026\n",
      "Validation Results for epoch: 58 of 100\n",
      "Validation Loss: 0.11899733250238695\n",
      "Validation Accuracy: 95.55555555555556\n",
      "\n",
      "----------- Epoch: 59 of 100 -----------\n",
      "\n",
      "Training Results for epoch: 59 of 100\n",
      "Training Loss: 0.10423514536203493\n"
     ]
    },
    {
     "name": "stderr",
     "output_type": "stream",
     "text": [
      " 59%|█████▉    | 59/100 [10:06<06:19,  9.25s/it]"
     ]
    },
    {
     "name": "stdout",
     "output_type": "stream",
     "text": [
      "Training Accuracy: 96.04452767374116\n",
      "Validation Results for epoch: 59 of 100\n",
      "Validation Loss: 0.1246913160901459\n",
      "Validation Accuracy: 95.26936026936028\n",
      "\n",
      "----------- Epoch: 60 of 100 -----------\n",
      "\n",
      "Training Results for epoch: 60 of 100\n",
      "Training Loss: 0.10385264061004269\n"
     ]
    },
    {
     "name": "stderr",
     "output_type": "stream",
     "text": [
      " 60%|██████    | 60/100 [10:18<06:38,  9.95s/it]"
     ]
    },
    {
     "name": "stdout",
     "output_type": "stream",
     "text": [
      "Training Accuracy: 96.16937161880982\n",
      "Validation Results for epoch: 60 of 100\n",
      "Validation Loss: 0.10594883300700272\n",
      "Validation Accuracy: 96.06060606060606\n",
      "\n",
      "----------- Epoch: 61 of 100 -----------\n",
      "\n",
      "Training Results for epoch: 61 of 100\n",
      "Training Loss: 0.10934057719553669\n"
     ]
    },
    {
     "name": "stderr",
     "output_type": "stream",
     "text": [
      " 61%|██████    | 61/100 [10:26<06:11,  9.53s/it]"
     ]
    },
    {
     "name": "stdout",
     "output_type": "stream",
     "text": [
      "Training Accuracy: 95.88014981273409\n",
      "Validation Results for epoch: 61 of 100\n",
      "Validation Loss: 0.11712431503241609\n",
      "Validation Accuracy: 95.31986531986531\n",
      "\n",
      "----------- Epoch: 62 of 100 -----------\n",
      "\n",
      "Training Results for epoch: 62 of 100\n",
      "Training Loss: 0.10353247766348725\n"
     ]
    },
    {
     "name": "stderr",
     "output_type": "stream",
     "text": [
      " 62%|██████▏   | 62/100 [10:35<05:52,  9.28s/it]"
     ]
    },
    {
     "name": "stdout",
     "output_type": "stream",
     "text": [
      "Training Accuracy: 96.00707449022056\n",
      "Validation Results for epoch: 62 of 100\n",
      "Validation Loss: 0.11320485981906708\n",
      "Validation Accuracy: 96.01010101010101\n",
      "\n",
      "----------- Epoch: 63 of 100 -----------\n",
      "\n",
      "Training Results for epoch: 63 of 100\n",
      "Training Loss: 0.10017177436110021\n"
     ]
    },
    {
     "name": "stderr",
     "output_type": "stream",
     "text": [
      " 63%|██████▎   | 63/100 [10:45<05:50,  9.47s/it]"
     ]
    },
    {
     "name": "stdout",
     "output_type": "stream",
     "text": [
      "Training Accuracy: 96.16729088639201\n",
      "Validation Results for epoch: 63 of 100\n",
      "Validation Loss: 0.10425732537648716\n",
      "Validation Accuracy: 95.89225589225589\n",
      "\n",
      "----------- Epoch: 64 of 100 -----------\n",
      "\n",
      "Training Results for epoch: 64 of 100\n",
      "Training Loss: 0.11322730468781865\n"
     ]
    },
    {
     "name": "stderr",
     "output_type": "stream",
     "text": [
      " 64%|██████▍   | 64/100 [10:53<05:33,  9.26s/it]"
     ]
    },
    {
     "name": "stdout",
     "output_type": "stream",
     "text": [
      "Training Accuracy: 95.68456096545984\n",
      "Validation Results for epoch: 64 of 100\n",
      "Validation Loss: 0.12837409457502047\n",
      "Validation Accuracy: 94.94949494949495\n",
      "\n",
      "----------- Epoch: 65 of 100 -----------\n",
      "\n",
      "Training Results for epoch: 65 of 100\n",
      "Training Loss: 0.08820786974271747\n"
     ]
    },
    {
     "name": "stderr",
     "output_type": "stream",
     "text": [
      " 65%|██████▌   | 65/100 [11:05<05:49,  9.98s/it]"
     ]
    },
    {
     "name": "stdout",
     "output_type": "stream",
     "text": [
      "Training Accuracy: 96.64585934248856\n",
      "Validation Results for epoch: 65 of 100\n",
      "Validation Loss: 0.1084584961374399\n",
      "Validation Accuracy: 95.89225589225589\n",
      "\n",
      "----------- Epoch: 66 of 100 -----------\n",
      "\n",
      "Training Results for epoch: 66 of 100\n",
      "Training Loss: 0.08812654786793246\n"
     ]
    },
    {
     "name": "stderr",
     "output_type": "stream",
     "text": [
      " 66%|██████▌   | 66/100 [11:19<06:16, 11.06s/it]"
     ]
    },
    {
     "name": "stdout",
     "output_type": "stream",
     "text": [
      "Training Accuracy: 96.79775280898878\n",
      "Validation Results for epoch: 66 of 100\n",
      "Validation Loss: 0.09951845939225998\n",
      "Validation Accuracy: 96.0942760942761\n",
      "\n",
      "----------- Epoch: 67 of 100 -----------\n",
      "\n",
      "Training Results for epoch: 67 of 100\n",
      "Training Loss: 0.13866749638992726\n"
     ]
    },
    {
     "name": "stderr",
     "output_type": "stream",
     "text": [
      " 67%|██████▋   | 67/100 [11:30<06:09, 11.19s/it]"
     ]
    },
    {
     "name": "stdout",
     "output_type": "stream",
     "text": [
      "Training Accuracy: 95.02496878901373\n",
      "Validation Results for epoch: 67 of 100\n",
      "Validation Loss: 0.13904629330708665\n",
      "Validation Accuracy: 94.78114478114477\n",
      "\n",
      "----------- Epoch: 68 of 100 -----------\n",
      "\n",
      "Training Results for epoch: 68 of 100\n",
      "Training Loss: 0.08317804870495424\n",
      "Training Accuracy: 96.81856013316687\n",
      "Validation Results for epoch: 68 of 100\n",
      "Validation Loss: 0.09328220875963485\n"
     ]
    },
    {
     "name": "stderr",
     "output_type": "stream",
     "text": [
      " 68%|██████▊   | 68/100 [11:41<05:50, 10.96s/it]"
     ]
    },
    {
     "name": "stdout",
     "output_type": "stream",
     "text": [
      "Validation Accuracy: 96.29629629629629\n",
      "\n",
      "----------- Epoch: 69 of 100 -----------\n",
      "\n",
      "Training Results for epoch: 69 of 100\n",
      "Training Loss: 0.08360201264848706\n"
     ]
    },
    {
     "name": "stderr",
     "output_type": "stream",
     "text": [
      " 69%|██████▉   | 69/100 [11:53<05:48, 11.24s/it]"
     ]
    },
    {
     "name": "stdout",
     "output_type": "stream",
     "text": [
      "Training Accuracy: 96.85185185185186\n",
      "Validation Results for epoch: 69 of 100\n",
      "Validation Loss: 0.09458537229982554\n",
      "Validation Accuracy: 96.04377104377105\n",
      "\n",
      "----------- Epoch: 70 of 100 -----------\n",
      "\n",
      "Training Results for epoch: 70 of 100\n",
      "Training Loss: 0.0941062690582971\n",
      "Training Accuracy: 96.4294631710362\n",
      "Validation Results for epoch: 70 of 100\n",
      "Validation Loss: 0.10383193952044899\n"
     ]
    },
    {
     "name": "stderr",
     "output_type": "stream",
     "text": [
      " 70%|███████   | 70/100 [12:04<05:35, 11.17s/it]"
     ]
    },
    {
     "name": "stdout",
     "output_type": "stream",
     "text": [
      "Validation Accuracy: 95.993265993266\n",
      "\n",
      "----------- Epoch: 71 of 100 -----------\n",
      "\n",
      "Training Results for epoch: 71 of 100\n",
      "Training Loss: 0.08617664312978132\n",
      "Training Accuracy: 96.73325010403661\n",
      "Validation Results for epoch: 71 of 100\n",
      "Validation Loss: 0.10723393459083432\n"
     ]
    },
    {
     "name": "stderr",
     "output_type": "stream",
     "text": [
      " 71%|███████   | 71/100 [12:15<05:25, 11.23s/it]"
     ]
    },
    {
     "name": "stdout",
     "output_type": "stream",
     "text": [
      "Validation Accuracy: 95.92592592592592\n",
      "\n",
      "----------- Epoch: 72 of 100 -----------\n",
      "\n",
      "Training Results for epoch: 72 of 100\n",
      "Training Loss: 0.13795431974677655\n",
      "Training Accuracy: 94.9625468164794\n",
      "Validation Results for epoch: 72 of 100\n",
      "Validation Loss: 0.1467929724014497\n"
     ]
    },
    {
     "name": "stderr",
     "output_type": "stream",
     "text": [
      " 72%|███████▏  | 72/100 [12:24<04:56, 10.58s/it]"
     ]
    },
    {
     "name": "stdout",
     "output_type": "stream",
     "text": [
      "Validation Accuracy: 94.6969696969697\n",
      "\n",
      "----------- Epoch: 73 of 100 -----------\n",
      "\n",
      "Training Results for epoch: 73 of 100\n",
      "Training Loss: 0.06767165516125044\n"
     ]
    },
    {
     "name": "stderr",
     "output_type": "stream",
     "text": [
      " 73%|███████▎  | 73/100 [12:35<04:46, 10.59s/it]"
     ]
    },
    {
     "name": "stdout",
     "output_type": "stream",
     "text": [
      "Training Accuracy: 97.56138160632543\n",
      "Validation Results for epoch: 73 of 100\n",
      "Validation Loss: 0.08332249556104378\n",
      "Validation Accuracy: 96.58249158249158\n",
      "\n",
      "----------- Epoch: 74 of 100 -----------\n",
      "\n",
      "Training Results for epoch: 74 of 100\n",
      "Training Loss: 0.10550384302419909\n"
     ]
    },
    {
     "name": "stderr",
     "output_type": "stream",
     "text": [
      " 74%|███████▍  | 74/100 [12:44<04:23, 10.12s/it]"
     ]
    },
    {
     "name": "stdout",
     "output_type": "stream",
     "text": [
      "Training Accuracy: 95.9196837286725\n",
      "Validation Results for epoch: 74 of 100\n",
      "Validation Loss: 0.12215783795471219\n",
      "Validation Accuracy: 95.26936026936028\n",
      "\n",
      "----------- Epoch: 75 of 100 -----------\n",
      "\n",
      "Training Results for epoch: 75 of 100\n",
      "Training Loss: 0.07692815214960713\n"
     ]
    },
    {
     "name": "stderr",
     "output_type": "stream",
     "text": [
      " 75%|███████▌  | 75/100 [12:53<04:05,  9.84s/it]"
     ]
    },
    {
     "name": "stdout",
     "output_type": "stream",
     "text": [
      "Training Accuracy: 97.09737827715355\n",
      "Validation Results for epoch: 75 of 100\n",
      "Validation Loss: 0.08476390983366533\n",
      "Validation Accuracy: 96.76767676767678\n",
      "\n",
      "----------- Epoch: 76 of 100 -----------\n",
      "\n",
      "Training Results for epoch: 76 of 100\n",
      "Training Loss: 0.08983443333053276\n",
      "Training Accuracy: 96.75613816063255\n",
      "Validation Results for epoch: 76 of 100\n",
      "Validation Loss: 0.08801168384572197\n"
     ]
    },
    {
     "name": "stderr",
     "output_type": "stream",
     "text": [
      " 76%|███████▌  | 76/100 [13:07<04:27, 11.15s/it]"
     ]
    },
    {
     "name": "stdout",
     "output_type": "stream",
     "text": [
      "Validation Accuracy: 96.71717171717171\n",
      "\n",
      "----------- Epoch: 77 of 100 -----------\n",
      "\n",
      "Training Results for epoch: 77 of 100\n",
      "Training Loss: 0.07912761868836206\n",
      "Training Accuracy: 97.00582605076987\n",
      "Validation Results for epoch: 77 of 100\n",
      "Validation Loss: 0.08753419244359943\n"
     ]
    },
    {
     "name": "stderr",
     "output_type": "stream",
     "text": [
      " 77%|███████▋  | 77/100 [13:17<04:11, 10.95s/it]"
     ]
    },
    {
     "name": "stdout",
     "output_type": "stream",
     "text": [
      "Validation Accuracy: 96.5993265993266\n",
      "\n",
      "----------- Epoch: 78 of 100 -----------\n",
      "\n",
      "Training Results for epoch: 78 of 100\n",
      "Training Loss: 0.06511314756764043\n",
      "Training Accuracy: 97.61548064918851\n",
      "Validation Results for epoch: 78 of 100\n",
      "Validation Loss: 0.07828590848836857\n"
     ]
    },
    {
     "name": "stderr",
     "output_type": "stream",
     "text": [
      " 78%|███████▊  | 78/100 [13:27<03:54, 10.64s/it]"
     ]
    },
    {
     "name": "stdout",
     "output_type": "stream",
     "text": [
      "Validation Accuracy: 97.23905723905723\n",
      "\n",
      "----------- Epoch: 79 of 100 -----------\n",
      "\n",
      "Training Results for epoch: 79 of 100\n",
      "Training Loss: 0.06293332763846805\n"
     ]
    },
    {
     "name": "stderr",
     "output_type": "stream",
     "text": [
      " 79%|███████▉  | 79/100 [13:40<03:55, 11.21s/it]"
     ]
    },
    {
     "name": "stdout",
     "output_type": "stream",
     "text": [
      "Training Accuracy: 97.68206408655847\n",
      "Validation Results for epoch: 79 of 100\n",
      "Validation Loss: 0.07279903861625463\n",
      "Validation Accuracy: 97.27272727272728\n",
      "\n",
      "----------- Epoch: 80 of 100 -----------\n",
      "\n",
      "Training Results for epoch: 80 of 100\n",
      "Training Loss: 0.06598559743482166\n"
     ]
    },
    {
     "name": "stderr",
     "output_type": "stream",
     "text": [
      " 80%|████████  | 80/100 [13:48<03:27, 10.39s/it]"
     ]
    },
    {
     "name": "stdout",
     "output_type": "stream",
     "text": [
      "Training Accuracy: 97.63628797336662\n",
      "Validation Results for epoch: 80 of 100\n",
      "Validation Loss: 0.0782500974311624\n",
      "Validation Accuracy: 97.02020202020202\n",
      "\n",
      "----------- Epoch: 81 of 100 -----------\n",
      "\n",
      "Training Results for epoch: 81 of 100\n",
      "Training Loss: 0.06866767480933664\n"
     ]
    },
    {
     "name": "stderr",
     "output_type": "stream",
     "text": [
      " 81%|████████  | 81/100 [13:56<03:03,  9.65s/it]"
     ]
    },
    {
     "name": "stdout",
     "output_type": "stream",
     "text": [
      "Training Accuracy: 97.33874323761964\n",
      "Validation Results for epoch: 81 of 100\n",
      "Validation Loss: 0.06776593325249874\n",
      "Validation Accuracy: 97.44107744107744\n",
      "\n",
      "----------- Epoch: 82 of 100 -----------\n",
      "\n",
      "Training Results for epoch: 82 of 100\n",
      "Training Loss: 0.1112244350865598\n"
     ]
    },
    {
     "name": "stderr",
     "output_type": "stream",
     "text": [
      " 82%|████████▏ | 82/100 [14:06<02:53,  9.64s/it]"
     ]
    },
    {
     "name": "stdout",
     "output_type": "stream",
     "text": [
      "Training Accuracy: 96.00915522263837\n",
      "Validation Results for epoch: 82 of 100\n",
      "Validation Loss: 0.13274817201989295\n",
      "Validation Accuracy: 95.2020202020202\n",
      "\n",
      "----------- Epoch: 83 of 100 -----------\n",
      "\n",
      "Training Results for epoch: 83 of 100\n",
      "Training Loss: 0.09128743871875643\n"
     ]
    },
    {
     "name": "stderr",
     "output_type": "stream",
     "text": [
      " 83%|████████▎ | 83/100 [14:16<02:43,  9.61s/it]"
     ]
    },
    {
     "name": "stdout",
     "output_type": "stream",
     "text": [
      "Training Accuracy: 96.65210153974199\n",
      "Validation Results for epoch: 83 of 100\n",
      "Validation Loss: 0.10379322869825675\n",
      "Validation Accuracy: 96.24579124579125\n",
      "\n",
      "----------- Epoch: 84 of 100 -----------\n",
      "\n",
      "Training Results for epoch: 84 of 100\n",
      "Training Loss: 0.05272892168900238\n"
     ]
    },
    {
     "name": "stderr",
     "output_type": "stream",
     "text": [
      " 84%|████████▍ | 84/100 [14:26<02:35,  9.74s/it]"
     ]
    },
    {
     "name": "stdout",
     "output_type": "stream",
     "text": [
      "Training Accuracy: 98.1023720349563\n",
      "Validation Results for epoch: 84 of 100\n",
      "Validation Loss: 0.06503956926527726\n",
      "Validation Accuracy: 97.60942760942761\n",
      "\n",
      "----------- Epoch: 85 of 100 -----------\n",
      "\n",
      "Training Results for epoch: 85 of 100\n",
      "Training Loss: 0.05673437029021143\n"
     ]
    },
    {
     "name": "stderr",
     "output_type": "stream",
     "text": [
      " 85%|████████▌ | 85/100 [14:35<02:26,  9.77s/it]"
     ]
    },
    {
     "name": "stdout",
     "output_type": "stream",
     "text": [
      "Training Accuracy: 97.97752808988764\n",
      "Validation Results for epoch: 85 of 100\n",
      "Validation Loss: 0.06931941750379464\n",
      "Validation Accuracy: 97.47474747474747\n",
      "\n",
      "----------- Epoch: 86 of 100 -----------\n",
      "\n",
      "Training Results for epoch: 86 of 100\n",
      "Training Loss: 0.06282945767719512\n"
     ]
    },
    {
     "name": "stderr",
     "output_type": "stream",
     "text": [
      " 86%|████████▌ | 86/100 [14:45<02:14,  9.60s/it]"
     ]
    },
    {
     "name": "stdout",
     "output_type": "stream",
     "text": [
      "Training Accuracy: 97.69038701622972\n",
      "Validation Results for epoch: 86 of 100\n",
      "Validation Loss: 0.07974343469374366\n",
      "Validation Accuracy: 96.76767676767678\n",
      "\n",
      "----------- Epoch: 87 of 100 -----------\n",
      "\n",
      "Training Results for epoch: 87 of 100\n",
      "Training Loss: 0.05319187085070098\n"
     ]
    },
    {
     "name": "stderr",
     "output_type": "stream",
     "text": [
      " 87%|████████▋ | 87/100 [14:55<02:08,  9.87s/it]"
     ]
    },
    {
     "name": "stdout",
     "output_type": "stream",
     "text": [
      "Training Accuracy: 98.0649188514357\n",
      "Validation Results for epoch: 87 of 100\n",
      "Validation Loss: 0.06390640735536708\n",
      "Validation Accuracy: 97.74410774410775\n",
      "\n",
      "----------- Epoch: 88 of 100 -----------\n",
      "\n",
      "Training Results for epoch: 88 of 100\n",
      "Training Loss: 0.06135810372766193\n"
     ]
    },
    {
     "name": "stderr",
     "output_type": "stream",
     "text": [
      " 88%|████████▊ | 88/100 [15:04<01:54,  9.58s/it]"
     ]
    },
    {
     "name": "stdout",
     "output_type": "stream",
     "text": [
      "Training Accuracy: 97.65293383270911\n",
      "Validation Results for epoch: 88 of 100\n",
      "Validation Loss: 0.06663930402656171\n",
      "Validation Accuracy: 97.64309764309765\n",
      "\n",
      "----------- Epoch: 89 of 100 -----------\n",
      "\n",
      "Training Results for epoch: 89 of 100\n",
      "Training Loss: 0.05896530359499192\n"
     ]
    },
    {
     "name": "stderr",
     "output_type": "stream",
     "text": [
      " 89%|████████▉ | 89/100 [15:15<01:49,  9.93s/it]"
     ]
    },
    {
     "name": "stdout",
     "output_type": "stream",
     "text": [
      "Training Accuracy: 97.79442363712026\n",
      "Validation Results for epoch: 89 of 100\n",
      "Validation Loss: 0.07932367930668664\n",
      "Validation Accuracy: 96.95286195286195\n",
      "\n",
      "----------- Epoch: 90 of 100 -----------\n",
      "\n",
      "Training Results for epoch: 90 of 100\n",
      "Training Loss: 0.11020432571993216\n"
     ]
    },
    {
     "name": "stderr",
     "output_type": "stream",
     "text": [
      " 90%|█████████ | 90/100 [15:25<01:39,  9.96s/it]"
     ]
    },
    {
     "name": "stdout",
     "output_type": "stream",
     "text": [
      "Training Accuracy: 95.76154806491886\n",
      "Validation Results for epoch: 90 of 100\n",
      "Validation Loss: 0.12007928330964383\n",
      "Validation Accuracy: 95.57239057239057\n",
      "\n",
      "----------- Epoch: 91 of 100 -----------\n",
      "\n",
      "Training Results for epoch: 91 of 100\n",
      "Training Loss: 0.05604978619079652\n"
     ]
    },
    {
     "name": "stderr",
     "output_type": "stream",
     "text": [
      " 91%|█████████ | 91/100 [15:34<01:28,  9.86s/it]"
     ]
    },
    {
     "name": "stdout",
     "output_type": "stream",
     "text": [
      "Training Accuracy: 98.00873907615481\n",
      "Validation Results for epoch: 91 of 100\n",
      "Validation Loss: 0.06172966171571248\n",
      "Validation Accuracy: 97.72727272727273\n",
      "\n",
      "----------- Epoch: 92 of 100 -----------\n",
      "\n",
      "Training Results for epoch: 92 of 100\n",
      "Training Loss: 0.06473695191438862\n",
      "Training Accuracy: 97.66125676238036\n",
      "Validation Results for epoch: 92 of 100\n",
      "Validation Loss: 0.07522114863578\n"
     ]
    },
    {
     "name": "stderr",
     "output_type": "stream",
     "text": [
      " 92%|█████████▏| 92/100 [15:44<01:18,  9.82s/it]"
     ]
    },
    {
     "name": "stdout",
     "output_type": "stream",
     "text": [
      "Validation Accuracy: 97.49158249158249\n",
      "\n",
      "----------- Epoch: 93 of 100 -----------\n",
      "\n",
      "Training Results for epoch: 93 of 100\n",
      "Training Loss: 0.0802001040048217\n"
     ]
    },
    {
     "name": "stderr",
     "output_type": "stream",
     "text": [
      " 93%|█████████▎| 93/100 [15:53<01:06,  9.45s/it]"
     ]
    },
    {
     "name": "stdout",
     "output_type": "stream",
     "text": [
      "Training Accuracy: 97.08905534748232\n",
      "Validation Results for epoch: 93 of 100\n",
      "Validation Loss: 0.08846169640219145\n",
      "Validation Accuracy: 97.17171717171718\n",
      "\n",
      "----------- Epoch: 94 of 100 -----------\n",
      "\n",
      "Training Results for epoch: 94 of 100\n",
      "Training Loss: 0.06759489415966925\n"
     ]
    },
    {
     "name": "stderr",
     "output_type": "stream",
     "text": [
      " 94%|█████████▍| 94/100 [16:02<00:56,  9.39s/it]"
     ]
    },
    {
     "name": "stdout",
     "output_type": "stream",
     "text": [
      "Training Accuracy: 97.44694132334581\n",
      "Validation Results for epoch: 94 of 100\n",
      "Validation Loss: 0.08069266068012049\n",
      "Validation Accuracy: 96.86868686868686\n",
      "\n",
      "----------- Epoch: 95 of 100 -----------\n",
      "\n",
      "Training Results for epoch: 95 of 100\n",
      "Training Loss: 0.06737441966814699\n",
      "Training Accuracy: 97.68622555139409\n",
      "Validation Results for epoch: 95 of 100\n",
      "Validation Loss: 0.0777326362181853\n"
     ]
    },
    {
     "name": "stderr",
     "output_type": "stream",
     "text": [
      " 95%|█████████▌| 95/100 [16:11<00:46,  9.35s/it]"
     ]
    },
    {
     "name": "stdout",
     "output_type": "stream",
     "text": [
      "Validation Accuracy: 97.07070707070707\n",
      "\n",
      "----------- Epoch: 96 of 100 -----------\n",
      "\n",
      "Training Results for epoch: 96 of 100\n",
      "Training Loss: 0.06570738860613455\n"
     ]
    },
    {
     "name": "stderr",
     "output_type": "stream",
     "text": [
      " 96%|█████████▌| 96/100 [16:22<00:38,  9.74s/it]"
     ]
    },
    {
     "name": "stdout",
     "output_type": "stream",
     "text": [
      "Training Accuracy: 97.55513940907198\n",
      "Validation Results for epoch: 96 of 100\n",
      "Validation Loss: 0.0778929060566117\n",
      "Validation Accuracy: 96.88552188552188\n",
      "\n",
      "----------- Epoch: 97 of 100 -----------\n",
      "\n",
      "Training Results for epoch: 97 of 100\n",
      "Training Loss: 0.08600061099771057\n"
     ]
    },
    {
     "name": "stderr",
     "output_type": "stream",
     "text": [
      " 97%|█████████▋| 97/100 [16:30<00:27,  9.23s/it]"
     ]
    },
    {
     "name": "stdout",
     "output_type": "stream",
     "text": [
      "Training Accuracy: 96.87682064086557\n",
      "Validation Results for epoch: 97 of 100\n",
      "Validation Loss: 0.1065154805002971\n",
      "Validation Accuracy: 96.1952861952862\n",
      "\n",
      "----------- Epoch: 98 of 100 -----------\n",
      "\n",
      "Training Results for epoch: 98 of 100\n",
      "Training Loss: 0.0571224174745388\n",
      "Training Accuracy: 97.90054099042862\n",
      "Validation Results for epoch: 98 of 100\n",
      "Validation Loss: 0.06414380383174813\n"
     ]
    },
    {
     "name": "stderr",
     "output_type": "stream",
     "text": [
      " 98%|█████████▊| 98/100 [16:40<00:18,  9.49s/it]"
     ]
    },
    {
     "name": "stdout",
     "output_type": "stream",
     "text": [
      "Validation Accuracy: 97.5925925925926\n",
      "\n",
      "----------- Epoch: 99 of 100 -----------\n",
      "\n",
      "Training Results for epoch: 99 of 100\n",
      "Training Loss: 0.060030500681698885\n",
      "Training Accuracy: 97.73616312942156\n",
      "Validation Results for epoch: 99 of 100\n",
      "Validation Loss: 0.05816814580099681\n"
     ]
    },
    {
     "name": "stderr",
     "output_type": "stream",
     "text": [
      " 99%|█████████▉| 99/100 [16:52<00:10, 10.24s/it]"
     ]
    },
    {
     "name": "stdout",
     "output_type": "stream",
     "text": [
      "Validation Accuracy: 97.71043771043772\n",
      "\n",
      "----------- Epoch: 100 of 100 -----------\n",
      "\n",
      "Training Results for epoch: 100 of 100\n",
      "Training Loss: 0.07517487984032123\n"
     ]
    },
    {
     "name": "stderr",
     "output_type": "stream",
     "text": [
      "100%|██████████| 100/100 [17:04<00:00, 10.24s/it]"
     ]
    },
    {
     "name": "stdout",
     "output_type": "stream",
     "text": [
      "Training Accuracy: 97.23054515189347\n",
      "Validation Results for epoch: 100 of 100\n",
      "Validation Loss: 0.0713409377629896\n",
      "Validation Accuracy: 97.22222222222221\n"
     ]
    },
    {
     "name": "stderr",
     "output_type": "stream",
     "text": [
      "\n"
     ]
    },
    {
     "data": {
      "text/plain": [
       "<__main__.MyNeuralNetwork at 0x103e617f0>"
      ]
     },
     "execution_count": 36,
     "metadata": {},
     "output_type": "execute_result"
    }
   ],
   "source": [
    "#Training using Tanh Activation function\n",
    "nn2 = MyNeuralNetwork(n_layers=3, layer_sizes=[256, 128, 64], learning_rate=0.1, num_epochs=100, batch_size=32, weight_init='normal', activation=\"tanh\")\n",
    "nn2.fit(np.array(mnist_train_flat, dtype='float32'), nn2.one_hot_encode(mnist_train_labels.astype(int),10))"
   ]
  },
  {
   "cell_type": "code",
   "execution_count": 37,
   "metadata": {},
   "outputs": [
    {
     "name": "stderr",
     "output_type": "stream",
     "text": [
      "  0%|          | 0/100 [00:00<?, ?it/s]"
     ]
    },
    {
     "name": "stdout",
     "output_type": "stream",
     "text": [
      "\n",
      "----------- Epoch: 1 of 100 -----------\n",
      "\n",
      "Training Results for epoch: 1 of 100\n",
      "Training Loss: 2.305696110137466\n"
     ]
    },
    {
     "name": "stderr",
     "output_type": "stream",
     "text": [
      "  1%|          | 1/100 [00:14<24:19, 14.74s/it]"
     ]
    },
    {
     "name": "stdout",
     "output_type": "stream",
     "text": [
      "Training Accuracy: 9.956304619225968\n",
      "Validation Results for epoch: 1 of 100\n",
      "Validation Loss: 2.307465263129674\n",
      "Validation Accuracy: 10.0\n",
      "\n",
      "----------- Epoch: 2 of 100 -----------\n",
      "\n",
      "Training Results for epoch: 2 of 100\n",
      "Training Loss: 2.304471219469107\n",
      "Training Accuracy: 9.889721181856013\n",
      "Validation Results for epoch: 2 of 100\n",
      "Validation Loss: 2.3038857159099235\n"
     ]
    },
    {
     "name": "stderr",
     "output_type": "stream",
     "text": [
      "  2%|▏         | 2/100 [00:24<19:13, 11.77s/it]"
     ]
    },
    {
     "name": "stdout",
     "output_type": "stream",
     "text": [
      "Validation Accuracy: 10.707070707070706\n",
      "\n",
      "----------- Epoch: 3 of 100 -----------\n",
      "\n",
      "Training Results for epoch: 3 of 100\n",
      "Training Loss: 2.3057038496355817\n",
      "Training Accuracy: 9.86475239284228\n",
      "Validation Results for epoch: 3 of 100\n",
      "Validation Loss: 2.3038939804775094\n"
     ]
    },
    {
     "name": "stderr",
     "output_type": "stream",
     "text": [
      "  3%|▎         | 3/100 [00:34<17:42, 10.96s/it]"
     ]
    },
    {
     "name": "stdout",
     "output_type": "stream",
     "text": [
      "Validation Accuracy: 10.74074074074074\n",
      "\n",
      "----------- Epoch: 4 of 100 -----------\n",
      "\n",
      "Training Results for epoch: 4 of 100\n",
      "Training Loss: 2.303678096360134\n"
     ]
    },
    {
     "name": "stderr",
     "output_type": "stream",
     "text": [
      "  4%|▍         | 4/100 [00:46<18:05, 11.31s/it]"
     ]
    },
    {
     "name": "stdout",
     "output_type": "stream",
     "text": [
      "Training Accuracy: 9.870994590095714\n",
      "Validation Results for epoch: 4 of 100\n",
      "Validation Loss: 2.302195437612386\n",
      "Validation Accuracy: 10.909090909090908\n",
      "\n",
      "----------- Epoch: 5 of 100 -----------\n",
      "\n",
      "Training Results for epoch: 5 of 100\n",
      "Training Loss: 2.2986634403350124\n"
     ]
    },
    {
     "name": "stderr",
     "output_type": "stream",
     "text": [
      "  5%|▌         | 5/100 [00:57<17:40, 11.17s/it]"
     ]
    },
    {
     "name": "stdout",
     "output_type": "stream",
     "text": [
      "Training Accuracy: 10.006242197253433\n",
      "Validation Results for epoch: 5 of 100\n",
      "Validation Loss: 2.29972673887638\n",
      "Validation Accuracy: 9.494949494949495\n",
      "\n",
      "----------- Epoch: 6 of 100 -----------\n",
      "\n",
      "Training Results for epoch: 6 of 100\n",
      "Training Loss: 2.174966631236878\n",
      "Training Accuracy: 17.696629213483146\n",
      "Validation Results for epoch: 6 of 100\n",
      "Validation Loss: 2.1778358870117334\n"
     ]
    },
    {
     "name": "stderr",
     "output_type": "stream",
     "text": [
      "  6%|▌         | 6/100 [01:09<17:51, 11.39s/it]"
     ]
    },
    {
     "name": "stdout",
     "output_type": "stream",
     "text": [
      "Validation Accuracy: 17.053872053872055\n",
      "\n",
      "----------- Epoch: 7 of 100 -----------\n",
      "\n",
      "Training Results for epoch: 7 of 100\n",
      "Training Loss: 1.6273363990219665\n"
     ]
    },
    {
     "name": "stderr",
     "output_type": "stream",
     "text": [
      "  7%|▋         | 7/100 [01:18<16:33, 10.68s/it]"
     ]
    },
    {
     "name": "stdout",
     "output_type": "stream",
     "text": [
      "Training Accuracy: 29.490220557636288\n",
      "Validation Results for epoch: 7 of 100\n",
      "Validation Loss: 1.6314486833850197\n",
      "Validation Accuracy: 28.484848484848484\n",
      "\n",
      "----------- Epoch: 8 of 100 -----------\n",
      "\n",
      "Training Results for epoch: 8 of 100\n",
      "Training Loss: 1.5268323026691675\n"
     ]
    },
    {
     "name": "stderr",
     "output_type": "stream",
     "text": [
      "  8%|▊         | 8/100 [01:26<15:21, 10.02s/it]"
     ]
    },
    {
     "name": "stdout",
     "output_type": "stream",
     "text": [
      "Training Accuracy: 38.414481897627965\n",
      "Validation Results for epoch: 8 of 100\n",
      "Validation Loss: 1.5270867434247402\n",
      "Validation Accuracy: 38.78787878787879\n",
      "\n",
      "----------- Epoch: 9 of 100 -----------\n",
      "\n",
      "Training Results for epoch: 9 of 100\n",
      "Training Loss: 1.3141141976892174\n",
      "Training Accuracy: 48.08988764044943\n",
      "Validation Results for epoch: 9 of 100\n",
      "Validation Loss: 1.3074964075708568\n"
     ]
    },
    {
     "name": "stderr",
     "output_type": "stream",
     "text": [
      "  9%|▉         | 9/100 [01:35<14:27,  9.54s/it]"
     ]
    },
    {
     "name": "stdout",
     "output_type": "stream",
     "text": [
      "Validation Accuracy: 48.602693602693606\n",
      "\n",
      "----------- Epoch: 10 of 100 -----------\n",
      "\n",
      "Training Results for epoch: 10 of 100\n",
      "Training Loss: 1.078821513689479\n"
     ]
    },
    {
     "name": "stderr",
     "output_type": "stream",
     "text": [
      " 10%|█         | 10/100 [01:42<13:23,  8.93s/it]"
     ]
    },
    {
     "name": "stdout",
     "output_type": "stream",
     "text": [
      "Training Accuracy: 57.099459009571376\n",
      "Validation Results for epoch: 10 of 100\n",
      "Validation Loss: 1.0762766366056968\n",
      "Validation Accuracy: 57.28956228956229\n",
      "\n",
      "----------- Epoch: 11 of 100 -----------\n",
      "\n",
      "Training Results for epoch: 11 of 100\n",
      "Training Loss: 0.9324981762479524\n"
     ]
    },
    {
     "name": "stderr",
     "output_type": "stream",
     "text": [
      " 11%|█         | 11/100 [01:50<12:35,  8.48s/it]"
     ]
    },
    {
     "name": "stdout",
     "output_type": "stream",
     "text": [
      "Training Accuracy: 63.2147315855181\n",
      "Validation Results for epoch: 11 of 100\n",
      "Validation Loss: 0.9260317187623864\n",
      "Validation Accuracy: 63.400673400673405\n",
      "\n",
      "----------- Epoch: 12 of 100 -----------\n",
      "\n",
      "Training Results for epoch: 12 of 100\n",
      "Training Loss: 0.8286977586758701\n",
      "Training Accuracy: 69.82729920932168\n",
      "Validation Results for epoch: 12 of 100\n",
      "Validation Loss: 0.8304958279258008\n"
     ]
    },
    {
     "name": "stderr",
     "output_type": "stream",
     "text": [
      " 12%|█▏        | 12/100 [01:58<12:07,  8.26s/it]"
     ]
    },
    {
     "name": "stdout",
     "output_type": "stream",
     "text": [
      "Validation Accuracy: 70.25252525252526\n",
      "\n",
      "----------- Epoch: 13 of 100 -----------\n",
      "\n",
      "Training Results for epoch: 13 of 100\n",
      "Training Loss: 0.7659197895113293\n"
     ]
    },
    {
     "name": "stderr",
     "output_type": "stream",
     "text": [
      " 13%|█▎        | 13/100 [02:07<12:25,  8.57s/it]"
     ]
    },
    {
     "name": "stdout",
     "output_type": "stream",
     "text": [
      "Training Accuracy: 72.0869746150645\n",
      "Validation Results for epoch: 13 of 100\n",
      "Validation Loss: 0.7715102483204825\n",
      "Validation Accuracy: 72.23905723905723\n",
      "\n",
      "----------- Epoch: 14 of 100 -----------\n",
      "\n",
      "Training Results for epoch: 14 of 100\n",
      "Training Loss: 0.6947718978665727\n"
     ]
    },
    {
     "name": "stderr",
     "output_type": "stream",
     "text": [
      " 14%|█▍        | 14/100 [02:16<12:27,  8.69s/it]"
     ]
    },
    {
     "name": "stdout",
     "output_type": "stream",
     "text": [
      "Training Accuracy: 73.44361215147732\n",
      "Validation Results for epoch: 14 of 100\n",
      "Validation Loss: 0.6997892520246156\n",
      "Validation Accuracy: 72.67676767676767\n",
      "\n",
      "----------- Epoch: 15 of 100 -----------\n",
      "\n",
      "Training Results for epoch: 15 of 100\n",
      "Training Loss: 0.6270121967294137\n"
     ]
    },
    {
     "name": "stderr",
     "output_type": "stream",
     "text": [
      " 15%|█▌        | 15/100 [02:24<12:08,  8.57s/it]"
     ]
    },
    {
     "name": "stdout",
     "output_type": "stream",
     "text": [
      "Training Accuracy: 77.28464419475655\n",
      "Validation Results for epoch: 15 of 100\n",
      "Validation Loss: 0.6363533377328005\n",
      "Validation Accuracy: 76.86868686868686\n",
      "\n",
      "----------- Epoch: 16 of 100 -----------\n",
      "\n",
      "Training Results for epoch: 16 of 100\n",
      "Training Loss: 0.5917002826101347\n"
     ]
    },
    {
     "name": "stderr",
     "output_type": "stream",
     "text": [
      " 16%|█▌        | 16/100 [02:33<12:10,  8.69s/it]"
     ]
    },
    {
     "name": "stdout",
     "output_type": "stream",
     "text": [
      "Training Accuracy: 77.67790262172285\n",
      "Validation Results for epoch: 16 of 100\n",
      "Validation Loss: 0.5953178516204852\n",
      "Validation Accuracy: 77.8114478114478\n",
      "\n",
      "----------- Epoch: 17 of 100 -----------\n",
      "\n",
      "Training Results for epoch: 17 of 100\n",
      "Training Loss: 0.5329062539250822\n",
      "Training Accuracy: 80.53058676654182\n",
      "Validation Results for epoch: 17 of 100\n",
      "Validation Loss: 0.5374022447532639\n"
     ]
    },
    {
     "name": "stderr",
     "output_type": "stream",
     "text": [
      " 17%|█▋        | 17/100 [02:42<12:02,  8.70s/it]"
     ]
    },
    {
     "name": "stdout",
     "output_type": "stream",
     "text": [
      "Validation Accuracy: 80.26936026936026\n",
      "\n",
      "----------- Epoch: 18 of 100 -----------\n",
      "\n",
      "Training Results for epoch: 18 of 100\n",
      "Training Loss: 0.5289696622622455\n"
     ]
    },
    {
     "name": "stderr",
     "output_type": "stream",
     "text": [
      " 18%|█▊        | 18/100 [02:51<12:03,  8.82s/it]"
     ]
    },
    {
     "name": "stdout",
     "output_type": "stream",
     "text": [
      "Training Accuracy: 81.8789013732834\n",
      "Validation Results for epoch: 18 of 100\n",
      "Validation Loss: 0.5356474729297463\n",
      "Validation Accuracy: 82.003367003367\n",
      "\n",
      "----------- Epoch: 19 of 100 -----------\n",
      "\n",
      "Training Results for epoch: 19 of 100\n",
      "Training Loss: 0.49383237443189903\n"
     ]
    },
    {
     "name": "stderr",
     "output_type": "stream",
     "text": [
      " 19%|█▉        | 19/100 [02:59<11:30,  8.53s/it]"
     ]
    },
    {
     "name": "stdout",
     "output_type": "stream",
     "text": [
      "Training Accuracy: 82.86516853932584\n",
      "Validation Results for epoch: 19 of 100\n",
      "Validation Loss: 0.5114805649002803\n",
      "Validation Accuracy: 82.08754208754209\n",
      "\n",
      "----------- Epoch: 20 of 100 -----------\n",
      "\n",
      "Training Results for epoch: 20 of 100\n",
      "Training Loss: 0.4791698260834239\n",
      "Training Accuracy: 83.006658343737\n",
      "Validation Results for epoch: 20 of 100\n",
      "Validation Loss: 0.48174419480543706\n"
     ]
    },
    {
     "name": "stderr",
     "output_type": "stream",
     "text": [
      " 20%|██        | 20/100 [03:06<11:02,  8.28s/it]"
     ]
    },
    {
     "name": "stdout",
     "output_type": "stream",
     "text": [
      "Validation Accuracy: 82.996632996633\n",
      "\n",
      "----------- Epoch: 21 of 100 -----------\n",
      "\n",
      "Training Results for epoch: 21 of 100\n",
      "Training Loss: 0.45342182486110383\n"
     ]
    },
    {
     "name": "stderr",
     "output_type": "stream",
     "text": [
      " 21%|██        | 21/100 [03:17<11:41,  8.89s/it]"
     ]
    },
    {
     "name": "stdout",
     "output_type": "stream",
     "text": [
      "Training Accuracy: 84.21556387848523\n",
      "Validation Results for epoch: 21 of 100\n",
      "Validation Loss: 0.4589594666129868\n",
      "Validation Accuracy: 83.95622895622895\n",
      "\n",
      "----------- Epoch: 22 of 100 -----------\n",
      "\n",
      "Training Results for epoch: 22 of 100\n",
      "Training Loss: 0.4269988326748375\n"
     ]
    },
    {
     "name": "stderr",
     "output_type": "stream",
     "text": [
      " 22%|██▏       | 22/100 [03:25<11:28,  8.83s/it]"
     ]
    },
    {
     "name": "stdout",
     "output_type": "stream",
     "text": [
      "Training Accuracy: 85.1123595505618\n",
      "Validation Results for epoch: 22 of 100\n",
      "Validation Loss: 0.4176767094480208\n",
      "Validation Accuracy: 85.15151515151516\n",
      "\n",
      "----------- Epoch: 23 of 100 -----------\n",
      "\n",
      "Training Results for epoch: 23 of 100\n",
      "Training Loss: 0.4801386169934661\n"
     ]
    },
    {
     "name": "stderr",
     "output_type": "stream",
     "text": [
      " 23%|██▎       | 23/100 [03:35<11:27,  8.93s/it]"
     ]
    },
    {
     "name": "stdout",
     "output_type": "stream",
     "text": [
      "Training Accuracy: 82.75072825634624\n",
      "Validation Results for epoch: 23 of 100\n",
      "Validation Loss: 0.46725497593980553\n",
      "Validation Accuracy: 83.4006734006734\n",
      "\n",
      "----------- Epoch: 24 of 100 -----------\n",
      "\n",
      "Training Results for epoch: 24 of 100\n",
      "Training Loss: 0.42797813791726386\n"
     ]
    },
    {
     "name": "stderr",
     "output_type": "stream",
     "text": [
      " 24%|██▍       | 24/100 [03:42<10:49,  8.55s/it]"
     ]
    },
    {
     "name": "stdout",
     "output_type": "stream",
     "text": [
      "Training Accuracy: 84.92717436537662\n",
      "Validation Results for epoch: 24 of 100\n",
      "Validation Loss: 0.4324163650317922\n",
      "Validation Accuracy: 85.18518518518519\n",
      "\n",
      "----------- Epoch: 25 of 100 -----------\n",
      "\n",
      "Training Results for epoch: 25 of 100\n",
      "Training Loss: 0.39090922358017083\n"
     ]
    },
    {
     "name": "stderr",
     "output_type": "stream",
     "text": [
      " 25%|██▌       | 25/100 [03:51<10:50,  8.67s/it]"
     ]
    },
    {
     "name": "stdout",
     "output_type": "stream",
     "text": [
      "Training Accuracy: 86.45859342488555\n",
      "Validation Results for epoch: 25 of 100\n",
      "Validation Loss: 0.3792640286292508\n",
      "Validation Accuracy: 86.88552188552188\n",
      "\n",
      "----------- Epoch: 26 of 100 -----------\n",
      "\n",
      "Training Results for epoch: 26 of 100\n",
      "Training Loss: 0.40823867200484326\n"
     ]
    },
    {
     "name": "stderr",
     "output_type": "stream",
     "text": [
      " 26%|██▌       | 26/100 [04:00<10:48,  8.76s/it]"
     ]
    },
    {
     "name": "stdout",
     "output_type": "stream",
     "text": [
      "Training Accuracy: 85.43071161048688\n",
      "Validation Results for epoch: 26 of 100\n",
      "Validation Loss: 0.43333800927434785\n",
      "Validation Accuracy: 84.4949494949495\n",
      "\n",
      "----------- Epoch: 27 of 100 -----------\n",
      "\n",
      "Training Results for epoch: 27 of 100\n",
      "Training Loss: 0.3899314548769252\n"
     ]
    },
    {
     "name": "stderr",
     "output_type": "stream",
     "text": [
      " 27%|██▋       | 27/100 [04:08<10:14,  8.41s/it]"
     ]
    },
    {
     "name": "stdout",
     "output_type": "stream",
     "text": [
      "Training Accuracy: 86.20890553474824\n",
      "Validation Results for epoch: 27 of 100\n",
      "Validation Loss: 0.3984531122561362\n",
      "Validation Accuracy: 86.01010101010101\n",
      "\n",
      "----------- Epoch: 28 of 100 -----------\n",
      "\n",
      "Training Results for epoch: 28 of 100\n",
      "Training Loss: 0.36924346996794355\n",
      "Training Accuracy: 86.96004993757803\n",
      "Validation Results for epoch: 28 of 100\n",
      "Validation Loss: 0.3753322249743989\n"
     ]
    },
    {
     "name": "stderr",
     "output_type": "stream",
     "text": [
      " 28%|██▊       | 28/100 [04:16<09:55,  8.27s/it]"
     ]
    },
    {
     "name": "stdout",
     "output_type": "stream",
     "text": [
      "Validation Accuracy: 86.85185185185185\n",
      "\n",
      "----------- Epoch: 29 of 100 -----------\n",
      "\n",
      "Training Results for epoch: 29 of 100\n",
      "Training Loss: 0.35870810459855135\n"
     ]
    },
    {
     "name": "stderr",
     "output_type": "stream",
     "text": [
      " 29%|██▉       | 29/100 [04:24<09:46,  8.26s/it]"
     ]
    },
    {
     "name": "stdout",
     "output_type": "stream",
     "text": [
      "Training Accuracy: 87.28880565959217\n",
      "Validation Results for epoch: 29 of 100\n",
      "Validation Loss: 0.3669016806379032\n",
      "Validation Accuracy: 87.1885521885522\n",
      "\n",
      "----------- Epoch: 30 of 100 -----------\n",
      "\n",
      "Training Results for epoch: 30 of 100\n",
      "Training Loss: 0.35416241890389366\n"
     ]
    },
    {
     "name": "stderr",
     "output_type": "stream",
     "text": [
      " 30%|███       | 30/100 [04:32<09:27,  8.11s/it]"
     ]
    },
    {
     "name": "stdout",
     "output_type": "stream",
     "text": [
      "Training Accuracy: 87.5010403662089\n",
      "Validation Results for epoch: 30 of 100\n",
      "Validation Loss: 0.36128317183237574\n",
      "Validation Accuracy: 87.37373737373737\n",
      "\n",
      "----------- Epoch: 31 of 100 -----------\n",
      "\n",
      "Training Results for epoch: 31 of 100\n",
      "Training Loss: 0.3900269358236256\n"
     ]
    },
    {
     "name": "stderr",
     "output_type": "stream",
     "text": [
      " 31%|███       | 31/100 [04:40<09:14,  8.03s/it]"
     ]
    },
    {
     "name": "stdout",
     "output_type": "stream",
     "text": [
      "Training Accuracy: 85.8822305451519\n",
      "Validation Results for epoch: 31 of 100\n",
      "Validation Loss: 0.401964921138724\n",
      "Validation Accuracy: 85.3030303030303\n",
      "\n",
      "----------- Epoch: 32 of 100 -----------\n",
      "\n",
      "Training Results for epoch: 32 of 100\n",
      "Training Loss: 0.3467494510667794\n"
     ]
    },
    {
     "name": "stderr",
     "output_type": "stream",
     "text": [
      " 32%|███▏      | 32/100 [04:49<09:24,  8.31s/it]"
     ]
    },
    {
     "name": "stdout",
     "output_type": "stream",
     "text": [
      "Training Accuracy: 87.8755722014149\n",
      "Validation Results for epoch: 32 of 100\n",
      "Validation Loss: 0.34629560981577034\n",
      "Validation Accuracy: 87.96296296296296\n",
      "\n",
      "----------- Epoch: 33 of 100 -----------\n",
      "\n",
      "Training Results for epoch: 33 of 100\n",
      "Training Loss: 0.3430250076520392\n",
      "Training Accuracy: 87.84019975031211\n",
      "Validation Results for epoch: 33 of 100\n",
      "Validation Loss: 0.34863067437051243\n"
     ]
    },
    {
     "name": "stderr",
     "output_type": "stream",
     "text": [
      " 33%|███▎      | 33/100 [05:02<11:00,  9.86s/it]"
     ]
    },
    {
     "name": "stdout",
     "output_type": "stream",
     "text": [
      "Validation Accuracy: 87.87878787878788\n",
      "\n",
      "----------- Epoch: 34 of 100 -----------\n",
      "\n",
      "Training Results for epoch: 34 of 100\n",
      "Training Loss: 0.3245811529997067\n"
     ]
    },
    {
     "name": "stderr",
     "output_type": "stream",
     "text": [
      " 34%|███▍      | 34/100 [05:12<10:42,  9.74s/it]"
     ]
    },
    {
     "name": "stdout",
     "output_type": "stream",
     "text": [
      "Training Accuracy: 88.48522679983354\n",
      "Validation Results for epoch: 34 of 100\n",
      "Validation Loss: 0.34628160092117716\n",
      "Validation Accuracy: 87.92929292929294\n",
      "\n",
      "----------- Epoch: 35 of 100 -----------\n",
      "\n",
      "Training Results for epoch: 35 of 100\n",
      "Training Loss: 0.3253433897044489\n",
      "Training Accuracy: 88.51019558884727\n",
      "Validation Results for epoch: 35 of 100\n",
      "Validation Loss: 0.3108843093279106\n"
     ]
    },
    {
     "name": "stderr",
     "output_type": "stream",
     "text": [
      " 35%|███▌      | 35/100 [05:22<10:50, 10.01s/it]"
     ]
    },
    {
     "name": "stdout",
     "output_type": "stream",
     "text": [
      "Validation Accuracy: 88.87205387205387\n",
      "\n",
      "----------- Epoch: 36 of 100 -----------\n",
      "\n",
      "Training Results for epoch: 36 of 100\n",
      "Training Loss: 0.3141869518327616\n"
     ]
    },
    {
     "name": "stderr",
     "output_type": "stream",
     "text": [
      " 36%|███▌      | 36/100 [05:34<11:13, 10.53s/it]"
     ]
    },
    {
     "name": "stdout",
     "output_type": "stream",
     "text": [
      "Training Accuracy: 88.95755305867665\n",
      "Validation Results for epoch: 36 of 100\n",
      "Validation Loss: 0.3297000416165049\n",
      "Validation Accuracy: 88.0976430976431\n",
      "\n",
      "----------- Epoch: 37 of 100 -----------\n",
      "\n",
      "Training Results for epoch: 37 of 100\n",
      "Training Loss: 0.31441593040338256\n"
     ]
    },
    {
     "name": "stderr",
     "output_type": "stream",
     "text": [
      " 37%|███▋      | 37/100 [05:44<10:56, 10.42s/it]"
     ]
    },
    {
     "name": "stdout",
     "output_type": "stream",
     "text": [
      "Training Accuracy: 88.80357885975863\n",
      "Validation Results for epoch: 37 of 100\n",
      "Validation Loss: 0.34023190677735543\n",
      "Validation Accuracy: 87.7104377104377\n",
      "\n",
      "----------- Epoch: 38 of 100 -----------\n",
      "\n",
      "Training Results for epoch: 38 of 100\n",
      "Training Loss: 0.32046541443960286\n",
      "Training Accuracy: 88.58718268830629\n",
      "Validation Results for epoch: 38 of 100\n",
      "Validation Loss: 0.3216487530185427\n"
     ]
    },
    {
     "name": "stderr",
     "output_type": "stream",
     "text": [
      " 38%|███▊      | 38/100 [05:55<10:58, 10.62s/it]"
     ]
    },
    {
     "name": "stdout",
     "output_type": "stream",
     "text": [
      "Validation Accuracy: 88.35016835016835\n",
      "\n",
      "----------- Epoch: 39 of 100 -----------\n",
      "\n",
      "Training Results for epoch: 39 of 100\n",
      "Training Loss: 0.3051892488671611\n"
     ]
    },
    {
     "name": "stderr",
     "output_type": "stream",
     "text": [
      " 39%|███▉      | 39/100 [06:04<10:20, 10.16s/it]"
     ]
    },
    {
     "name": "stdout",
     "output_type": "stream",
     "text": [
      "Training Accuracy: 89.21972534332085\n",
      "Validation Results for epoch: 39 of 100\n",
      "Validation Loss: 0.3329279093865509\n",
      "Validation Accuracy: 88.1986531986532\n",
      "\n",
      "----------- Epoch: 40 of 100 -----------\n",
      "\n",
      "Training Results for epoch: 40 of 100\n",
      "Training Loss: 0.303890413700329\n"
     ]
    },
    {
     "name": "stderr",
     "output_type": "stream",
     "text": [
      " 40%|████      | 40/100 [06:13<09:47,  9.79s/it]"
     ]
    },
    {
     "name": "stdout",
     "output_type": "stream",
     "text": [
      "Training Accuracy: 89.0990428630878\n",
      "Validation Results for epoch: 40 of 100\n",
      "Validation Loss: 0.32216145208043934\n",
      "Validation Accuracy: 88.95622895622895\n",
      "\n",
      "----------- Epoch: 41 of 100 -----------\n",
      "\n",
      "Training Results for epoch: 41 of 100\n",
      "Training Loss: 0.30057265447054826\n",
      "Training Accuracy: 89.24053266749897\n",
      "Validation Results for epoch: 41 of 100\n",
      "Validation Loss: 0.29865356397704923\n"
     ]
    },
    {
     "name": "stderr",
     "output_type": "stream",
     "text": [
      " 41%|████      | 41/100 [06:23<09:39,  9.83s/it]"
     ]
    },
    {
     "name": "stdout",
     "output_type": "stream",
     "text": [
      "Validation Accuracy: 89.41077441077441\n",
      "\n",
      "----------- Epoch: 42 of 100 -----------\n",
      "\n",
      "Training Results for epoch: 42 of 100\n",
      "Training Loss: 0.30684756898008736\n",
      "Training Accuracy: 88.99708697461507\n",
      "Validation Results for epoch: 42 of 100\n",
      "Validation Loss: 0.30834222900660646\n"
     ]
    },
    {
     "name": "stderr",
     "output_type": "stream",
     "text": [
      " 42%|████▏     | 42/100 [06:33<09:29,  9.82s/it]"
     ]
    },
    {
     "name": "stdout",
     "output_type": "stream",
     "text": [
      "Validation Accuracy: 88.7878787878788\n",
      "\n",
      "----------- Epoch: 43 of 100 -----------\n",
      "\n",
      "Training Results for epoch: 43 of 100\n",
      "Training Loss: 0.2980280345120516\n"
     ]
    },
    {
     "name": "stderr",
     "output_type": "stream",
     "text": [
      " 43%|████▎     | 43/100 [06:42<09:06,  9.58s/it]"
     ]
    },
    {
     "name": "stdout",
     "output_type": "stream",
     "text": [
      "Training Accuracy: 89.28838951310861\n",
      "Validation Results for epoch: 43 of 100\n",
      "Validation Loss: 0.3076691690588278\n",
      "Validation Accuracy: 89.0909090909091\n",
      "\n",
      "----------- Epoch: 44 of 100 -----------\n",
      "\n",
      "Training Results for epoch: 44 of 100\n",
      "Training Loss: 0.2826783528385635\n"
     ]
    },
    {
     "name": "stderr",
     "output_type": "stream",
     "text": [
      " 44%|████▍     | 44/100 [06:50<08:37,  9.24s/it]"
     ]
    },
    {
     "name": "stdout",
     "output_type": "stream",
     "text": [
      "Training Accuracy: 89.95006242197253\n",
      "Validation Results for epoch: 44 of 100\n",
      "Validation Loss: 0.2851432349964052\n",
      "Validation Accuracy: 89.24242424242425\n",
      "\n",
      "----------- Epoch: 45 of 100 -----------\n",
      "\n",
      "Training Results for epoch: 45 of 100\n",
      "Training Loss: 0.2851252051502365\n"
     ]
    },
    {
     "name": "stderr",
     "output_type": "stream",
     "text": [
      " 45%|████▌     | 45/100 [06:58<08:09,  8.90s/it]"
     ]
    },
    {
     "name": "stdout",
     "output_type": "stream",
     "text": [
      "Training Accuracy: 89.74406991260923\n",
      "Validation Results for epoch: 45 of 100\n",
      "Validation Loss: 0.28763147314972676\n",
      "Validation Accuracy: 89.74747474747474\n",
      "\n",
      "----------- Epoch: 46 of 100 -----------\n",
      "\n",
      "Training Results for epoch: 46 of 100\n",
      "Training Loss: 0.30121872001043365\n"
     ]
    },
    {
     "name": "stderr",
     "output_type": "stream",
     "text": [
      " 46%|████▌     | 46/100 [07:08<08:05,  8.99s/it]"
     ]
    },
    {
     "name": "stdout",
     "output_type": "stream",
     "text": [
      "Training Accuracy: 89.09696213067\n",
      "Validation Results for epoch: 46 of 100\n",
      "Validation Loss: 0.3072874944075761\n",
      "Validation Accuracy: 88.53535353535354\n",
      "\n",
      "----------- Epoch: 47 of 100 -----------\n",
      "\n",
      "Training Results for epoch: 47 of 100\n",
      "Training Loss: 0.30238720985281264\n"
     ]
    },
    {
     "name": "stderr",
     "output_type": "stream",
     "text": [
      " 47%|████▋     | 47/100 [07:17<08:03,  9.12s/it]"
     ]
    },
    {
     "name": "stdout",
     "output_type": "stream",
     "text": [
      "Training Accuracy: 89.0615896795672\n",
      "Validation Results for epoch: 47 of 100\n",
      "Validation Loss: 0.3145879056359425\n",
      "Validation Accuracy: 88.53535353535354\n",
      "\n",
      "----------- Epoch: 48 of 100 -----------\n",
      "\n",
      "Training Results for epoch: 48 of 100\n",
      "Training Loss: 0.2770279561861394\n"
     ]
    },
    {
     "name": "stderr",
     "output_type": "stream",
     "text": [
      " 48%|████▊     | 48/100 [07:26<07:52,  9.09s/it]"
     ]
    },
    {
     "name": "stdout",
     "output_type": "stream",
     "text": [
      "Training Accuracy: 89.97503121098627\n",
      "Validation Results for epoch: 48 of 100\n",
      "Validation Loss: 0.2720369710625397\n",
      "Validation Accuracy: 90.21885521885523\n",
      "\n",
      "----------- Epoch: 49 of 100 -----------\n",
      "\n",
      "Training Results for epoch: 49 of 100\n",
      "Training Loss: 0.2707568235218179\n",
      "Training Accuracy: 90.31210986267166\n",
      "Validation Results for epoch: 49 of 100\n",
      "Validation Loss: 0.2943034033691861\n"
     ]
    },
    {
     "name": "stderr",
     "output_type": "stream",
     "text": [
      " 49%|████▉     | 49/100 [07:36<07:54,  9.30s/it]"
     ]
    },
    {
     "name": "stdout",
     "output_type": "stream",
     "text": [
      "Validation Accuracy: 89.4949494949495\n",
      "\n",
      "----------- Epoch: 50 of 100 -----------\n",
      "\n",
      "Training Results for epoch: 50 of 100\n",
      "Training Loss: 0.26932365811889225\n"
     ]
    },
    {
     "name": "stderr",
     "output_type": "stream",
     "text": [
      " 50%|█████     | 50/100 [07:45<07:48,  9.37s/it]"
     ]
    },
    {
     "name": "stdout",
     "output_type": "stream",
     "text": [
      "Training Accuracy: 90.2267998335414\n",
      "Validation Results for epoch: 50 of 100\n",
      "Validation Loss: 0.2609438483924775\n",
      "Validation Accuracy: 90.8080808080808\n",
      "\n",
      "----------- Epoch: 51 of 100 -----------\n",
      "\n",
      "Training Results for epoch: 51 of 100\n",
      "Training Loss: 0.279443549442958\n"
     ]
    },
    {
     "name": "stderr",
     "output_type": "stream",
     "text": [
      " 51%|█████     | 51/100 [07:55<07:39,  9.38s/it]"
     ]
    },
    {
     "name": "stdout",
     "output_type": "stream",
     "text": [
      "Training Accuracy: 89.83978360382855\n",
      "Validation Results for epoch: 51 of 100\n",
      "Validation Loss: 0.2923006463269799\n",
      "Validation Accuracy: 89.25925925925927\n",
      "\n",
      "----------- Epoch: 52 of 100 -----------\n",
      "\n",
      "Training Results for epoch: 52 of 100\n",
      "Training Loss: 0.26241407231079833\n"
     ]
    },
    {
     "name": "stderr",
     "output_type": "stream",
     "text": [
      " 52%|█████▏    | 52/100 [08:03<07:10,  8.96s/it]"
     ]
    },
    {
     "name": "stdout",
     "output_type": "stream",
     "text": [
      "Training Accuracy: 90.56179775280899\n",
      "Validation Results for epoch: 52 of 100\n",
      "Validation Loss: 0.2719278224601166\n",
      "Validation Accuracy: 90.16835016835016\n",
      "\n",
      "----------- Epoch: 53 of 100 -----------\n",
      "\n",
      "Training Results for epoch: 53 of 100\n",
      "Training Loss: 0.26256584709063\n"
     ]
    },
    {
     "name": "stderr",
     "output_type": "stream",
     "text": [
      " 53%|█████▎    | 53/100 [08:12<07:05,  9.05s/it]"
     ]
    },
    {
     "name": "stdout",
     "output_type": "stream",
     "text": [
      "Training Accuracy: 90.47856845609654\n",
      "Validation Results for epoch: 53 of 100\n",
      "Validation Loss: 0.2745846493852561\n",
      "Validation Accuracy: 90.01683501683502\n",
      "\n",
      "----------- Epoch: 54 of 100 -----------\n",
      "\n",
      "Training Results for epoch: 54 of 100\n",
      "Training Loss: 0.2566528702415869\n",
      "Training Accuracy: 90.79692051602164\n",
      "Validation Results for epoch: 54 of 100\n",
      "Validation Loss: 0.27366160575278725\n"
     ]
    },
    {
     "name": "stderr",
     "output_type": "stream",
     "text": [
      " 54%|█████▍    | 54/100 [08:22<07:01,  9.17s/it]"
     ]
    },
    {
     "name": "stdout",
     "output_type": "stream",
     "text": [
      "Validation Accuracy: 90.25252525252525\n",
      "\n",
      "----------- Epoch: 55 of 100 -----------\n",
      "\n",
      "Training Results for epoch: 55 of 100\n",
      "Training Loss: 0.2719170537930251\n"
     ]
    },
    {
     "name": "stderr",
     "output_type": "stream",
     "text": [
      " 55%|█████▌    | 55/100 [08:31<06:51,  9.14s/it]"
     ]
    },
    {
     "name": "stdout",
     "output_type": "stream",
     "text": [
      "Training Accuracy: 90.28922180607573\n",
      "Validation Results for epoch: 55 of 100\n",
      "Validation Loss: 0.27895891289063385\n",
      "Validation Accuracy: 89.93265993265993\n",
      "\n",
      "----------- Epoch: 56 of 100 -----------\n",
      "\n",
      "Training Results for epoch: 56 of 100\n",
      "Training Loss: 0.2812668943443664\n",
      "Training Accuracy: 89.84186433624636\n",
      "Validation Results for epoch: 56 of 100\n",
      "Validation Loss: 0.2916538725486259\n"
     ]
    },
    {
     "name": "stderr",
     "output_type": "stream",
     "text": [
      " 56%|█████▌    | 56/100 [08:40<06:47,  9.27s/it]"
     ]
    },
    {
     "name": "stdout",
     "output_type": "stream",
     "text": [
      "Validation Accuracy: 89.27609427609427\n",
      "\n",
      "----------- Epoch: 57 of 100 -----------\n",
      "\n",
      "Training Results for epoch: 57 of 100\n",
      "Training Loss: 0.2518163290404244\n"
     ]
    },
    {
     "name": "stderr",
     "output_type": "stream",
     "text": [
      " 57%|█████▋    | 57/100 [08:50<06:42,  9.36s/it]"
     ]
    },
    {
     "name": "stdout",
     "output_type": "stream",
     "text": [
      "Training Accuracy: 90.99875156054932\n",
      "Validation Results for epoch: 57 of 100\n",
      "Validation Loss: 0.25216963677777426\n",
      "Validation Accuracy: 90.95959595959596\n",
      "\n",
      "----------- Epoch: 58 of 100 -----------\n",
      "\n",
      "Training Results for epoch: 58 of 100\n",
      "Training Loss: 0.2514798020759236\n",
      "Training Accuracy: 90.99042863087807\n",
      "Validation Results for epoch: 58 of 100\n",
      "Validation Loss: 0.2610914233580828\n"
     ]
    },
    {
     "name": "stderr",
     "output_type": "stream",
     "text": [
      " 58%|█████▊    | 58/100 [08:58<06:20,  9.06s/it]"
     ]
    },
    {
     "name": "stdout",
     "output_type": "stream",
     "text": [
      "Validation Accuracy: 90.92592592592592\n",
      "\n",
      "----------- Epoch: 59 of 100 -----------\n",
      "\n",
      "Training Results for epoch: 59 of 100\n",
      "Training Loss: 0.24581155550603218\n"
     ]
    },
    {
     "name": "stderr",
     "output_type": "stream",
     "text": [
      " 59%|█████▉    | 59/100 [09:08<06:21,  9.31s/it]"
     ]
    },
    {
     "name": "stdout",
     "output_type": "stream",
     "text": [
      "Training Accuracy: 91.19225967540574\n",
      "Validation Results for epoch: 59 of 100\n",
      "Validation Loss: 0.26536741090397364\n",
      "Validation Accuracy: 90.25252525252525\n",
      "\n",
      "----------- Epoch: 60 of 100 -----------\n",
      "\n",
      "Training Results for epoch: 60 of 100\n",
      "Training Loss: 0.24440130333230875\n",
      "Training Accuracy: 91.21930919683729\n",
      "Validation Results for epoch: 60 of 100\n",
      "Validation Loss: 0.22987880546701125\n"
     ]
    },
    {
     "name": "stderr",
     "output_type": "stream",
     "text": [
      " 60%|██████    | 60/100 [09:20<06:42, 10.05s/it]"
     ]
    },
    {
     "name": "stdout",
     "output_type": "stream",
     "text": [
      "Validation Accuracy: 91.81818181818183\n",
      "\n",
      "----------- Epoch: 61 of 100 -----------\n",
      "\n",
      "Training Results for epoch: 61 of 100\n",
      "Training Loss: 0.2471129666980465\n"
     ]
    },
    {
     "name": "stderr",
     "output_type": "stream",
     "text": [
      " 61%|██████    | 61/100 [09:29<06:17,  9.68s/it]"
     ]
    },
    {
     "name": "stdout",
     "output_type": "stream",
     "text": [
      "Training Accuracy: 91.0153974198918\n",
      "Validation Results for epoch: 61 of 100\n",
      "Validation Loss: 0.24727242757210563\n",
      "Validation Accuracy: 91.16161616161617\n",
      "\n",
      "----------- Epoch: 62 of 100 -----------\n",
      "\n",
      "Training Results for epoch: 62 of 100\n",
      "Training Loss: 0.239381369848761\n"
     ]
    },
    {
     "name": "stderr",
     "output_type": "stream",
     "text": [
      " 62%|██████▏   | 62/100 [09:39<06:19,  9.99s/it]"
     ]
    },
    {
     "name": "stdout",
     "output_type": "stream",
     "text": [
      "Training Accuracy: 91.45443196004994\n",
      "Validation Results for epoch: 62 of 100\n",
      "Validation Loss: 0.24218549993985655\n",
      "Validation Accuracy: 91.41414141414141\n",
      "\n",
      "----------- Epoch: 63 of 100 -----------\n",
      "\n",
      "Training Results for epoch: 63 of 100\n",
      "Training Loss: 0.24808970800159996\n"
     ]
    },
    {
     "name": "stderr",
     "output_type": "stream",
     "text": [
      " 63%|██████▎   | 63/100 [09:48<05:57,  9.66s/it]"
     ]
    },
    {
     "name": "stdout",
     "output_type": "stream",
     "text": [
      "Training Accuracy: 90.94881398252184\n",
      "Validation Results for epoch: 63 of 100\n",
      "Validation Loss: 0.24494584969583197\n",
      "Validation Accuracy: 91.04377104377105\n",
      "\n",
      "----------- Epoch: 64 of 100 -----------\n",
      "\n",
      "Training Results for epoch: 64 of 100\n",
      "Training Loss: 0.22902455382375692\n"
     ]
    },
    {
     "name": "stderr",
     "output_type": "stream",
     "text": [
      " 64%|██████▍   | 64/100 [09:56<05:28,  9.14s/it]"
     ]
    },
    {
     "name": "stdout",
     "output_type": "stream",
     "text": [
      "Training Accuracy: 91.76238035788597\n",
      "Validation Results for epoch: 64 of 100\n",
      "Validation Loss: 0.2386480041699319\n",
      "Validation Accuracy: 91.7003367003367\n",
      "\n",
      "----------- Epoch: 65 of 100 -----------\n",
      "\n",
      "Training Results for epoch: 65 of 100\n",
      "Training Loss: 0.23289531435199592\n"
     ]
    },
    {
     "name": "stderr",
     "output_type": "stream",
     "text": [
      " 65%|██████▌   | 65/100 [10:13<06:41, 11.46s/it]"
     ]
    },
    {
     "name": "stdout",
     "output_type": "stream",
     "text": [
      "Training Accuracy: 91.61256762380357\n",
      "Validation Results for epoch: 65 of 100\n",
      "Validation Loss: 0.24460813008694288\n",
      "Validation Accuracy: 91.24579124579124\n",
      "\n",
      "----------- Epoch: 66 of 100 -----------\n",
      "\n",
      "Training Results for epoch: 66 of 100\n",
      "Training Loss: 0.234994791857547\n"
     ]
    },
    {
     "name": "stderr",
     "output_type": "stream",
     "text": [
      " 66%|██████▌   | 66/100 [10:22<06:04, 10.73s/it]"
     ]
    },
    {
     "name": "stdout",
     "output_type": "stream",
     "text": [
      "Training Accuracy: 91.60216396171452\n",
      "Validation Results for epoch: 66 of 100\n",
      "Validation Loss: 0.24344242720239237\n",
      "Validation Accuracy: 91.48148148148148\n",
      "\n",
      "----------- Epoch: 67 of 100 -----------\n",
      "\n",
      "Training Results for epoch: 67 of 100\n",
      "Training Loss: 0.23883683122852603\n"
     ]
    },
    {
     "name": "stderr",
     "output_type": "stream",
     "text": [
      " 67%|██████▋   | 67/100 [10:31<05:39, 10.28s/it]"
     ]
    },
    {
     "name": "stdout",
     "output_type": "stream",
     "text": [
      "Training Accuracy: 91.21098626716604\n",
      "Validation Results for epoch: 67 of 100\n",
      "Validation Loss: 0.24942152606233398\n",
      "Validation Accuracy: 90.72390572390573\n",
      "\n",
      "----------- Epoch: 68 of 100 -----------\n",
      "\n",
      "Training Results for epoch: 68 of 100\n",
      "Training Loss: 0.22243433628364392\n"
     ]
    },
    {
     "name": "stderr",
     "output_type": "stream",
     "text": [
      " 68%|██████▊   | 68/100 [10:41<05:25, 10.16s/it]"
     ]
    },
    {
     "name": "stdout",
     "output_type": "stream",
     "text": [
      "Training Accuracy: 92.07657095297544\n",
      "Validation Results for epoch: 68 of 100\n",
      "Validation Loss: 0.24047300502235538\n",
      "Validation Accuracy: 91.53198653198653\n",
      "\n",
      "----------- Epoch: 69 of 100 -----------\n",
      "\n",
      "Training Results for epoch: 69 of 100\n",
      "Training Loss: 0.2520458050498427\n"
     ]
    },
    {
     "name": "stderr",
     "output_type": "stream",
     "text": [
      " 69%|██████▉   | 69/100 [10:49<04:56,  9.56s/it]"
     ]
    },
    {
     "name": "stdout",
     "output_type": "stream",
     "text": [
      "Training Accuracy: 90.78235538909696\n",
      "Validation Results for epoch: 69 of 100\n",
      "Validation Loss: 0.25385844185150286\n",
      "Validation Accuracy: 90.47138047138047\n",
      "\n",
      "----------- Epoch: 70 of 100 -----------\n",
      "\n",
      "Training Results for epoch: 70 of 100\n",
      "Training Loss: 0.23296414420223766\n"
     ]
    },
    {
     "name": "stderr",
     "output_type": "stream",
     "text": [
      " 70%|███████   | 70/100 [10:57<04:30,  9.02s/it]"
     ]
    },
    {
     "name": "stdout",
     "output_type": "stream",
     "text": [
      "Training Accuracy: 91.68539325842696\n",
      "Validation Results for epoch: 70 of 100\n",
      "Validation Loss: 0.24955728925180484\n",
      "Validation Accuracy: 91.21212121212122\n",
      "\n",
      "----------- Epoch: 71 of 100 -----------\n",
      "\n",
      "Training Results for epoch: 71 of 100\n",
      "Training Loss: 0.2328875810967748\n"
     ]
    },
    {
     "name": "stderr",
     "output_type": "stream",
     "text": [
      " 71%|███████   | 71/100 [11:05<04:10,  8.64s/it]"
     ]
    },
    {
     "name": "stdout",
     "output_type": "stream",
     "text": [
      "Training Accuracy: 91.65834373699542\n",
      "Validation Results for epoch: 71 of 100\n",
      "Validation Loss: 0.24390977500032107\n",
      "Validation Accuracy: 91.21212121212122\n",
      "\n",
      "----------- Epoch: 72 of 100 -----------\n",
      "\n",
      "Training Results for epoch: 72 of 100\n",
      "Training Loss: 0.22079910950000245\n"
     ]
    },
    {
     "name": "stderr",
     "output_type": "stream",
     "text": [
      " 72%|███████▏  | 72/100 [11:12<03:52,  8.31s/it]"
     ]
    },
    {
     "name": "stdout",
     "output_type": "stream",
     "text": [
      "Training Accuracy: 92.1223470661673\n",
      "Validation Results for epoch: 72 of 100\n",
      "Validation Loss: 0.23039560087975064\n",
      "Validation Accuracy: 91.66666666666666\n",
      "\n",
      "----------- Epoch: 73 of 100 -----------\n",
      "\n",
      "Training Results for epoch: 73 of 100\n",
      "Training Loss: 0.22407306817274467\n"
     ]
    },
    {
     "name": "stderr",
     "output_type": "stream",
     "text": [
      " 73%|███████▎  | 73/100 [11:20<03:38,  8.08s/it]"
     ]
    },
    {
     "name": "stdout",
     "output_type": "stream",
     "text": [
      "Training Accuracy: 91.85393258426966\n",
      "Validation Results for epoch: 73 of 100\n",
      "Validation Loss: 0.24387367084890105\n",
      "Validation Accuracy: 91.31313131313131\n",
      "\n",
      "----------- Epoch: 74 of 100 -----------\n",
      "\n",
      "Training Results for epoch: 74 of 100\n",
      "Training Loss: 0.2100407115468197\n"
     ]
    },
    {
     "name": "stderr",
     "output_type": "stream",
     "text": [
      " 74%|███████▍  | 74/100 [11:27<03:26,  7.93s/it]"
     ]
    },
    {
     "name": "stdout",
     "output_type": "stream",
     "text": [
      "Training Accuracy: 92.43861839367457\n",
      "Validation Results for epoch: 74 of 100\n",
      "Validation Loss: 0.22167664386482125\n",
      "Validation Accuracy: 92.27272727272727\n",
      "\n",
      "----------- Epoch: 75 of 100 -----------\n",
      "\n",
      "Training Results for epoch: 75 of 100\n",
      "Training Loss: 0.22824507932945412\n"
     ]
    },
    {
     "name": "stderr",
     "output_type": "stream",
     "text": [
      " 75%|███████▌  | 75/100 [11:35<03:14,  7.79s/it]"
     ]
    },
    {
     "name": "stdout",
     "output_type": "stream",
     "text": [
      "Training Accuracy: 91.84769038701623\n",
      "Validation Results for epoch: 75 of 100\n",
      "Validation Loss: 0.2260976883360587\n",
      "Validation Accuracy: 91.88552188552188\n",
      "\n",
      "----------- Epoch: 76 of 100 -----------\n",
      "\n",
      "Training Results for epoch: 76 of 100\n",
      "Training Loss: 0.22933236965701112\n"
     ]
    },
    {
     "name": "stderr",
     "output_type": "stream",
     "text": [
      " 76%|███████▌  | 76/100 [11:42<03:04,  7.70s/it]"
     ]
    },
    {
     "name": "stdout",
     "output_type": "stream",
     "text": [
      "Training Accuracy: 91.49812734082397\n",
      "Validation Results for epoch: 76 of 100\n",
      "Validation Loss: 0.22428935846889614\n",
      "Validation Accuracy: 91.58249158249158\n",
      "\n",
      "----------- Epoch: 77 of 100 -----------\n",
      "\n",
      "Training Results for epoch: 77 of 100\n",
      "Training Loss: 0.20982695132121873\n"
     ]
    },
    {
     "name": "stderr",
     "output_type": "stream",
     "text": [
      " 77%|███████▋  | 77/100 [11:50<02:56,  7.69s/it]"
     ]
    },
    {
     "name": "stdout",
     "output_type": "stream",
     "text": [
      "Training Accuracy: 92.49687890137328\n",
      "Validation Results for epoch: 77 of 100\n",
      "Validation Loss: 0.22519793423711187\n",
      "Validation Accuracy: 92.18855218855218\n",
      "\n",
      "----------- Epoch: 78 of 100 -----------\n",
      "\n",
      "Training Results for epoch: 78 of 100\n",
      "Training Loss: 0.20814011701972548\n"
     ]
    },
    {
     "name": "stderr",
     "output_type": "stream",
     "text": [
      " 78%|███████▊  | 78/100 [12:01<03:07,  8.52s/it]"
     ]
    },
    {
     "name": "stdout",
     "output_type": "stream",
     "text": [
      "Training Accuracy: 92.51144402829796\n",
      "Validation Results for epoch: 78 of 100\n",
      "Validation Loss: 0.21391324019872968\n",
      "Validation Accuracy: 92.57575757575758\n",
      "\n",
      "----------- Epoch: 79 of 100 -----------\n",
      "\n",
      "Training Results for epoch: 79 of 100\n",
      "Training Loss: 0.20467719569960532\n"
     ]
    },
    {
     "name": "stderr",
     "output_type": "stream",
     "text": [
      " 79%|███████▉  | 79/100 [12:10<03:03,  8.75s/it]"
     ]
    },
    {
     "name": "stdout",
     "output_type": "stream",
     "text": [
      "Training Accuracy: 92.7819392426134\n",
      "Validation Results for epoch: 79 of 100\n",
      "Validation Loss: 0.20504323372168412\n",
      "Validation Accuracy: 92.71043771043772\n",
      "\n",
      "----------- Epoch: 80 of 100 -----------\n",
      "\n",
      "Training Results for epoch: 80 of 100\n",
      "Training Loss: 0.2289751454005853\n"
     ]
    },
    {
     "name": "stderr",
     "output_type": "stream",
     "text": [
      " 80%|████████  | 80/100 [12:20<03:05,  9.30s/it]"
     ]
    },
    {
     "name": "stdout",
     "output_type": "stream",
     "text": [
      "Training Accuracy: 91.40449438202248\n",
      "Validation Results for epoch: 80 of 100\n",
      "Validation Loss: 0.24512213376212308\n",
      "Validation Accuracy: 90.69023569023568\n",
      "\n",
      "----------- Epoch: 81 of 100 -----------\n",
      "\n",
      "Training Results for epoch: 81 of 100\n",
      "Training Loss: 0.20063912501097098\n",
      "Training Accuracy: 92.7819392426134\n",
      "Validation Results for epoch: 81 of 100\n",
      "Validation Loss: 0.20035019766229314\n"
     ]
    },
    {
     "name": "stderr",
     "output_type": "stream",
     "text": [
      " 81%|████████  | 81/100 [12:38<03:41, 11.64s/it]"
     ]
    },
    {
     "name": "stdout",
     "output_type": "stream",
     "text": [
      "Validation Accuracy: 93.0976430976431\n",
      "\n",
      "----------- Epoch: 82 of 100 -----------\n",
      "\n",
      "Training Results for epoch: 82 of 100\n",
      "Training Loss: 0.21040144450703208\n"
     ]
    },
    {
     "name": "stderr",
     "output_type": "stream",
     "text": [
      " 82%|████████▏ | 82/100 [12:47<03:19, 11.07s/it]"
     ]
    },
    {
     "name": "stdout",
     "output_type": "stream",
     "text": [
      "Training Accuracy: 92.27424053266749\n",
      "Validation Results for epoch: 82 of 100\n",
      "Validation Loss: 0.22335090296922872\n",
      "Validation Accuracy: 91.56565656565657\n",
      "\n",
      "----------- Epoch: 83 of 100 -----------\n",
      "\n",
      "Training Results for epoch: 83 of 100\n",
      "Training Loss: 0.20151700291091573\n"
     ]
    },
    {
     "name": "stderr",
     "output_type": "stream",
     "text": [
      " 83%|████████▎ | 83/100 [12:56<02:57, 10.46s/it]"
     ]
    },
    {
     "name": "stdout",
     "output_type": "stream",
     "text": [
      "Training Accuracy: 92.71743653766126\n",
      "Validation Results for epoch: 83 of 100\n",
      "Validation Loss: 0.20647765689813838\n",
      "Validation Accuracy: 91.95286195286195\n",
      "\n",
      "----------- Epoch: 84 of 100 -----------\n",
      "\n",
      "Training Results for epoch: 84 of 100\n",
      "Training Loss: 0.20181565437793023\n"
     ]
    },
    {
     "name": "stderr",
     "output_type": "stream",
     "text": [
      " 84%|████████▍ | 84/100 [13:05<02:38,  9.92s/it]"
     ]
    },
    {
     "name": "stdout",
     "output_type": "stream",
     "text": [
      "Training Accuracy: 92.77569704535996\n",
      "Validation Results for epoch: 84 of 100\n",
      "Validation Loss: 0.20423647544739035\n",
      "Validation Accuracy: 92.60942760942761\n",
      "\n",
      "----------- Epoch: 85 of 100 -----------\n",
      "\n",
      "Training Results for epoch: 85 of 100\n",
      "Training Loss: 0.19689778574095348\n"
     ]
    },
    {
     "name": "stderr",
     "output_type": "stream",
     "text": [
      " 85%|████████▌ | 85/100 [13:13<02:19,  9.31s/it]"
     ]
    },
    {
     "name": "stdout",
     "output_type": "stream",
     "text": [
      "Training Accuracy: 92.90886392009988\n",
      "Validation Results for epoch: 85 of 100\n",
      "Validation Loss: 0.20730799786851156\n",
      "Validation Accuracy: 92.44107744107744\n",
      "\n",
      "----------- Epoch: 86 of 100 -----------\n",
      "\n",
      "Training Results for epoch: 86 of 100\n",
      "Training Loss: 0.19341605145032212\n"
     ]
    },
    {
     "name": "stderr",
     "output_type": "stream",
     "text": [
      " 86%|████████▌ | 86/100 [13:20<02:02,  8.77s/it]"
     ]
    },
    {
     "name": "stdout",
     "output_type": "stream",
     "text": [
      "Training Accuracy: 93.03578859758636\n",
      "Validation Results for epoch: 86 of 100\n",
      "Validation Loss: 0.2034821723656646\n",
      "Validation Accuracy: 91.98653198653199\n",
      "\n",
      "----------- Epoch: 87 of 100 -----------\n",
      "\n",
      "Training Results for epoch: 87 of 100\n",
      "Training Loss: 0.1936153360653892\n"
     ]
    },
    {
     "name": "stderr",
     "output_type": "stream",
     "text": [
      " 87%|████████▋ | 87/100 [13:28<01:51,  8.54s/it]"
     ]
    },
    {
     "name": "stdout",
     "output_type": "stream",
     "text": [
      "Training Accuracy: 93.07948397836037\n",
      "Validation Results for epoch: 87 of 100\n",
      "Validation Loss: 0.21067342455346372\n",
      "Validation Accuracy: 92.27272727272727\n",
      "\n",
      "----------- Epoch: 88 of 100 -----------\n",
      "\n",
      "Training Results for epoch: 88 of 100\n",
      "Training Loss: 0.2028002378962924\n"
     ]
    },
    {
     "name": "stderr",
     "output_type": "stream",
     "text": [
      " 88%|████████▊ | 88/100 [13:36<01:38,  8.22s/it]"
     ]
    },
    {
     "name": "stdout",
     "output_type": "stream",
     "text": [
      "Training Accuracy: 92.72159800249688\n",
      "Validation Results for epoch: 88 of 100\n",
      "Validation Loss: 0.21254743207643234\n",
      "Validation Accuracy: 92.2053872053872\n",
      "\n",
      "----------- Epoch: 89 of 100 -----------\n",
      "\n",
      "Training Results for epoch: 89 of 100\n",
      "Training Loss: 0.19237405155662457\n"
     ]
    },
    {
     "name": "stderr",
     "output_type": "stream",
     "text": [
      " 89%|████████▉ | 89/100 [13:44<01:29,  8.11s/it]"
     ]
    },
    {
     "name": "stdout",
     "output_type": "stream",
     "text": [
      "Training Accuracy: 93.13358302122347\n",
      "Validation Results for epoch: 89 of 100\n",
      "Validation Loss: 0.20644033881925747\n",
      "Validation Accuracy: 92.23905723905725\n",
      "\n",
      "----------- Epoch: 90 of 100 -----------\n",
      "\n",
      "Training Results for epoch: 90 of 100\n",
      "Training Loss: 0.18691000827769663\n"
     ]
    },
    {
     "name": "stderr",
     "output_type": "stream",
     "text": [
      " 90%|█████████ | 90/100 [13:51<01:19,  7.95s/it]"
     ]
    },
    {
     "name": "stdout",
     "output_type": "stream",
     "text": [
      "Training Accuracy: 93.25842696629213\n",
      "Validation Results for epoch: 90 of 100\n",
      "Validation Loss: 0.19274153547797146\n",
      "Validation Accuracy: 93.11447811447812\n",
      "\n",
      "----------- Epoch: 91 of 100 -----------\n",
      "\n",
      "Training Results for epoch: 91 of 100\n",
      "Training Loss: 0.20131710630693747\n"
     ]
    },
    {
     "name": "stderr",
     "output_type": "stream",
     "text": [
      " 91%|█████████ | 91/100 [13:59<01:10,  7.83s/it]"
     ]
    },
    {
     "name": "stdout",
     "output_type": "stream",
     "text": [
      "Training Accuracy: 92.62380357885975\n",
      "Validation Results for epoch: 91 of 100\n",
      "Validation Loss: 0.21033340966532468\n",
      "Validation Accuracy: 92.12121212121212\n",
      "\n",
      "----------- Epoch: 92 of 100 -----------\n",
      "\n",
      "Training Results for epoch: 92 of 100\n",
      "Training Loss: 0.19105883373334628\n",
      "Training Accuracy: 93.1023720349563\n",
      "Validation Results for epoch: 92 of 100\n",
      "Validation Loss: 0.19781040414686568\n"
     ]
    },
    {
     "name": "stderr",
     "output_type": "stream",
     "text": [
      " 92%|█████████▏| 92/100 [14:10<01:10,  8.84s/it]"
     ]
    },
    {
     "name": "stdout",
     "output_type": "stream",
     "text": [
      "Validation Accuracy: 92.55892255892256\n",
      "\n",
      "----------- Epoch: 93 of 100 -----------\n",
      "\n",
      "Training Results for epoch: 93 of 100\n",
      "Training Loss: 0.1799988419804002\n"
     ]
    },
    {
     "name": "stderr",
     "output_type": "stream",
     "text": [
      " 93%|█████████▎| 93/100 [14:19<01:02,  8.97s/it]"
     ]
    },
    {
     "name": "stdout",
     "output_type": "stream",
     "text": [
      "Training Accuracy: 93.56637536412818\n",
      "Validation Results for epoch: 93 of 100\n",
      "Validation Loss: 0.19363991022430913\n",
      "Validation Accuracy: 93.18181818181817\n",
      "\n",
      "----------- Epoch: 94 of 100 -----------\n",
      "\n",
      "Training Results for epoch: 94 of 100\n",
      "Training Loss: 0.17698567633428475\n"
     ]
    },
    {
     "name": "stderr",
     "output_type": "stream",
     "text": [
      " 94%|█████████▍| 94/100 [14:27<00:51,  8.58s/it]"
     ]
    },
    {
     "name": "stdout",
     "output_type": "stream",
     "text": [
      "Training Accuracy: 93.65376612567624\n",
      "Validation Results for epoch: 94 of 100\n",
      "Validation Loss: 0.1824552974130856\n",
      "Validation Accuracy: 92.996632996633\n",
      "\n",
      "----------- Epoch: 95 of 100 -----------\n",
      "\n",
      "Training Results for epoch: 95 of 100\n",
      "Training Loss: 0.19485829233161192\n"
     ]
    },
    {
     "name": "stderr",
     "output_type": "stream",
     "text": [
      " 95%|█████████▌| 95/100 [14:35<00:41,  8.32s/it]"
     ]
    },
    {
     "name": "stdout",
     "output_type": "stream",
     "text": [
      "Training Accuracy: 92.94631710362047\n",
      "Validation Results for epoch: 95 of 100\n",
      "Validation Loss: 0.20371082332463417\n",
      "Validation Accuracy: 92.77777777777779\n",
      "\n",
      "----------- Epoch: 96 of 100 -----------\n",
      "\n",
      "Training Results for epoch: 96 of 100\n",
      "Training Loss: 0.1873513062163706\n"
     ]
    },
    {
     "name": "stderr",
     "output_type": "stream",
     "text": [
      " 96%|█████████▌| 96/100 [14:42<00:32,  8.11s/it]"
     ]
    },
    {
     "name": "stdout",
     "output_type": "stream",
     "text": [
      "Training Accuracy: 93.17311693716188\n",
      "Validation Results for epoch: 96 of 100\n",
      "Validation Loss: 0.19625453375791466\n",
      "Validation Accuracy: 92.7946127946128\n",
      "\n",
      "----------- Epoch: 97 of 100 -----------\n",
      "\n",
      "Training Results for epoch: 97 of 100\n",
      "Training Loss: 0.19570286835691594\n"
     ]
    },
    {
     "name": "stderr",
     "output_type": "stream",
     "text": [
      " 97%|█████████▋| 97/100 [14:50<00:23,  7.93s/it]"
     ]
    },
    {
     "name": "stdout",
     "output_type": "stream",
     "text": [
      "Training Accuracy: 92.76945484810653\n",
      "Validation Results for epoch: 97 of 100\n",
      "Validation Loss: 0.21005752360563468\n",
      "Validation Accuracy: 92.15488215488216\n",
      "\n",
      "----------- Epoch: 98 of 100 -----------\n",
      "\n",
      "Training Results for epoch: 98 of 100\n",
      "Training Loss: 0.1739089505401123\n"
     ]
    },
    {
     "name": "stderr",
     "output_type": "stream",
     "text": [
      " 98%|█████████▊| 98/100 [14:57<00:15,  7.83s/it]"
     ]
    },
    {
     "name": "stdout",
     "output_type": "stream",
     "text": [
      "Training Accuracy: 93.89513108614233\n",
      "Validation Results for epoch: 98 of 100\n",
      "Validation Loss: 0.17549885428689607\n",
      "Validation Accuracy: 93.67003367003367\n",
      "\n",
      "----------- Epoch: 99 of 100 -----------\n",
      "\n",
      "Training Results for epoch: 99 of 100\n",
      "Training Loss: 0.16763885590830238\n"
     ]
    },
    {
     "name": "stderr",
     "output_type": "stream",
     "text": [
      " 99%|█████████▉| 99/100 [15:05<00:07,  7.72s/it]"
     ]
    },
    {
     "name": "stdout",
     "output_type": "stream",
     "text": [
      "Training Accuracy: 94.06783187682063\n",
      "Validation Results for epoch: 99 of 100\n",
      "Validation Loss: 0.17792680864049418\n",
      "Validation Accuracy: 93.85521885521885\n",
      "\n",
      "----------- Epoch: 100 of 100 -----------\n",
      "\n",
      "Training Results for epoch: 100 of 100\n",
      "Training Loss: 0.1761787608792819\n",
      "Training Accuracy: 93.60382854764877\n",
      "Validation Results for epoch: 100 of 100\n",
      "Validation Loss: 0.1770458594997357\n"
     ]
    },
    {
     "name": "stderr",
     "output_type": "stream",
     "text": [
      "100%|██████████| 100/100 [15:13<00:00,  9.13s/it]"
     ]
    },
    {
     "name": "stdout",
     "output_type": "stream",
     "text": [
      "Validation Accuracy: 93.58585858585859\n"
     ]
    },
    {
     "name": "stderr",
     "output_type": "stream",
     "text": [
      "\n"
     ]
    },
    {
     "data": {
      "text/plain": [
       "<__main__.MyNeuralNetwork at 0x11aecf610>"
      ]
     },
     "execution_count": 37,
     "metadata": {},
     "output_type": "execute_result"
    }
   ],
   "source": [
    "#Training using Sigmoid Activation function\n",
    "nn3 = MyNeuralNetwork(n_layers=3, layer_sizes=[256, 128, 64], learning_rate=0.1, num_epochs=100, batch_size=32, weight_init='normal', activation=\"sigmoid\")\n",
    "nn3.fit(np.array(mnist_train_flat, dtype='float32'), nn3.one_hot_encode(mnist_train_labels.astype(int),10))"
   ]
  },
  {
   "cell_type": "code",
   "execution_count": 38,
   "metadata": {},
   "outputs": [
    {
     "name": "stderr",
     "output_type": "stream",
     "text": [
      "  0%|          | 0/100 [00:00<?, ?it/s]"
     ]
    },
    {
     "name": "stdout",
     "output_type": "stream",
     "text": [
      "\n",
      "----------- Epoch: 1 of 100 -----------\n",
      "\n",
      "Training Results for epoch: 1 of 100\n",
      "Training Loss: 0.8197277447091772\n"
     ]
    },
    {
     "name": "stderr",
     "output_type": "stream",
     "text": [
      "  1%|          | 1/100 [00:12<20:45, 12.58s/it]"
     ]
    },
    {
     "name": "stdout",
     "output_type": "stream",
     "text": [
      "Training Accuracy: 71.35871826883063\n",
      "Validation Results for epoch: 1 of 100\n",
      "Validation Loss: 0.8294841921730912\n",
      "Validation Accuracy: 70.70707070707071\n",
      "\n",
      "----------- Epoch: 2 of 100 -----------\n",
      "\n",
      "Training Results for epoch: 2 of 100\n",
      "Training Loss: 0.670848358089954\n"
     ]
    },
    {
     "name": "stderr",
     "output_type": "stream",
     "text": [
      "  2%|▏         | 2/100 [00:19<14:50,  9.08s/it]"
     ]
    },
    {
     "name": "stdout",
     "output_type": "stream",
     "text": [
      "Training Accuracy: 76.32958801498127\n",
      "Validation Results for epoch: 2 of 100\n",
      "Validation Loss: 0.6652919703003805\n",
      "Validation Accuracy: 76.75084175084174\n",
      "\n",
      "----------- Epoch: 3 of 100 -----------\n",
      "\n",
      "Training Results for epoch: 3 of 100\n",
      "Training Loss: 0.6000349802444238\n"
     ]
    },
    {
     "name": "stderr",
     "output_type": "stream",
     "text": [
      "  3%|▎         | 3/100 [00:25<12:46,  7.90s/it]"
     ]
    },
    {
     "name": "stdout",
     "output_type": "stream",
     "text": [
      "Training Accuracy: 79.1718684977112\n",
      "Validation Results for epoch: 3 of 100\n",
      "Validation Loss: 0.6247647392270468\n",
      "Validation Accuracy: 78.6026936026936\n",
      "\n",
      "----------- Epoch: 4 of 100 -----------\n",
      "\n",
      "Training Results for epoch: 4 of 100\n",
      "Training Loss: 0.5384236590181248\n"
     ]
    },
    {
     "name": "stderr",
     "output_type": "stream",
     "text": [
      "  4%|▍         | 4/100 [00:32<11:38,  7.28s/it]"
     ]
    },
    {
     "name": "stdout",
     "output_type": "stream",
     "text": [
      "Training Accuracy: 80.89263420724096\n",
      "Validation Results for epoch: 4 of 100\n",
      "Validation Loss: 0.5274416006997564\n",
      "Validation Accuracy: 81.66666666666667\n",
      "\n",
      "----------- Epoch: 5 of 100 -----------\n",
      "\n",
      "Training Results for epoch: 5 of 100\n",
      "Training Loss: 0.5540150655502667\n"
     ]
    },
    {
     "name": "stderr",
     "output_type": "stream",
     "text": [
      "  5%|▌         | 5/100 [00:38<11:13,  7.09s/it]"
     ]
    },
    {
     "name": "stdout",
     "output_type": "stream",
     "text": [
      "Training Accuracy: 79.3050353724511\n",
      "Validation Results for epoch: 5 of 100\n",
      "Validation Loss: 0.5580937031040749\n",
      "Validation Accuracy: 78.92255892255892\n",
      "\n",
      "----------- Epoch: 6 of 100 -----------\n",
      "\n",
      "Training Results for epoch: 6 of 100\n",
      "Training Loss: 0.5419227320976521\n"
     ]
    },
    {
     "name": "stderr",
     "output_type": "stream",
     "text": [
      "  6%|▌         | 6/100 [00:45<10:42,  6.83s/it]"
     ]
    },
    {
     "name": "stdout",
     "output_type": "stream",
     "text": [
      "Training Accuracy: 81.16937161880982\n",
      "Validation Results for epoch: 6 of 100\n",
      "Validation Loss: 0.5389537740328102\n",
      "Validation Accuracy: 81.70033670033669\n",
      "\n",
      "----------- Epoch: 7 of 100 -----------\n",
      "\n",
      "Training Results for epoch: 7 of 100\n",
      "Training Loss: 0.5132218101423082\n"
     ]
    },
    {
     "name": "stderr",
     "output_type": "stream",
     "text": [
      "  7%|▋         | 7/100 [00:51<10:19,  6.66s/it]"
     ]
    },
    {
     "name": "stdout",
     "output_type": "stream",
     "text": [
      "Training Accuracy: 82.18684977111943\n",
      "Validation Results for epoch: 7 of 100\n",
      "Validation Loss: 0.5233551160618664\n",
      "Validation Accuracy: 81.76767676767676\n",
      "\n",
      "----------- Epoch: 8 of 100 -----------\n",
      "\n",
      "Training Results for epoch: 8 of 100\n",
      "Training Loss: 0.5593943104282791\n"
     ]
    },
    {
     "name": "stderr",
     "output_type": "stream",
     "text": [
      "  8%|▊         | 8/100 [00:57<10:09,  6.63s/it]"
     ]
    },
    {
     "name": "stdout",
     "output_type": "stream",
     "text": [
      "Training Accuracy: 79.92093216812319\n",
      "Validation Results for epoch: 8 of 100\n",
      "Validation Loss: 0.5846431080284742\n",
      "Validation Accuracy: 79.2087542087542\n",
      "\n",
      "----------- Epoch: 9 of 100 -----------\n",
      "\n",
      "Training Results for epoch: 9 of 100\n",
      "Training Loss: 0.5347951492409578\n"
     ]
    },
    {
     "name": "stderr",
     "output_type": "stream",
     "text": [
      "  9%|▉         | 9/100 [01:04<09:54,  6.54s/it]"
     ]
    },
    {
     "name": "stdout",
     "output_type": "stream",
     "text": [
      "Training Accuracy: 81.75405742821474\n",
      "Validation Results for epoch: 9 of 100\n",
      "Validation Loss: 0.520743442986838\n",
      "Validation Accuracy: 81.4983164983165\n",
      "\n",
      "----------- Epoch: 10 of 100 -----------\n",
      "\n",
      "Training Results for epoch: 10 of 100\n",
      "Training Loss: 0.4966608266515511\n"
     ]
    },
    {
     "name": "stderr",
     "output_type": "stream",
     "text": [
      " 10%|█         | 10/100 [01:10<09:44,  6.49s/it]"
     ]
    },
    {
     "name": "stdout",
     "output_type": "stream",
     "text": [
      "Training Accuracy: 82.9483978360383\n",
      "Validation Results for epoch: 10 of 100\n",
      "Validation Loss: 0.4980646534263105\n",
      "Validation Accuracy: 82.74410774410774\n",
      "\n",
      "----------- Epoch: 11 of 100 -----------\n",
      "\n",
      "Training Results for epoch: 11 of 100\n",
      "Training Loss: 0.6069671005668622\n"
     ]
    },
    {
     "name": "stderr",
     "output_type": "stream",
     "text": [
      " 11%|█         | 11/100 [01:17<09:47,  6.60s/it]"
     ]
    },
    {
     "name": "stdout",
     "output_type": "stream",
     "text": [
      "Training Accuracy: 77.79234290470247\n",
      "Validation Results for epoch: 11 of 100\n",
      "Validation Loss: 0.6068633023966359\n",
      "Validation Accuracy: 77.84511784511785\n",
      "\n",
      "----------- Epoch: 12 of 100 -----------\n",
      "\n",
      "Training Results for epoch: 12 of 100\n",
      "Training Loss: 0.5038739233006656\n"
     ]
    },
    {
     "name": "stderr",
     "output_type": "stream",
     "text": [
      " 12%|█▏        | 12/100 [01:24<09:44,  6.64s/it]"
     ]
    },
    {
     "name": "stdout",
     "output_type": "stream",
     "text": [
      "Training Accuracy: 82.28880565959219\n",
      "Validation Results for epoch: 12 of 100\n",
      "Validation Loss: 0.5056290985635161\n",
      "Validation Accuracy: 81.78451178451178\n",
      "\n",
      "----------- Epoch: 13 of 100 -----------\n",
      "\n",
      "Training Results for epoch: 13 of 100\n",
      "Training Loss: 0.5271580292994273\n"
     ]
    },
    {
     "name": "stderr",
     "output_type": "stream",
     "text": [
      " 13%|█▎        | 13/100 [01:30<09:36,  6.62s/it]"
     ]
    },
    {
     "name": "stdout",
     "output_type": "stream",
     "text": [
      "Training Accuracy: 81.96004993757803\n",
      "Validation Results for epoch: 13 of 100\n",
      "Validation Loss: 0.5453041952980794\n",
      "Validation Accuracy: 81.34680134680134\n",
      "\n",
      "----------- Epoch: 14 of 100 -----------\n",
      "\n",
      "Training Results for epoch: 14 of 100\n",
      "Training Loss: 0.51164950644403\n"
     ]
    },
    {
     "name": "stderr",
     "output_type": "stream",
     "text": [
      " 14%|█▍        | 14/100 [01:38<09:53,  6.91s/it]"
     ]
    },
    {
     "name": "stdout",
     "output_type": "stream",
     "text": [
      "Training Accuracy: 81.42114024136497\n",
      "Validation Results for epoch: 14 of 100\n",
      "Validation Loss: 0.5283785254923707\n",
      "Validation Accuracy: 81.17845117845118\n",
      "\n",
      "----------- Epoch: 15 of 100 -----------\n",
      "\n",
      "Training Results for epoch: 15 of 100\n",
      "Training Loss: 0.4568421523118718\n"
     ]
    },
    {
     "name": "stderr",
     "output_type": "stream",
     "text": [
      " 15%|█▌        | 15/100 [01:46<10:24,  7.35s/it]"
     ]
    },
    {
     "name": "stdout",
     "output_type": "stream",
     "text": [
      "Training Accuracy: 84.13233458177278\n",
      "Validation Results for epoch: 15 of 100\n",
      "Validation Loss: 0.47285173873311137\n",
      "Validation Accuracy: 83.23232323232324\n",
      "\n",
      "----------- Epoch: 16 of 100 -----------\n",
      "\n",
      "Training Results for epoch: 16 of 100\n",
      "Training Loss: 0.470810624059772\n"
     ]
    },
    {
     "name": "stderr",
     "output_type": "stream",
     "text": [
      " 16%|█▌        | 16/100 [01:53<10:04,  7.20s/it]"
     ]
    },
    {
     "name": "stdout",
     "output_type": "stream",
     "text": [
      "Training Accuracy: 83.01081980857262\n",
      "Validation Results for epoch: 16 of 100\n",
      "Validation Loss: 0.46610043386019484\n",
      "Validation Accuracy: 83.01346801346801\n",
      "\n",
      "----------- Epoch: 17 of 100 -----------\n",
      "\n",
      "Training Results for epoch: 17 of 100\n",
      "Training Loss: 0.46262454934559144\n"
     ]
    },
    {
     "name": "stderr",
     "output_type": "stream",
     "text": [
      " 17%|█▋        | 17/100 [02:00<09:38,  6.97s/it]"
     ]
    },
    {
     "name": "stdout",
     "output_type": "stream",
     "text": [
      "Training Accuracy: 83.70994590095714\n",
      "Validation Results for epoch: 17 of 100\n",
      "Validation Loss: 0.4900586343065432\n",
      "Validation Accuracy: 82.97979797979798\n",
      "\n",
      "----------- Epoch: 18 of 100 -----------\n",
      "\n",
      "Training Results for epoch: 18 of 100\n",
      "Training Loss: 0.47898650011532234\n"
     ]
    },
    {
     "name": "stderr",
     "output_type": "stream",
     "text": [
      " 18%|█▊        | 18/100 [02:06<09:19,  6.83s/it]"
     ]
    },
    {
     "name": "stdout",
     "output_type": "stream",
     "text": [
      "Training Accuracy: 83.17519766957969\n",
      "Validation Results for epoch: 18 of 100\n",
      "Validation Loss: 0.49766886777237884\n",
      "Validation Accuracy: 82.60942760942761\n",
      "\n",
      "----------- Epoch: 19 of 100 -----------\n",
      "\n",
      "Training Results for epoch: 19 of 100\n",
      "Training Loss: 0.4563826898541836\n"
     ]
    },
    {
     "name": "stderr",
     "output_type": "stream",
     "text": [
      " 19%|█▉        | 19/100 [02:12<09:02,  6.70s/it]"
     ]
    },
    {
     "name": "stdout",
     "output_type": "stream",
     "text": [
      "Training Accuracy: 83.98252184769038\n",
      "Validation Results for epoch: 19 of 100\n",
      "Validation Loss: 0.46442877482605616\n",
      "Validation Accuracy: 83.88888888888889\n",
      "\n",
      "----------- Epoch: 20 of 100 -----------\n",
      "\n",
      "Training Results for epoch: 20 of 100\n",
      "Training Loss: 0.5058688418429699\n"
     ]
    },
    {
     "name": "stderr",
     "output_type": "stream",
     "text": [
      " 20%|██        | 20/100 [02:19<08:47,  6.59s/it]"
     ]
    },
    {
     "name": "stdout",
     "output_type": "stream",
     "text": [
      "Training Accuracy: 82.41781106949647\n",
      "Validation Results for epoch: 20 of 100\n",
      "Validation Loss: 0.5083478441096368\n",
      "Validation Accuracy: 82.86195286195286\n",
      "\n",
      "----------- Epoch: 21 of 100 -----------\n",
      "\n",
      "Training Results for epoch: 21 of 100\n",
      "Training Loss: 0.47084986964816417\n"
     ]
    },
    {
     "name": "stderr",
     "output_type": "stream",
     "text": [
      " 21%|██        | 21/100 [02:26<08:47,  6.67s/it]"
     ]
    },
    {
     "name": "stdout",
     "output_type": "stream",
     "text": [
      "Training Accuracy: 83.49771119434041\n",
      "Validation Results for epoch: 21 of 100\n",
      "Validation Loss: 0.47746834008329947\n",
      "Validation Accuracy: 83.19865319865319\n",
      "\n",
      "----------- Epoch: 22 of 100 -----------\n",
      "\n",
      "Training Results for epoch: 22 of 100\n",
      "Training Loss: 0.4699927811968688\n"
     ]
    },
    {
     "name": "stderr",
     "output_type": "stream",
     "text": [
      " 22%|██▏       | 22/100 [02:32<08:34,  6.59s/it]"
     ]
    },
    {
     "name": "stdout",
     "output_type": "stream",
     "text": [
      "Training Accuracy: 83.64960466084061\n",
      "Validation Results for epoch: 22 of 100\n",
      "Validation Loss: 0.45332736633427445\n",
      "Validation Accuracy: 84.46127946127946\n",
      "\n",
      "----------- Epoch: 23 of 100 -----------\n",
      "\n",
      "Training Results for epoch: 23 of 100\n",
      "Training Loss: 0.5115645494883614\n"
     ]
    },
    {
     "name": "stderr",
     "output_type": "stream",
     "text": [
      " 23%|██▎       | 23/100 [02:39<08:24,  6.55s/it]"
     ]
    },
    {
     "name": "stdout",
     "output_type": "stream",
     "text": [
      "Training Accuracy: 82.28464419475655\n",
      "Validation Results for epoch: 23 of 100\n",
      "Validation Loss: 0.5064983419435738\n",
      "Validation Accuracy: 82.34006734006734\n",
      "\n",
      "----------- Epoch: 24 of 100 -----------\n",
      "\n",
      "Training Results for epoch: 24 of 100\n",
      "Training Loss: 0.4974735002594076\n"
     ]
    },
    {
     "name": "stderr",
     "output_type": "stream",
     "text": [
      " 24%|██▍       | 24/100 [02:45<08:14,  6.51s/it]"
     ]
    },
    {
     "name": "stdout",
     "output_type": "stream",
     "text": [
      "Training Accuracy: 81.8789013732834\n",
      "Validation Results for epoch: 24 of 100\n",
      "Validation Loss: 0.49940586007773524\n",
      "Validation Accuracy: 81.66666666666667\n",
      "\n",
      "----------- Epoch: 25 of 100 -----------\n",
      "\n",
      "Training Results for epoch: 25 of 100\n",
      "Training Loss: 0.4681236093539481\n"
     ]
    },
    {
     "name": "stderr",
     "output_type": "stream",
     "text": [
      " 25%|██▌       | 25/100 [02:51<08:04,  6.46s/it]"
     ]
    },
    {
     "name": "stdout",
     "output_type": "stream",
     "text": [
      "Training Accuracy: 83.7203495630462\n",
      "Validation Results for epoch: 25 of 100\n",
      "Validation Loss: 0.45733407580331165\n",
      "Validation Accuracy: 84.22558922558923\n",
      "\n",
      "----------- Epoch: 26 of 100 -----------\n",
      "\n",
      "Training Results for epoch: 26 of 100\n",
      "Training Loss: 0.4690105854282757\n"
     ]
    },
    {
     "name": "stderr",
     "output_type": "stream",
     "text": [
      " 26%|██▌       | 26/100 [02:58<07:59,  6.48s/it]"
     ]
    },
    {
     "name": "stdout",
     "output_type": "stream",
     "text": [
      "Training Accuracy: 83.7578027465668\n",
      "Validation Results for epoch: 26 of 100\n",
      "Validation Loss: 0.4970682595622178\n",
      "Validation Accuracy: 83.11447811447812\n",
      "\n",
      "----------- Epoch: 27 of 100 -----------\n"
     ]
    },
    {
     "name": "stderr",
     "output_type": "stream",
     "text": [
      "/var/folders/n2/tp_hljqs4dx86jlwz1w_txnc0000gn/T/ipykernel_4739/3309338279.py:205: RuntimeWarning: invalid value encountered in true_divide\n",
      "  x_calc = X_ / np.sum(X_, axis=0)\n"
     ]
    },
    {
     "name": "stdout",
     "output_type": "stream",
     "text": [
      "\n",
      "Training Results for epoch: 27 of 100\n",
      "Training Loss: nan\n"
     ]
    },
    {
     "name": "stderr",
     "output_type": "stream",
     "text": [
      " 27%|██▋       | 27/100 [03:04<07:51,  6.46s/it]"
     ]
    },
    {
     "name": "stdout",
     "output_type": "stream",
     "text": [
      "Training Accuracy: 10.01664585934249\n",
      "Validation Results for epoch: 27 of 100\n",
      "Validation Loss: nan\n",
      "Validation Accuracy: 9.915824915824915\n",
      "\n",
      "----------- Epoch: 28 of 100 -----------\n",
      "\n",
      "Training Results for epoch: 28 of 100\n",
      "Training Loss: nan\n"
     ]
    },
    {
     "name": "stderr",
     "output_type": "stream",
     "text": [
      " 28%|██▊       | 28/100 [03:11<07:45,  6.46s/it]"
     ]
    },
    {
     "name": "stdout",
     "output_type": "stream",
     "text": [
      "Training Accuracy: 9.92093216812318\n",
      "Validation Results for epoch: 28 of 100\n",
      "Validation Loss: nan\n",
      "Validation Accuracy: 10.69023569023569\n",
      "\n",
      "----------- Epoch: 29 of 100 -----------\n",
      "\n",
      "Training Results for epoch: 29 of 100\n",
      "Training Loss: nan\n"
     ]
    },
    {
     "name": "stderr",
     "output_type": "stream",
     "text": [
      " 29%|██▉       | 29/100 [03:17<07:34,  6.39s/it]"
     ]
    },
    {
     "name": "stdout",
     "output_type": "stream",
     "text": [
      "Training Accuracy: 9.958385351643779\n",
      "Validation Results for epoch: 29 of 100\n",
      "Validation Loss: nan\n",
      "Validation Accuracy: 10.387205387205386\n",
      "\n",
      "----------- Epoch: 30 of 100 -----------\n",
      "\n",
      "Training Results for epoch: 30 of 100\n",
      "Training Loss: nan\n"
     ]
    },
    {
     "name": "stderr",
     "output_type": "stream",
     "text": [
      " 30%|███       | 30/100 [03:23<07:24,  6.35s/it]"
     ]
    },
    {
     "name": "stdout",
     "output_type": "stream",
     "text": [
      "Training Accuracy: 9.929255097794423\n",
      "Validation Results for epoch: 30 of 100\n",
      "Validation Loss: nan\n",
      "Validation Accuracy: 10.622895622895623\n",
      "\n",
      "----------- Epoch: 31 of 100 -----------\n",
      "\n",
      "Training Results for epoch: 31 of 100\n",
      "Training Loss: nan\n"
     ]
    },
    {
     "name": "stderr",
     "output_type": "stream",
     "text": [
      " 31%|███       | 31/100 [03:29<07:15,  6.31s/it]"
     ]
    },
    {
     "name": "stdout",
     "output_type": "stream",
     "text": [
      "Training Accuracy: 9.989596337910944\n",
      "Validation Results for epoch: 31 of 100\n",
      "Validation Loss: nan\n",
      "Validation Accuracy: 10.134680134680135\n",
      "\n",
      "----------- Epoch: 32 of 100 -----------\n",
      "\n",
      "Training Results for epoch: 32 of 100\n",
      "Training Loss: nan\n"
     ]
    },
    {
     "name": "stderr",
     "output_type": "stream",
     "text": [
      " 32%|███▏      | 32/100 [03:36<07:10,  6.33s/it]"
     ]
    },
    {
     "name": "stdout",
     "output_type": "stream",
     "text": [
      "Training Accuracy: 10.049937578027466\n",
      "Validation Results for epoch: 32 of 100\n",
      "Validation Loss: nan\n",
      "Validation Accuracy: 9.646464646464645\n",
      "\n",
      "----------- Epoch: 33 of 100 -----------\n",
      "\n",
      "Training Results for epoch: 33 of 100\n",
      "Training Loss: nan\n"
     ]
    },
    {
     "name": "stderr",
     "output_type": "stream",
     "text": [
      " 33%|███▎      | 33/100 [03:42<07:02,  6.30s/it]"
     ]
    },
    {
     "name": "stdout",
     "output_type": "stream",
     "text": [
      "Training Accuracy: 10.002080732417811\n",
      "Validation Results for epoch: 33 of 100\n",
      "Validation Loss: nan\n",
      "Validation Accuracy: 10.033670033670033\n",
      "\n",
      "----------- Epoch: 34 of 100 -----------\n",
      "\n",
      "Training Results for epoch: 34 of 100\n",
      "Training Loss: nan\n"
     ]
    },
    {
     "name": "stderr",
     "output_type": "stream",
     "text": [
      " 34%|███▍      | 34/100 [03:48<06:54,  6.29s/it]"
     ]
    },
    {
     "name": "stdout",
     "output_type": "stream",
     "text": [
      "Training Accuracy: 9.981273408239701\n",
      "Validation Results for epoch: 34 of 100\n",
      "Validation Loss: nan\n",
      "Validation Accuracy: 10.202020202020202\n",
      "\n",
      "----------- Epoch: 35 of 100 -----------\n",
      "\n",
      "Training Results for epoch: 35 of 100\n",
      "Training Loss: nan\n"
     ]
    },
    {
     "name": "stderr",
     "output_type": "stream",
     "text": [
      " 35%|███▌      | 35/100 [03:55<06:47,  6.27s/it]"
     ]
    },
    {
     "name": "stdout",
     "output_type": "stream",
     "text": [
      "Training Accuracy: 9.925093632958802\n",
      "Validation Results for epoch: 35 of 100\n",
      "Validation Loss: nan\n",
      "Validation Accuracy: 10.656565656565657\n",
      "\n",
      "----------- Epoch: 36 of 100 -----------\n",
      "\n",
      "Training Results for epoch: 36 of 100\n",
      "Training Loss: nan\n"
     ]
    },
    {
     "name": "stderr",
     "output_type": "stream",
     "text": [
      " 36%|███▌      | 36/100 [04:01<06:39,  6.24s/it]"
     ]
    },
    {
     "name": "stdout",
     "output_type": "stream",
     "text": [
      "Training Accuracy: 9.923012900540991\n",
      "Validation Results for epoch: 36 of 100\n",
      "Validation Loss: nan\n",
      "Validation Accuracy: 10.673400673400673\n",
      "\n",
      "----------- Epoch: 37 of 100 -----------\n",
      "\n",
      "Training Results for epoch: 37 of 100\n",
      "Training Loss: nan\n"
     ]
    },
    {
     "name": "stderr",
     "output_type": "stream",
     "text": [
      " 37%|███▋      | 37/100 [04:07<06:33,  6.25s/it]"
     ]
    },
    {
     "name": "stdout",
     "output_type": "stream",
     "text": [
      "Training Accuracy: 10.054099042863088\n",
      "Validation Results for epoch: 37 of 100\n",
      "Validation Loss: nan\n",
      "Validation Accuracy: 9.612794612794612\n",
      "\n",
      "----------- Epoch: 38 of 100 -----------\n",
      "\n",
      "Training Results for epoch: 38 of 100\n",
      "Training Loss: nan\n"
     ]
    },
    {
     "name": "stderr",
     "output_type": "stream",
     "text": [
      " 38%|███▊      | 38/100 [04:13<06:25,  6.22s/it]"
     ]
    },
    {
     "name": "stdout",
     "output_type": "stream",
     "text": [
      "Training Accuracy: 9.997919267582189\n",
      "Validation Results for epoch: 38 of 100\n",
      "Validation Loss: nan\n",
      "Validation Accuracy: 10.067340067340067\n",
      "\n",
      "----------- Epoch: 39 of 100 -----------\n",
      "\n",
      "Training Results for epoch: 39 of 100\n",
      "Training Loss: nan\n"
     ]
    },
    {
     "name": "stderr",
     "output_type": "stream",
     "text": [
      " 39%|███▉      | 39/100 [04:19<06:18,  6.21s/it]"
     ]
    },
    {
     "name": "stdout",
     "output_type": "stream",
     "text": [
      "Training Accuracy: 9.995838535164378\n",
      "Validation Results for epoch: 39 of 100\n",
      "Validation Loss: nan\n",
      "Validation Accuracy: 10.084175084175085\n",
      "\n",
      "----------- Epoch: 40 of 100 -----------\n",
      "\n",
      "Training Results for epoch: 40 of 100\n",
      "Training Loss: nan\n"
     ]
    },
    {
     "name": "stderr",
     "output_type": "stream",
     "text": [
      " 40%|████      | 40/100 [04:26<06:17,  6.29s/it]"
     ]
    },
    {
     "name": "stdout",
     "output_type": "stream",
     "text": [
      "Training Accuracy: 10.122763212650854\n",
      "Validation Results for epoch: 40 of 100\n",
      "Validation Loss: nan\n",
      "Validation Accuracy: 9.057239057239057\n",
      "\n",
      "----------- Epoch: 41 of 100 -----------\n",
      "\n",
      "Training Results for epoch: 41 of 100\n",
      "Training Loss: nan\n"
     ]
    },
    {
     "name": "stderr",
     "output_type": "stream",
     "text": [
      " 41%|████      | 41/100 [04:32<06:09,  6.26s/it]"
     ]
    },
    {
     "name": "stdout",
     "output_type": "stream",
     "text": [
      "Training Accuracy: 10.052018310445277\n",
      "Validation Results for epoch: 41 of 100\n",
      "Validation Loss: nan\n",
      "Validation Accuracy: 9.62962962962963\n",
      "\n",
      "----------- Epoch: 42 of 100 -----------\n",
      "\n",
      "Training Results for epoch: 42 of 100\n",
      "Training Loss: nan\n"
     ]
    },
    {
     "name": "stderr",
     "output_type": "stream",
     "text": [
      " 42%|████▏     | 42/100 [04:38<06:01,  6.23s/it]"
     ]
    },
    {
     "name": "stdout",
     "output_type": "stream",
     "text": [
      "Training Accuracy: 9.981273408239701\n",
      "Validation Results for epoch: 42 of 100\n",
      "Validation Loss: nan\n",
      "Validation Accuracy: 10.202020202020202\n",
      "\n",
      "----------- Epoch: 43 of 100 -----------\n",
      "\n",
      "Training Results for epoch: 43 of 100\n",
      "Training Loss: nan\n"
     ]
    },
    {
     "name": "stderr",
     "output_type": "stream",
     "text": [
      " 43%|████▎     | 43/100 [04:44<05:53,  6.20s/it]"
     ]
    },
    {
     "name": "stdout",
     "output_type": "stream",
     "text": [
      "Training Accuracy: 9.966708281315023\n",
      "Validation Results for epoch: 43 of 100\n",
      "Validation Loss: nan\n",
      "Validation Accuracy: 10.31986531986532\n",
      "\n",
      "----------- Epoch: 44 of 100 -----------\n",
      "\n",
      "Training Results for epoch: 44 of 100\n",
      "Training Loss: nan\n"
     ]
    },
    {
     "name": "stderr",
     "output_type": "stream",
     "text": [
      " 44%|████▍     | 44/100 [04:50<05:47,  6.21s/it]"
     ]
    },
    {
     "name": "stdout",
     "output_type": "stream",
     "text": [
      "Training Accuracy: 9.937578027465669\n",
      "Validation Results for epoch: 44 of 100\n",
      "Validation Loss: nan\n",
      "Validation Accuracy: 10.555555555555555\n",
      "\n",
      "----------- Epoch: 45 of 100 -----------\n",
      "\n",
      "Training Results for epoch: 45 of 100\n",
      "Training Loss: nan\n"
     ]
    },
    {
     "name": "stderr",
     "output_type": "stream",
     "text": [
      " 45%|████▌     | 45/100 [04:57<05:40,  6.20s/it]"
     ]
    },
    {
     "name": "stdout",
     "output_type": "stream",
     "text": [
      "Training Accuracy: 10.029130253849356\n",
      "Validation Results for epoch: 45 of 100\n",
      "Validation Loss: nan\n",
      "Validation Accuracy: 9.814814814814815\n",
      "\n",
      "----------- Epoch: 46 of 100 -----------\n",
      "\n",
      "Training Results for epoch: 46 of 100\n",
      "Training Loss: nan\n"
     ]
    },
    {
     "name": "stderr",
     "output_type": "stream",
     "text": [
      " 46%|████▌     | 46/100 [05:03<05:33,  6.18s/it]"
     ]
    },
    {
     "name": "stdout",
     "output_type": "stream",
     "text": [
      "Training Accuracy: 9.972950478568455\n",
      "Validation Results for epoch: 46 of 100\n",
      "Validation Loss: nan\n",
      "Validation Accuracy: 10.26936026936027\n",
      "\n",
      "----------- Epoch: 47 of 100 -----------\n",
      "\n",
      "Training Results for epoch: 47 of 100\n",
      "Training Loss: nan\n"
     ]
    },
    {
     "name": "stderr",
     "output_type": "stream",
     "text": [
      " 47%|████▋     | 47/100 [05:09<05:29,  6.21s/it]"
     ]
    },
    {
     "name": "stdout",
     "output_type": "stream",
     "text": [
      "Training Accuracy: 10.033291718684977\n",
      "Validation Results for epoch: 47 of 100\n",
      "Validation Loss: nan\n",
      "Validation Accuracy: 9.78114478114478\n",
      "\n",
      "----------- Epoch: 48 of 100 -----------\n",
      "\n",
      "Training Results for epoch: 48 of 100\n",
      "Training Loss: nan\n"
     ]
    },
    {
     "name": "stderr",
     "output_type": "stream",
     "text": [
      " 48%|████▊     | 48/100 [05:15<05:21,  6.18s/it]"
     ]
    },
    {
     "name": "stdout",
     "output_type": "stream",
     "text": [
      "Training Accuracy: 10.02080732417811\n",
      "Validation Results for epoch: 48 of 100\n",
      "Validation Loss: nan\n",
      "Validation Accuracy: 9.882154882154882\n",
      "\n",
      "----------- Epoch: 49 of 100 -----------\n",
      "\n",
      "Training Results for epoch: 49 of 100\n",
      "Training Loss: nan\n"
     ]
    },
    {
     "name": "stderr",
     "output_type": "stream",
     "text": [
      " 49%|████▉     | 49/100 [05:23<05:41,  6.70s/it]"
     ]
    },
    {
     "name": "stdout",
     "output_type": "stream",
     "text": [
      "Training Accuracy: 10.002080732417811\n",
      "Validation Results for epoch: 49 of 100\n",
      "Validation Loss: nan\n",
      "Validation Accuracy: 10.033670033670033\n",
      "\n",
      "----------- Epoch: 50 of 100 -----------\n",
      "\n",
      "Training Results for epoch: 50 of 100\n",
      "Training Loss: nan\n"
     ]
    },
    {
     "name": "stderr",
     "output_type": "stream",
     "text": [
      " 50%|█████     | 50/100 [05:29<05:28,  6.57s/it]"
     ]
    },
    {
     "name": "stdout",
     "output_type": "stream",
     "text": [
      "Training Accuracy: 10.037453183520599\n",
      "Validation Results for epoch: 50 of 100\n",
      "Validation Loss: nan\n",
      "Validation Accuracy: 9.747474747474747\n",
      "\n",
      "----------- Epoch: 51 of 100 -----------\n",
      "\n",
      "Training Results for epoch: 51 of 100\n",
      "Training Loss: nan\n"
     ]
    },
    {
     "name": "stderr",
     "output_type": "stream",
     "text": [
      " 51%|█████     | 51/100 [05:36<05:18,  6.51s/it]"
     ]
    },
    {
     "name": "stdout",
     "output_type": "stream",
     "text": [
      "Training Accuracy: 10.01664585934249\n",
      "Validation Results for epoch: 51 of 100\n",
      "Validation Loss: nan\n",
      "Validation Accuracy: 9.915824915824915\n",
      "\n",
      "----------- Epoch: 52 of 100 -----------\n",
      "\n",
      "Training Results for epoch: 52 of 100\n",
      "Training Loss: nan\n"
     ]
    },
    {
     "name": "stderr",
     "output_type": "stream",
     "text": [
      " 52%|█████▏    | 52/100 [05:42<05:09,  6.45s/it]"
     ]
    },
    {
     "name": "stdout",
     "output_type": "stream",
     "text": [
      "Training Accuracy: 9.952143154390345\n",
      "Validation Results for epoch: 52 of 100\n",
      "Validation Loss: nan\n",
      "Validation Accuracy: 10.437710437710438\n",
      "\n",
      "----------- Epoch: 53 of 100 -----------\n",
      "\n",
      "Training Results for epoch: 53 of 100\n",
      "Training Loss: nan\n"
     ]
    },
    {
     "name": "stderr",
     "output_type": "stream",
     "text": [
      " 53%|█████▎    | 53/100 [05:48<05:00,  6.40s/it]"
     ]
    },
    {
     "name": "stdout",
     "output_type": "stream",
     "text": [
      "Training Accuracy: 9.968789013732835\n",
      "Validation Results for epoch: 53 of 100\n",
      "Validation Loss: nan\n",
      "Validation Accuracy: 10.303030303030303\n",
      "\n",
      "----------- Epoch: 54 of 100 -----------\n",
      "\n",
      "Training Results for epoch: 54 of 100\n",
      "Training Loss: nan\n"
     ]
    },
    {
     "name": "stderr",
     "output_type": "stream",
     "text": [
      " 54%|█████▍    | 54/100 [05:55<04:51,  6.35s/it]"
     ]
    },
    {
     "name": "stdout",
     "output_type": "stream",
     "text": [
      "Training Accuracy: 9.9438202247191\n",
      "Validation Results for epoch: 54 of 100\n",
      "Validation Loss: nan\n",
      "Validation Accuracy: 10.505050505050505\n",
      "\n",
      "----------- Epoch: 55 of 100 -----------\n",
      "\n",
      "Training Results for epoch: 55 of 100\n",
      "Training Loss: nan\n"
     ]
    },
    {
     "name": "stderr",
     "output_type": "stream",
     "text": [
      " 55%|█████▌    | 55/100 [06:01<04:42,  6.28s/it]"
     ]
    },
    {
     "name": "stdout",
     "output_type": "stream",
     "text": [
      "Training Accuracy: 10.031210986267167\n",
      "Validation Results for epoch: 55 of 100\n",
      "Validation Loss: nan\n",
      "Validation Accuracy: 9.7979797979798\n",
      "\n",
      "----------- Epoch: 56 of 100 -----------\n",
      "\n",
      "Training Results for epoch: 56 of 100\n",
      "Training Loss: nan\n"
     ]
    },
    {
     "name": "stderr",
     "output_type": "stream",
     "text": [
      " 56%|█████▌    | 56/100 [06:07<04:34,  6.24s/it]"
     ]
    },
    {
     "name": "stdout",
     "output_type": "stream",
     "text": [
      "Training Accuracy: 10.122763212650854\n",
      "Validation Results for epoch: 56 of 100\n",
      "Validation Loss: nan\n",
      "Validation Accuracy: 9.057239057239057\n",
      "\n",
      "----------- Epoch: 57 of 100 -----------\n",
      "\n",
      "Training Results for epoch: 57 of 100\n",
      "Training Loss: nan\n"
     ]
    },
    {
     "name": "stderr",
     "output_type": "stream",
     "text": [
      " 57%|█████▋    | 57/100 [06:13<04:26,  6.20s/it]"
     ]
    },
    {
     "name": "stdout",
     "output_type": "stream",
     "text": [
      "Training Accuracy: 10.05826050769871\n",
      "Validation Results for epoch: 57 of 100\n",
      "Validation Loss: nan\n",
      "Validation Accuracy: 9.57912457912458\n",
      "\n",
      "----------- Epoch: 58 of 100 -----------\n",
      "\n",
      "Training Results for epoch: 58 of 100\n",
      "Training Loss: nan\n"
     ]
    },
    {
     "name": "stderr",
     "output_type": "stream",
     "text": [
      " 58%|█████▊    | 58/100 [06:19<04:20,  6.20s/it]"
     ]
    },
    {
     "name": "stdout",
     "output_type": "stream",
     "text": [
      "Training Accuracy: 9.972950478568455\n",
      "Validation Results for epoch: 58 of 100\n",
      "Validation Loss: nan\n",
      "Validation Accuracy: 10.26936026936027\n",
      "\n",
      "----------- Epoch: 59 of 100 -----------\n",
      "\n",
      "Training Results for epoch: 59 of 100\n",
      "Training Loss: nan\n"
     ]
    },
    {
     "name": "stderr",
     "output_type": "stream",
     "text": [
      " 59%|█████▉    | 59/100 [06:25<04:15,  6.23s/it]"
     ]
    },
    {
     "name": "stdout",
     "output_type": "stream",
     "text": [
      "Training Accuracy: 10.070744902205577\n",
      "Validation Results for epoch: 59 of 100\n",
      "Validation Loss: nan\n",
      "Validation Accuracy: 9.47811447811448\n",
      "\n",
      "----------- Epoch: 60 of 100 -----------\n",
      "\n",
      "Training Results for epoch: 60 of 100\n",
      "Training Loss: nan\n"
     ]
    },
    {
     "name": "stderr",
     "output_type": "stream",
     "text": [
      " 60%|██████    | 60/100 [06:32<04:07,  6.20s/it]"
     ]
    },
    {
     "name": "stdout",
     "output_type": "stream",
     "text": [
      "Training Accuracy: 9.997919267582189\n",
      "Validation Results for epoch: 60 of 100\n",
      "Validation Loss: nan\n",
      "Validation Accuracy: 10.067340067340067\n",
      "\n",
      "----------- Epoch: 61 of 100 -----------\n",
      "\n",
      "Training Results for epoch: 61 of 100\n",
      "Training Loss: nan\n"
     ]
    },
    {
     "name": "stderr",
     "output_type": "stream",
     "text": [
      " 61%|██████    | 61/100 [06:38<04:01,  6.20s/it]"
     ]
    },
    {
     "name": "stdout",
     "output_type": "stream",
     "text": [
      "Training Accuracy: 10.02288805659592\n",
      "Validation Results for epoch: 61 of 100\n",
      "Validation Loss: nan\n",
      "Validation Accuracy: 9.865319865319865\n",
      "\n",
      "----------- Epoch: 62 of 100 -----------\n",
      "\n",
      "Training Results for epoch: 62 of 100\n",
      "Training Loss: nan\n"
     ]
    },
    {
     "name": "stderr",
     "output_type": "stream",
     "text": [
      " 62%|██████▏   | 62/100 [06:44<03:54,  6.17s/it]"
     ]
    },
    {
     "name": "stdout",
     "output_type": "stream",
     "text": [
      "Training Accuracy: 9.997919267582189\n",
      "Validation Results for epoch: 62 of 100\n",
      "Validation Loss: nan\n",
      "Validation Accuracy: 10.067340067340067\n",
      "\n",
      "----------- Epoch: 63 of 100 -----------\n",
      "\n",
      "Training Results for epoch: 63 of 100\n",
      "Training Loss: nan\n"
     ]
    },
    {
     "name": "stderr",
     "output_type": "stream",
     "text": [
      " 63%|██████▎   | 63/100 [06:50<03:48,  6.18s/it]"
     ]
    },
    {
     "name": "stdout",
     "output_type": "stream",
     "text": [
      "Training Accuracy: 10.006242197253433\n",
      "Validation Results for epoch: 63 of 100\n",
      "Validation Loss: nan\n",
      "Validation Accuracy: 10.0\n",
      "\n",
      "----------- Epoch: 64 of 100 -----------\n",
      "\n",
      "Training Results for epoch: 64 of 100\n",
      "Training Loss: nan\n"
     ]
    },
    {
     "name": "stderr",
     "output_type": "stream",
     "text": [
      " 64%|██████▍   | 64/100 [06:56<03:43,  6.20s/it]"
     ]
    },
    {
     "name": "stdout",
     "output_type": "stream",
     "text": [
      "Training Accuracy: 10.13524760715772\n",
      "Validation Results for epoch: 64 of 100\n",
      "Validation Loss: nan\n",
      "Validation Accuracy: 8.956228956228957\n",
      "\n",
      "----------- Epoch: 65 of 100 -----------\n",
      "\n",
      "Training Results for epoch: 65 of 100\n",
      "Training Loss: nan\n"
     ]
    },
    {
     "name": "stderr",
     "output_type": "stream",
     "text": [
      " 65%|██████▌   | 65/100 [07:02<03:35,  6.16s/it]"
     ]
    },
    {
     "name": "stdout",
     "output_type": "stream",
     "text": [
      "Training Accuracy: 10.008322929671245\n",
      "Validation Results for epoch: 65 of 100\n",
      "Validation Loss: nan\n",
      "Validation Accuracy: 9.983164983164983\n",
      "\n",
      "----------- Epoch: 66 of 100 -----------\n",
      "\n",
      "Training Results for epoch: 66 of 100\n",
      "Training Loss: nan\n"
     ]
    },
    {
     "name": "stderr",
     "output_type": "stream",
     "text": [
      " 66%|██████▌   | 66/100 [07:09<03:29,  6.15s/it]"
     ]
    },
    {
     "name": "stdout",
     "output_type": "stream",
     "text": [
      "Training Accuracy: 9.93965875988348\n",
      "Validation Results for epoch: 66 of 100\n",
      "Validation Loss: nan\n",
      "Validation Accuracy: 10.53872053872054\n",
      "\n",
      "----------- Epoch: 67 of 100 -----------\n",
      "\n",
      "Training Results for epoch: 67 of 100\n",
      "Training Loss: nan\n"
     ]
    },
    {
     "name": "stderr",
     "output_type": "stream",
     "text": [
      " 67%|██████▋   | 67/100 [07:15<03:27,  6.29s/it]"
     ]
    },
    {
     "name": "stdout",
     "output_type": "stream",
     "text": [
      "Training Accuracy: 9.918851435705369\n",
      "Validation Results for epoch: 67 of 100\n",
      "Validation Loss: nan\n",
      "Validation Accuracy: 10.707070707070706\n",
      "\n",
      "----------- Epoch: 68 of 100 -----------\n",
      "\n",
      "Training Results for epoch: 68 of 100\n",
      "Training Loss: nan\n"
     ]
    },
    {
     "name": "stderr",
     "output_type": "stream",
     "text": [
      " 68%|██████▊   | 68/100 [07:21<03:21,  6.30s/it]"
     ]
    },
    {
     "name": "stdout",
     "output_type": "stream",
     "text": [
      "Training Accuracy: 10.066583437369953\n",
      "Validation Results for epoch: 68 of 100\n",
      "Validation Loss: nan\n",
      "Validation Accuracy: 9.511784511784512\n",
      "\n",
      "----------- Epoch: 69 of 100 -----------\n",
      "\n",
      "Training Results for epoch: 69 of 100\n",
      "Training Loss: nan\n"
     ]
    },
    {
     "name": "stderr",
     "output_type": "stream",
     "text": [
      " 69%|██████▉   | 69/100 [07:28<03:18,  6.40s/it]"
     ]
    },
    {
     "name": "stdout",
     "output_type": "stream",
     "text": [
      "Training Accuracy: 10.012484394506867\n",
      "Validation Results for epoch: 69 of 100\n",
      "Validation Loss: nan\n",
      "Validation Accuracy: 9.94949494949495\n",
      "\n",
      "----------- Epoch: 70 of 100 -----------\n",
      "\n",
      "Training Results for epoch: 70 of 100\n",
      "Training Loss: nan\n"
     ]
    },
    {
     "name": "stderr",
     "output_type": "stream",
     "text": [
      " 70%|███████   | 70/100 [07:34<03:09,  6.33s/it]"
     ]
    },
    {
     "name": "stdout",
     "output_type": "stream",
     "text": [
      "Training Accuracy: 9.989596337910944\n",
      "Validation Results for epoch: 70 of 100\n",
      "Validation Loss: nan\n",
      "Validation Accuracy: 10.134680134680135\n",
      "\n",
      "----------- Epoch: 71 of 100 -----------\n",
      "\n",
      "Training Results for epoch: 71 of 100\n",
      "Training Loss: nan\n"
     ]
    },
    {
     "name": "stderr",
     "output_type": "stream",
     "text": [
      " 71%|███████   | 71/100 [07:40<03:02,  6.28s/it]"
     ]
    },
    {
     "name": "stdout",
     "output_type": "stream",
     "text": [
      "Training Accuracy: 9.983354140657513\n",
      "Validation Results for epoch: 71 of 100\n",
      "Validation Loss: nan\n",
      "Validation Accuracy: 10.185185185185185\n",
      "\n",
      "----------- Epoch: 72 of 100 -----------\n",
      "\n",
      "Training Results for epoch: 72 of 100\n",
      "Training Loss: nan\n"
     ]
    },
    {
     "name": "stderr",
     "output_type": "stream",
     "text": [
      " 72%|███████▏  | 72/100 [07:47<02:56,  6.29s/it]"
     ]
    },
    {
     "name": "stdout",
     "output_type": "stream",
     "text": [
      "Training Accuracy: 10.010403662089056\n",
      "Validation Results for epoch: 72 of 100\n",
      "Validation Loss: nan\n",
      "Validation Accuracy: 9.966329966329965\n",
      "\n",
      "----------- Epoch: 73 of 100 -----------\n",
      "\n",
      "Training Results for epoch: 73 of 100\n",
      "Training Loss: nan\n"
     ]
    },
    {
     "name": "stderr",
     "output_type": "stream",
     "text": [
      " 73%|███████▎  | 73/100 [07:53<02:50,  6.31s/it]"
     ]
    },
    {
     "name": "stdout",
     "output_type": "stream",
     "text": [
      "Training Accuracy: 9.962546816479401\n",
      "Validation Results for epoch: 73 of 100\n",
      "Validation Loss: nan\n",
      "Validation Accuracy: 10.353535353535353\n",
      "\n",
      "----------- Epoch: 74 of 100 -----------\n",
      "\n",
      "Training Results for epoch: 74 of 100\n",
      "Training Loss: nan\n"
     ]
    },
    {
     "name": "stderr",
     "output_type": "stream",
     "text": [
      " 74%|███████▍  | 74/100 [07:59<02:44,  6.31s/it]"
     ]
    },
    {
     "name": "stdout",
     "output_type": "stream",
     "text": [
      "Training Accuracy: 9.950062421972534\n",
      "Validation Results for epoch: 74 of 100\n",
      "Validation Loss: nan\n",
      "Validation Accuracy: 10.454545454545453\n",
      "\n",
      "----------- Epoch: 75 of 100 -----------\n",
      "\n",
      "Training Results for epoch: 75 of 100\n",
      "Training Loss: nan\n"
     ]
    },
    {
     "name": "stderr",
     "output_type": "stream",
     "text": [
      " 75%|███████▌  | 75/100 [08:06<02:37,  6.29s/it]"
     ]
    },
    {
     "name": "stdout",
     "output_type": "stream",
     "text": [
      "Training Accuracy: 10.033291718684977\n",
      "Validation Results for epoch: 75 of 100\n",
      "Validation Loss: nan\n",
      "Validation Accuracy: 9.78114478114478\n",
      "\n",
      "----------- Epoch: 76 of 100 -----------\n",
      "\n",
      "Training Results for epoch: 76 of 100\n",
      "Training Loss: nan\n"
     ]
    },
    {
     "name": "stderr",
     "output_type": "stream",
     "text": [
      " 76%|███████▌  | 76/100 [08:12<02:30,  6.27s/it]"
     ]
    },
    {
     "name": "stdout",
     "output_type": "stream",
     "text": [
      "Training Accuracy: 9.995838535164378\n",
      "Validation Results for epoch: 76 of 100\n",
      "Validation Loss: nan\n",
      "Validation Accuracy: 10.084175084175085\n",
      "\n",
      "----------- Epoch: 77 of 100 -----------\n",
      "\n",
      "Training Results for epoch: 77 of 100\n",
      "Training Loss: nan\n"
     ]
    },
    {
     "name": "stderr",
     "output_type": "stream",
     "text": [
      " 77%|███████▋  | 77/100 [08:18<02:23,  6.25s/it]"
     ]
    },
    {
     "name": "stdout",
     "output_type": "stream",
     "text": [
      "Training Accuracy: 10.012484394506867\n",
      "Validation Results for epoch: 77 of 100\n",
      "Validation Loss: nan\n",
      "Validation Accuracy: 9.94949494949495\n",
      "\n",
      "----------- Epoch: 78 of 100 -----------\n",
      "\n",
      "Training Results for epoch: 78 of 100\n",
      "Training Loss: nan\n"
     ]
    },
    {
     "name": "stderr",
     "output_type": "stream",
     "text": [
      " 78%|███████▊  | 78/100 [08:24<02:17,  6.26s/it]"
     ]
    },
    {
     "name": "stdout",
     "output_type": "stream",
     "text": [
      "Training Accuracy: 10.07906783187682\n",
      "Validation Results for epoch: 78 of 100\n",
      "Validation Loss: nan\n",
      "Validation Accuracy: 9.410774410774412\n",
      "\n",
      "----------- Epoch: 79 of 100 -----------\n",
      "\n",
      "Training Results for epoch: 79 of 100\n",
      "Training Loss: nan\n"
     ]
    },
    {
     "name": "stderr",
     "output_type": "stream",
     "text": [
      " 79%|███████▉  | 79/100 [08:31<02:11,  6.26s/it]"
     ]
    },
    {
     "name": "stdout",
     "output_type": "stream",
     "text": [
      "Training Accuracy: 9.991677070328755\n",
      "Validation Results for epoch: 79 of 100\n",
      "Validation Loss: nan\n",
      "Validation Accuracy: 10.117845117845118\n",
      "\n",
      "----------- Epoch: 80 of 100 -----------\n",
      "\n",
      "Training Results for epoch: 80 of 100\n",
      "Training Loss: nan\n"
     ]
    },
    {
     "name": "stderr",
     "output_type": "stream",
     "text": [
      " 80%|████████  | 80/100 [08:37<02:05,  6.28s/it]"
     ]
    },
    {
     "name": "stdout",
     "output_type": "stream",
     "text": [
      "Training Accuracy: 10.010403662089056\n",
      "Validation Results for epoch: 80 of 100\n",
      "Validation Loss: nan\n",
      "Validation Accuracy: 9.966329966329965\n",
      "\n",
      "----------- Epoch: 81 of 100 -----------\n",
      "\n",
      "Training Results for epoch: 81 of 100\n",
      "Training Loss: nan\n"
     ]
    },
    {
     "name": "stderr",
     "output_type": "stream",
     "text": [
      " 81%|████████  | 81/100 [08:43<01:58,  6.25s/it]"
     ]
    },
    {
     "name": "stdout",
     "output_type": "stream",
     "text": [
      "Training Accuracy: 10.004161464835622\n",
      "Validation Results for epoch: 81 of 100\n",
      "Validation Loss: nan\n",
      "Validation Accuracy: 10.016835016835017\n",
      "\n",
      "----------- Epoch: 82 of 100 -----------\n",
      "\n",
      "Training Results for epoch: 82 of 100\n",
      "Training Loss: nan\n"
     ]
    },
    {
     "name": "stderr",
     "output_type": "stream",
     "text": [
      " 82%|████████▏ | 82/100 [08:49<01:52,  6.23s/it]"
     ]
    },
    {
     "name": "stdout",
     "output_type": "stream",
     "text": [
      "Training Accuracy: 10.064502704952142\n",
      "Validation Results for epoch: 82 of 100\n",
      "Validation Loss: nan\n",
      "Validation Accuracy: 9.528619528619528\n",
      "\n",
      "----------- Epoch: 83 of 100 -----------\n",
      "\n",
      "Training Results for epoch: 83 of 100\n",
      "Training Loss: nan\n"
     ]
    },
    {
     "name": "stderr",
     "output_type": "stream",
     "text": [
      " 83%|████████▎ | 83/100 [08:55<01:45,  6.22s/it]"
     ]
    },
    {
     "name": "stdout",
     "output_type": "stream",
     "text": [
      "Training Accuracy: 10.002080732417811\n",
      "Validation Results for epoch: 83 of 100\n",
      "Validation Loss: nan\n",
      "Validation Accuracy: 10.033670033670033\n",
      "\n",
      "----------- Epoch: 84 of 100 -----------\n",
      "\n",
      "Training Results for epoch: 84 of 100\n",
      "Training Loss: nan\n"
     ]
    },
    {
     "name": "stderr",
     "output_type": "stream",
     "text": [
      " 84%|████████▍ | 84/100 [09:02<01:39,  6.22s/it]"
     ]
    },
    {
     "name": "stdout",
     "output_type": "stream",
     "text": [
      "Training Accuracy: 9.995838535164378\n",
      "Validation Results for epoch: 84 of 100\n",
      "Validation Loss: nan\n",
      "Validation Accuracy: 10.084175084175085\n",
      "\n",
      "----------- Epoch: 85 of 100 -----------\n",
      "\n",
      "Training Results for epoch: 85 of 100\n",
      "Training Loss: nan\n"
     ]
    },
    {
     "name": "stderr",
     "output_type": "stream",
     "text": [
      " 85%|████████▌ | 85/100 [09:08<01:34,  6.32s/it]"
     ]
    },
    {
     "name": "stdout",
     "output_type": "stream",
     "text": [
      "Training Accuracy: 10.047856845609655\n",
      "Validation Results for epoch: 85 of 100\n",
      "Validation Loss: nan\n",
      "Validation Accuracy: 9.663299663299663\n",
      "\n",
      "----------- Epoch: 86 of 100 -----------\n",
      "\n",
      "Training Results for epoch: 86 of 100\n",
      "Training Loss: nan\n"
     ]
    },
    {
     "name": "stderr",
     "output_type": "stream",
     "text": [
      " 86%|████████▌ | 86/100 [09:15<01:28,  6.35s/it]"
     ]
    },
    {
     "name": "stdout",
     "output_type": "stream",
     "text": [
      "Training Accuracy: 10.018726591760299\n",
      "Validation Results for epoch: 86 of 100\n",
      "Validation Loss: nan\n",
      "Validation Accuracy: 9.8989898989899\n",
      "\n",
      "----------- Epoch: 87 of 100 -----------\n",
      "\n",
      "Training Results for epoch: 87 of 100\n",
      "Training Loss: nan\n"
     ]
    },
    {
     "name": "stderr",
     "output_type": "stream",
     "text": [
      " 87%|████████▋ | 87/100 [09:21<01:21,  6.30s/it]"
     ]
    },
    {
     "name": "stdout",
     "output_type": "stream",
     "text": [
      "Training Accuracy: 9.993757802746567\n",
      "Validation Results for epoch: 87 of 100\n",
      "Validation Loss: nan\n",
      "Validation Accuracy: 10.1010101010101\n",
      "\n",
      "----------- Epoch: 88 of 100 -----------\n",
      "\n",
      "Training Results for epoch: 88 of 100\n",
      "Training Loss: nan\n"
     ]
    },
    {
     "name": "stderr",
     "output_type": "stream",
     "text": [
      " 88%|████████▊ | 88/100 [09:27<01:15,  6.27s/it]"
     ]
    },
    {
     "name": "stdout",
     "output_type": "stream",
     "text": [
      "Training Accuracy: 10.031210986267167\n",
      "Validation Results for epoch: 88 of 100\n",
      "Validation Loss: nan\n",
      "Validation Accuracy: 9.7979797979798\n",
      "\n",
      "----------- Epoch: 89 of 100 -----------\n",
      "\n",
      "Training Results for epoch: 89 of 100\n",
      "Training Loss: nan\n"
     ]
    },
    {
     "name": "stderr",
     "output_type": "stream",
     "text": [
      " 89%|████████▉ | 89/100 [09:33<01:08,  6.25s/it]"
     ]
    },
    {
     "name": "stdout",
     "output_type": "stream",
     "text": [
      "Training Accuracy: 9.945900957136912\n",
      "Validation Results for epoch: 89 of 100\n",
      "Validation Loss: nan\n",
      "Validation Accuracy: 10.488215488215488\n",
      "\n",
      "----------- Epoch: 90 of 100 -----------\n",
      "\n",
      "Training Results for epoch: 90 of 100\n",
      "Training Loss: nan\n"
     ]
    },
    {
     "name": "stderr",
     "output_type": "stream",
     "text": [
      " 90%|█████████ | 90/100 [09:39<01:02,  6.24s/it]"
     ]
    },
    {
     "name": "stdout",
     "output_type": "stream",
     "text": [
      "Training Accuracy: 10.027049521431545\n",
      "Validation Results for epoch: 90 of 100\n",
      "Validation Loss: nan\n",
      "Validation Accuracy: 9.831649831649832\n",
      "\n",
      "----------- Epoch: 91 of 100 -----------\n",
      "\n",
      "Training Results for epoch: 91 of 100\n",
      "Training Loss: nan\n"
     ]
    },
    {
     "name": "stderr",
     "output_type": "stream",
     "text": [
      " 91%|█████████ | 91/100 [09:46<00:56,  6.25s/it]"
     ]
    },
    {
     "name": "stdout",
     "output_type": "stream",
     "text": [
      "Training Accuracy: 9.972950478568455\n",
      "Validation Results for epoch: 91 of 100\n",
      "Validation Loss: nan\n",
      "Validation Accuracy: 10.26936026936027\n",
      "\n",
      "----------- Epoch: 92 of 100 -----------\n",
      "\n",
      "Training Results for epoch: 92 of 100\n",
      "Training Loss: nan\n"
     ]
    },
    {
     "name": "stderr",
     "output_type": "stream",
     "text": [
      " 92%|█████████▏| 92/100 [09:52<00:49,  6.22s/it]"
     ]
    },
    {
     "name": "stdout",
     "output_type": "stream",
     "text": [
      "Training Accuracy: 9.989596337910944\n",
      "Validation Results for epoch: 92 of 100\n",
      "Validation Loss: nan\n",
      "Validation Accuracy: 10.134680134680135\n",
      "\n",
      "----------- Epoch: 93 of 100 -----------\n",
      "\n",
      "Training Results for epoch: 93 of 100\n",
      "Training Loss: nan\n"
     ]
    },
    {
     "name": "stderr",
     "output_type": "stream",
     "text": [
      " 93%|█████████▎| 93/100 [09:58<00:43,  6.25s/it]"
     ]
    },
    {
     "name": "stdout",
     "output_type": "stream",
     "text": [
      "Training Accuracy: 9.962546816479401\n",
      "Validation Results for epoch: 93 of 100\n",
      "Validation Loss: nan\n",
      "Validation Accuracy: 10.353535353535353\n",
      "\n",
      "----------- Epoch: 94 of 100 -----------\n",
      "\n",
      "Training Results for epoch: 94 of 100\n",
      "Training Loss: nan\n"
     ]
    },
    {
     "name": "stderr",
     "output_type": "stream",
     "text": [
      " 94%|█████████▍| 94/100 [10:04<00:37,  6.22s/it]"
     ]
    },
    {
     "name": "stdout",
     "output_type": "stream",
     "text": [
      "Training Accuracy: 9.997919267582189\n",
      "Validation Results for epoch: 94 of 100\n",
      "Validation Loss: nan\n",
      "Validation Accuracy: 10.067340067340067\n",
      "\n",
      "----------- Epoch: 95 of 100 -----------\n",
      "\n",
      "Training Results for epoch: 95 of 100\n",
      "Training Loss: nan\n"
     ]
    },
    {
     "name": "stderr",
     "output_type": "stream",
     "text": [
      " 95%|█████████▌| 95/100 [10:11<00:31,  6.34s/it]"
     ]
    },
    {
     "name": "stdout",
     "output_type": "stream",
     "text": [
      "Training Accuracy: 10.041614648356221\n",
      "Validation Results for epoch: 95 of 100\n",
      "Validation Loss: nan\n",
      "Validation Accuracy: 9.713804713804713\n",
      "\n",
      "----------- Epoch: 96 of 100 -----------\n",
      "\n",
      "Training Results for epoch: 96 of 100\n",
      "Training Loss: nan\n"
     ]
    },
    {
     "name": "stderr",
     "output_type": "stream",
     "text": [
      " 96%|█████████▌| 96/100 [10:17<00:25,  6.28s/it]"
     ]
    },
    {
     "name": "stdout",
     "output_type": "stream",
     "text": [
      "Training Accuracy: 10.0561797752809\n",
      "Validation Results for epoch: 96 of 100\n",
      "Validation Loss: nan\n",
      "Validation Accuracy: 9.595959595959595\n",
      "\n",
      "----------- Epoch: 97 of 100 -----------\n",
      "\n",
      "Training Results for epoch: 97 of 100\n",
      "Training Loss: nan\n"
     ]
    },
    {
     "name": "stderr",
     "output_type": "stream",
     "text": [
      " 97%|█████████▋| 97/100 [10:23<00:18,  6.24s/it]"
     ]
    },
    {
     "name": "stdout",
     "output_type": "stream",
     "text": [
      "Training Accuracy: 10.093632958801498\n",
      "Validation Results for epoch: 97 of 100\n",
      "Validation Loss: nan\n",
      "Validation Accuracy: 9.292929292929292\n",
      "\n",
      "----------- Epoch: 98 of 100 -----------\n",
      "\n",
      "Training Results for epoch: 98 of 100\n",
      "Training Loss: nan\n"
     ]
    },
    {
     "name": "stderr",
     "output_type": "stream",
     "text": [
      " 98%|█████████▊| 98/100 [10:29<00:12,  6.21s/it]"
     ]
    },
    {
     "name": "stdout",
     "output_type": "stream",
     "text": [
      "Training Accuracy: 9.96046608406159\n",
      "Validation Results for epoch: 98 of 100\n",
      "Validation Loss: nan\n",
      "Validation Accuracy: 10.37037037037037\n",
      "\n",
      "----------- Epoch: 99 of 100 -----------\n",
      "\n",
      "Training Results for epoch: 99 of 100\n",
      "Training Loss: nan\n"
     ]
    },
    {
     "name": "stderr",
     "output_type": "stream",
     "text": [
      " 99%|█████████▉| 99/100 [10:37<00:06,  6.50s/it]"
     ]
    },
    {
     "name": "stdout",
     "output_type": "stream",
     "text": [
      "Training Accuracy: 9.987515605493133\n",
      "Validation Results for epoch: 99 of 100\n",
      "Validation Loss: nan\n",
      "Validation Accuracy: 10.151515151515152\n",
      "\n",
      "----------- Epoch: 100 of 100 -----------\n",
      "\n",
      "Training Results for epoch: 100 of 100\n",
      "Training Loss: nan\n"
     ]
    },
    {
     "name": "stderr",
     "output_type": "stream",
     "text": [
      "100%|██████████| 100/100 [10:43<00:00,  6.44s/it]"
     ]
    },
    {
     "name": "stdout",
     "output_type": "stream",
     "text": [
      "Training Accuracy: 10.004161464835622\n",
      "Validation Results for epoch: 100 of 100\n",
      "Validation Loss: nan\n",
      "Validation Accuracy: 10.016835016835017\n"
     ]
    },
    {
     "name": "stderr",
     "output_type": "stream",
     "text": [
      "\n"
     ]
    },
    {
     "data": {
      "text/plain": [
       "<__main__.MyNeuralNetwork at 0x11aecf190>"
      ]
     },
     "execution_count": 38,
     "metadata": {},
     "output_type": "execute_result"
    }
   ],
   "source": [
    "#Training using Linear Activation. Please note that due to a high learning rate, the gradients explode at the 27th epoch\n",
    "nn4 = MyNeuralNetwork(n_layers=3, layer_sizes=[256, 128, 64], learning_rate=0.1, num_epochs=100, batch_size=32, weight_init='normal', activation=\"linear\")\n",
    "nn4.fit(np.array(mnist_train_flat, dtype='float32'), nn4.one_hot_encode(mnist_train_labels.astype(int),10))"
   ]
  },
  {
   "cell_type": "markdown",
   "metadata": {},
   "source": [
    "The learned weights and biases for each activation function after 50 epochs and 100 epochs have been saved in /checkpoints/activation-function-name"
   ]
  },
  {
   "cell_type": "markdown",
   "metadata": {},
   "source": [
    "5 (c). Test saved models at 50 and 100 epochs on test set for all activations."
   ]
  },
  {
   "cell_type": "code",
   "execution_count": 28,
   "metadata": {},
   "outputs": [],
   "source": [
    "#load weights from the saved pickle files and report accuracies on the test dataset \n",
    "my_accuracies = pd.DataFrame(columns=['50_epochs', '100_epochs'], index=[\"sigmoid\", \"tanh\", \"relu\", \"linear\"])\n",
    "for a in [\"sigmoid\", \"tanh\", \"relu\", \"linear\"]:\n",
    "    acc = []\n",
    "    for epoch in ['50','100']:\n",
    "        test_nn = MyNeuralNetwork(n_layers=3, layer_sizes=[256, 128, 64], learning_rate=0.1, num_epochs=5, batch_size=32, weight_init='normal', activation=a)\n",
    "        weights_file = \"checkpoints/\"+a+\"/\"+epoch+\"_\"+a+\"_weights.pkl\"\n",
    "        test_nn.weights = joblib.load(weights_file)\n",
    "        bias_file = \"checkpoints/\"+a+\"/\"+epoch+\"_\"+a+\"_bias.pkl\"\n",
    "        test_nn.bias = joblib.load(bias_file)\n",
    "        scr = test_nn.score(np.array(mnist_test_flat, dtype='float32'), mnist_test_labels.astype(int))*100\n",
    "        acc.append(scr)\n",
    "    my_accuracies.loc[a] = acc"
   ]
  },
  {
   "cell_type": "code",
   "execution_count": 31,
   "metadata": {},
   "outputs": [
    {
     "name": "stdout",
     "output_type": "stream",
     "text": [
      "Accuracies on test set for my implementation:\n",
      "+---------+-------------+--------------+\n",
      "|         |   50_epochs |   100_epochs |\n",
      "|---------+-------------+--------------|\n",
      "| sigmoid |     88.4667 |        88.8  |\n",
      "| tanh    |     89.2833 |        88.45 |\n",
      "| relu    |     89.7    |        89.45 |\n",
      "| linear  |      9.95   |         9.95 |\n",
      "+---------+-------------+--------------+\n"
     ]
    }
   ],
   "source": [
    "print(\"Accuracies on test set for my implementation:\")\n",
    "print(tabulate(my_accuracies, headers='keys', tablefmt='psql'))"
   ]
  },
  {
   "cell_type": "markdown",
   "metadata": {},
   "source": [
    "5(b). Training loss vs epoch curve and validation loss vs epoch curve for ReLU and Sigmoid activation function"
   ]
  },
  {
   "cell_type": "code",
   "execution_count": 20,
   "metadata": {},
   "outputs": [],
   "source": [
    "def plot_loss_curve():\n",
    "    sns.set()\n",
    "    fig, axes = plt.subplots(1, 2, figsize=(15,7))#15 7\n",
    "    plt.subplots_adjust(wspace=0.2, hspace=0.4)\n",
    "    axes[0].set_title(\"ReLU\")\n",
    "    axes[1].set_title(\"Sigmoid\")\n",
    "    sns.lineplot(x=np.linspace(1,100,100), y=training_loss[\"relu\"], ax=axes[0])\n",
    "    sns.lineplot(x=np.linspace(1,100,100), y=validation_loss[\"relu\"], ax=axes[0])\n",
    "    sns.lineplot(x=np.linspace(1,100,100), y=training_loss[\"sigmoid\"], ax=axes[1])\n",
    "    sns.lineplot(x=np.linspace(1,100,100), y=validation_loss[\"sigmoid\"], ax=axes[1])\n",
    "    axes[0].set_xlabel(\"Epoch\")\n",
    "    axes[0].set_ylabel(\"Loss\")\n",
    "    axes[1].set_xlabel(\"Epoch\")\n",
    "    axes[1].set_ylabel(\"Loss\")\n",
    "    axes[0].legend(loc='upper right', labels=['training', 'validation'])\n",
    "    axes[1].legend(loc='upper right', labels=['training', 'validation'])\n",
    "    fig.suptitle(\"Loss vs Epoch Curves\")\n",
    "    plt.savefig(\"loss_curves_relu_sigmoid.png\")\n",
    "    plt.show()"
   ]
  },
  {
   "cell_type": "code",
   "execution_count": 21,
   "metadata": {},
   "outputs": [
    {
     "data": {
      "image/png": "[encoded data removed]",
      "text/plain": [
       "<Figure size 1080x504 with 2 Axes>"
      ]
     },
     "metadata": {},
     "output_type": "display_data"
    }
   ],
   "source": [
    "plot_loss_curve()"
   ]
  },
  {
   "cell_type": "markdown",
   "metadata": {},
   "source": [
    "##### **Question 1: Part 6**"
   ]
  },
  {
   "cell_type": "code",
   "execution_count": 44,
   "metadata": {},
   "outputs": [
    {
     "name": "stdout",
     "output_type": "stream",
     "text": [
      "Iteration 1, loss = 0.54956344\n",
      "Iteration 2, loss = 0.39268738\n",
      "Iteration 3, loss = 0.35180555\n",
      "Iteration 4, loss = 0.32548673\n",
      "Iteration 5, loss = 0.30448772\n",
      "Iteration 6, loss = 0.28825450\n",
      "Iteration 7, loss = 0.27755963\n",
      "Iteration 8, loss = 0.26499282\n",
      "Iteration 9, loss = 0.25293950\n",
      "Iteration 10, loss = 0.24534916\n",
      "Iteration 11, loss = 0.23786828\n",
      "Iteration 12, loss = 0.22874060\n",
      "Iteration 13, loss = 0.22453215\n",
      "Iteration 14, loss = 0.21619593\n",
      "Iteration 15, loss = 0.20884032\n",
      "Iteration 16, loss = 0.20166635\n",
      "Iteration 17, loss = 0.19582943\n",
      "Iteration 18, loss = 0.19350689\n",
      "Iteration 19, loss = 0.18825211\n",
      "Iteration 20, loss = 0.18463253\n",
      "Iteration 21, loss = 0.18053355\n",
      "Iteration 22, loss = 0.17362635\n",
      "Iteration 23, loss = 0.16846729\n",
      "Iteration 24, loss = 0.16503565\n",
      "Iteration 25, loss = 0.16014472\n",
      "Iteration 26, loss = 0.15701411\n",
      "Iteration 27, loss = 0.15052729\n",
      "Iteration 28, loss = 0.15247049\n",
      "Iteration 29, loss = 0.15094679\n",
      "Iteration 30, loss = 0.14705859\n",
      "Iteration 31, loss = 0.14168726\n",
      "Iteration 32, loss = 0.13581694\n",
      "Iteration 33, loss = 0.13358121\n",
      "Iteration 34, loss = 0.13630536\n",
      "Iteration 35, loss = 0.13303106\n",
      "Iteration 36, loss = 0.13026964\n",
      "Iteration 37, loss = 0.12587658\n",
      "Iteration 38, loss = 0.12152644\n",
      "Iteration 39, loss = 0.11799521\n",
      "Iteration 40, loss = 0.11531322\n",
      "Iteration 41, loss = 0.11257427\n",
      "Iteration 42, loss = 0.11619373\n",
      "Iteration 43, loss = 0.10878273\n",
      "Iteration 44, loss = 0.10653976\n",
      "Iteration 45, loss = 0.10581230\n",
      "Iteration 46, loss = 0.10724365\n",
      "Iteration 47, loss = 0.10773021\n",
      "Iteration 48, loss = 0.09918940\n",
      "Iteration 49, loss = 0.10051340\n",
      "Iteration 50, loss = 0.10219857\n"
     ]
    },
    {
     "name": "stderr",
     "output_type": "stream",
     "text": [
      "/usr/local/lib/python3.9/site-packages/sklearn/neural_network/_multilayer_perceptron.py:692: ConvergenceWarning: Stochastic Optimizer: Maximum iterations (50) reached and the optimization hasn't converged yet.\n",
      "  warnings.warn(\n"
     ]
    },
    {
     "name": "stdout",
     "output_type": "stream",
     "text": [
      "Iteration 51, loss = 0.09510056\n",
      "Iteration 52, loss = 0.09332632\n",
      "Iteration 53, loss = 0.09017744\n",
      "Iteration 54, loss = 0.08752531\n",
      "Iteration 55, loss = 0.08784727\n",
      "Iteration 56, loss = 0.08944281\n",
      "Iteration 57, loss = 0.08659817\n",
      "Iteration 58, loss = 0.08881744\n",
      "Iteration 59, loss = 0.08484203\n",
      "Iteration 60, loss = 0.08044382\n",
      "Iteration 61, loss = 0.08373300\n",
      "Iteration 62, loss = 0.09186337\n",
      "Iteration 63, loss = 0.08279339\n",
      "Iteration 64, loss = 0.07727548\n",
      "Iteration 65, loss = 0.07703788\n",
      "Iteration 66, loss = 0.07957713\n",
      "Iteration 67, loss = 0.07602993\n",
      "Iteration 68, loss = 0.07929532\n",
      "Iteration 69, loss = 0.06883541\n",
      "Iteration 70, loss = 0.06996957\n",
      "Iteration 71, loss = 0.07174112\n",
      "Iteration 72, loss = 0.07314944\n",
      "Iteration 73, loss = 0.07341223\n",
      "Iteration 74, loss = 0.06485513\n",
      "Iteration 75, loss = 0.06167944\n",
      "Iteration 76, loss = 0.07091131\n",
      "Iteration 77, loss = 0.06652484\n",
      "Iteration 78, loss = 0.06786373\n",
      "Iteration 79, loss = 0.05557649\n",
      "Iteration 80, loss = 0.05690579\n",
      "Iteration 81, loss = 0.05954619\n",
      "Iteration 82, loss = 0.06164107\n",
      "Iteration 83, loss = 0.05780754\n",
      "Iteration 84, loss = 0.06634301\n",
      "Iteration 85, loss = 0.06150510\n",
      "Iteration 86, loss = 0.05077412\n",
      "Iteration 87, loss = 0.05876588\n",
      "Iteration 88, loss = 0.05509092\n",
      "Iteration 89, loss = 0.05553959\n",
      "Iteration 90, loss = 0.05893897\n",
      "Iteration 91, loss = 0.05646146\n",
      "Iteration 92, loss = 0.05389277\n",
      "Iteration 93, loss = 0.05681118\n",
      "Iteration 94, loss = 0.05879182\n",
      "Iteration 95, loss = 0.05470708\n",
      "Iteration 96, loss = 0.04146921\n",
      "Iteration 97, loss = 0.04599753\n",
      "Iteration 98, loss = 0.04749419\n",
      "Iteration 99, loss = 0.04272798\n",
      "Iteration 100, loss = 0.05258978\n"
     ]
    }
   ],
   "source": [
    "#run sklearn's MLP with ReLU as the loss function and plot losses for both.\n",
    "nn1_ = MyNeuralNetwork(n_layers=3, layer_sizes=[256, 128, 64], learning_rate=0.1, num_epochs=100, batch_size=32, weight_init='normal', activation=\"relu\")\n",
    "nn1_.compare_with_mlp(training_loss[\"relu\"], mnist_train_flat, mnist_train_labels.astype(int))"
   ]
  },
  {
   "cell_type": "code",
   "execution_count": 45,
   "metadata": {},
   "outputs": [
    {
     "name": "stdout",
     "output_type": "stream",
     "text": [
      "Iteration 1, loss = 0.51471381\n",
      "Iteration 2, loss = 0.39012565\n",
      "Iteration 3, loss = 0.35265138\n",
      "Iteration 4, loss = 0.32906033\n",
      "Iteration 5, loss = 0.30909565\n",
      "Iteration 6, loss = 0.29511740\n",
      "Iteration 7, loss = 0.28192320\n",
      "Iteration 8, loss = 0.27023572\n",
      "Iteration 9, loss = 0.26000107\n",
      "Iteration 10, loss = 0.25062298\n",
      "Iteration 11, loss = 0.24221577\n",
      "Iteration 12, loss = 0.23350708\n",
      "Iteration 13, loss = 0.22560617\n",
      "Iteration 14, loss = 0.21748704\n",
      "Iteration 15, loss = 0.21119399\n",
      "Iteration 16, loss = 0.20439609\n",
      "Iteration 17, loss = 0.19863052\n",
      "Iteration 18, loss = 0.19401454\n",
      "Iteration 19, loss = 0.18857751\n",
      "Iteration 20, loss = 0.18224309\n",
      "Iteration 21, loss = 0.17595456\n",
      "Iteration 22, loss = 0.17128181\n",
      "Iteration 23, loss = 0.16842952\n",
      "Iteration 24, loss = 0.16239848\n",
      "Iteration 25, loss = 0.15823108\n",
      "Iteration 26, loss = 0.15551763\n",
      "Iteration 27, loss = 0.14976591\n",
      "Iteration 28, loss = 0.14495453\n",
      "Iteration 29, loss = 0.14051096\n",
      "Iteration 30, loss = 0.13863305\n",
      "Iteration 31, loss = 0.13528029\n",
      "Iteration 32, loss = 0.13084776\n",
      "Iteration 33, loss = 0.12942074\n",
      "Iteration 34, loss = 0.12253475\n",
      "Iteration 35, loss = 0.12351151\n",
      "Iteration 36, loss = 0.11670905\n",
      "Iteration 37, loss = 0.11457687\n",
      "Iteration 38, loss = 0.10979567\n",
      "Iteration 39, loss = 0.11380428\n",
      "Iteration 40, loss = 0.10968806\n",
      "Iteration 41, loss = 0.10149792\n",
      "Iteration 42, loss = 0.10006891\n",
      "Iteration 43, loss = 0.10262886\n",
      "Iteration 44, loss = 0.09857863\n",
      "Iteration 45, loss = 0.09672819\n",
      "Iteration 46, loss = 0.09494046\n",
      "Iteration 47, loss = 0.09386836\n",
      "Iteration 48, loss = 0.08725266\n",
      "Iteration 49, loss = 0.09030889\n",
      "Iteration 50, loss = 0.08628755\n"
     ]
    },
    {
     "name": "stderr",
     "output_type": "stream",
     "text": [
      "/usr/local/lib/python3.9/site-packages/sklearn/neural_network/_multilayer_perceptron.py:692: ConvergenceWarning: Stochastic Optimizer: Maximum iterations (50) reached and the optimization hasn't converged yet.\n",
      "  warnings.warn(\n"
     ]
    },
    {
     "name": "stdout",
     "output_type": "stream",
     "text": [
      "Iteration 51, loss = 0.08713591\n",
      "Iteration 52, loss = 0.08374984\n",
      "Iteration 53, loss = 0.08346095\n",
      "Iteration 54, loss = 0.07820357\n",
      "Iteration 55, loss = 0.07559019\n",
      "Iteration 56, loss = 0.07682625\n",
      "Iteration 57, loss = 0.07147350\n",
      "Iteration 58, loss = 0.07782127\n",
      "Iteration 59, loss = 0.06840677\n",
      "Iteration 60, loss = 0.06892909\n",
      "Iteration 61, loss = 0.06895629\n",
      "Iteration 62, loss = 0.06917370\n",
      "Iteration 63, loss = 0.07412648\n",
      "Iteration 64, loss = 0.07033283\n",
      "Iteration 65, loss = 0.05662873\n",
      "Iteration 66, loss = 0.05580843\n",
      "Iteration 67, loss = 0.05998552\n",
      "Iteration 68, loss = 0.06369082\n",
      "Iteration 69, loss = 0.05625851\n",
      "Iteration 70, loss = 0.06043907\n",
      "Iteration 71, loss = 0.06578914\n",
      "Iteration 72, loss = 0.05879139\n",
      "Iteration 73, loss = 0.05018764\n",
      "Iteration 74, loss = 0.05452103\n",
      "Iteration 75, loss = 0.05777708\n",
      "Iteration 76, loss = 0.05448226\n",
      "Iteration 77, loss = 0.05245753\n",
      "Iteration 78, loss = 0.06224584\n",
      "Iteration 79, loss = 0.05127826\n",
      "Iteration 80, loss = 0.05210366\n",
      "Iteration 81, loss = 0.05600223\n",
      "Iteration 82, loss = 0.04922828\n",
      "Iteration 83, loss = 0.04256981\n",
      "Iteration 84, loss = 0.04031731\n",
      "Iteration 85, loss = 0.06315718\n",
      "Iteration 86, loss = 0.06436218\n",
      "Iteration 87, loss = 0.04365610\n",
      "Iteration 88, loss = 0.04189576\n",
      "Iteration 89, loss = 0.03572142\n",
      "Iteration 90, loss = 0.03385750\n",
      "Iteration 91, loss = 0.05173594\n",
      "Iteration 92, loss = 0.04451486\n",
      "Iteration 93, loss = 0.04657192\n",
      "Iteration 94, loss = 0.04363832\n",
      "Iteration 95, loss = 0.04009297\n",
      "Iteration 96, loss = 0.03907461\n",
      "Iteration 97, loss = 0.04912585\n",
      "Iteration 98, loss = 0.05005781\n",
      "Iteration 99, loss = 0.04708161\n",
      "Iteration 100, loss = 0.03590479\n"
     ]
    }
   ],
   "source": [
    "#run sklearn's MLP with tanh as the loss function and plot losses for both.\n",
    "nn2_ = MyNeuralNetwork(n_layers=3, layer_sizes=[256, 128, 64], learning_rate=0.1, num_epochs=100, batch_size=32, weight_init='normal', activation=\"tanh\")\n",
    "nn2_.compare_with_mlp(training_loss[\"tanh\"], mnist_train_flat, mnist_train_labels.astype(int))"
   ]
  },
  {
   "cell_type": "code",
   "execution_count": 46,
   "metadata": {},
   "outputs": [
    {
     "name": "stdout",
     "output_type": "stream",
     "text": [
      "Iteration 1, loss = 2.02367717\n",
      "Iteration 2, loss = 0.95720552\n",
      "Iteration 3, loss = 0.74486950\n",
      "Iteration 4, loss = 0.64532120\n",
      "Iteration 5, loss = 0.57201175\n",
      "Iteration 6, loss = 0.52005666\n",
      "Iteration 7, loss = 0.48428663\n",
      "Iteration 8, loss = 0.45897302\n",
      "Iteration 9, loss = 0.43928874\n",
      "Iteration 10, loss = 0.42327233\n",
      "Iteration 11, loss = 0.40899844\n",
      "Iteration 12, loss = 0.39609271\n",
      "Iteration 13, loss = 0.38499294\n",
      "Iteration 14, loss = 0.37518376\n",
      "Iteration 15, loss = 0.36618427\n",
      "Iteration 16, loss = 0.35984990\n",
      "Iteration 17, loss = 0.35189751\n",
      "Iteration 18, loss = 0.34644228\n",
      "Iteration 19, loss = 0.34013237\n",
      "Iteration 20, loss = 0.33245079\n",
      "Iteration 21, loss = 0.32819861\n",
      "Iteration 22, loss = 0.32184883\n",
      "Iteration 23, loss = 0.31775343\n",
      "Iteration 24, loss = 0.31295533\n",
      "Iteration 25, loss = 0.30934649\n",
      "Iteration 26, loss = 0.30446354\n",
      "Iteration 27, loss = 0.29972459\n",
      "Iteration 28, loss = 0.29678959\n",
      "Iteration 29, loss = 0.29238674\n",
      "Iteration 30, loss = 0.28929531\n",
      "Iteration 31, loss = 0.28534028\n",
      "Iteration 32, loss = 0.28121457\n",
      "Iteration 33, loss = 0.27744676\n",
      "Iteration 34, loss = 0.27466469\n",
      "Iteration 35, loss = 0.27149839\n",
      "Iteration 36, loss = 0.26847377\n",
      "Iteration 37, loss = 0.26554765\n",
      "Iteration 38, loss = 0.26288555\n",
      "Iteration 39, loss = 0.25894867\n",
      "Iteration 40, loss = 0.25464057\n",
      "Iteration 41, loss = 0.25320796\n",
      "Iteration 42, loss = 0.25173681\n",
      "Iteration 43, loss = 0.24845838\n",
      "Iteration 44, loss = 0.24436340\n",
      "Iteration 45, loss = 0.24130287\n",
      "Iteration 46, loss = 0.24065588\n",
      "Iteration 47, loss = 0.23651653\n",
      "Iteration 48, loss = 0.23481611\n",
      "Iteration 49, loss = 0.23135438\n",
      "Iteration 50, loss = 0.22832288\n"
     ]
    },
    {
     "name": "stderr",
     "output_type": "stream",
     "text": [
      "/usr/local/lib/python3.9/site-packages/sklearn/neural_network/_multilayer_perceptron.py:692: ConvergenceWarning: Stochastic Optimizer: Maximum iterations (50) reached and the optimization hasn't converged yet.\n",
      "  warnings.warn(\n"
     ]
    },
    {
     "name": "stdout",
     "output_type": "stream",
     "text": [
      "Iteration 51, loss = 0.22609717\n",
      "Iteration 52, loss = 0.22432152\n",
      "Iteration 53, loss = 0.22201128\n",
      "Iteration 54, loss = 0.21788792\n",
      "Iteration 55, loss = 0.21718861\n",
      "Iteration 56, loss = 0.21472701\n",
      "Iteration 57, loss = 0.21216861\n",
      "Iteration 58, loss = 0.20918891\n",
      "Iteration 59, loss = 0.20893843\n",
      "Iteration 60, loss = 0.20486352\n",
      "Iteration 61, loss = 0.20328249\n",
      "Iteration 62, loss = 0.20137630\n",
      "Iteration 63, loss = 0.19995307\n",
      "Iteration 64, loss = 0.19628347\n",
      "Iteration 65, loss = 0.19503197\n",
      "Iteration 66, loss = 0.19313242\n",
      "Iteration 67, loss = 0.19057666\n",
      "Iteration 68, loss = 0.18959462\n",
      "Iteration 69, loss = 0.18700780\n",
      "Iteration 70, loss = 0.18486090\n",
      "Iteration 71, loss = 0.18423520\n",
      "Iteration 72, loss = 0.18156283\n",
      "Iteration 73, loss = 0.18189041\n",
      "Iteration 74, loss = 0.17808105\n",
      "Iteration 75, loss = 0.17534483\n",
      "Iteration 76, loss = 0.17376319\n",
      "Iteration 77, loss = 0.17161380\n",
      "Iteration 78, loss = 0.17011892\n",
      "Iteration 79, loss = 0.16819045\n",
      "Iteration 80, loss = 0.16750199\n",
      "Iteration 81, loss = 0.16480673\n",
      "Iteration 82, loss = 0.16346417\n",
      "Iteration 83, loss = 0.16008704\n",
      "Iteration 84, loss = 0.15855652\n",
      "Iteration 85, loss = 0.15794003\n",
      "Iteration 86, loss = 0.15537266\n",
      "Iteration 87, loss = 0.15584061\n",
      "Iteration 88, loss = 0.15388461\n",
      "Iteration 89, loss = 0.15157683\n",
      "Iteration 90, loss = 0.15029964\n",
      "Iteration 91, loss = 0.14756651\n",
      "Iteration 92, loss = 0.14766276\n",
      "Iteration 93, loss = 0.14487180\n",
      "Iteration 94, loss = 0.14277010\n",
      "Iteration 95, loss = 0.14201281\n",
      "Iteration 96, loss = 0.13965140\n",
      "Iteration 97, loss = 0.13954731\n",
      "Iteration 98, loss = 0.13651936\n",
      "Iteration 99, loss = 0.13627605\n",
      "Iteration 100, loss = 0.13371503\n"
     ]
    }
   ],
   "source": [
    "#run sklearn's MLP with sigmoid as the loss function and plot losses for both.\n",
    "nn3_ = MyNeuralNetwork(n_layers=3, layer_sizes=[256, 128, 64], learning_rate=0.1, num_epochs=100, batch_size=32, weight_init='normal', activation=\"sigmoid\")\n",
    "nn3_.compare_with_mlp(training_loss[\"sigmoid\"], mnist_train_flat, mnist_train_labels.astype(int))"
   ]
  },
  {
   "cell_type": "code",
   "execution_count": 47,
   "metadata": {},
   "outputs": [
    {
     "name": "stderr",
     "output_type": "stream",
     "text": [
      "/usr/local/lib/python3.9/site-packages/sklearn/utils/extmath.py:153: RuntimeWarning: overflow encountered in matmul\n",
      "  ret = a @ b\n",
      "/usr/local/lib/python3.9/site-packages/sklearn/utils/extmath.py:153: RuntimeWarning: invalid value encountered in matmul\n",
      "  ret = a @ b\n"
     ]
    },
    {
     "name": "stdout",
     "output_type": "stream",
     "text": [
      "Iteration 1, loss = nan\n",
      "Iteration 2, loss = nan\n",
      "Iteration 3, loss = nan\n",
      "Iteration 4, loss = nan\n",
      "Iteration 5, loss = nan\n",
      "Iteration 6, loss = nan\n",
      "Iteration 7, loss = nan\n",
      "Iteration 8, loss = nan\n",
      "Iteration 9, loss = nan\n",
      "Iteration 10, loss = nan\n",
      "Iteration 11, loss = nan\n",
      "Iteration 12, loss = nan\n",
      "Iteration 13, loss = nan\n",
      "Iteration 14, loss = nan\n",
      "Iteration 15, loss = nan\n",
      "Iteration 16, loss = nan\n",
      "Iteration 17, loss = nan\n",
      "Iteration 18, loss = nan\n",
      "Iteration 19, loss = nan\n",
      "Iteration 20, loss = nan\n",
      "Iteration 21, loss = nan\n",
      "Iteration 22, loss = nan\n",
      "Iteration 23, loss = nan\n",
      "Iteration 24, loss = nan\n",
      "Iteration 25, loss = nan\n",
      "Iteration 26, loss = nan\n",
      "Iteration 27, loss = nan\n",
      "Iteration 28, loss = nan\n",
      "Iteration 29, loss = nan\n",
      "Iteration 30, loss = nan\n",
      "Iteration 31, loss = nan\n",
      "Iteration 32, loss = nan\n",
      "Iteration 33, loss = nan\n",
      "Iteration 34, loss = nan\n",
      "Iteration 35, loss = nan\n",
      "Iteration 36, loss = nan\n",
      "Iteration 37, loss = nan\n",
      "Iteration 38, loss = nan\n",
      "Iteration 39, loss = nan\n",
      "Iteration 40, loss = nan\n",
      "Iteration 41, loss = nan\n",
      "Iteration 42, loss = nan\n",
      "Iteration 43, loss = nan\n",
      "Iteration 44, loss = nan\n",
      "Iteration 45, loss = nan\n",
      "Iteration 46, loss = nan\n",
      "Iteration 47, loss = nan\n",
      "Iteration 48, loss = nan\n",
      "Iteration 49, loss = nan\n",
      "Iteration 50, loss = nan\n"
     ]
    },
    {
     "name": "stderr",
     "output_type": "stream",
     "text": [
      "/usr/local/lib/python3.9/site-packages/sklearn/neural_network/_multilayer_perceptron.py:692: ConvergenceWarning: Stochastic Optimizer: Maximum iterations (50) reached and the optimization hasn't converged yet.\n",
      "  warnings.warn(\n"
     ]
    },
    {
     "name": "stdout",
     "output_type": "stream",
     "text": [
      "Iteration 51, loss = nan\n",
      "Iteration 52, loss = nan\n",
      "Iteration 53, loss = nan\n",
      "Iteration 54, loss = nan\n",
      "Iteration 55, loss = nan\n",
      "Iteration 56, loss = nan\n",
      "Iteration 57, loss = nan\n",
      "Iteration 58, loss = nan\n",
      "Iteration 59, loss = nan\n",
      "Iteration 60, loss = nan\n",
      "Iteration 61, loss = nan\n",
      "Iteration 62, loss = nan\n",
      "Iteration 63, loss = nan\n",
      "Iteration 64, loss = nan\n",
      "Iteration 65, loss = nan\n",
      "Iteration 66, loss = nan\n",
      "Iteration 67, loss = nan\n",
      "Iteration 68, loss = nan\n",
      "Iteration 69, loss = nan\n",
      "Iteration 70, loss = nan\n",
      "Iteration 71, loss = nan\n",
      "Iteration 72, loss = nan\n",
      "Iteration 73, loss = nan\n",
      "Iteration 74, loss = nan\n",
      "Iteration 75, loss = nan\n",
      "Iteration 76, loss = nan\n",
      "Iteration 77, loss = nan\n",
      "Iteration 78, loss = nan\n",
      "Iteration 79, loss = nan\n",
      "Iteration 80, loss = nan\n",
      "Iteration 81, loss = nan\n",
      "Iteration 82, loss = nan\n",
      "Iteration 83, loss = nan\n",
      "Iteration 84, loss = nan\n",
      "Iteration 85, loss = nan\n",
      "Iteration 86, loss = nan\n",
      "Iteration 87, loss = nan\n",
      "Iteration 88, loss = nan\n",
      "Iteration 89, loss = nan\n",
      "Iteration 90, loss = nan\n",
      "Iteration 91, loss = nan\n",
      "Iteration 92, loss = nan\n",
      "Iteration 93, loss = nan\n",
      "Iteration 94, loss = nan\n",
      "Iteration 95, loss = nan\n",
      "Iteration 96, loss = nan\n",
      "Iteration 97, loss = nan\n",
      "Iteration 98, loss = nan\n",
      "Iteration 99, loss = nan\n",
      "Iteration 100, loss = nan\n"
     ]
    }
   ],
   "source": [
    "#run sklearn's MLP with linear as the loss function and plot losses for both.\n",
    "nn4_ = MyNeuralNetwork(n_layers=3, layer_sizes=[256, 128, 64], learning_rate=0.1, num_epochs=100, batch_size=32, weight_init='normal', activation=\"linear\")\n",
    "nn4_.compare_with_mlp(training_loss[\"linear\"], mnist_train_flat, mnist_train_labels.astype(int))"
   ]
  },
  {
   "cell_type": "code",
   "execution_count": 10,
   "metadata": {},
   "outputs": [],
   "source": [
    "validation_loss = joblib.load(\"validation_loss.pkl\")\n",
    "training_loss = joblib.load(\"training_loss.pkl\")"
   ]
  },
  {
   "cell_type": "markdown",
   "metadata": {},
   "source": [
    "Plots obtained after training Sklearn's MLP for each of the given activations are:\n",
    "\n",
    "* ReLU activation\n",
    "\n",
    "![ReLU-Loss-Comparison](relu_comparison.png)\n",
    "\n",
    "* Sigmoid activation\n",
    "\n",
    "![Sigmoid-Loss-Comparison](sigmoid_comparison.png)\n",
    "\n",
    "* Tanh activation\n",
    "\n",
    "![Tanh-Loss-Comparison](tanh_comparison.png)\n",
    "\n",
    "* Linear activation\n",
    "\n",
    "![Linear-Loss-Comparison](linear_comparison.png)"
   ]
  },
  {
   "cell_type": "code",
   "execution_count": 56,
   "metadata": {},
   "outputs": [],
   "source": [
    "#load weights from the saved pickle files for sklearn and my implementation for 50 and 100 epochs and create a dataframe of accuracy on test set\n",
    "accuracies = pd.DataFrame(columns=[\"sklearn_50_epochs\", \"mine_50_epochs\", \"sklearn_100_epochs\", \"mine_100_epochs\"], index=[\"sigmoid\", \"tanh\", \"relu\", \"linear\"])\n",
    "best_accuray = 0\n",
    "best_model = None\n",
    "model_type = ''\n",
    "best_epoch = ''\n",
    "for a in [\"sigmoid\", \"tanh\", \"relu\", \"linear\"]:\n",
    "    acc = []\n",
    "    for epoch in ['50','100']:\n",
    "        test_nn = MyNeuralNetwork(n_layers=3, layer_sizes=[256, 128, 64], learning_rate=0.1, num_epochs=5, batch_size=32, weight_init='normal', activation=a)\n",
    "        weights_file = \"checkpoints/\"+a+\"/\"+epoch+\"_\"+a+\"_weights.pkl\"\n",
    "        test_nn.weights = joblib.load(weights_file)\n",
    "        bias_file = \"checkpoints/\"+a+\"/\"+epoch+\"_\"+a+\"_bias.pkl\"\n",
    "        test_nn.bias = joblib.load(bias_file)\n",
    "        sklearn_path = \"checkpoints/sklearn/\"+epoch+\"_\"+a+\"_model.pkl\"\n",
    "        sklearn_model = joblib.load(sklearn_path)\n",
    "        acc1 = sklearn_model.score(np.array(mnist_test_flat, dtype='float32'), mnist_test_labels.astype(int))*100\n",
    "        acc2 = test_nn.score(np.array(mnist_test_flat, dtype='float32'), mnist_test_labels.astype(int))*100\n",
    "        acc.append(acc1)\n",
    "        acc.append(acc2)\n",
    "        if (acc1>best_accuray):\n",
    "            best_accuray = acc1\n",
    "            best_model = sklearn_model\n",
    "            model_type = 'sklearn'\n",
    "            best_epoch = epoch\n",
    "        if (acc2>best_accuray):\n",
    "            best_accuray = acc2\n",
    "            best_model = test_nn\n",
    "            model_type = 'my'\n",
    "            best_epoch = epoch\n",
    "    accuracies.loc[a] = acc"
   ]
  },
  {
   "cell_type": "code",
   "execution_count": 57,
   "metadata": {},
   "outputs": [
    {
     "name": "stdout",
     "output_type": "stream",
     "text": [
      "Accuracies on test set for sklearn and my implementation:\n",
      "+---------+---------------------+------------------+----------------------+-------------------+\n",
      "|         |   sklearn_50_epochs |   mine_50_epochs |   sklearn_100_epochs |   mine_100_epochs |\n",
      "|---------+---------------------+------------------+----------------------+-------------------|\n",
      "| sigmoid |             88.3167 |          88.4667 |              87.9833 |             88.8  |\n",
      "| tanh    |             88.05   |          89.2833 |              87.5667 |             88.45 |\n",
      "| relu    |             88.7333 |          89.7    |              88.7167 |             89.45 |\n",
      "| linear  |              9.95   |           9.95   |               9.95   |              9.95 |\n",
      "+---------+---------------------+------------------+----------------------+-------------------+\n"
     ]
    }
   ],
   "source": [
    "#accuracy of all loaded models:\n",
    "print(\"Accuracies on test set for sklearn and my implementation:\")\n",
    "print(tabulate(accuracies, headers='keys', tablefmt='psql'))"
   ]
  },
  {
   "cell_type": "code",
   "execution_count": 59,
   "metadata": {},
   "outputs": [
    {
     "name": "stdout",
     "output_type": "stream",
     "text": [
      "Best model in terms of accuracy is my MLP with relu as the loss function after 50 epochs\n",
      "Best accuracy obtained: 89.7%\n"
     ]
    }
   ],
   "source": [
    "#best overall model in terms of accuracy\n",
    "print(\"Best model in terms of accuracy is \"+model_type+ \" MLP with \"+best_model.activation+\" as the loss function after \"+ best_epoch+\" epochs\")\n",
    "print(\"Best accuracy obtained: \"+str(best_accuray)+\"%\")"
   ]
  }
 ],
 "metadata": {
  "interpreter": {
   "hash": "ab1ea1bbc64a25a735cdd83804af072055d29f17491929b49555a1cdb29e02e6"
  },
  "kernelspec": {
   "display_name": "Python 3.9.10 ('venv': venv)",
   "language": "python",
   "name": "python3"
  },
  "language_info": {
   "codemirror_mode": {
    "name": "ipython",
    "version": 3
   },
   "file_extension": ".py",
   "mimetype": "text/x-python",
   "name": "python",
   "nbconvert_exporter": "python",
   "pygments_lexer": "ipython3",
   "version": "3.9.10"
  },
  "orig_nbformat": 4
 },
 "nbformat": 4,
 "nbformat_minor": 2
}
