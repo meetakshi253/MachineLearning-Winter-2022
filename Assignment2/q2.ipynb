{
  "cells": [
    {
      "cell_type": "markdown",
      "metadata": {
        "id": "ALvC9PF3Ur0x"
      },
      "source": [
        "## Question 2"
      ]
    },
    {
      "cell_type": "code",
      "execution_count": null,
      "metadata": {
        "colab": {
          "base_uri": "https://localhost:8080/"
        },
        "id": "dow9HA9RVinC",
        "outputId": "67dff368-7a74-4117-db36-dbf958aa506c"
      },
      "outputs": [
        {
          "name": "stdout",
          "output_type": "stream",
          "text": [
            "Thu May  5 13:53:48 2022       \n",
            "+-----------------------------------------------------------------------------+\n",
            "| NVIDIA-SMI 460.32.03    Driver Version: 460.32.03    CUDA Version: 11.2     |\n",
            "|-------------------------------+----------------------+----------------------+\n",
            "| GPU  Name        Persistence-M| Bus-Id        Disp.A | Volatile Uncorr. ECC |\n",
            "| Fan  Temp  Perf  Pwr:Usage/Cap|         Memory-Usage | GPU-Util  Compute M. |\n",
            "|                               |                      |               MIG M. |\n",
            "|===============================+======================+======================|\n",
            "|   0  Tesla T4            Off  | 00000000:00:04.0 Off |                    0 |\n",
            "| N/A   48C    P0    28W /  70W |  13056MiB / 15109MiB |      0%      Default |\n",
            "|                               |                      |                  N/A |\n",
            "+-------------------------------+----------------------+----------------------+\n",
            "                                                                               \n",
            "+-----------------------------------------------------------------------------+\n",
            "| Processes:                                                                  |\n",
            "|  GPU   GI   CI        PID   Type   Process name                  GPU Memory |\n",
            "|        ID   ID                                                   Usage      |\n",
            "|=============================================================================|\n",
            "+-----------------------------------------------------------------------------+\n"
          ]
        }
      ],
      "source": [
        "!nvidia-smi"
      ]
    },
    {
      "cell_type": "code",
      "execution_count": null,
      "metadata": {
        "colab": {
          "base_uri": "https://localhost:8080/"
        },
        "id": "cUCEdwU8J6Cr",
        "outputId": "8e0b3b17-70c3-4e3a-b7b4-1fd3b532a249"
      },
      "outputs": [
        {
          "name": "stdout",
          "output_type": "stream",
          "text": [
            "Mounted at /content/drive\n"
          ]
        }
      ],
      "source": [
        "from google.colab import drive\n",
        "drive.mount('/content/drive')"
      ]
    },
    {
      "cell_type": "code",
      "execution_count": null,
      "metadata": {
        "colab": {
          "base_uri": "https://localhost:8080/"
        },
        "id": "n_rseAjT-WE_",
        "outputId": "c2c912eb-ab4b-48ae-b6d9-546a25bd31bb"
      },
      "outputs": [
        {
          "name": "stdout",
          "output_type": "stream",
          "text": [
            "Collecting wandb\n",
            "  Downloading wandb-0.12.16-py2.py3-none-any.whl (1.8 MB)\n",
            "\u001b[?25l\r\u001b[K     |▏                               | 10 kB 33.4 MB/s eta 0:00:01\r\u001b[K     |▍                               | 20 kB 40.4 MB/s eta 0:00:01\r\u001b[K     |▌                               | 30 kB 41.0 MB/s eta 0:00:01\r\u001b[K     |▊                               | 40 kB 26.5 MB/s eta 0:00:01\r\u001b[K     |█                               | 51 kB 21.1 MB/s eta 0:00:01\r\u001b[K     |█                               | 61 kB 24.2 MB/s eta 0:00:01\r\u001b[K     |█▎                              | 71 kB 24.7 MB/s eta 0:00:01\r\u001b[K     |█▌                              | 81 kB 26.6 MB/s eta 0:00:01\r\u001b[K     |█▋                              | 92 kB 29.0 MB/s eta 0:00:01\r\u001b[K     |█▉                              | 102 kB 30.4 MB/s eta 0:00:01\r\u001b[K     |██                              | 112 kB 30.4 MB/s eta 0:00:01\r\u001b[K     |██▏                             | 122 kB 30.4 MB/s eta 0:00:01\r\u001b[K     |██▍                             | 133 kB 30.4 MB/s eta 0:00:01\r\u001b[K     |██▋                             | 143 kB 30.4 MB/s eta 0:00:01\r\u001b[K     |██▊                             | 153 kB 30.4 MB/s eta 0:00:01\r\u001b[K     |███                             | 163 kB 30.4 MB/s eta 0:00:01\r\u001b[K     |███▏                            | 174 kB 30.4 MB/s eta 0:00:01\r\u001b[K     |███▎                            | 184 kB 30.4 MB/s eta 0:00:01\r\u001b[K     |███▌                            | 194 kB 30.4 MB/s eta 0:00:01\r\u001b[K     |███▋                            | 204 kB 30.4 MB/s eta 0:00:01\r\u001b[K     |███▉                            | 215 kB 30.4 MB/s eta 0:00:01\r\u001b[K     |████                            | 225 kB 30.4 MB/s eta 0:00:01\r\u001b[K     |████▏                           | 235 kB 30.4 MB/s eta 0:00:01\r\u001b[K     |████▍                           | 245 kB 30.4 MB/s eta 0:00:01\r\u001b[K     |████▋                           | 256 kB 30.4 MB/s eta 0:00:01\r\u001b[K     |████▊                           | 266 kB 30.4 MB/s eta 0:00:01\r\u001b[K     |█████                           | 276 kB 30.4 MB/s eta 0:00:01\r\u001b[K     |█████▏                          | 286 kB 30.4 MB/s eta 0:00:01\r\u001b[K     |█████▎                          | 296 kB 30.4 MB/s eta 0:00:01\r\u001b[K     |█████▌                          | 307 kB 30.4 MB/s eta 0:00:01\r\u001b[K     |█████▊                          | 317 kB 30.4 MB/s eta 0:00:01\r\u001b[K     |█████▉                          | 327 kB 30.4 MB/s eta 0:00:01\r\u001b[K     |██████                          | 337 kB 30.4 MB/s eta 0:00:01\r\u001b[K     |██████▎                         | 348 kB 30.4 MB/s eta 0:00:01\r\u001b[K     |██████▍                         | 358 kB 30.4 MB/s eta 0:00:01\r\u001b[K     |██████▋                         | 368 kB 30.4 MB/s eta 0:00:01\r\u001b[K     |██████▉                         | 378 kB 30.4 MB/s eta 0:00:01\r\u001b[K     |███████                         | 389 kB 30.4 MB/s eta 0:00:01\r\u001b[K     |███████▏                        | 399 kB 30.4 MB/s eta 0:00:01\r\u001b[K     |███████▎                        | 409 kB 30.4 MB/s eta 0:00:01\r\u001b[K     |███████▌                        | 419 kB 30.4 MB/s eta 0:00:01\r\u001b[K     |███████▊                        | 430 kB 30.4 MB/s eta 0:00:01\r\u001b[K     |███████▉                        | 440 kB 30.4 MB/s eta 0:00:01\r\u001b[K     |████████                        | 450 kB 30.4 MB/s eta 0:00:01\r\u001b[K     |████████▎                       | 460 kB 30.4 MB/s eta 0:00:01\r\u001b[K     |████████▍                       | 471 kB 30.4 MB/s eta 0:00:01\r\u001b[K     |████████▋                       | 481 kB 30.4 MB/s eta 0:00:01\r\u001b[K     |████████▉                       | 491 kB 30.4 MB/s eta 0:00:01\r\u001b[K     |█████████                       | 501 kB 30.4 MB/s eta 0:00:01\r\u001b[K     |█████████▏                      | 512 kB 30.4 MB/s eta 0:00:01\r\u001b[K     |█████████▍                      | 522 kB 30.4 MB/s eta 0:00:01\r\u001b[K     |█████████▌                      | 532 kB 30.4 MB/s eta 0:00:01\r\u001b[K     |█████████▊                      | 542 kB 30.4 MB/s eta 0:00:01\r\u001b[K     |██████████                      | 552 kB 30.4 MB/s eta 0:00:01\r\u001b[K     |██████████                      | 563 kB 30.4 MB/s eta 0:00:01\r\u001b[K     |██████████▎                     | 573 kB 30.4 MB/s eta 0:00:01\r\u001b[K     |██████████▌                     | 583 kB 30.4 MB/s eta 0:00:01\r\u001b[K     |██████████▋                     | 593 kB 30.4 MB/s eta 0:00:01\r\u001b[K     |██████████▉                     | 604 kB 30.4 MB/s eta 0:00:01\r\u001b[K     |███████████                     | 614 kB 30.4 MB/s eta 0:00:01\r\u001b[K     |███████████▏                    | 624 kB 30.4 MB/s eta 0:00:01\r\u001b[K     |███████████▍                    | 634 kB 30.4 MB/s eta 0:00:01\r\u001b[K     |███████████▌                    | 645 kB 30.4 MB/s eta 0:00:01\r\u001b[K     |███████████▊                    | 655 kB 30.4 MB/s eta 0:00:01\r\u001b[K     |████████████                    | 665 kB 30.4 MB/s eta 0:00:01\r\u001b[K     |████████████                    | 675 kB 30.4 MB/s eta 0:00:01\r\u001b[K     |████████████▎                   | 686 kB 30.4 MB/s eta 0:00:01\r\u001b[K     |████████████▌                   | 696 kB 30.4 MB/s eta 0:00:01\r\u001b[K     |████████████▋                   | 706 kB 30.4 MB/s eta 0:00:01\r\u001b[K     |████████████▉                   | 716 kB 30.4 MB/s eta 0:00:01\r\u001b[K     |█████████████                   | 727 kB 30.4 MB/s eta 0:00:01\r\u001b[K     |█████████████▏                  | 737 kB 30.4 MB/s eta 0:00:01\r\u001b[K     |█████████████▍                  | 747 kB 30.4 MB/s eta 0:00:01\r\u001b[K     |█████████████▋                  | 757 kB 30.4 MB/s eta 0:00:01\r\u001b[K     |█████████████▊                  | 768 kB 30.4 MB/s eta 0:00:01\r\u001b[K     |██████████████                  | 778 kB 30.4 MB/s eta 0:00:01\r\u001b[K     |██████████████▏                 | 788 kB 30.4 MB/s eta 0:00:01\r\u001b[K     |██████████████▎                 | 798 kB 30.4 MB/s eta 0:00:01\r\u001b[K     |██████████████▌                 | 808 kB 30.4 MB/s eta 0:00:01\r\u001b[K     |██████████████▋                 | 819 kB 30.4 MB/s eta 0:00:01\r\u001b[K     |██████████████▉                 | 829 kB 30.4 MB/s eta 0:00:01\r\u001b[K     |███████████████                 | 839 kB 30.4 MB/s eta 0:00:01\r\u001b[K     |███████████████▏                | 849 kB 30.4 MB/s eta 0:00:01\r\u001b[K     |███████████████▍                | 860 kB 30.4 MB/s eta 0:00:01\r\u001b[K     |███████████████▋                | 870 kB 30.4 MB/s eta 0:00:01\r\u001b[K     |███████████████▊                | 880 kB 30.4 MB/s eta 0:00:01\r\u001b[K     |████████████████                | 890 kB 30.4 MB/s eta 0:00:01\r\u001b[K     |████████████████▏               | 901 kB 30.4 MB/s eta 0:00:01\r\u001b[K     |████████████████▎               | 911 kB 30.4 MB/s eta 0:00:01\r\u001b[K     |████████████████▌               | 921 kB 30.4 MB/s eta 0:00:01\r\u001b[K     |████████████████▊               | 931 kB 30.4 MB/s eta 0:00:01\r\u001b[K     |████████████████▉               | 942 kB 30.4 MB/s eta 0:00:01\r\u001b[K     |█████████████████               | 952 kB 30.4 MB/s eta 0:00:01\r\u001b[K     |█████████████████▎              | 962 kB 30.4 MB/s eta 0:00:01\r\u001b[K     |█████████████████▍              | 972 kB 30.4 MB/s eta 0:00:01\r\u001b[K     |█████████████████▋              | 983 kB 30.4 MB/s eta 0:00:01\r\u001b[K     |█████████████████▉              | 993 kB 30.4 MB/s eta 0:00:01\r\u001b[K     |██████████████████              | 1.0 MB 30.4 MB/s eta 0:00:01\r\u001b[K     |██████████████████▏             | 1.0 MB 30.4 MB/s eta 0:00:01\r\u001b[K     |██████████████████▎             | 1.0 MB 30.4 MB/s eta 0:00:01\r\u001b[K     |██████████████████▌             | 1.0 MB 30.4 MB/s eta 0:00:01\r\u001b[K     |██████████████████▊             | 1.0 MB 30.4 MB/s eta 0:00:01\r\u001b[K     |██████████████████▉             | 1.1 MB 30.4 MB/s eta 0:00:01\r\u001b[K     |███████████████████             | 1.1 MB 30.4 MB/s eta 0:00:01\r\u001b[K     |███████████████████▎            | 1.1 MB 30.4 MB/s eta 0:00:01\r\u001b[K     |███████████████████▍            | 1.1 MB 30.4 MB/s eta 0:00:01\r\u001b[K     |███████████████████▋            | 1.1 MB 30.4 MB/s eta 0:00:01\r\u001b[K     |███████████████████▉            | 1.1 MB 30.4 MB/s eta 0:00:01\r\u001b[K     |████████████████████            | 1.1 MB 30.4 MB/s eta 0:00:01\r\u001b[K     |████████████████████▏           | 1.1 MB 30.4 MB/s eta 0:00:01\r\u001b[K     |████████████████████▍           | 1.1 MB 30.4 MB/s eta 0:00:01\r\u001b[K     |████████████████████▌           | 1.1 MB 30.4 MB/s eta 0:00:01\r\u001b[K     |████████████████████▊           | 1.2 MB 30.4 MB/s eta 0:00:01\r\u001b[K     |█████████████████████           | 1.2 MB 30.4 MB/s eta 0:00:01\r\u001b[K     |█████████████████████           | 1.2 MB 30.4 MB/s eta 0:00:01\r\u001b[K     |█████████████████████▎          | 1.2 MB 30.4 MB/s eta 0:00:01\r\u001b[K     |█████████████████████▌          | 1.2 MB 30.4 MB/s eta 0:00:01\r\u001b[K     |█████████████████████▋          | 1.2 MB 30.4 MB/s eta 0:00:01\r\u001b[K     |█████████████████████▉          | 1.2 MB 30.4 MB/s eta 0:00:01\r\u001b[K     |██████████████████████          | 1.2 MB 30.4 MB/s eta 0:00:01\r\u001b[K     |██████████████████████▏         | 1.2 MB 30.4 MB/s eta 0:00:01\r\u001b[K     |██████████████████████▍         | 1.2 MB 30.4 MB/s eta 0:00:01\r\u001b[K     |██████████████████████▌         | 1.3 MB 30.4 MB/s eta 0:00:01\r\u001b[K     |██████████████████████▊         | 1.3 MB 30.4 MB/s eta 0:00:01\r\u001b[K     |███████████████████████         | 1.3 MB 30.4 MB/s eta 0:00:01\r\u001b[K     |███████████████████████         | 1.3 MB 30.4 MB/s eta 0:00:01\r\u001b[K     |███████████████████████▎        | 1.3 MB 30.4 MB/s eta 0:00:01\r\u001b[K     |███████████████████████▌        | 1.3 MB 30.4 MB/s eta 0:00:01\r\u001b[K     |███████████████████████▋        | 1.3 MB 30.4 MB/s eta 0:00:01\r\u001b[K     |███████████████████████▉        | 1.3 MB 30.4 MB/s eta 0:00:01\r\u001b[K     |████████████████████████        | 1.3 MB 30.4 MB/s eta 0:00:01\r\u001b[K     |████████████████████████▏       | 1.4 MB 30.4 MB/s eta 0:00:01\r\u001b[K     |████████████████████████▍       | 1.4 MB 30.4 MB/s eta 0:00:01\r\u001b[K     |████████████████████████▋       | 1.4 MB 30.4 MB/s eta 0:00:01\r\u001b[K     |████████████████████████▊       | 1.4 MB 30.4 MB/s eta 0:00:01\r\u001b[K     |█████████████████████████       | 1.4 MB 30.4 MB/s eta 0:00:01\r\u001b[K     |█████████████████████████▏      | 1.4 MB 30.4 MB/s eta 0:00:01\r\u001b[K     |█████████████████████████▎      | 1.4 MB 30.4 MB/s eta 0:00:01\r\u001b[K     |█████████████████████████▌      | 1.4 MB 30.4 MB/s eta 0:00:01\r\u001b[K     |█████████████████████████▋      | 1.4 MB 30.4 MB/s eta 0:00:01\r\u001b[K     |█████████████████████████▉      | 1.4 MB 30.4 MB/s eta 0:00:01\r\u001b[K     |██████████████████████████      | 1.5 MB 30.4 MB/s eta 0:00:01\r\u001b[K     |██████████████████████████▏     | 1.5 MB 30.4 MB/s eta 0:00:01\r\u001b[K     |██████████████████████████▍     | 1.5 MB 30.4 MB/s eta 0:00:01\r\u001b[K     |██████████████████████████▋     | 1.5 MB 30.4 MB/s eta 0:00:01\r\u001b[K     |██████████████████████████▊     | 1.5 MB 30.4 MB/s eta 0:00:01\r\u001b[K     |███████████████████████████     | 1.5 MB 30.4 MB/s eta 0:00:01\r\u001b[K     |███████████████████████████▏    | 1.5 MB 30.4 MB/s eta 0:00:01\r\u001b[K     |███████████████████████████▎    | 1.5 MB 30.4 MB/s eta 0:00:01\r\u001b[K     |███████████████████████████▌    | 1.5 MB 30.4 MB/s eta 0:00:01\r\u001b[K     |███████████████████████████▊    | 1.5 MB 30.4 MB/s eta 0:00:01\r\u001b[K     |███████████████████████████▉    | 1.6 MB 30.4 MB/s eta 0:00:01\r\u001b[K     |████████████████████████████    | 1.6 MB 30.4 MB/s eta 0:00:01\r\u001b[K     |████████████████████████████▎   | 1.6 MB 30.4 MB/s eta 0:00:01\r\u001b[K     |████████████████████████████▍   | 1.6 MB 30.4 MB/s eta 0:00:01\r\u001b[K     |████████████████████████████▋   | 1.6 MB 30.4 MB/s eta 0:00:01\r\u001b[K     |████████████████████████████▉   | 1.6 MB 30.4 MB/s eta 0:00:01\r\u001b[K     |█████████████████████████████   | 1.6 MB 30.4 MB/s eta 0:00:01\r\u001b[K     |█████████████████████████████▏  | 1.6 MB 30.4 MB/s eta 0:00:01\r\u001b[K     |█████████████████████████████▎  | 1.6 MB 30.4 MB/s eta 0:00:01\r\u001b[K     |█████████████████████████████▌  | 1.6 MB 30.4 MB/s eta 0:00:01\r\u001b[K     |█████████████████████████████▊  | 1.7 MB 30.4 MB/s eta 0:00:01\r\u001b[K     |█████████████████████████████▉  | 1.7 MB 30.4 MB/s eta 0:00:01\r\u001b[K     |██████████████████████████████  | 1.7 MB 30.4 MB/s eta 0:00:01\r\u001b[K     |██████████████████████████████▎ | 1.7 MB 30.4 MB/s eta 0:00:01\r\u001b[K     |██████████████████████████████▍ | 1.7 MB 30.4 MB/s eta 0:00:01\r\u001b[K     |██████████████████████████████▋ | 1.7 MB 30.4 MB/s eta 0:00:01\r\u001b[K     |██████████████████████████████▉ | 1.7 MB 30.4 MB/s eta 0:00:01\r\u001b[K     |███████████████████████████████ | 1.7 MB 30.4 MB/s eta 0:00:01\r\u001b[K     |███████████████████████████████▏| 1.7 MB 30.4 MB/s eta 0:00:01\r\u001b[K     |███████████████████████████████▍| 1.8 MB 30.4 MB/s eta 0:00:01\r\u001b[K     |███████████████████████████████▌| 1.8 MB 30.4 MB/s eta 0:00:01\r\u001b[K     |███████████████████████████████▊| 1.8 MB 30.4 MB/s eta 0:00:01\r\u001b[K     |████████████████████████████████| 1.8 MB 30.4 MB/s eta 0:00:01\r\u001b[K     |████████████████████████████████| 1.8 MB 30.4 MB/s \n",
            "\u001b[?25hRequirement already satisfied: python-dateutil>=2.6.1 in /usr/local/lib/python3.7/dist-packages (from wandb) (2.8.2)\n",
            "Requirement already satisfied: Click!=8.0.0,>=7.0 in /usr/local/lib/python3.7/dist-packages (from wandb) (7.1.2)\n",
            "Collecting sentry-sdk>=1.0.0\n",
            "  Downloading sentry_sdk-1.5.11-py2.py3-none-any.whl (144 kB)\n",
            "\u001b[K     |████████████████████████████████| 144 kB 67.8 MB/s \n",
            "\u001b[?25hCollecting pathtools\n",
            "  Downloading pathtools-0.1.2.tar.gz (11 kB)\n",
            "Collecting setproctitle\n",
            "  Downloading setproctitle-1.2.3-cp37-cp37m-manylinux_2_5_x86_64.manylinux1_x86_64.manylinux_2_17_x86_64.manylinux2014_x86_64.whl (29 kB)\n",
            "Requirement already satisfied: six>=1.13.0 in /usr/local/lib/python3.7/dist-packages (from wandb) (1.15.0)\n",
            "Requirement already satisfied: setuptools in /usr/local/lib/python3.7/dist-packages (from wandb) (57.4.0)\n",
            "Requirement already satisfied: protobuf>=3.12.0 in /usr/local/lib/python3.7/dist-packages (from wandb) (3.17.3)\n",
            "Collecting docker-pycreds>=0.4.0\n",
            "  Downloading docker_pycreds-0.4.0-py2.py3-none-any.whl (9.0 kB)\n",
            "Collecting shortuuid>=0.5.0\n",
            "  Downloading shortuuid-1.0.8-py3-none-any.whl (9.5 kB)\n",
            "Requirement already satisfied: PyYAML in /usr/local/lib/python3.7/dist-packages (from wandb) (3.13)\n",
            "Collecting GitPython>=1.0.0\n",
            "  Downloading GitPython-3.1.27-py3-none-any.whl (181 kB)\n",
            "\u001b[K     |████████████████████████████████| 181 kB 69.8 MB/s \n",
            "\u001b[?25hRequirement already satisfied: psutil>=5.0.0 in /usr/local/lib/python3.7/dist-packages (from wandb) (5.4.8)\n",
            "Requirement already satisfied: promise<3,>=2.0 in /usr/local/lib/python3.7/dist-packages (from wandb) (2.3)\n",
            "Requirement already satisfied: requests<3,>=2.0.0 in /usr/local/lib/python3.7/dist-packages (from wandb) (2.23.0)\n",
            "Requirement already satisfied: typing-extensions>=3.7.4.3 in /usr/local/lib/python3.7/dist-packages (from GitPython>=1.0.0->wandb) (4.2.0)\n",
            "Collecting gitdb<5,>=4.0.1\n",
            "  Downloading gitdb-4.0.9-py3-none-any.whl (63 kB)\n",
            "\u001b[K     |████████████████████████████████| 63 kB 2.1 MB/s \n",
            "\u001b[?25hCollecting smmap<6,>=3.0.1\n",
            "  Downloading smmap-5.0.0-py3-none-any.whl (24 kB)\n",
            "Requirement already satisfied: certifi>=2017.4.17 in /usr/local/lib/python3.7/dist-packages (from requests<3,>=2.0.0->wandb) (2021.10.8)\n",
            "Requirement already satisfied: idna<3,>=2.5 in /usr/local/lib/python3.7/dist-packages (from requests<3,>=2.0.0->wandb) (2.10)\n",
            "Requirement already satisfied: urllib3!=1.25.0,!=1.25.1,<1.26,>=1.21.1 in /usr/local/lib/python3.7/dist-packages (from requests<3,>=2.0.0->wandb) (1.24.3)\n",
            "Requirement already satisfied: chardet<4,>=3.0.2 in /usr/local/lib/python3.7/dist-packages (from requests<3,>=2.0.0->wandb) (3.0.4)\n",
            "Building wheels for collected packages: pathtools\n",
            "  Building wheel for pathtools (setup.py) ... \u001b[?25l\u001b[?25hdone\n",
            "  Created wheel for pathtools: filename=pathtools-0.1.2-py3-none-any.whl size=8806 sha256=44753b9724c6160a3a6445278dfe5d9e468c0af216dd70f4eaf5fc65946ef09b\n",
            "  Stored in directory: /root/.cache/pip/wheels/3e/31/09/fa59cef12cdcfecc627b3d24273699f390e71828921b2cbba2\n",
            "Successfully built pathtools\n",
            "Installing collected packages: smmap, gitdb, shortuuid, setproctitle, sentry-sdk, pathtools, GitPython, docker-pycreds, wandb\n",
            "Successfully installed GitPython-3.1.27 docker-pycreds-0.4.0 gitdb-4.0.9 pathtools-0.1.2 sentry-sdk-1.5.11 setproctitle-1.2.3 shortuuid-1.0.8 smmap-5.0.0 wandb-0.12.16\n"
          ]
        }
      ],
      "source": [
        "%pip install wandb"
      ]
    },
    {
      "cell_type": "code",
      "execution_count": null,
      "metadata": {
        "id": "OqdNaPCA-F_1"
      },
      "outputs": [],
      "source": [
        "import pandas as pd\n",
        "import numpy as np\n",
        "import matplotlib.pyplot as plt\n",
        "import seaborn\n",
        "import torch\n",
        "from torchvision import datasets, transforms, models\n",
        "from torch.utils.data import DataLoader, random_split\n",
        "from torch.optim import lr_scheduler\n",
        "from torch.autograd import Variable\n",
        "import wandb\n",
        "import copy\n",
        "from sklearn.metrics import confusion_matrix, multilabel_confusion_matrix, ConfusionMatrixDisplay\n",
        "from tqdm import tqdm\n",
        "import seaborn as sns\n",
        "import time"
      ]
    },
    {
      "cell_type": "code",
      "execution_count": null,
      "metadata": {
        "colab": {
          "base_uri": "https://localhost:8080/"
        },
        "id": "7ZUKH6lZBVF-",
        "outputId": "9912972c-6d8f-4f40-8067-ccf8025d8101"
      },
      "outputs": [
        {
          "name": "stdout",
          "output_type": "stream",
          "text": [
            "True\n"
          ]
        }
      ],
      "source": [
        "gpu_is_av = torch.cuda.is_available()\n",
        "print(gpu_is_av)"
      ]
    },
    {
      "cell_type": "code",
      "execution_count": null,
      "metadata": {
        "colab": {
          "base_uri": "https://localhost:8080/",
          "height": 864,
          "referenced_widgets": [
            "c4f0884cc7de4eeea8d919ba2e0acc01",
            "0bfabd394ca54730a13bea0b1f11f214",
            "900855a7d69143119e8a1732e28e9805",
            "13ca72a47cfa41b1a10909be10890609",
            "919ee53bb08440768cdad1dc0cef8bfe",
            "38ef157c01f94660ad40bf8e0dfd19a0",
            "d93eb92e54504cb58649c9d8e129cb29",
            "7ef97816c97f4190823984fbce96fec2",
            "d6f0834528e44ab3979b40bba73d7bc3",
            "8211373cbf794595b09d976c32319487",
            "d1e75c53db224e8c8be62a22b4378e0d",
            "b2d08a9ac83a46a1b135b3ec7bd8878d",
            "0a12e59a947940af91e1f0af295aba2d",
            "21c0fcdc21e946bb9f62973d2180f427",
            "e5778f9de26541998b2fdc8461c0f589",
            "15626d700e56402ca5b5f657c71a9af6",
            "076eb36ffb844494955781c320dd6a6a",
            "ed414b6645db47c28ff6b6d12881d5f8",
            "9d5e9b15f88f406cbafb829831d48518",
            "893b5a198d764cb4b6357657cd070e0e",
            "ef2262f15a9f4eb5b165676cea4dc55a",
            "da4d267d62694046b435129c4aa97208",
            "455a91ca7f96486d926245dca8a0d085",
            "b9e0f50f15a641b085e726328bb97944",
            "e0e06c527bcd4e8fb47bbc3744a1f209",
            "e3b70690004e4d4a9393e8d5d1368e3f",
            "52cf16656cc74e7e80767a20ddcad4dc",
            "d5b797514b47488ea7fbe7cee86703f7",
            "dbe107a57f12472a884dba6b106c6ddc",
            "99b88e7e03cc4ee48e990468b7bd8323",
            "cecf7c6be06a47f4abbab8f86e8ba8bd",
            "3233adb2a224499ca9371c5b7741f06c",
            "956f7152f5804d5db13a7e565825fe58",
            "3813f664966a4273b0c66e7377ec685d",
            "35cf5999dc6044a0a5b28cb10db85043",
            "62c5fa9d93ab45d9ba4f49873b33d7b5",
            "8b7062c3ead54126b42731244cf4ee94",
            "dfb5193984f54cb09481e9224cb79d4f",
            "956e4dca7f704db1b0c0f97d78beb814",
            "74d211f77179418b824f6e413d17be87",
            "7f5b6f6b90ab4e048e07b5b3a5a6bcde",
            "e5f53f96e7d844fd92f5aacafa412451",
            "b22adadd6c064bf1868c634c6cd0151e",
            "842a33c6feb045268c40ff02af23a383",
            "f31356a6a4d8436cbede27c60dceb424",
            "471ddc31cbea43e5811eabb798812cb8",
            "6f603ffaa0b34b4195d18d1827f0b15f",
            "aa90e37d5abb4c07a0eab6b4737ec6e9",
            "825824a3f5954efa98aaec0f5d3af54b",
            "e3fc355fd215416fac98f70f8f275af1",
            "70f4d1226df94447baf992bf844a980f",
            "4150cde6b71347949b6f52d59788e883",
            "3396a5a658a0469f97ba4c2a560b535d",
            "fc6826341eea402aa12a3ea2c65eb762",
            "3ff1abecc0234acf94af5e28b3a3318e",
            "c916c4afcd4743bdb9e6bc9d74972d3a",
            "185fd22e1f734e1d89bfa176538ce0a9",
            "5a647199df694df195de5191764ec1e9",
            "bc08ffdf90d54c0ebf49b601b8c083c5",
            "033d8eb0e9384912a3b3405b05adbae2",
            "e211285aac0048ca95ccd39dacd7d74c",
            "611360858c134ae48f16a3ac7d001fe2",
            "c440ada7e5cf4d8da543f1fb6f5a7dde",
            "2d8b07a8b64d416db0b067521bdc6948",
            "7c49e41297b741b0a86a4df7439adfac",
            "3aa29601be7c4a1598afd6fa6537035e",
            "0e4657a42d5140c381171fa9f0d6923e",
            "6a13cee99adf438b80dddc45ae5369a3",
            "f367ea4b6c4e4e69bd9da6ebf033578a",
            "142786a8ee364d93825859d3096d9330",
            "9ae64df122b34e95a051167a46d1ccb6",
            "b101a39545ad482196005fe233c9c03c",
            "3c7afb7ce66846e8a355ce16f843d8fb",
            "f929da259206462bba228fc2c58d53d8",
            "8e4ef319fd234fadbe846100aa8a59ca",
            "8adebe71f2da4433b8e4349d3ec82b0c",
            "5ef0fdead63542e380c5986344b39ea1",
            "194774c09cf84c07bb49a9f007fb9ed4",
            "37429e4d942640a3b2ac4a6c0b9e8697",
            "93723aff5b3f43c99d670494b50186fa",
            "4dc650d64afa42a5a1eaade843416552",
            "cdef442f849f41b1a4665856682c0758",
            "13cb63f04ebf4b5ca43c670eea4c223d",
            "e0c6c5ea2e524af69e509e63d34cf9f0",
            "02f9b6fae06b408d8ce3cff78a7359fd",
            "703de4972df3461d94065c8e67c6d63f",
            "c148158f16854a2da1866bf1bbdf217a",
            "7d5f8de65fd342eeaf58b5cf63a2fde8"
          ]
        },
        "id": "lspGoBV7-O0i",
        "outputId": "227541fa-6f96-4d09-9377-d92d9dc388d2"
      },
      "outputs": [
        {
          "name": "stdout",
          "output_type": "stream",
          "text": [
            "Downloading http://fashion-mnist.s3-website.eu-central-1.amazonaws.com/train-images-idx3-ubyte.gz\n",
            "Downloading http://fashion-mnist.s3-website.eu-central-1.amazonaws.com/train-images-idx3-ubyte.gz to fashion-mnist_train/FashionMNIST/raw/train-images-idx3-ubyte.gz\n"
          ]
        },
        {
          "data": {
            "application/vnd.jupyter.widget-view+json": {
              "model_id": "c4f0884cc7de4eeea8d919ba2e0acc01",
              "version_major": 2,
              "version_minor": 0
            },
            "text/plain": [
              "  0%|          | 0/26421880 [00:00<?, ?it/s]"
            ]
          },
          "metadata": {},
          "output_type": "display_data"
        },
        {
          "name": "stdout",
          "output_type": "stream",
          "text": [
            "Extracting fashion-mnist_train/FashionMNIST/raw/train-images-idx3-ubyte.gz to fashion-mnist_train/FashionMNIST/raw\n",
            "\n",
            "Downloading http://fashion-mnist.s3-website.eu-central-1.amazonaws.com/train-labels-idx1-ubyte.gz\n",
            "Downloading http://fashion-mnist.s3-website.eu-central-1.amazonaws.com/train-labels-idx1-ubyte.gz to fashion-mnist_train/FashionMNIST/raw/train-labels-idx1-ubyte.gz\n"
          ]
        },
        {
          "data": {
            "application/vnd.jupyter.widget-view+json": {
              "model_id": "b2d08a9ac83a46a1b135b3ec7bd8878d",
              "version_major": 2,
              "version_minor": 0
            },
            "text/plain": [
              "  0%|          | 0/29515 [00:00<?, ?it/s]"
            ]
          },
          "metadata": {},
          "output_type": "display_data"
        },
        {
          "name": "stdout",
          "output_type": "stream",
          "text": [
            "Extracting fashion-mnist_train/FashionMNIST/raw/train-labels-idx1-ubyte.gz to fashion-mnist_train/FashionMNIST/raw\n",
            "\n",
            "Downloading http://fashion-mnist.s3-website.eu-central-1.amazonaws.com/t10k-images-idx3-ubyte.gz\n",
            "Downloading http://fashion-mnist.s3-website.eu-central-1.amazonaws.com/t10k-images-idx3-ubyte.gz to fashion-mnist_train/FashionMNIST/raw/t10k-images-idx3-ubyte.gz\n"
          ]
        },
        {
          "data": {
            "application/vnd.jupyter.widget-view+json": {
              "model_id": "455a91ca7f96486d926245dca8a0d085",
              "version_major": 2,
              "version_minor": 0
            },
            "text/plain": [
              "  0%|          | 0/4422102 [00:00<?, ?it/s]"
            ]
          },
          "metadata": {},
          "output_type": "display_data"
        },
        {
          "name": "stdout",
          "output_type": "stream",
          "text": [
            "Extracting fashion-mnist_train/FashionMNIST/raw/t10k-images-idx3-ubyte.gz to fashion-mnist_train/FashionMNIST/raw\n",
            "\n",
            "Downloading http://fashion-mnist.s3-website.eu-central-1.amazonaws.com/t10k-labels-idx1-ubyte.gz\n",
            "Downloading http://fashion-mnist.s3-website.eu-central-1.amazonaws.com/t10k-labels-idx1-ubyte.gz to fashion-mnist_train/FashionMNIST/raw/t10k-labels-idx1-ubyte.gz\n"
          ]
        },
        {
          "data": {
            "application/vnd.jupyter.widget-view+json": {
              "model_id": "3813f664966a4273b0c66e7377ec685d",
              "version_major": 2,
              "version_minor": 0
            },
            "text/plain": [
              "  0%|          | 0/5148 [00:00<?, ?it/s]"
            ]
          },
          "metadata": {},
          "output_type": "display_data"
        },
        {
          "name": "stdout",
          "output_type": "stream",
          "text": [
            "Extracting fashion-mnist_train/FashionMNIST/raw/t10k-labels-idx1-ubyte.gz to fashion-mnist_train/FashionMNIST/raw\n",
            "\n",
            "Downloading http://fashion-mnist.s3-website.eu-central-1.amazonaws.com/train-images-idx3-ubyte.gz\n",
            "Downloading http://fashion-mnist.s3-website.eu-central-1.amazonaws.com/train-images-idx3-ubyte.gz to fashion-mnist_test/FashionMNIST/raw/train-images-idx3-ubyte.gz\n"
          ]
        },
        {
          "data": {
            "application/vnd.jupyter.widget-view+json": {
              "model_id": "f31356a6a4d8436cbede27c60dceb424",
              "version_major": 2,
              "version_minor": 0
            },
            "text/plain": [
              "  0%|          | 0/26421880 [00:00<?, ?it/s]"
            ]
          },
          "metadata": {},
          "output_type": "display_data"
        },
        {
          "name": "stdout",
          "output_type": "stream",
          "text": [
            "Extracting fashion-mnist_test/FashionMNIST/raw/train-images-idx3-ubyte.gz to fashion-mnist_test/FashionMNIST/raw\n",
            "\n",
            "Downloading http://fashion-mnist.s3-website.eu-central-1.amazonaws.com/train-labels-idx1-ubyte.gz\n",
            "Downloading http://fashion-mnist.s3-website.eu-central-1.amazonaws.com/train-labels-idx1-ubyte.gz to fashion-mnist_test/FashionMNIST/raw/train-labels-idx1-ubyte.gz\n"
          ]
        },
        {
          "data": {
            "application/vnd.jupyter.widget-view+json": {
              "model_id": "c916c4afcd4743bdb9e6bc9d74972d3a",
              "version_major": 2,
              "version_minor": 0
            },
            "text/plain": [
              "  0%|          | 0/29515 [00:00<?, ?it/s]"
            ]
          },
          "metadata": {},
          "output_type": "display_data"
        },
        {
          "name": "stdout",
          "output_type": "stream",
          "text": [
            "Extracting fashion-mnist_test/FashionMNIST/raw/train-labels-idx1-ubyte.gz to fashion-mnist_test/FashionMNIST/raw\n",
            "\n",
            "Downloading http://fashion-mnist.s3-website.eu-central-1.amazonaws.com/t10k-images-idx3-ubyte.gz\n",
            "Downloading http://fashion-mnist.s3-website.eu-central-1.amazonaws.com/t10k-images-idx3-ubyte.gz to fashion-mnist_test/FashionMNIST/raw/t10k-images-idx3-ubyte.gz\n"
          ]
        },
        {
          "data": {
            "application/vnd.jupyter.widget-view+json": {
              "model_id": "0e4657a42d5140c381171fa9f0d6923e",
              "version_major": 2,
              "version_minor": 0
            },
            "text/plain": [
              "  0%|          | 0/4422102 [00:00<?, ?it/s]"
            ]
          },
          "metadata": {},
          "output_type": "display_data"
        },
        {
          "name": "stdout",
          "output_type": "stream",
          "text": [
            "Extracting fashion-mnist_test/FashionMNIST/raw/t10k-images-idx3-ubyte.gz to fashion-mnist_test/FashionMNIST/raw\n",
            "\n",
            "Downloading http://fashion-mnist.s3-website.eu-central-1.amazonaws.com/t10k-labels-idx1-ubyte.gz\n",
            "Downloading http://fashion-mnist.s3-website.eu-central-1.amazonaws.com/t10k-labels-idx1-ubyte.gz to fashion-mnist_test/FashionMNIST/raw/t10k-labels-idx1-ubyte.gz\n"
          ]
        },
        {
          "data": {
            "application/vnd.jupyter.widget-view+json": {
              "model_id": "194774c09cf84c07bb49a9f007fb9ed4",
              "version_major": 2,
              "version_minor": 0
            },
            "text/plain": [
              "  0%|          | 0/5148 [00:00<?, ?it/s]"
            ]
          },
          "metadata": {},
          "output_type": "display_data"
        },
        {
          "name": "stdout",
          "output_type": "stream",
          "text": [
            "Extracting fashion-mnist_test/FashionMNIST/raw/t10k-labels-idx1-ubyte.gz to fashion-mnist_test/FashionMNIST/raw\n",
            "\n"
          ]
        }
      ],
      "source": [
        "#import the Fashion MNIST dataset\n",
        "transform = transforms.Compose([transforms.Resize(256),\n",
        "                                transforms.CenterCrop(224),\n",
        "                                transforms.Grayscale(num_output_channels=3),\n",
        "                                transforms.ToTensor(),\n",
        "                                transforms.Normalize(mean=[0.485, 0.456, 0.406], std=[0.229, 0.224, 0.225]),\n",
        "            ])\n",
        "\n",
        "train_dwn = datasets.FashionMNIST('fashion-mnist_train', train=True, download=True, transform=transform)\n",
        "train_len = int(0.8*len(train_dwn))\n",
        "train_data, val_data = random_split(train_dwn, [train_len, len(train_dwn)-train_len])\n",
        "train_data = DataLoader(train_data, batch_size=100, shuffle=True)\n",
        "val_data = DataLoader(val_data, batch_size=100, shuffle=True)\n",
        "\n",
        "test_dwn = datasets.FashionMNIST('fashion-mnist_test', train=False, download=True, transform=transform)\n",
        "test_data = DataLoader(test_dwn, batch_size=100, shuffle=True)"
      ]
    },
    {
      "cell_type": "code",
      "execution_count": null,
      "metadata": {
        "colab": {
          "base_uri": "https://localhost:8080/",
          "height": 271
        },
        "id": "MHoKPFCw-dZi",
        "outputId": "371da376-a52e-4934-e3ba-2215f2197d28"
      },
      "outputs": [
        {
          "data": {
            "image/png": "[encoded data removed]",
            "text/plain": [
              "<Figure size 432x288 with 1 Axes>"
            ]
          },
          "metadata": {},
          "output_type": "display_data"
        }
      ],
      "source": [
        "%matplotlib inline\n",
        "\n",
        "#get training samples and labels\n",
        "train_samples, train_labels = next(iter(train_data))\n",
        "val_samples, val_labels = next(iter(val_data))\n",
        "test_samples, test_labels = next(iter(test_data))\n",
        "\n",
        "#visualuse an image from the fashion mnist dataset\n",
        "seaborn.set()\n",
        "if(train_samples[0].shape[0]==3):\n",
        "    img = train_samples[0][0,:,:]\n",
        "    plt.imshow(img)"
      ]
    },
    {
      "cell_type": "code",
      "execution_count": null,
      "metadata": {
        "colab": {
          "base_uri": "https://localhost:8080/",
          "height": 84,
          "referenced_widgets": [
            "4ec89160f3e743df985e9394e7eb2e34",
            "7e7c354b666b40458580217443529232",
            "77135792e68a49da844b08703bba200d",
            "7cecb4c762c34fc58d33219b22f61ab2",
            "b8b318098c5944ec89668f944bb7f000",
            "96cdbd6efc15496c8087355ea0af9e87",
            "0cef725fa4414793a0104552aee02bbb",
            "a51d0c99d38e47c7afef9355700cabae",
            "05fb3336b12d41dfbf69d86485109735",
            "2ed93f46d9d5459dbd8d223d956b8d36",
            "5f9f8037a1ac4549b39546df1ea0059f"
          ]
        },
        "id": "n28oF65N-hnG",
        "outputId": "eafec338-00ee-43d4-9393-176aeca2c29b"
      },
      "outputs": [
        {
          "name": "stderr",
          "output_type": "stream",
          "text": [
            "Downloading: \"https://github.com/pytorch/vision/archive/v0.10.0.zip\" to /root/.cache/torch/hub/v0.10.0.zip\n",
            "Downloading: \"https://download.pytorch.org/models/vgg16-397923af.pth\" to /root/.cache/torch/hub/checkpoints/vgg16-397923af.pth\n"
          ]
        },
        {
          "data": {
            "application/vnd.jupyter.widget-view+json": {
              "model_id": "4ec89160f3e743df985e9394e7eb2e34",
              "version_major": 2,
              "version_minor": 0
            },
            "text/plain": [
              "  0%|          | 0.00/528M [00:00<?, ?B/s]"
            ]
          },
          "metadata": {},
          "output_type": "display_data"
        }
      ],
      "source": [
        "model = torch.hub.load('pytorch/vision:v0.10.0', 'vgg16', pretrained=True)"
      ]
    },
    {
      "cell_type": "code",
      "execution_count": null,
      "metadata": {
        "colab": {
          "base_uri": "https://localhost:8080/"
        },
        "id": "qRylwEEj-j4u",
        "outputId": "6297eba7-0faf-4e39-b3de-1b5fc5b7ee58"
      },
      "outputs": [
        {
          "name": "stdout",
          "output_type": "stream",
          "text": [
            "Output Features: 1000\n",
            "VGG(\n",
            "  (features): Sequential(\n",
            "    (0): Conv2d(3, 64, kernel_size=(3, 3), stride=(1, 1), padding=(1, 1))\n",
            "    (1): ReLU(inplace=True)\n",
            "    (2): Conv2d(64, 64, kernel_size=(3, 3), stride=(1, 1), padding=(1, 1))\n",
            "    (3): ReLU(inplace=True)\n",
            "    (4): MaxPool2d(kernel_size=2, stride=2, padding=0, dilation=1, ceil_mode=False)\n",
            "    (5): Conv2d(64, 128, kernel_size=(3, 3), stride=(1, 1), padding=(1, 1))\n",
            "    (6): ReLU(inplace=True)\n",
            "    (7): Conv2d(128, 128, kernel_size=(3, 3), stride=(1, 1), padding=(1, 1))\n",
            "    (8): ReLU(inplace=True)\n",
            "    (9): MaxPool2d(kernel_size=2, stride=2, padding=0, dilation=1, ceil_mode=False)\n",
            "    (10): Conv2d(128, 256, kernel_size=(3, 3), stride=(1, 1), padding=(1, 1))\n",
            "    (11): ReLU(inplace=True)\n",
            "    (12): Conv2d(256, 256, kernel_size=(3, 3), stride=(1, 1), padding=(1, 1))\n",
            "    (13): ReLU(inplace=True)\n",
            "    (14): Conv2d(256, 256, kernel_size=(3, 3), stride=(1, 1), padding=(1, 1))\n",
            "    (15): ReLU(inplace=True)\n",
            "    (16): MaxPool2d(kernel_size=2, stride=2, padding=0, dilation=1, ceil_mode=False)\n",
            "    (17): Conv2d(256, 512, kernel_size=(3, 3), stride=(1, 1), padding=(1, 1))\n",
            "    (18): ReLU(inplace=True)\n",
            "    (19): Conv2d(512, 512, kernel_size=(3, 3), stride=(1, 1), padding=(1, 1))\n",
            "    (20): ReLU(inplace=True)\n",
            "    (21): Conv2d(512, 512, kernel_size=(3, 3), stride=(1, 1), padding=(1, 1))\n",
            "    (22): ReLU(inplace=True)\n",
            "    (23): MaxPool2d(kernel_size=2, stride=2, padding=0, dilation=1, ceil_mode=False)\n",
            "    (24): Conv2d(512, 512, kernel_size=(3, 3), stride=(1, 1), padding=(1, 1))\n",
            "    (25): ReLU(inplace=True)\n",
            "    (26): Conv2d(512, 512, kernel_size=(3, 3), stride=(1, 1), padding=(1, 1))\n",
            "    (27): ReLU(inplace=True)\n",
            "    (28): Conv2d(512, 512, kernel_size=(3, 3), stride=(1, 1), padding=(1, 1))\n",
            "    (29): ReLU(inplace=True)\n",
            "    (30): MaxPool2d(kernel_size=2, stride=2, padding=0, dilation=1, ceil_mode=False)\n",
            "  )\n",
            "  (avgpool): AdaptiveAvgPool2d(output_size=(7, 7))\n",
            "  (classifier): Sequential(\n",
            "    (0): Linear(in_features=25088, out_features=4096, bias=True)\n",
            "    (1): ReLU(inplace=True)\n",
            "    (2): Dropout(p=0.5, inplace=False)\n",
            "    (3): Linear(in_features=4096, out_features=4096, bias=True)\n",
            "    (4): ReLU(inplace=True)\n",
            "    (5): Dropout(p=0.5, inplace=False)\n",
            "    (6): Linear(in_features=4096, out_features=1000, bias=True)\n",
            "  )\n",
            ")\n"
          ]
        }
      ],
      "source": [
        "#checkout exisiting layers\n",
        "print(\"Output Features:\", model.classifier[6].out_features)\n",
        "print(model)"
      ]
    },
    {
      "cell_type": "code",
      "execution_count": null,
      "metadata": {
        "colab": {
          "base_uri": "https://localhost:8080/"
        },
        "id": "OigOv4ek-sNE",
        "outputId": "41bf1864-300b-4de0-d3dd-600677bc18f1"
      },
      "outputs": [
        {
          "name": "stdout",
          "output_type": "stream",
          "text": [
            "{'T-shirt/top': 0, 'Trouser': 1, 'Pullover': 2, 'Dress': 3, 'Coat': 4, 'Sandal': 5, 'Shirt': 6, 'Sneaker': 7, 'Bag': 8, 'Ankle boot': 9}\n",
            "10\n"
          ]
        }
      ],
      "source": [
        "#freeze weights of the lower convolutional layers\n",
        "for wt in model.features.parameters():\n",
        "    wt.requires_grad = False\n",
        "\n",
        "#find number of classes for our dataset\n",
        "num_classes = len(np.unique(train_labels))\n",
        "model.class_to_idx = train_dwn.class_to_idx\n",
        "print(model.class_to_idx)\n",
        "print(num_classes)"
      ]
    },
    {
      "cell_type": "code",
      "execution_count": null,
      "metadata": {
        "id": "PvRQ5InC-6N2"
      },
      "outputs": [],
      "source": [
        "#remove the last layer and add a new one with 10 output classes\n",
        "last_layer_in = model.classifier[6].in_features\n",
        "pre_layers = list(model.classifier.children())[:-1]\n",
        "pre_layers.extend([torch.nn.Linear(last_layer_in, num_classes)])\n",
        "model.classifier = torch.nn.Sequential(*pre_layers)\n",
        "if gpu_is_av:\n",
        "  model.cuda()"
      ]
    },
    {
      "cell_type": "code",
      "execution_count": null,
      "metadata": {
        "colab": {
          "base_uri": "https://localhost:8080/"
        },
        "id": "c8rjywd4-_Pm",
        "outputId": "e11e1087-91f1-43b3-847b-a946cf88b291"
      },
      "outputs": [
        {
          "name": "stderr",
          "output_type": "stream",
          "text": [
            "\u001b[34m\u001b[1mwandb\u001b[0m: \u001b[33mWARNING\u001b[0m Calling wandb.login() after wandb.init() has no effect.\n"
          ]
        },
        {
          "data": {
            "text/plain": [
              "True"
            ]
          },
          "execution_count": 98,
          "metadata": {},
          "output_type": "execute_result"
        }
      ],
      "source": [
        "wandb.login()"
      ]
    },
    {
      "cell_type": "code",
      "execution_count": null,
      "metadata": {
        "colab": {
          "base_uri": "https://localhost:8080/",
          "height": 109
        },
        "id": "gX2IH3u9i6Kz",
        "outputId": "4a5713e0-54f2-4a05-cf2d-6198aeeccd13"
      },
      "outputs": [
        {
          "name": "stderr",
          "output_type": "stream",
          "text": [
            "\u001b[34m\u001b[1mwandb\u001b[0m: Currently logged in as: \u001b[33mmeetakshisetiya\u001b[0m. Use \u001b[1m`wandb login --relogin`\u001b[0m to force relogin\n"
          ]
        },
        {
          "data": {
            "text/html": [
              "Tracking run with wandb version 0.12.16"
            ],
            "text/plain": [
              "<IPython.core.display.HTML object>"
            ]
          },
          "metadata": {},
          "output_type": "display_data"
        },
        {
          "data": {
            "text/html": [
              "Run data is saved locally in <code>/content/wandb/run-20220505_114254-34n81271</code>"
            ],
            "text/plain": [
              "<IPython.core.display.HTML object>"
            ]
          },
          "metadata": {},
          "output_type": "display_data"
        },
        {
          "data": {
            "text/html": [
              "Syncing run <strong><a href=\"https://wandb.ai/meetakshisetiya/uncategorized/runs/34n81271\" target=\"_blank\">civilized-trooper-13</a></strong> to <a href=\"https://wandb.ai/meetakshisetiya/uncategorized\" target=\"_blank\">Weights & Biases</a> (<a href=\"https://wandb.me/run\" target=\"_blank\">docs</a>)<br/>"
            ],
            "text/plain": [
              "<IPython.core.display.HTML object>"
            ]
          },
          "metadata": {},
          "output_type": "display_data"
        },
        {
          "data": {
            "text/html": [
              "<button onClick=\"this.nextSibling.style.display='block';this.style.display='none';\">Display W&B run</button><iframe src=\"https://wandb.ai/meetakshisetiya/uncategorized/runs/34n81271?jupyter=true\" style=\"border:none;width:100%;height:420px;display:none;\"></iframe>"
            ],
            "text/plain": [
              "<wandb.sdk.wandb_run.Run at 0x7f74f8bb5890>"
            ]
          },
          "execution_count": 12,
          "metadata": {},
          "output_type": "execute_result"
        }
      ],
      "source": [
        "wandb.init(sync_tensorboard=True)"
      ]
    },
    {
      "cell_type": "code",
      "execution_count": null,
      "metadata": {
        "colab": {
          "base_uri": "https://localhost:8080/",
          "height": 195,
          "referenced_widgets": [
            "17e5fb714b8747f79d7a829b62cd0bfb",
            "d434a04447de43f384fc0c2a5bd02174",
            "9ae12ebd031b4c94819f86b28ec7acd5",
            "2f8973f4351b4b8e91ff3853464ab2d9",
            "d9edb28d771c4a35afeb2cdc122a64f4",
            "29ecb714612b477cb67c0b1ddec81060",
            "7df016cac4134ff082f31575d04fd732",
            "4aa8d62a35e64b2a82169fe7ba63cc42"
          ]
        },
        "id": "IkFFu26R_apV",
        "outputId": "583f758f-e13f-4b1a-b5fe-1afbaff28912"
      },
      "outputs": [
        {
          "data": {
            "text/html": [
              "Finishing last run (ID:2c3d8f34) before initializing another..."
            ],
            "text/plain": [
              "<IPython.core.display.HTML object>"
            ]
          },
          "metadata": {},
          "output_type": "display_data"
        },
        {
          "data": {
            "text/html": [
              "Waiting for W&B process to finish... <strong style=\"color:green\">(success).</strong>"
            ],
            "text/plain": [
              "<IPython.core.display.HTML object>"
            ]
          },
          "metadata": {},
          "output_type": "display_data"
        },
        {
          "data": {
            "application/vnd.jupyter.widget-view+json": {
              "model_id": "17e5fb714b8747f79d7a829b62cd0bfb",
              "version_major": 2,
              "version_minor": 0
            },
            "text/plain": [
              "VBox(children=(Label(value='0.001 MB of 0.001 MB uploaded (0.000 MB deduped)\\r'), FloatProgress(value=1.0, max…"
            ]
          },
          "metadata": {},
          "output_type": "display_data"
        },
        {
          "data": {
            "text/html": [
              "Synced <strong style=\"color:#cdcd00\">vgg16_q2</strong>: <a href=\"https://wandb.ai/meetakshisetiya/ML_Assignment2/runs/2c3d8f34\" target=\"_blank\">https://wandb.ai/meetakshisetiya/ML_Assignment2/runs/2c3d8f34</a><br/>Synced 5 W&B file(s), 0 media file(s), 0 artifact file(s) and 0 other file(s)"
            ],
            "text/plain": [
              "<IPython.core.display.HTML object>"
            ]
          },
          "metadata": {},
          "output_type": "display_data"
        },
        {
          "data": {
            "text/html": [
              "Find logs at: <code>./wandb/run-20220505_140558-2c3d8f34/logs</code>"
            ],
            "text/plain": [
              "<IPython.core.display.HTML object>"
            ]
          },
          "metadata": {},
          "output_type": "display_data"
        },
        {
          "data": {
            "text/html": [
              "Successfully finished last run (ID:2c3d8f34). Initializing new run:<br/>"
            ],
            "text/plain": [
              "<IPython.core.display.HTML object>"
            ]
          },
          "metadata": {},
          "output_type": "display_data"
        },
        {
          "data": {
            "text/html": [
              "Tracking run with wandb version 0.12.16"
            ],
            "text/plain": [
              "<IPython.core.display.HTML object>"
            ]
          },
          "metadata": {},
          "output_type": "display_data"
        },
        {
          "data": {
            "text/html": [
              "Run data is saved locally in <code>/content/wandb/run-20220505_140934-2h8xhtd5</code>"
            ],
            "text/plain": [
              "<IPython.core.display.HTML object>"
            ]
          },
          "metadata": {},
          "output_type": "display_data"
        },
        {
          "data": {
            "text/html": [
              "Syncing run <strong><a href=\"https://wandb.ai/meetakshisetiya/ML_A2/runs/2h8xhtd5\" target=\"_blank\">vgg16_q2</a></strong> to <a href=\"https://wandb.ai/meetakshisetiya/ML_A2\" target=\"_blank\">Weights & Biases</a> (<a href=\"https://wandb.me/run\" target=\"_blank\">docs</a>)<br/>"
            ],
            "text/plain": [
              "<IPython.core.display.HTML object>"
            ]
          },
          "metadata": {},
          "output_type": "display_data"
        },
        {
          "data": {
            "text/html": [
              "<button onClick=\"this.nextSibling.style.display='block';this.style.display='none';\">Display W&B run</button><iframe src=\"https://wandb.ai/meetakshisetiya/ML_A2/runs/2h8xhtd5?jupyter=true\" style=\"border:none;width:100%;height:420px;display:none;\"></iframe>"
            ],
            "text/plain": [
              "<wandb.sdk.wandb_run.Run at 0x7f74e31105d0>"
            ]
          },
          "execution_count": 99,
          "metadata": {},
          "output_type": "execute_result"
        }
      ],
      "source": [
        "wandb.init(name=\"vgg16_q2\", \n",
        "            project=\"ML_A2\", \n",
        "            tags=[\"vgg16\", \"fashion_mnist\", \"ML_A2\"], \n",
        "            entity=\"meetakshisetiya\"\n",
        "    )"
      ]
    },
    {
      "cell_type": "code",
      "execution_count": null,
      "metadata": {
        "id": "7t19pbxe_e4G"
      },
      "outputs": [],
      "source": [
        "def train_vgg(model, loss_function, optimizer, epochs=10):\n",
        "    best_model = copy.deepcopy(model)\n",
        "    average_train_loss = 0\n",
        "    average_train_accuracy = 0\n",
        "    average_validation_loss = 0\n",
        "    average_validation_accuracy = 0\n",
        "    max_accuracy = 0\n",
        "\n",
        "    for epoch in tqdm(range(epochs)):\n",
        "\n",
        "        #put model in train mode\n",
        "        model.train(True)\n",
        "        train_loss = 0\n",
        "        train_accuracy = 0\n",
        "        val_loss = 0\n",
        "        val_accuracy = 0\n",
        "        print(\"\\n\\n----------- Epoch:\", epoch+1, \"of\", epochs, \"-----------\")\n",
        "        #train samples and train labels\n",
        "        for i, (samples, labels) in enumerate(train_data):\n",
        "            if gpu_is_av:\n",
        "              samples, classes = Variable(samples.cuda()), Variable(labels.cuda())\n",
        "            else:\n",
        "              samples, classes = Variable(samples), Variable(labels)\n",
        "            #zero the gradients\n",
        "            optimizer.zero_grad() \n",
        "            #forward pass\n",
        "            op = model(samples)\n",
        "            #calculate loss\n",
        "            loss = loss_function(op, classes)\n",
        "            #back propagation\n",
        "            loss.backward()\n",
        "            #update weights\n",
        "            optimizer.step()\n",
        "            #calculate accuracy\n",
        "            accuracy = torch.sum(torch.argmax(op, dim=1) == classes).item()/len(classes)\n",
        "            train_loss += loss.item()\n",
        "            train_accuracy += accuracy\n",
        "            #print(\"Training Batch:\", i, \" Training Loss:\", loss.item(), \"Training Accuracy:\", accuracy)\n",
        "            del samples, classes, op\n",
        "            torch.cuda.empty_cache()\n",
        "        \n",
        "        #put model in eval mode\n",
        "        model.train(False)\n",
        "        model.eval()\n",
        "        #validation samples and validation labels\n",
        "        for i, (samples, labels) in enumerate(val_data):\n",
        "            #print(\"Validation Batch:\", i)\n",
        "            if gpu_is_av:\n",
        "              samples, classes = Variable(samples.cuda()), Variable(labels.cuda())\n",
        "            else:\n",
        "              samples, classes = Variable(samples), Variable(labels)\n",
        "            #zero the gradients\n",
        "            optimizer.zero_grad()\n",
        "            # #forward pass\n",
        "            val_op = model(samples)\n",
        "            #find loss\n",
        "            vloss = loss_function(val_op, classes)\n",
        "            #calculate accuracy\n",
        "            vaccuracy = torch.sum(torch.argmax(val_op, dim=1) == classes).item()/len(classes)\n",
        "            val_loss += vloss.item() \n",
        "            val_accuracy += vaccuracy\n",
        "            #print(\"Validation Loss:\", vloss.item(), \"Validation Accuracy:\", vaccuracy)\n",
        "            del samples, classes, val_op\n",
        "            torch.cuda.empty_cache()\n",
        "\n",
        "        #calculate average loss and accuracy\n",
        "        average_train_loss = train_loss/len(train_data)\n",
        "        average_validation_loss = val_loss/len(val_data)\n",
        "        average_train_accuracy = train_accuracy/len(train_data)\n",
        "        average_validation_accuracy = val_accuracy/len(val_data)\n",
        "        print(\"Average training loss: {:.5f} | Average training accuracy: {:.5f}\".format(average_train_loss, average_train_accuracy))\n",
        "        print(\"Average validation loss: {:.5f} | Average validation accuracy: {:.5f}\".format(average_validation_loss, average_validation_accuracy))\n",
        "        print()\n",
        "\n",
        "        #update best model\n",
        "        if(average_validation_accuracy > max_accuracy):\n",
        "            max_accuracy = average_validation_accuracy\n",
        "            best_model = copy.deepcopy(model.state_dict())\n",
        "\n",
        "        wandb.log({\n",
        "            \"epoch\": epoch,\n",
        "            \"train_loss\": average_train_loss,\n",
        "            \"train_accuracy\": average_train_accuracy,\n",
        "            \"val_loss\": average_validation_loss,\n",
        "            \"val_accuracy\": average_validation_accuracy,\n",
        "            })\n",
        "            \n",
        "    print(\"\\nTraining Complete\")\n",
        "    print(\"Best Validation Accuracy:\", max_accuracy)\n",
        "    return best_model"
      ]
    },
    {
      "cell_type": "code",
      "execution_count": null,
      "metadata": {
        "id": "ohh9fCwaRAdy"
      },
      "outputs": [],
      "source": [
        "def evaluate_vgg(model, loss_function):\n",
        "    average_test_loss = 0\n",
        "    average_test_accuracy = 0 \n",
        "    test_loss = 0\n",
        "    test_accuracy = 0\n",
        "    if gpu_is_av:\n",
        "      device = \"cuda\"\n",
        "    else:\n",
        "      device = \"cpu\"\n",
        "    y_pred = torch.zeros(0, dtype=torch.long, device=device)\n",
        "    y_labels = torch.zeros(0, dtype=torch.long, device=device)\n",
        "    print(\"\\n----------- Testing Results for VGG16 -----------\")\n",
        "    #put model in eval mode\n",
        "    model.train(False)\n",
        "    model.eval()\n",
        "    for i, (samples, labels) in enumerate(test_data):\n",
        "        print(\"Test Batch:\", i)\n",
        "        if gpu_is_av:\n",
        "            samples, classes = Variable(samples.cuda()), Variable(labels.cuda())\n",
        "        else:\n",
        "            samples, classes = Variable(samples), Variable(labels)\n",
        "        test_op = model(samples)\n",
        "        #find loss\n",
        "        tloss = loss_function(test_op, classes)\n",
        "        #calculate accuracy\n",
        "        preds = torch.argmax(test_op, dim=1)\n",
        "        taccuracy = torch.sum(preds == classes).item()/len(classes)\n",
        "        test_loss += tloss.item()\n",
        "        test_accuracy += taccuracy\n",
        "        print(\"Test Loss:\", tloss.item(), \"Test Accuracy:\", taccuracy)\n",
        "\n",
        "        if gpu_is_av:\n",
        "          y_pred = torch.cat([y_pred, preds.view(-1).cuda()])\n",
        "          y_labels = torch.cat([y_labels, labels.view(-1).cuda()])\n",
        "        else:\n",
        "          y_pred = torch.cat([y_pred, preds.view(-1).cpu()])\n",
        "          y_labels = torch.cat([y_labels, labels.view(-1).cpu()])\n",
        "        \n",
        "    #calculate average loss and accuracy\n",
        "    average_test_loss = test_loss/len(test_data)\n",
        "    average_test_accuracy = test_accuracy/len(test_data)\n",
        "    print(\"Average Test Loss:\", average_test_loss)\n",
        "    print(\"Average Test Accuracy:\", average_test_accuracy)\n",
        "\n",
        "    return average_test_loss, average_test_accuracy, y_pred, y_labels\n"
      ]
    },
    {
      "cell_type": "code",
      "execution_count": null,
      "metadata": {
        "id": "-HvDCjeKip8v"
      },
      "outputs": [],
      "source": [
        "torch.cuda.empty_cache()"
      ]
    },
    {
      "cell_type": "code",
      "execution_count": null,
      "metadata": {
        "id": "Vm4jytnPDWuR"
      },
      "outputs": [],
      "source": [
        "optimizer = torch.optim.Adam(model.parameters(), lr=1e-4)\n",
        "train_vgg(model, torch.nn.CrossEntropyLoss(), optimizer, epochs=10)"
      ]
    },
    {
      "cell_type": "code",
      "execution_count": null,
      "metadata": {
        "colab": {
          "base_uri": "https://localhost:8080/"
        },
        "id": "sza88Z6Xg_KB",
        "outputId": "65933578-de76-4aed-cd45-14265f91104d"
      },
      "outputs": [
        {
          "name": "stderr",
          "output_type": "stream",
          "text": [
            "\r  0%|          | 0/10 [00:00<?, ?it/s]"
          ]
        },
        {
          "name": "stdout",
          "output_type": "stream",
          "text": [
            "\n",
            "\n",
            "----------- Epoch: 1 of 10 -----------\n"
          ]
        },
        {
          "name": "stderr",
          "output_type": "stream",
          "text": [
            "\r 10%|█         | 1/10 [08:19<1:14:58, 499.78s/it]"
          ]
        },
        {
          "name": "stdout",
          "output_type": "stream",
          "text": [
            "Average training loss: 0.37439 | Average training accuracy: 0.90144\n",
            "Average validation loss: 0.27291 | Average nvalidatio accuracy: 0.91325\n",
            "\n",
            "\n",
            "\n",
            "----------- Epoch: 2 of 10 -----------\n"
          ]
        },
        {
          "name": "stderr",
          "output_type": "stream",
          "text": [
            "\r 20%|██        | 2/10 [16:00<1:03:33, 476.73s/it]"
          ]
        },
        {
          "name": "stdout",
          "output_type": "stream",
          "text": [
            "Average training loss: 0.30557 | Average training accuracy: 0.91190\n",
            "Average validation loss: 0.26742 | Average nvalidatio accuracy: 0.91475\n",
            "\n",
            "\n",
            "\n",
            "----------- Epoch: 3 of 10 -----------\n"
          ]
        },
        {
          "name": "stderr",
          "output_type": "stream",
          "text": [
            "\r 30%|███       | 3/10 [24:26<57:09, 489.98s/it]  "
          ]
        },
        {
          "name": "stdout",
          "output_type": "stream",
          "text": [
            "Average training loss: 0.25984 | Average training accuracy: 0.92433\n",
            "Average validation loss: 0.26283 | Average nvalidatio accuracy: 0.91783\n",
            "\n",
            "\n",
            "\n",
            "----------- Epoch: 4 of 10 -----------\n"
          ]
        },
        {
          "name": "stderr",
          "output_type": "stream",
          "text": [
            "\r 40%|████      | 4/10 [32:04<47:45, 477.64s/it]"
          ]
        },
        {
          "name": "stdout",
          "output_type": "stream",
          "text": [
            "Average training loss: 0.25215 | Average training accuracy: 0.92883\n",
            "Average validation loss: 0.28373 | Average nvalidatio accuracy: 0.91283\n",
            "\n",
            "\n",
            "\n",
            "----------- Epoch: 5 of 10 -----------\n"
          ]
        },
        {
          "name": "stderr",
          "output_type": "stream",
          "text": [
            "\r 50%|█████     | 5/10 [39:44<39:16, 471.32s/it]"
          ]
        },
        {
          "name": "stdout",
          "output_type": "stream",
          "text": [
            "Average training loss: 0.20651 | Average training accuracy: 0.93983\n",
            "Average validation loss: 0.26564 | Average nvalidatio accuracy: 0.92092\n",
            "\n",
            "\n",
            "\n",
            "----------- Epoch: 6 of 10 -----------\n"
          ]
        },
        {
          "name": "stderr",
          "output_type": "stream",
          "text": [
            "\r 60%|██████    | 6/10 [48:13<32:16, 484.04s/it]"
          ]
        },
        {
          "name": "stdout",
          "output_type": "stream",
          "text": [
            "Average training loss: 0.20503 | Average training accuracy: 0.94333\n",
            "Average validation loss: 0.27840 | Average nvalidatio accuracy: 0.92308\n",
            "\n",
            "\n",
            "\n",
            "----------- Epoch: 7 of 10 -----------\n"
          ]
        },
        {
          "name": "stderr",
          "output_type": "stream",
          "text": [
            "\r 70%|███████   | 7/10 [55:53<23:48, 476.10s/it]"
          ]
        },
        {
          "name": "stdout",
          "output_type": "stream",
          "text": [
            "Average training loss: 0.17501 | Average training accuracy: 0.94879\n",
            "Average validation loss: 0.29187 | Average nvalidatio accuracy: 0.92642\n",
            "\n",
            "\n",
            "\n",
            "----------- Epoch: 8 of 10 -----------\n"
          ]
        },
        {
          "name": "stderr",
          "output_type": "stream",
          "text": [
            "\r 80%|████████  | 8/10 [1:04:27<16:16, 488.04s/it]"
          ]
        },
        {
          "name": "stdout",
          "output_type": "stream",
          "text": [
            "Average training loss: 0.17170 | Average training accuracy: 0.95169\n",
            "Average validation loss: 0.27313 | Average nvalidatio accuracy: 0.92450\n",
            "\n",
            "\n",
            "\n",
            "----------- Epoch: 9 of 10 -----------\n"
          ]
        },
        {
          "name": "stderr",
          "output_type": "stream",
          "text": [
            "\r 90%|█████████ | 9/10 [1:13:11<08:19, 499.32s/it]"
          ]
        },
        {
          "name": "stdout",
          "output_type": "stream",
          "text": [
            "Average training loss: 0.15783 | Average training accuracy: 0.95517\n",
            "Average validation loss: 0.26140 | Average nvalidatio accuracy: 0.92967\n",
            "\n",
            "\n",
            "\n",
            "----------- Epoch: 10 of 10 -----------\n"
          ]
        },
        {
          "name": "stderr",
          "output_type": "stream",
          "text": [
            "100%|██████████| 10/10 [1:20:54<00:00, 485.46s/it]"
          ]
        },
        {
          "name": "stdout",
          "output_type": "stream",
          "text": [
            "Average training loss: 0.15214 | Average training accuracy: 0.95692\n",
            "Average validation loss: 0.27375 | Average nvalidatio accuracy: 0.92417\n",
            "\n",
            "\n",
            "Training Complete\n",
            "Best Validation Accuracy: 0.9296666666666671\n"
          ]
        },
        {
          "name": "stderr",
          "output_type": "stream",
          "text": [
            "\n"
          ]
        }
      ],
      "source": [
        "optimizer2 = torch.optim.Adam(model.parameters())\n",
        "best_model = train_vgg(model, torch.nn.CrossEntropyLoss(), optimizer2, epochs=10)"
      ]
    },
    {
      "cell_type": "code",
      "execution_count": null,
      "metadata": {
        "colab": {
          "base_uri": "https://localhost:8080/"
        },
        "id": "x1VqCtyUg171",
        "outputId": "cf2c7b4a-f81b-4558-f159-972d5ce154b9"
      },
      "outputs": [
        {
          "name": "stdout",
          "output_type": "stream",
          "text": [
            "\n",
            "----------- Testing Results for VGG16 -----------\n",
            "Average Test Loss: 0.2954158514738083\n",
            "Average Test Accuracy: 0.9164000000000005\n"
          ]
        }
      ],
      "source": [
        "average_test_loss, average_test_accuracy, y_pred, y_labels = evaluate_vgg(model, torch.nn.CrossEntropyLoss())"
      ]
    },
    {
      "cell_type": "code",
      "execution_count": null,
      "metadata": {
        "id": "pGUbgFwgU3q7"
      },
      "outputs": [],
      "source": [
        "torch.save(model.state_dict(), \"/content/drive/MyDrive/vgg_trained2.pkl\")"
      ]
    },
    {
      "cell_type": "code",
      "execution_count": null,
      "metadata": {
        "colab": {
          "base_uri": "https://localhost:8080/",
          "height": 829
        },
        "id": "kol4EXhchac3",
        "outputId": "ab41dcb7-bbcd-4836-de66-f0f0139347f1"
      },
      "outputs": [
        {
          "name": "stdout",
          "output_type": "stream",
          "text": [
            "Confusion Matrix:\n"
          ]
        },
        {
          "data": {
            "image/png": "[encoded data removed]",
            "text/plain": [
              "<Figure size 1008x1008 with 1 Axes>"
            ]
          },
          "metadata": {},
          "output_type": "display_data"
        }
      ],
      "source": [
        "sns.set_theme()\n",
        "conf_matrix = confusion_matrix(y_labels.cpu().numpy() , y_pred.cpu().numpy(), labels=np.linspace(0,9,10))\n",
        "plt.figure(figsize=(14,14))\n",
        "sns.heatmap(conf_matrix, square=True, annot=True, cmap='rocket', fmt='d', cbar=False, xticklabels=model.class_to_idx.keys(), yticklabels=model.class_to_idx.keys())\n",
        "print(\"Confusion Matrix:\")\n",
        "plt.grid(False)\n",
        "plt.show()"
      ]
    },
    {
      "cell_type": "code",
      "execution_count": null,
      "metadata": {
        "colab": {
          "base_uri": "https://localhost:8080/"
        },
        "id": "PY179U88bNcV",
        "outputId": "04c22037-ea7b-4b0e-ea5b-d6c759703b97"
      },
      "outputs": [
        {
          "data": {
            "text/plain": [
              "{'Ankle boot': 9,\n",
              " 'Bag': 8,\n",
              " 'Coat': 4,\n",
              " 'Dress': 3,\n",
              " 'Pullover': 2,\n",
              " 'Sandal': 5,\n",
              " 'Shirt': 6,\n",
              " 'Sneaker': 7,\n",
              " 'T-shirt/top': 0,\n",
              " 'Trouser': 1}"
            ]
          },
          "execution_count": 51,
          "metadata": {},
          "output_type": "execute_result"
        }
      ],
      "source": [
        "model.class_to_idx"
      ]
    },
    {
      "cell_type": "code",
      "execution_count": null,
      "metadata": {
        "colab": {
          "base_uri": "https://localhost:8080/"
        },
        "id": "-Xv6h-NqkbiH",
        "outputId": "9e879c0c-58f0-4023-b5f1-f33a456f504c"
      },
      "outputs": [
        {
          "name": "stdout",
          "output_type": "stream",
          "text": [
            "Class-wise Accuracies: \n",
            "Accuracy for class T-shirt/top : 91.5 %\n",
            "Accuracy for class Trouser : 98.2 %\n",
            "Accuracy for class Pullover : 90.2 %\n",
            "Accuracy for class Dress : 95.6 %\n",
            "Accuracy for class Coat : 87.7 %\n",
            "Accuracy for class Sandal : 99.3 %\n",
            "Accuracy for class Shirt : 70.5 %\n",
            "Accuracy for class Sneaker : 94.7 %\n",
            "Accuracy for class Bag : 98.9 %\n",
            "Accuracy for class Ankle boot : 96.9 %\n"
          ]
        }
      ],
      "source": [
        "print(\"Class-wise Accuracies: \")\n",
        "classwise_acc = 100*conf_matrix.diagonal()/conf_matrix.sum(1)\n",
        "for i in model.class_to_idx:\n",
        "  index = model.class_to_idx[i]\n",
        "  print(\"Accuracy for class\", i, \":\", classwise_acc[index], \"%\")"
      ]
    },
    {
      "cell_type": "code",
      "execution_count": null,
      "metadata": {
        "colab": {
          "base_uri": "https://localhost:8080/",
          "height": 719
        },
        "id": "49OXKXha8cyK",
        "outputId": "85d6bbe3-82bb-463e-f7f0-f476537c3f87"
      },
      "outputs": [
        {
          "data": {
            "image/png": "[encoded data removed]",
            "text/plain": [
              "<Figure size 1080x864 with 10 Axes>"
            ]
          },
          "metadata": {},
          "output_type": "display_data"
        }
      ],
      "source": [
        "mul_conf_matrix = multilabel_confusion_matrix(y_labels.cpu().numpy(), y_pred.cpu().numpy(), labels=list(range(10)))\n",
        "fig, axes = plt.subplots(3, 4, figsize=(15, 12))\n",
        "for i in range(10):\n",
        "  sns.heatmap(mul_conf_matrix[i], annot=True, fmt=\"d\", ax=axes[i//4, i%4], cbar=False, cmap=\"rocket\")\n",
        "  axes[i//4, i%4].set_title(f\"Class {list(model.class_to_idx.keys())[i]}\")\n",
        "fig.delaxes(axes[2,2])\n",
        "fig.delaxes(axes[2,3])\n",
        "plt.show()"
      ]
    }
  ],
  "metadata": {
    "accelerator": "GPU",
    "colab": {
      "collapsed_sections": [],
      "name": "ML_A2_Q2",
      "provenance": []
    },
    "kernelspec": {
      "display_name": "Python 3",
      "name": "python3"
    },
    "language_info": {
      "name": "python"
    },
    "widgets": {
      "application/vnd.jupyter.widget-state+json": {
        "02f9b6fae06b408d8ce3cff78a7359fd": {
          "model_module": "@jupyter-widgets/base",
          "model_module_version": "1.2.0",
          "model_name": "LayoutModel",
          "state": {
            "_model_module": "@jupyter-widgets/base",
            "_model_module_version": "1.2.0",
            "_model_name": "LayoutModel",
            "_view_count": null,
            "_view_module": "@jupyter-widgets/base",
            "_view_module_version": "1.2.0",
            "_view_name": "LayoutView",
            "align_content": null,
            "align_items": null,
            "align_self": null,
            "border": null,
            "bottom": null,
            "display": null,
            "flex": null,
            "flex_flow": null,
            "grid_area": null,
            "grid_auto_columns": null,
            "grid_auto_flow": null,
            "grid_auto_rows": null,
            "grid_column": null,
            "grid_gap": null,
            "grid_row": null,
            "grid_template_areas": null,
            "grid_template_columns": null,
            "grid_template_rows": null,
            "height": null,
            "justify_content": null,
            "justify_items": null,
            "left": null,
            "margin": null,
            "max_height": null,
            "max_width": null,
            "min_height": null,
            "min_width": null,
            "object_fit": null,
            "object_position": null,
            "order": null,
            "overflow": null,
            "overflow_x": null,
            "overflow_y": null,
            "padding": null,
            "right": null,
            "top": null,
            "visibility": null,
            "width": null
          }
        },
        "033d8eb0e9384912a3b3405b05adbae2": {
          "model_module": "@jupyter-widgets/base",
          "model_module_version": "1.2.0",
          "model_name": "LayoutModel",
          "state": {
            "_model_module": "@jupyter-widgets/base",
            "_model_module_version": "1.2.0",
            "_model_name": "LayoutModel",
            "_view_count": null,
            "_view_module": "@jupyter-widgets/base",
            "_view_module_version": "1.2.0",
            "_view_name": "LayoutView",
            "align_content": null,
            "align_items": null,
            "align_self": null,
            "border": null,
            "bottom": null,
            "display": null,
            "flex": null,
            "flex_flow": null,
            "grid_area": null,
            "grid_auto_columns": null,
            "grid_auto_flow": null,
            "grid_auto_rows": null,
            "grid_column": null,
            "grid_gap": null,
            "grid_row": null,
            "grid_template_areas": null,
            "grid_template_columns": null,
            "grid_template_rows": null,
            "height": null,
            "justify_content": null,
            "justify_items": null,
            "left": null,
            "margin": null,
            "max_height": null,
            "max_width": null,
            "min_height": null,
            "min_width": null,
            "object_fit": null,
            "object_position": null,
            "order": null,
            "overflow": null,
            "overflow_x": null,
            "overflow_y": null,
            "padding": null,
            "right": null,
            "top": null,
            "visibility": null,
            "width": null
          }
        },
        "05fb3336b12d41dfbf69d86485109735": {
          "model_module": "@jupyter-widgets/controls",
          "model_module_version": "1.5.0",
          "model_name": "ProgressStyleModel",
          "state": {
            "_model_module": "@jupyter-widgets/controls",
            "_model_module_version": "1.5.0",
            "_model_name": "ProgressStyleModel",
            "_view_count": null,
            "_view_module": "@jupyter-widgets/base",
            "_view_module_version": "1.2.0",
            "_view_name": "StyleView",
            "bar_color": null,
            "description_width": ""
          }
        },
        "076eb36ffb844494955781c320dd6a6a": {
          "model_module": "@jupyter-widgets/base",
          "model_module_version": "1.2.0",
          "model_name": "LayoutModel",
          "state": {
            "_model_module": "@jupyter-widgets/base",
            "_model_module_version": "1.2.0",
            "_model_name": "LayoutModel",
            "_view_count": null,
            "_view_module": "@jupyter-widgets/base",
            "_view_module_version": "1.2.0",
            "_view_name": "LayoutView",
            "align_content": null,
            "align_items": null,
            "align_self": null,
            "border": null,
            "bottom": null,
            "display": null,
            "flex": null,
            "flex_flow": null,
            "grid_area": null,
            "grid_auto_columns": null,
            "grid_auto_flow": null,
            "grid_auto_rows": null,
            "grid_column": null,
            "grid_gap": null,
            "grid_row": null,
            "grid_template_areas": null,
            "grid_template_columns": null,
            "grid_template_rows": null,
            "height": null,
            "justify_content": null,
            "justify_items": null,
            "left": null,
            "margin": null,
            "max_height": null,
            "max_width": null,
            "min_height": null,
            "min_width": null,
            "object_fit": null,
            "object_position": null,
            "order": null,
            "overflow": null,
            "overflow_x": null,
            "overflow_y": null,
            "padding": null,
            "right": null,
            "top": null,
            "visibility": null,
            "width": null
          }
        },
        "0a12e59a947940af91e1f0af295aba2d": {
          "model_module": "@jupyter-widgets/controls",
          "model_module_version": "1.5.0",
          "model_name": "HTMLModel",
          "state": {
            "_dom_classes": [],
            "_model_module": "@jupyter-widgets/controls",
            "_model_module_version": "1.5.0",
            "_model_name": "HTMLModel",
            "_view_count": null,
            "_view_module": "@jupyter-widgets/controls",
            "_view_module_version": "1.5.0",
            "_view_name": "HTMLView",
            "description": "",
            "description_tooltip": null,
            "layout": "IPY_MODEL_076eb36ffb844494955781c320dd6a6a",
            "placeholder": "​",
            "style": "IPY_MODEL_ed414b6645db47c28ff6b6d12881d5f8",
            "value": ""
          }
        },
        "0bfabd394ca54730a13bea0b1f11f214": {
          "model_module": "@jupyter-widgets/controls",
          "model_module_version": "1.5.0",
          "model_name": "HTMLModel",
          "state": {
            "_dom_classes": [],
            "_model_module": "@jupyter-widgets/controls",
            "_model_module_version": "1.5.0",
            "_model_name": "HTMLModel",
            "_view_count": null,
            "_view_module": "@jupyter-widgets/controls",
            "_view_module_version": "1.5.0",
            "_view_name": "HTMLView",
            "description": "",
            "description_tooltip": null,
            "layout": "IPY_MODEL_38ef157c01f94660ad40bf8e0dfd19a0",
            "placeholder": "​",
            "style": "IPY_MODEL_d93eb92e54504cb58649c9d8e129cb29",
            "value": ""
          }
        },
        "0cef725fa4414793a0104552aee02bbb": {
          "model_module": "@jupyter-widgets/controls",
          "model_module_version": "1.5.0",
          "model_name": "DescriptionStyleModel",
          "state": {
            "_model_module": "@jupyter-widgets/controls",
            "_model_module_version": "1.5.0",
            "_model_name": "DescriptionStyleModel",
            "_view_count": null,
            "_view_module": "@jupyter-widgets/base",
            "_view_module_version": "1.2.0",
            "_view_name": "StyleView",
            "description_width": ""
          }
        },
        "0e4657a42d5140c381171fa9f0d6923e": {
          "model_module": "@jupyter-widgets/controls",
          "model_module_version": "1.5.0",
          "model_name": "HBoxModel",
          "state": {
            "_dom_classes": [],
            "_model_module": "@jupyter-widgets/controls",
            "_model_module_version": "1.5.0",
            "_model_name": "HBoxModel",
            "_view_count": null,
            "_view_module": "@jupyter-widgets/controls",
            "_view_module_version": "1.5.0",
            "_view_name": "HBoxView",
            "box_style": "",
            "children": [
              "IPY_MODEL_6a13cee99adf438b80dddc45ae5369a3",
              "IPY_MODEL_f367ea4b6c4e4e69bd9da6ebf033578a",
              "IPY_MODEL_142786a8ee364d93825859d3096d9330"
            ],
            "layout": "IPY_MODEL_9ae64df122b34e95a051167a46d1ccb6"
          }
        },
        "13ca72a47cfa41b1a10909be10890609": {
          "model_module": "@jupyter-widgets/controls",
          "model_module_version": "1.5.0",
          "model_name": "HTMLModel",
          "state": {
            "_dom_classes": [],
            "_model_module": "@jupyter-widgets/controls",
            "_model_module_version": "1.5.0",
            "_model_name": "HTMLModel",
            "_view_count": null,
            "_view_module": "@jupyter-widgets/controls",
            "_view_module_version": "1.5.0",
            "_view_name": "HTMLView",
            "description": "",
            "description_tooltip": null,
            "layout": "IPY_MODEL_8211373cbf794595b09d976c32319487",
            "placeholder": "​",
            "style": "IPY_MODEL_d1e75c53db224e8c8be62a22b4378e0d",
            "value": " 26422272/? [00:01&lt;00:00, 27250916.53it/s]"
          }
        },
        "13cb63f04ebf4b5ca43c670eea4c223d": {
          "model_module": "@jupyter-widgets/base",
          "model_module_version": "1.2.0",
          "model_name": "LayoutModel",
          "state": {
            "_model_module": "@jupyter-widgets/base",
            "_model_module_version": "1.2.0",
            "_model_name": "LayoutModel",
            "_view_count": null,
            "_view_module": "@jupyter-widgets/base",
            "_view_module_version": "1.2.0",
            "_view_name": "LayoutView",
            "align_content": null,
            "align_items": null,
            "align_self": null,
            "border": null,
            "bottom": null,
            "display": null,
            "flex": null,
            "flex_flow": null,
            "grid_area": null,
            "grid_auto_columns": null,
            "grid_auto_flow": null,
            "grid_auto_rows": null,
            "grid_column": null,
            "grid_gap": null,
            "grid_row": null,
            "grid_template_areas": null,
            "grid_template_columns": null,
            "grid_template_rows": null,
            "height": null,
            "justify_content": null,
            "justify_items": null,
            "left": null,
            "margin": null,
            "max_height": null,
            "max_width": null,
            "min_height": null,
            "min_width": null,
            "object_fit": null,
            "object_position": null,
            "order": null,
            "overflow": null,
            "overflow_x": null,
            "overflow_y": null,
            "padding": null,
            "right": null,
            "top": null,
            "visibility": null,
            "width": null
          }
        },
        "142786a8ee364d93825859d3096d9330": {
          "model_module": "@jupyter-widgets/controls",
          "model_module_version": "1.5.0",
          "model_name": "HTMLModel",
          "state": {
            "_dom_classes": [],
            "_model_module": "@jupyter-widgets/controls",
            "_model_module_version": "1.5.0",
            "_model_name": "HTMLModel",
            "_view_count": null,
            "_view_module": "@jupyter-widgets/controls",
            "_view_module_version": "1.5.0",
            "_view_name": "HTMLView",
            "description": "",
            "description_tooltip": null,
            "layout": "IPY_MODEL_8adebe71f2da4433b8e4349d3ec82b0c",
            "placeholder": "​",
            "style": "IPY_MODEL_5ef0fdead63542e380c5986344b39ea1",
            "value": " 4422656/? [00:00&lt;00:00, 8599051.34it/s]"
          }
        },
        "15626d700e56402ca5b5f657c71a9af6": {
          "model_module": "@jupyter-widgets/base",
          "model_module_version": "1.2.0",
          "model_name": "LayoutModel",
          "state": {
            "_model_module": "@jupyter-widgets/base",
            "_model_module_version": "1.2.0",
            "_model_name": "LayoutModel",
            "_view_count": null,
            "_view_module": "@jupyter-widgets/base",
            "_view_module_version": "1.2.0",
            "_view_name": "LayoutView",
            "align_content": null,
            "align_items": null,
            "align_self": null,
            "border": null,
            "bottom": null,
            "display": null,
            "flex": null,
            "flex_flow": null,
            "grid_area": null,
            "grid_auto_columns": null,
            "grid_auto_flow": null,
            "grid_auto_rows": null,
            "grid_column": null,
            "grid_gap": null,
            "grid_row": null,
            "grid_template_areas": null,
            "grid_template_columns": null,
            "grid_template_rows": null,
            "height": null,
            "justify_content": null,
            "justify_items": null,
            "left": null,
            "margin": null,
            "max_height": null,
            "max_width": null,
            "min_height": null,
            "min_width": null,
            "object_fit": null,
            "object_position": null,
            "order": null,
            "overflow": null,
            "overflow_x": null,
            "overflow_y": null,
            "padding": null,
            "right": null,
            "top": null,
            "visibility": null,
            "width": null
          }
        },
        "17e5fb714b8747f79d7a829b62cd0bfb": {
          "model_module": "@jupyter-widgets/controls",
          "model_module_version": "1.5.0",
          "model_name": "VBoxModel",
          "state": {
            "_dom_classes": [],
            "_model_module": "@jupyter-widgets/controls",
            "_model_module_version": "1.5.0",
            "_model_name": "VBoxModel",
            "_view_count": null,
            "_view_module": "@jupyter-widgets/controls",
            "_view_module_version": "1.5.0",
            "_view_name": "VBoxView",
            "box_style": "",
            "children": [
              "IPY_MODEL_d434a04447de43f384fc0c2a5bd02174",
              "IPY_MODEL_9ae12ebd031b4c94819f86b28ec7acd5"
            ],
            "layout": "IPY_MODEL_2f8973f4351b4b8e91ff3853464ab2d9"
          }
        },
        "185fd22e1f734e1d89bfa176538ce0a9": {
          "model_module": "@jupyter-widgets/controls",
          "model_module_version": "1.5.0",
          "model_name": "HTMLModel",
          "state": {
            "_dom_classes": [],
            "_model_module": "@jupyter-widgets/controls",
            "_model_module_version": "1.5.0",
            "_model_name": "HTMLModel",
            "_view_count": null,
            "_view_module": "@jupyter-widgets/controls",
            "_view_module_version": "1.5.0",
            "_view_name": "HTMLView",
            "description": "",
            "description_tooltip": null,
            "layout": "IPY_MODEL_e211285aac0048ca95ccd39dacd7d74c",
            "placeholder": "​",
            "style": "IPY_MODEL_611360858c134ae48f16a3ac7d001fe2",
            "value": ""
          }
        },
        "194774c09cf84c07bb49a9f007fb9ed4": {
          "model_module": "@jupyter-widgets/controls",
          "model_module_version": "1.5.0",
          "model_name": "HBoxModel",
          "state": {
            "_dom_classes": [],
            "_model_module": "@jupyter-widgets/controls",
            "_model_module_version": "1.5.0",
            "_model_name": "HBoxModel",
            "_view_count": null,
            "_view_module": "@jupyter-widgets/controls",
            "_view_module_version": "1.5.0",
            "_view_name": "HBoxView",
            "box_style": "",
            "children": [
              "IPY_MODEL_37429e4d942640a3b2ac4a6c0b9e8697",
              "IPY_MODEL_93723aff5b3f43c99d670494b50186fa",
              "IPY_MODEL_4dc650d64afa42a5a1eaade843416552"
            ],
            "layout": "IPY_MODEL_cdef442f849f41b1a4665856682c0758"
          }
        },
        "21c0fcdc21e946bb9f62973d2180f427": {
          "model_module": "@jupyter-widgets/controls",
          "model_module_version": "1.5.0",
          "model_name": "FloatProgressModel",
          "state": {
            "_dom_classes": [],
            "_model_module": "@jupyter-widgets/controls",
            "_model_module_version": "1.5.0",
            "_model_name": "FloatProgressModel",
            "_view_count": null,
            "_view_module": "@jupyter-widgets/controls",
            "_view_module_version": "1.5.0",
            "_view_name": "ProgressView",
            "bar_style": "success",
            "description": "",
            "description_tooltip": null,
            "layout": "IPY_MODEL_9d5e9b15f88f406cbafb829831d48518",
            "max": 29515,
            "min": 0,
            "orientation": "horizontal",
            "style": "IPY_MODEL_893b5a198d764cb4b6357657cd070e0e",
            "value": 29515
          }
        },
        "29ecb714612b477cb67c0b1ddec81060": {
          "model_module": "@jupyter-widgets/controls",
          "model_module_version": "1.5.0",
          "model_name": "DescriptionStyleModel",
          "state": {
            "_model_module": "@jupyter-widgets/controls",
            "_model_module_version": "1.5.0",
            "_model_name": "DescriptionStyleModel",
            "_view_count": null,
            "_view_module": "@jupyter-widgets/base",
            "_view_module_version": "1.2.0",
            "_view_name": "StyleView",
            "description_width": ""
          }
        },
        "2d8b07a8b64d416db0b067521bdc6948": {
          "model_module": "@jupyter-widgets/controls",
          "model_module_version": "1.5.0",
          "model_name": "ProgressStyleModel",
          "state": {
            "_model_module": "@jupyter-widgets/controls",
            "_model_module_version": "1.5.0",
            "_model_name": "ProgressStyleModel",
            "_view_count": null,
            "_view_module": "@jupyter-widgets/base",
            "_view_module_version": "1.2.0",
            "_view_name": "StyleView",
            "bar_color": null,
            "description_width": ""
          }
        },
        "2ed93f46d9d5459dbd8d223d956b8d36": {
          "model_module": "@jupyter-widgets/base",
          "model_module_version": "1.2.0",
          "model_name": "LayoutModel",
          "state": {
            "_model_module": "@jupyter-widgets/base",
            "_model_module_version": "1.2.0",
            "_model_name": "LayoutModel",
            "_view_count": null,
            "_view_module": "@jupyter-widgets/base",
            "_view_module_version": "1.2.0",
            "_view_name": "LayoutView",
            "align_content": null,
            "align_items": null,
            "align_self": null,
            "border": null,
            "bottom": null,
            "display": null,
            "flex": null,
            "flex_flow": null,
            "grid_area": null,
            "grid_auto_columns": null,
            "grid_auto_flow": null,
            "grid_auto_rows": null,
            "grid_column": null,
            "grid_gap": null,
            "grid_row": null,
            "grid_template_areas": null,
            "grid_template_columns": null,
            "grid_template_rows": null,
            "height": null,
            "justify_content": null,
            "justify_items": null,
            "left": null,
            "margin": null,
            "max_height": null,
            "max_width": null,
            "min_height": null,
            "min_width": null,
            "object_fit": null,
            "object_position": null,
            "order": null,
            "overflow": null,
            "overflow_x": null,
            "overflow_y": null,
            "padding": null,
            "right": null,
            "top": null,
            "visibility": null,
            "width": null
          }
        },
        "2f8973f4351b4b8e91ff3853464ab2d9": {
          "model_module": "@jupyter-widgets/base",
          "model_module_version": "1.2.0",
          "model_name": "LayoutModel",
          "state": {
            "_model_module": "@jupyter-widgets/base",
            "_model_module_version": "1.2.0",
            "_model_name": "LayoutModel",
            "_view_count": null,
            "_view_module": "@jupyter-widgets/base",
            "_view_module_version": "1.2.0",
            "_view_name": "LayoutView",
            "align_content": null,
            "align_items": null,
            "align_self": null,
            "border": null,
            "bottom": null,
            "display": null,
            "flex": null,
            "flex_flow": null,
            "grid_area": null,
            "grid_auto_columns": null,
            "grid_auto_flow": null,
            "grid_auto_rows": null,
            "grid_column": null,
            "grid_gap": null,
            "grid_row": null,
            "grid_template_areas": null,
            "grid_template_columns": null,
            "grid_template_rows": null,
            "height": null,
            "justify_content": null,
            "justify_items": null,
            "left": null,
            "margin": null,
            "max_height": null,
            "max_width": null,
            "min_height": null,
            "min_width": null,
            "object_fit": null,
            "object_position": null,
            "order": null,
            "overflow": null,
            "overflow_x": null,
            "overflow_y": null,
            "padding": null,
            "right": null,
            "top": null,
            "visibility": null,
            "width": null
          }
        },
        "3233adb2a224499ca9371c5b7741f06c": {
          "model_module": "@jupyter-widgets/base",
          "model_module_version": "1.2.0",
          "model_name": "LayoutModel",
          "state": {
            "_model_module": "@jupyter-widgets/base",
            "_model_module_version": "1.2.0",
            "_model_name": "LayoutModel",
            "_view_count": null,
            "_view_module": "@jupyter-widgets/base",
            "_view_module_version": "1.2.0",
            "_view_name": "LayoutView",
            "align_content": null,
            "align_items": null,
            "align_self": null,
            "border": null,
            "bottom": null,
            "display": null,
            "flex": null,
            "flex_flow": null,
            "grid_area": null,
            "grid_auto_columns": null,
            "grid_auto_flow": null,
            "grid_auto_rows": null,
            "grid_column": null,
            "grid_gap": null,
            "grid_row": null,
            "grid_template_areas": null,
            "grid_template_columns": null,
            "grid_template_rows": null,
            "height": null,
            "justify_content": null,
            "justify_items": null,
            "left": null,
            "margin": null,
            "max_height": null,
            "max_width": null,
            "min_height": null,
            "min_width": null,
            "object_fit": null,
            "object_position": null,
            "order": null,
            "overflow": null,
            "overflow_x": null,
            "overflow_y": null,
            "padding": null,
            "right": null,
            "top": null,
            "visibility": null,
            "width": null
          }
        },
        "3396a5a658a0469f97ba4c2a560b535d": {
          "model_module": "@jupyter-widgets/controls",
          "model_module_version": "1.5.0",
          "model_name": "ProgressStyleModel",
          "state": {
            "_model_module": "@jupyter-widgets/controls",
            "_model_module_version": "1.5.0",
            "_model_name": "ProgressStyleModel",
            "_view_count": null,
            "_view_module": "@jupyter-widgets/base",
            "_view_module_version": "1.2.0",
            "_view_name": "StyleView",
            "bar_color": null,
            "description_width": ""
          }
        },
        "35cf5999dc6044a0a5b28cb10db85043": {
          "model_module": "@jupyter-widgets/controls",
          "model_module_version": "1.5.0",
          "model_name": "HTMLModel",
          "state": {
            "_dom_classes": [],
            "_model_module": "@jupyter-widgets/controls",
            "_model_module_version": "1.5.0",
            "_model_name": "HTMLModel",
            "_view_count": null,
            "_view_module": "@jupyter-widgets/controls",
            "_view_module_version": "1.5.0",
            "_view_name": "HTMLView",
            "description": "",
            "description_tooltip": null,
            "layout": "IPY_MODEL_956e4dca7f704db1b0c0f97d78beb814",
            "placeholder": "​",
            "style": "IPY_MODEL_74d211f77179418b824f6e413d17be87",
            "value": ""
          }
        },
        "37429e4d942640a3b2ac4a6c0b9e8697": {
          "model_module": "@jupyter-widgets/controls",
          "model_module_version": "1.5.0",
          "model_name": "HTMLModel",
          "state": {
            "_dom_classes": [],
            "_model_module": "@jupyter-widgets/controls",
            "_model_module_version": "1.5.0",
            "_model_name": "HTMLModel",
            "_view_count": null,
            "_view_module": "@jupyter-widgets/controls",
            "_view_module_version": "1.5.0",
            "_view_name": "HTMLView",
            "description": "",
            "description_tooltip": null,
            "layout": "IPY_MODEL_13cb63f04ebf4b5ca43c670eea4c223d",
            "placeholder": "​",
            "style": "IPY_MODEL_e0c6c5ea2e524af69e509e63d34cf9f0",
            "value": ""
          }
        },
        "3813f664966a4273b0c66e7377ec685d": {
          "model_module": "@jupyter-widgets/controls",
          "model_module_version": "1.5.0",
          "model_name": "HBoxModel",
          "state": {
            "_dom_classes": [],
            "_model_module": "@jupyter-widgets/controls",
            "_model_module_version": "1.5.0",
            "_model_name": "HBoxModel",
            "_view_count": null,
            "_view_module": "@jupyter-widgets/controls",
            "_view_module_version": "1.5.0",
            "_view_name": "HBoxView",
            "box_style": "",
            "children": [
              "IPY_MODEL_35cf5999dc6044a0a5b28cb10db85043",
              "IPY_MODEL_62c5fa9d93ab45d9ba4f49873b33d7b5",
              "IPY_MODEL_8b7062c3ead54126b42731244cf4ee94"
            ],
            "layout": "IPY_MODEL_dfb5193984f54cb09481e9224cb79d4f"
          }
        },
        "38ef157c01f94660ad40bf8e0dfd19a0": {
          "model_module": "@jupyter-widgets/base",
          "model_module_version": "1.2.0",
          "model_name": "LayoutModel",
          "state": {
            "_model_module": "@jupyter-widgets/base",
            "_model_module_version": "1.2.0",
            "_model_name": "LayoutModel",
            "_view_count": null,
            "_view_module": "@jupyter-widgets/base",
            "_view_module_version": "1.2.0",
            "_view_name": "LayoutView",
            "align_content": null,
            "align_items": null,
            "align_self": null,
            "border": null,
            "bottom": null,
            "display": null,
            "flex": null,
            "flex_flow": null,
            "grid_area": null,
            "grid_auto_columns": null,
            "grid_auto_flow": null,
            "grid_auto_rows": null,
            "grid_column": null,
            "grid_gap": null,
            "grid_row": null,
            "grid_template_areas": null,
            "grid_template_columns": null,
            "grid_template_rows": null,
            "height": null,
            "justify_content": null,
            "justify_items": null,
            "left": null,
            "margin": null,
            "max_height": null,
            "max_width": null,
            "min_height": null,
            "min_width": null,
            "object_fit": null,
            "object_position": null,
            "order": null,
            "overflow": null,
            "overflow_x": null,
            "overflow_y": null,
            "padding": null,
            "right": null,
            "top": null,
            "visibility": null,
            "width": null
          }
        },
        "3aa29601be7c4a1598afd6fa6537035e": {
          "model_module": "@jupyter-widgets/controls",
          "model_module_version": "1.5.0",
          "model_name": "DescriptionStyleModel",
          "state": {
            "_model_module": "@jupyter-widgets/controls",
            "_model_module_version": "1.5.0",
            "_model_name": "DescriptionStyleModel",
            "_view_count": null,
            "_view_module": "@jupyter-widgets/base",
            "_view_module_version": "1.2.0",
            "_view_name": "StyleView",
            "description_width": ""
          }
        },
        "3c7afb7ce66846e8a355ce16f843d8fb": {
          "model_module": "@jupyter-widgets/controls",
          "model_module_version": "1.5.0",
          "model_name": "DescriptionStyleModel",
          "state": {
            "_model_module": "@jupyter-widgets/controls",
            "_model_module_version": "1.5.0",
            "_model_name": "DescriptionStyleModel",
            "_view_count": null,
            "_view_module": "@jupyter-widgets/base",
            "_view_module_version": "1.2.0",
            "_view_name": "StyleView",
            "description_width": ""
          }
        },
        "3ff1abecc0234acf94af5e28b3a3318e": {
          "model_module": "@jupyter-widgets/controls",
          "model_module_version": "1.5.0",
          "model_name": "DescriptionStyleModel",
          "state": {
            "_model_module": "@jupyter-widgets/controls",
            "_model_module_version": "1.5.0",
            "_model_name": "DescriptionStyleModel",
            "_view_count": null,
            "_view_module": "@jupyter-widgets/base",
            "_view_module_version": "1.2.0",
            "_view_name": "StyleView",
            "description_width": ""
          }
        },
        "4150cde6b71347949b6f52d59788e883": {
          "model_module": "@jupyter-widgets/base",
          "model_module_version": "1.2.0",
          "model_name": "LayoutModel",
          "state": {
            "_model_module": "@jupyter-widgets/base",
            "_model_module_version": "1.2.0",
            "_model_name": "LayoutModel",
            "_view_count": null,
            "_view_module": "@jupyter-widgets/base",
            "_view_module_version": "1.2.0",
            "_view_name": "LayoutView",
            "align_content": null,
            "align_items": null,
            "align_self": null,
            "border": null,
            "bottom": null,
            "display": null,
            "flex": null,
            "flex_flow": null,
            "grid_area": null,
            "grid_auto_columns": null,
            "grid_auto_flow": null,
            "grid_auto_rows": null,
            "grid_column": null,
            "grid_gap": null,
            "grid_row": null,
            "grid_template_areas": null,
            "grid_template_columns": null,
            "grid_template_rows": null,
            "height": null,
            "justify_content": null,
            "justify_items": null,
            "left": null,
            "margin": null,
            "max_height": null,
            "max_width": null,
            "min_height": null,
            "min_width": null,
            "object_fit": null,
            "object_position": null,
            "order": null,
            "overflow": null,
            "overflow_x": null,
            "overflow_y": null,
            "padding": null,
            "right": null,
            "top": null,
            "visibility": null,
            "width": null
          }
        },
        "455a91ca7f96486d926245dca8a0d085": {
          "model_module": "@jupyter-widgets/controls",
          "model_module_version": "1.5.0",
          "model_name": "HBoxModel",
          "state": {
            "_dom_classes": [],
            "_model_module": "@jupyter-widgets/controls",
            "_model_module_version": "1.5.0",
            "_model_name": "HBoxModel",
            "_view_count": null,
            "_view_module": "@jupyter-widgets/controls",
            "_view_module_version": "1.5.0",
            "_view_name": "HBoxView",
            "box_style": "",
            "children": [
              "IPY_MODEL_b9e0f50f15a641b085e726328bb97944",
              "IPY_MODEL_e0e06c527bcd4e8fb47bbc3744a1f209",
              "IPY_MODEL_e3b70690004e4d4a9393e8d5d1368e3f"
            ],
            "layout": "IPY_MODEL_52cf16656cc74e7e80767a20ddcad4dc"
          }
        },
        "471ddc31cbea43e5811eabb798812cb8": {
          "model_module": "@jupyter-widgets/controls",
          "model_module_version": "1.5.0",
          "model_name": "HTMLModel",
          "state": {
            "_dom_classes": [],
            "_model_module": "@jupyter-widgets/controls",
            "_model_module_version": "1.5.0",
            "_model_name": "HTMLModel",
            "_view_count": null,
            "_view_module": "@jupyter-widgets/controls",
            "_view_module_version": "1.5.0",
            "_view_name": "HTMLView",
            "description": "",
            "description_tooltip": null,
            "layout": "IPY_MODEL_e3fc355fd215416fac98f70f8f275af1",
            "placeholder": "​",
            "style": "IPY_MODEL_70f4d1226df94447baf992bf844a980f",
            "value": ""
          }
        },
        "4aa8d62a35e64b2a82169fe7ba63cc42": {
          "model_module": "@jupyter-widgets/controls",
          "model_module_version": "1.5.0",
          "model_name": "ProgressStyleModel",
          "state": {
            "_model_module": "@jupyter-widgets/controls",
            "_model_module_version": "1.5.0",
            "_model_name": "ProgressStyleModel",
            "_view_count": null,
            "_view_module": "@jupyter-widgets/base",
            "_view_module_version": "1.2.0",
            "_view_name": "StyleView",
            "bar_color": null,
            "description_width": ""
          }
        },
        "4dc650d64afa42a5a1eaade843416552": {
          "model_module": "@jupyter-widgets/controls",
          "model_module_version": "1.5.0",
          "model_name": "HTMLModel",
          "state": {
            "_dom_classes": [],
            "_model_module": "@jupyter-widgets/controls",
            "_model_module_version": "1.5.0",
            "_model_name": "HTMLModel",
            "_view_count": null,
            "_view_module": "@jupyter-widgets/controls",
            "_view_module_version": "1.5.0",
            "_view_name": "HTMLView",
            "description": "",
            "description_tooltip": null,
            "layout": "IPY_MODEL_c148158f16854a2da1866bf1bbdf217a",
            "placeholder": "​",
            "style": "IPY_MODEL_7d5f8de65fd342eeaf58b5cf63a2fde8",
            "value": " 6144/? [00:00&lt;00:00, 200116.51it/s]"
          }
        },
        "4ec89160f3e743df985e9394e7eb2e34": {
          "model_module": "@jupyter-widgets/controls",
          "model_module_version": "1.5.0",
          "model_name": "HBoxModel",
          "state": {
            "_dom_classes": [],
            "_model_module": "@jupyter-widgets/controls",
            "_model_module_version": "1.5.0",
            "_model_name": "HBoxModel",
            "_view_count": null,
            "_view_module": "@jupyter-widgets/controls",
            "_view_module_version": "1.5.0",
            "_view_name": "HBoxView",
            "box_style": "",
            "children": [
              "IPY_MODEL_7e7c354b666b40458580217443529232",
              "IPY_MODEL_77135792e68a49da844b08703bba200d",
              "IPY_MODEL_7cecb4c762c34fc58d33219b22f61ab2"
            ],
            "layout": "IPY_MODEL_b8b318098c5944ec89668f944bb7f000"
          }
        },
        "52cf16656cc74e7e80767a20ddcad4dc": {
          "model_module": "@jupyter-widgets/base",
          "model_module_version": "1.2.0",
          "model_name": "LayoutModel",
          "state": {
            "_model_module": "@jupyter-widgets/base",
            "_model_module_version": "1.2.0",
            "_model_name": "LayoutModel",
            "_view_count": null,
            "_view_module": "@jupyter-widgets/base",
            "_view_module_version": "1.2.0",
            "_view_name": "LayoutView",
            "align_content": null,
            "align_items": null,
            "align_self": null,
            "border": null,
            "bottom": null,
            "display": null,
            "flex": null,
            "flex_flow": null,
            "grid_area": null,
            "grid_auto_columns": null,
            "grid_auto_flow": null,
            "grid_auto_rows": null,
            "grid_column": null,
            "grid_gap": null,
            "grid_row": null,
            "grid_template_areas": null,
            "grid_template_columns": null,
            "grid_template_rows": null,
            "height": null,
            "justify_content": null,
            "justify_items": null,
            "left": null,
            "margin": null,
            "max_height": null,
            "max_width": null,
            "min_height": null,
            "min_width": null,
            "object_fit": null,
            "object_position": null,
            "order": null,
            "overflow": null,
            "overflow_x": null,
            "overflow_y": null,
            "padding": null,
            "right": null,
            "top": null,
            "visibility": null,
            "width": null
          }
        },
        "5a647199df694df195de5191764ec1e9": {
          "model_module": "@jupyter-widgets/controls",
          "model_module_version": "1.5.0",
          "model_name": "FloatProgressModel",
          "state": {
            "_dom_classes": [],
            "_model_module": "@jupyter-widgets/controls",
            "_model_module_version": "1.5.0",
            "_model_name": "FloatProgressModel",
            "_view_count": null,
            "_view_module": "@jupyter-widgets/controls",
            "_view_module_version": "1.5.0",
            "_view_name": "ProgressView",
            "bar_style": "success",
            "description": "",
            "description_tooltip": null,
            "layout": "IPY_MODEL_c440ada7e5cf4d8da543f1fb6f5a7dde",
            "max": 29515,
            "min": 0,
            "orientation": "horizontal",
            "style": "IPY_MODEL_2d8b07a8b64d416db0b067521bdc6948",
            "value": 29515
          }
        },
        "5ef0fdead63542e380c5986344b39ea1": {
          "model_module": "@jupyter-widgets/controls",
          "model_module_version": "1.5.0",
          "model_name": "DescriptionStyleModel",
          "state": {
            "_model_module": "@jupyter-widgets/controls",
            "_model_module_version": "1.5.0",
            "_model_name": "DescriptionStyleModel",
            "_view_count": null,
            "_view_module": "@jupyter-widgets/base",
            "_view_module_version": "1.2.0",
            "_view_name": "StyleView",
            "description_width": ""
          }
        },
        "5f9f8037a1ac4549b39546df1ea0059f": {
          "model_module": "@jupyter-widgets/controls",
          "model_module_version": "1.5.0",
          "model_name": "DescriptionStyleModel",
          "state": {
            "_model_module": "@jupyter-widgets/controls",
            "_model_module_version": "1.5.0",
            "_model_name": "DescriptionStyleModel",
            "_view_count": null,
            "_view_module": "@jupyter-widgets/base",
            "_view_module_version": "1.2.0",
            "_view_name": "StyleView",
            "description_width": ""
          }
        },
        "611360858c134ae48f16a3ac7d001fe2": {
          "model_module": "@jupyter-widgets/controls",
          "model_module_version": "1.5.0",
          "model_name": "DescriptionStyleModel",
          "state": {
            "_model_module": "@jupyter-widgets/controls",
            "_model_module_version": "1.5.0",
            "_model_name": "DescriptionStyleModel",
            "_view_count": null,
            "_view_module": "@jupyter-widgets/base",
            "_view_module_version": "1.2.0",
            "_view_name": "StyleView",
            "description_width": ""
          }
        },
        "62c5fa9d93ab45d9ba4f49873b33d7b5": {
          "model_module": "@jupyter-widgets/controls",
          "model_module_version": "1.5.0",
          "model_name": "FloatProgressModel",
          "state": {
            "_dom_classes": [],
            "_model_module": "@jupyter-widgets/controls",
            "_model_module_version": "1.5.0",
            "_model_name": "FloatProgressModel",
            "_view_count": null,
            "_view_module": "@jupyter-widgets/controls",
            "_view_module_version": "1.5.0",
            "_view_name": "ProgressView",
            "bar_style": "success",
            "description": "",
            "description_tooltip": null,
            "layout": "IPY_MODEL_7f5b6f6b90ab4e048e07b5b3a5a6bcde",
            "max": 5148,
            "min": 0,
            "orientation": "horizontal",
            "style": "IPY_MODEL_e5f53f96e7d844fd92f5aacafa412451",
            "value": 5148
          }
        },
        "6a13cee99adf438b80dddc45ae5369a3": {
          "model_module": "@jupyter-widgets/controls",
          "model_module_version": "1.5.0",
          "model_name": "HTMLModel",
          "state": {
            "_dom_classes": [],
            "_model_module": "@jupyter-widgets/controls",
            "_model_module_version": "1.5.0",
            "_model_name": "HTMLModel",
            "_view_count": null,
            "_view_module": "@jupyter-widgets/controls",
            "_view_module_version": "1.5.0",
            "_view_name": "HTMLView",
            "description": "",
            "description_tooltip": null,
            "layout": "IPY_MODEL_b101a39545ad482196005fe233c9c03c",
            "placeholder": "​",
            "style": "IPY_MODEL_3c7afb7ce66846e8a355ce16f843d8fb",
            "value": ""
          }
        },
        "6f603ffaa0b34b4195d18d1827f0b15f": {
          "model_module": "@jupyter-widgets/controls",
          "model_module_version": "1.5.0",
          "model_name": "FloatProgressModel",
          "state": {
            "_dom_classes": [],
            "_model_module": "@jupyter-widgets/controls",
            "_model_module_version": "1.5.0",
            "_model_name": "FloatProgressModel",
            "_view_count": null,
            "_view_module": "@jupyter-widgets/controls",
            "_view_module_version": "1.5.0",
            "_view_name": "ProgressView",
            "bar_style": "success",
            "description": "",
            "description_tooltip": null,
            "layout": "IPY_MODEL_4150cde6b71347949b6f52d59788e883",
            "max": 26421880,
            "min": 0,
            "orientation": "horizontal",
            "style": "IPY_MODEL_3396a5a658a0469f97ba4c2a560b535d",
            "value": 26421880
          }
        },
        "703de4972df3461d94065c8e67c6d63f": {
          "model_module": "@jupyter-widgets/controls",
          "model_module_version": "1.5.0",
          "model_name": "ProgressStyleModel",
          "state": {
            "_model_module": "@jupyter-widgets/controls",
            "_model_module_version": "1.5.0",
            "_model_name": "ProgressStyleModel",
            "_view_count": null,
            "_view_module": "@jupyter-widgets/base",
            "_view_module_version": "1.2.0",
            "_view_name": "StyleView",
            "bar_color": null,
            "description_width": ""
          }
        },
        "70f4d1226df94447baf992bf844a980f": {
          "model_module": "@jupyter-widgets/controls",
          "model_module_version": "1.5.0",
          "model_name": "DescriptionStyleModel",
          "state": {
            "_model_module": "@jupyter-widgets/controls",
            "_model_module_version": "1.5.0",
            "_model_name": "DescriptionStyleModel",
            "_view_count": null,
            "_view_module": "@jupyter-widgets/base",
            "_view_module_version": "1.2.0",
            "_view_name": "StyleView",
            "description_width": ""
          }
        },
        "74d211f77179418b824f6e413d17be87": {
          "model_module": "@jupyter-widgets/controls",
          "model_module_version": "1.5.0",
          "model_name": "DescriptionStyleModel",
          "state": {
            "_model_module": "@jupyter-widgets/controls",
            "_model_module_version": "1.5.0",
            "_model_name": "DescriptionStyleModel",
            "_view_count": null,
            "_view_module": "@jupyter-widgets/base",
            "_view_module_version": "1.2.0",
            "_view_name": "StyleView",
            "description_width": ""
          }
        },
        "77135792e68a49da844b08703bba200d": {
          "model_module": "@jupyter-widgets/controls",
          "model_module_version": "1.5.0",
          "model_name": "FloatProgressModel",
          "state": {
            "_dom_classes": [],
            "_model_module": "@jupyter-widgets/controls",
            "_model_module_version": "1.5.0",
            "_model_name": "FloatProgressModel",
            "_view_count": null,
            "_view_module": "@jupyter-widgets/controls",
            "_view_module_version": "1.5.0",
            "_view_name": "ProgressView",
            "bar_style": "success",
            "description": "",
            "description_tooltip": null,
            "layout": "IPY_MODEL_a51d0c99d38e47c7afef9355700cabae",
            "max": 553433881,
            "min": 0,
            "orientation": "horizontal",
            "style": "IPY_MODEL_05fb3336b12d41dfbf69d86485109735",
            "value": 553433881
          }
        },
        "7c49e41297b741b0a86a4df7439adfac": {
          "model_module": "@jupyter-widgets/base",
          "model_module_version": "1.2.0",
          "model_name": "LayoutModel",
          "state": {
            "_model_module": "@jupyter-widgets/base",
            "_model_module_version": "1.2.0",
            "_model_name": "LayoutModel",
            "_view_count": null,
            "_view_module": "@jupyter-widgets/base",
            "_view_module_version": "1.2.0",
            "_view_name": "LayoutView",
            "align_content": null,
            "align_items": null,
            "align_self": null,
            "border": null,
            "bottom": null,
            "display": null,
            "flex": null,
            "flex_flow": null,
            "grid_area": null,
            "grid_auto_columns": null,
            "grid_auto_flow": null,
            "grid_auto_rows": null,
            "grid_column": null,
            "grid_gap": null,
            "grid_row": null,
            "grid_template_areas": null,
            "grid_template_columns": null,
            "grid_template_rows": null,
            "height": null,
            "justify_content": null,
            "justify_items": null,
            "left": null,
            "margin": null,
            "max_height": null,
            "max_width": null,
            "min_height": null,
            "min_width": null,
            "object_fit": null,
            "object_position": null,
            "order": null,
            "overflow": null,
            "overflow_x": null,
            "overflow_y": null,
            "padding": null,
            "right": null,
            "top": null,
            "visibility": null,
            "width": null
          }
        },
        "7cecb4c762c34fc58d33219b22f61ab2": {
          "model_module": "@jupyter-widgets/controls",
          "model_module_version": "1.5.0",
          "model_name": "HTMLModel",
          "state": {
            "_dom_classes": [],
            "_model_module": "@jupyter-widgets/controls",
            "_model_module_version": "1.5.0",
            "_model_name": "HTMLModel",
            "_view_count": null,
            "_view_module": "@jupyter-widgets/controls",
            "_view_module_version": "1.5.0",
            "_view_name": "HTMLView",
            "description": "",
            "description_tooltip": null,
            "layout": "IPY_MODEL_2ed93f46d9d5459dbd8d223d956b8d36",
            "placeholder": "​",
            "style": "IPY_MODEL_5f9f8037a1ac4549b39546df1ea0059f",
            "value": " 528M/528M [00:02&lt;00:00, 239MB/s]"
          }
        },
        "7d5f8de65fd342eeaf58b5cf63a2fde8": {
          "model_module": "@jupyter-widgets/controls",
          "model_module_version": "1.5.0",
          "model_name": "DescriptionStyleModel",
          "state": {
            "_model_module": "@jupyter-widgets/controls",
            "_model_module_version": "1.5.0",
            "_model_name": "DescriptionStyleModel",
            "_view_count": null,
            "_view_module": "@jupyter-widgets/base",
            "_view_module_version": "1.2.0",
            "_view_name": "StyleView",
            "description_width": ""
          }
        },
        "7df016cac4134ff082f31575d04fd732": {
          "model_module": "@jupyter-widgets/base",
          "model_module_version": "1.2.0",
          "model_name": "LayoutModel",
          "state": {
            "_model_module": "@jupyter-widgets/base",
            "_model_module_version": "1.2.0",
            "_model_name": "LayoutModel",
            "_view_count": null,
            "_view_module": "@jupyter-widgets/base",
            "_view_module_version": "1.2.0",
            "_view_name": "LayoutView",
            "align_content": null,
            "align_items": null,
            "align_self": null,
            "border": null,
            "bottom": null,
            "display": null,
            "flex": null,
            "flex_flow": null,
            "grid_area": null,
            "grid_auto_columns": null,
            "grid_auto_flow": null,
            "grid_auto_rows": null,
            "grid_column": null,
            "grid_gap": null,
            "grid_row": null,
            "grid_template_areas": null,
            "grid_template_columns": null,
            "grid_template_rows": null,
            "height": null,
            "justify_content": null,
            "justify_items": null,
            "left": null,
            "margin": null,
            "max_height": null,
            "max_width": null,
            "min_height": null,
            "min_width": null,
            "object_fit": null,
            "object_position": null,
            "order": null,
            "overflow": null,
            "overflow_x": null,
            "overflow_y": null,
            "padding": null,
            "right": null,
            "top": null,
            "visibility": null,
            "width": null
          }
        },
        "7e7c354b666b40458580217443529232": {
          "model_module": "@jupyter-widgets/controls",
          "model_module_version": "1.5.0",
          "model_name": "HTMLModel",
          "state": {
            "_dom_classes": [],
            "_model_module": "@jupyter-widgets/controls",
            "_model_module_version": "1.5.0",
            "_model_name": "HTMLModel",
            "_view_count": null,
            "_view_module": "@jupyter-widgets/controls",
            "_view_module_version": "1.5.0",
            "_view_name": "HTMLView",
            "description": "",
            "description_tooltip": null,
            "layout": "IPY_MODEL_96cdbd6efc15496c8087355ea0af9e87",
            "placeholder": "​",
            "style": "IPY_MODEL_0cef725fa4414793a0104552aee02bbb",
            "value": "100%"
          }
        },
        "7ef97816c97f4190823984fbce96fec2": {
          "model_module": "@jupyter-widgets/base",
          "model_module_version": "1.2.0",
          "model_name": "LayoutModel",
          "state": {
            "_model_module": "@jupyter-widgets/base",
            "_model_module_version": "1.2.0",
            "_model_name": "LayoutModel",
            "_view_count": null,
            "_view_module": "@jupyter-widgets/base",
            "_view_module_version": "1.2.0",
            "_view_name": "LayoutView",
            "align_content": null,
            "align_items": null,
            "align_self": null,
            "border": null,
            "bottom": null,
            "display": null,
            "flex": null,
            "flex_flow": null,
            "grid_area": null,
            "grid_auto_columns": null,
            "grid_auto_flow": null,
            "grid_auto_rows": null,
            "grid_column": null,
            "grid_gap": null,
            "grid_row": null,
            "grid_template_areas": null,
            "grid_template_columns": null,
            "grid_template_rows": null,
            "height": null,
            "justify_content": null,
            "justify_items": null,
            "left": null,
            "margin": null,
            "max_height": null,
            "max_width": null,
            "min_height": null,
            "min_width": null,
            "object_fit": null,
            "object_position": null,
            "order": null,
            "overflow": null,
            "overflow_x": null,
            "overflow_y": null,
            "padding": null,
            "right": null,
            "top": null,
            "visibility": null,
            "width": null
          }
        },
        "7f5b6f6b90ab4e048e07b5b3a5a6bcde": {
          "model_module": "@jupyter-widgets/base",
          "model_module_version": "1.2.0",
          "model_name": "LayoutModel",
          "state": {
            "_model_module": "@jupyter-widgets/base",
            "_model_module_version": "1.2.0",
            "_model_name": "LayoutModel",
            "_view_count": null,
            "_view_module": "@jupyter-widgets/base",
            "_view_module_version": "1.2.0",
            "_view_name": "LayoutView",
            "align_content": null,
            "align_items": null,
            "align_self": null,
            "border": null,
            "bottom": null,
            "display": null,
            "flex": null,
            "flex_flow": null,
            "grid_area": null,
            "grid_auto_columns": null,
            "grid_auto_flow": null,
            "grid_auto_rows": null,
            "grid_column": null,
            "grid_gap": null,
            "grid_row": null,
            "grid_template_areas": null,
            "grid_template_columns": null,
            "grid_template_rows": null,
            "height": null,
            "justify_content": null,
            "justify_items": null,
            "left": null,
            "margin": null,
            "max_height": null,
            "max_width": null,
            "min_height": null,
            "min_width": null,
            "object_fit": null,
            "object_position": null,
            "order": null,
            "overflow": null,
            "overflow_x": null,
            "overflow_y": null,
            "padding": null,
            "right": null,
            "top": null,
            "visibility": null,
            "width": null
          }
        },
        "8211373cbf794595b09d976c32319487": {
          "model_module": "@jupyter-widgets/base",
          "model_module_version": "1.2.0",
          "model_name": "LayoutModel",
          "state": {
            "_model_module": "@jupyter-widgets/base",
            "_model_module_version": "1.2.0",
            "_model_name": "LayoutModel",
            "_view_count": null,
            "_view_module": "@jupyter-widgets/base",
            "_view_module_version": "1.2.0",
            "_view_name": "LayoutView",
            "align_content": null,
            "align_items": null,
            "align_self": null,
            "border": null,
            "bottom": null,
            "display": null,
            "flex": null,
            "flex_flow": null,
            "grid_area": null,
            "grid_auto_columns": null,
            "grid_auto_flow": null,
            "grid_auto_rows": null,
            "grid_column": null,
            "grid_gap": null,
            "grid_row": null,
            "grid_template_areas": null,
            "grid_template_columns": null,
            "grid_template_rows": null,
            "height": null,
            "justify_content": null,
            "justify_items": null,
            "left": null,
            "margin": null,
            "max_height": null,
            "max_width": null,
            "min_height": null,
            "min_width": null,
            "object_fit": null,
            "object_position": null,
            "order": null,
            "overflow": null,
            "overflow_x": null,
            "overflow_y": null,
            "padding": null,
            "right": null,
            "top": null,
            "visibility": null,
            "width": null
          }
        },
        "825824a3f5954efa98aaec0f5d3af54b": {
          "model_module": "@jupyter-widgets/base",
          "model_module_version": "1.2.0",
          "model_name": "LayoutModel",
          "state": {
            "_model_module": "@jupyter-widgets/base",
            "_model_module_version": "1.2.0",
            "_model_name": "LayoutModel",
            "_view_count": null,
            "_view_module": "@jupyter-widgets/base",
            "_view_module_version": "1.2.0",
            "_view_name": "LayoutView",
            "align_content": null,
            "align_items": null,
            "align_self": null,
            "border": null,
            "bottom": null,
            "display": null,
            "flex": null,
            "flex_flow": null,
            "grid_area": null,
            "grid_auto_columns": null,
            "grid_auto_flow": null,
            "grid_auto_rows": null,
            "grid_column": null,
            "grid_gap": null,
            "grid_row": null,
            "grid_template_areas": null,
            "grid_template_columns": null,
            "grid_template_rows": null,
            "height": null,
            "justify_content": null,
            "justify_items": null,
            "left": null,
            "margin": null,
            "max_height": null,
            "max_width": null,
            "min_height": null,
            "min_width": null,
            "object_fit": null,
            "object_position": null,
            "order": null,
            "overflow": null,
            "overflow_x": null,
            "overflow_y": null,
            "padding": null,
            "right": null,
            "top": null,
            "visibility": null,
            "width": null
          }
        },
        "842a33c6feb045268c40ff02af23a383": {
          "model_module": "@jupyter-widgets/controls",
          "model_module_version": "1.5.0",
          "model_name": "DescriptionStyleModel",
          "state": {
            "_model_module": "@jupyter-widgets/controls",
            "_model_module_version": "1.5.0",
            "_model_name": "DescriptionStyleModel",
            "_view_count": null,
            "_view_module": "@jupyter-widgets/base",
            "_view_module_version": "1.2.0",
            "_view_name": "StyleView",
            "description_width": ""
          }
        },
        "893b5a198d764cb4b6357657cd070e0e": {
          "model_module": "@jupyter-widgets/controls",
          "model_module_version": "1.5.0",
          "model_name": "ProgressStyleModel",
          "state": {
            "_model_module": "@jupyter-widgets/controls",
            "_model_module_version": "1.5.0",
            "_model_name": "ProgressStyleModel",
            "_view_count": null,
            "_view_module": "@jupyter-widgets/base",
            "_view_module_version": "1.2.0",
            "_view_name": "StyleView",
            "bar_color": null,
            "description_width": ""
          }
        },
        "8adebe71f2da4433b8e4349d3ec82b0c": {
          "model_module": "@jupyter-widgets/base",
          "model_module_version": "1.2.0",
          "model_name": "LayoutModel",
          "state": {
            "_model_module": "@jupyter-widgets/base",
            "_model_module_version": "1.2.0",
            "_model_name": "LayoutModel",
            "_view_count": null,
            "_view_module": "@jupyter-widgets/base",
            "_view_module_version": "1.2.0",
            "_view_name": "LayoutView",
            "align_content": null,
            "align_items": null,
            "align_self": null,
            "border": null,
            "bottom": null,
            "display": null,
            "flex": null,
            "flex_flow": null,
            "grid_area": null,
            "grid_auto_columns": null,
            "grid_auto_flow": null,
            "grid_auto_rows": null,
            "grid_column": null,
            "grid_gap": null,
            "grid_row": null,
            "grid_template_areas": null,
            "grid_template_columns": null,
            "grid_template_rows": null,
            "height": null,
            "justify_content": null,
            "justify_items": null,
            "left": null,
            "margin": null,
            "max_height": null,
            "max_width": null,
            "min_height": null,
            "min_width": null,
            "object_fit": null,
            "object_position": null,
            "order": null,
            "overflow": null,
            "overflow_x": null,
            "overflow_y": null,
            "padding": null,
            "right": null,
            "top": null,
            "visibility": null,
            "width": null
          }
        },
        "8b7062c3ead54126b42731244cf4ee94": {
          "model_module": "@jupyter-widgets/controls",
          "model_module_version": "1.5.0",
          "model_name": "HTMLModel",
          "state": {
            "_dom_classes": [],
            "_model_module": "@jupyter-widgets/controls",
            "_model_module_version": "1.5.0",
            "_model_name": "HTMLModel",
            "_view_count": null,
            "_view_module": "@jupyter-widgets/controls",
            "_view_module_version": "1.5.0",
            "_view_name": "HTMLView",
            "description": "",
            "description_tooltip": null,
            "layout": "IPY_MODEL_b22adadd6c064bf1868c634c6cd0151e",
            "placeholder": "​",
            "style": "IPY_MODEL_842a33c6feb045268c40ff02af23a383",
            "value": " 6144/? [00:00&lt;00:00, 215715.49it/s]"
          }
        },
        "8e4ef319fd234fadbe846100aa8a59ca": {
          "model_module": "@jupyter-widgets/controls",
          "model_module_version": "1.5.0",
          "model_name": "ProgressStyleModel",
          "state": {
            "_model_module": "@jupyter-widgets/controls",
            "_model_module_version": "1.5.0",
            "_model_name": "ProgressStyleModel",
            "_view_count": null,
            "_view_module": "@jupyter-widgets/base",
            "_view_module_version": "1.2.0",
            "_view_name": "StyleView",
            "bar_color": null,
            "description_width": ""
          }
        },
        "900855a7d69143119e8a1732e28e9805": {
          "model_module": "@jupyter-widgets/controls",
          "model_module_version": "1.5.0",
          "model_name": "FloatProgressModel",
          "state": {
            "_dom_classes": [],
            "_model_module": "@jupyter-widgets/controls",
            "_model_module_version": "1.5.0",
            "_model_name": "FloatProgressModel",
            "_view_count": null,
            "_view_module": "@jupyter-widgets/controls",
            "_view_module_version": "1.5.0",
            "_view_name": "ProgressView",
            "bar_style": "success",
            "description": "",
            "description_tooltip": null,
            "layout": "IPY_MODEL_7ef97816c97f4190823984fbce96fec2",
            "max": 26421880,
            "min": 0,
            "orientation": "horizontal",
            "style": "IPY_MODEL_d6f0834528e44ab3979b40bba73d7bc3",
            "value": 26421880
          }
        },
        "919ee53bb08440768cdad1dc0cef8bfe": {
          "model_module": "@jupyter-widgets/base",
          "model_module_version": "1.2.0",
          "model_name": "LayoutModel",
          "state": {
            "_model_module": "@jupyter-widgets/base",
            "_model_module_version": "1.2.0",
            "_model_name": "LayoutModel",
            "_view_count": null,
            "_view_module": "@jupyter-widgets/base",
            "_view_module_version": "1.2.0",
            "_view_name": "LayoutView",
            "align_content": null,
            "align_items": null,
            "align_self": null,
            "border": null,
            "bottom": null,
            "display": null,
            "flex": null,
            "flex_flow": null,
            "grid_area": null,
            "grid_auto_columns": null,
            "grid_auto_flow": null,
            "grid_auto_rows": null,
            "grid_column": null,
            "grid_gap": null,
            "grid_row": null,
            "grid_template_areas": null,
            "grid_template_columns": null,
            "grid_template_rows": null,
            "height": null,
            "justify_content": null,
            "justify_items": null,
            "left": null,
            "margin": null,
            "max_height": null,
            "max_width": null,
            "min_height": null,
            "min_width": null,
            "object_fit": null,
            "object_position": null,
            "order": null,
            "overflow": null,
            "overflow_x": null,
            "overflow_y": null,
            "padding": null,
            "right": null,
            "top": null,
            "visibility": null,
            "width": null
          }
        },
        "93723aff5b3f43c99d670494b50186fa": {
          "model_module": "@jupyter-widgets/controls",
          "model_module_version": "1.5.0",
          "model_name": "FloatProgressModel",
          "state": {
            "_dom_classes": [],
            "_model_module": "@jupyter-widgets/controls",
            "_model_module_version": "1.5.0",
            "_model_name": "FloatProgressModel",
            "_view_count": null,
            "_view_module": "@jupyter-widgets/controls",
            "_view_module_version": "1.5.0",
            "_view_name": "ProgressView",
            "bar_style": "success",
            "description": "",
            "description_tooltip": null,
            "layout": "IPY_MODEL_02f9b6fae06b408d8ce3cff78a7359fd",
            "max": 5148,
            "min": 0,
            "orientation": "horizontal",
            "style": "IPY_MODEL_703de4972df3461d94065c8e67c6d63f",
            "value": 5148
          }
        },
        "956e4dca7f704db1b0c0f97d78beb814": {
          "model_module": "@jupyter-widgets/base",
          "model_module_version": "1.2.0",
          "model_name": "LayoutModel",
          "state": {
            "_model_module": "@jupyter-widgets/base",
            "_model_module_version": "1.2.0",
            "_model_name": "LayoutModel",
            "_view_count": null,
            "_view_module": "@jupyter-widgets/base",
            "_view_module_version": "1.2.0",
            "_view_name": "LayoutView",
            "align_content": null,
            "align_items": null,
            "align_self": null,
            "border": null,
            "bottom": null,
            "display": null,
            "flex": null,
            "flex_flow": null,
            "grid_area": null,
            "grid_auto_columns": null,
            "grid_auto_flow": null,
            "grid_auto_rows": null,
            "grid_column": null,
            "grid_gap": null,
            "grid_row": null,
            "grid_template_areas": null,
            "grid_template_columns": null,
            "grid_template_rows": null,
            "height": null,
            "justify_content": null,
            "justify_items": null,
            "left": null,
            "margin": null,
            "max_height": null,
            "max_width": null,
            "min_height": null,
            "min_width": null,
            "object_fit": null,
            "object_position": null,
            "order": null,
            "overflow": null,
            "overflow_x": null,
            "overflow_y": null,
            "padding": null,
            "right": null,
            "top": null,
            "visibility": null,
            "width": null
          }
        },
        "956f7152f5804d5db13a7e565825fe58": {
          "model_module": "@jupyter-widgets/controls",
          "model_module_version": "1.5.0",
          "model_name": "DescriptionStyleModel",
          "state": {
            "_model_module": "@jupyter-widgets/controls",
            "_model_module_version": "1.5.0",
            "_model_name": "DescriptionStyleModel",
            "_view_count": null,
            "_view_module": "@jupyter-widgets/base",
            "_view_module_version": "1.2.0",
            "_view_name": "StyleView",
            "description_width": ""
          }
        },
        "96cdbd6efc15496c8087355ea0af9e87": {
          "model_module": "@jupyter-widgets/base",
          "model_module_version": "1.2.0",
          "model_name": "LayoutModel",
          "state": {
            "_model_module": "@jupyter-widgets/base",
            "_model_module_version": "1.2.0",
            "_model_name": "LayoutModel",
            "_view_count": null,
            "_view_module": "@jupyter-widgets/base",
            "_view_module_version": "1.2.0",
            "_view_name": "LayoutView",
            "align_content": null,
            "align_items": null,
            "align_self": null,
            "border": null,
            "bottom": null,
            "display": null,
            "flex": null,
            "flex_flow": null,
            "grid_area": null,
            "grid_auto_columns": null,
            "grid_auto_flow": null,
            "grid_auto_rows": null,
            "grid_column": null,
            "grid_gap": null,
            "grid_row": null,
            "grid_template_areas": null,
            "grid_template_columns": null,
            "grid_template_rows": null,
            "height": null,
            "justify_content": null,
            "justify_items": null,
            "left": null,
            "margin": null,
            "max_height": null,
            "max_width": null,
            "min_height": null,
            "min_width": null,
            "object_fit": null,
            "object_position": null,
            "order": null,
            "overflow": null,
            "overflow_x": null,
            "overflow_y": null,
            "padding": null,
            "right": null,
            "top": null,
            "visibility": null,
            "width": null
          }
        },
        "99b88e7e03cc4ee48e990468b7bd8323": {
          "model_module": "@jupyter-widgets/base",
          "model_module_version": "1.2.0",
          "model_name": "LayoutModel",
          "state": {
            "_model_module": "@jupyter-widgets/base",
            "_model_module_version": "1.2.0",
            "_model_name": "LayoutModel",
            "_view_count": null,
            "_view_module": "@jupyter-widgets/base",
            "_view_module_version": "1.2.0",
            "_view_name": "LayoutView",
            "align_content": null,
            "align_items": null,
            "align_self": null,
            "border": null,
            "bottom": null,
            "display": null,
            "flex": null,
            "flex_flow": null,
            "grid_area": null,
            "grid_auto_columns": null,
            "grid_auto_flow": null,
            "grid_auto_rows": null,
            "grid_column": null,
            "grid_gap": null,
            "grid_row": null,
            "grid_template_areas": null,
            "grid_template_columns": null,
            "grid_template_rows": null,
            "height": null,
            "justify_content": null,
            "justify_items": null,
            "left": null,
            "margin": null,
            "max_height": null,
            "max_width": null,
            "min_height": null,
            "min_width": null,
            "object_fit": null,
            "object_position": null,
            "order": null,
            "overflow": null,
            "overflow_x": null,
            "overflow_y": null,
            "padding": null,
            "right": null,
            "top": null,
            "visibility": null,
            "width": null
          }
        },
        "9ae12ebd031b4c94819f86b28ec7acd5": {
          "model_module": "@jupyter-widgets/controls",
          "model_module_version": "1.5.0",
          "model_name": "FloatProgressModel",
          "state": {
            "_dom_classes": [],
            "_model_module": "@jupyter-widgets/controls",
            "_model_module_version": "1.5.0",
            "_model_name": "FloatProgressModel",
            "_view_count": null,
            "_view_module": "@jupyter-widgets/controls",
            "_view_module_version": "1.5.0",
            "_view_name": "ProgressView",
            "bar_style": "",
            "description": "",
            "description_tooltip": null,
            "layout": "IPY_MODEL_7df016cac4134ff082f31575d04fd732",
            "max": 1,
            "min": 0,
            "orientation": "horizontal",
            "style": "IPY_MODEL_4aa8d62a35e64b2a82169fe7ba63cc42",
            "value": 1
          }
        },
        "9ae64df122b34e95a051167a46d1ccb6": {
          "model_module": "@jupyter-widgets/base",
          "model_module_version": "1.2.0",
          "model_name": "LayoutModel",
          "state": {
            "_model_module": "@jupyter-widgets/base",
            "_model_module_version": "1.2.0",
            "_model_name": "LayoutModel",
            "_view_count": null,
            "_view_module": "@jupyter-widgets/base",
            "_view_module_version": "1.2.0",
            "_view_name": "LayoutView",
            "align_content": null,
            "align_items": null,
            "align_self": null,
            "border": null,
            "bottom": null,
            "display": null,
            "flex": null,
            "flex_flow": null,
            "grid_area": null,
            "grid_auto_columns": null,
            "grid_auto_flow": null,
            "grid_auto_rows": null,
            "grid_column": null,
            "grid_gap": null,
            "grid_row": null,
            "grid_template_areas": null,
            "grid_template_columns": null,
            "grid_template_rows": null,
            "height": null,
            "justify_content": null,
            "justify_items": null,
            "left": null,
            "margin": null,
            "max_height": null,
            "max_width": null,
            "min_height": null,
            "min_width": null,
            "object_fit": null,
            "object_position": null,
            "order": null,
            "overflow": null,
            "overflow_x": null,
            "overflow_y": null,
            "padding": null,
            "right": null,
            "top": null,
            "visibility": null,
            "width": null
          }
        },
        "9d5e9b15f88f406cbafb829831d48518": {
          "model_module": "@jupyter-widgets/base",
          "model_module_version": "1.2.0",
          "model_name": "LayoutModel",
          "state": {
            "_model_module": "@jupyter-widgets/base",
            "_model_module_version": "1.2.0",
            "_model_name": "LayoutModel",
            "_view_count": null,
            "_view_module": "@jupyter-widgets/base",
            "_view_module_version": "1.2.0",
            "_view_name": "LayoutView",
            "align_content": null,
            "align_items": null,
            "align_self": null,
            "border": null,
            "bottom": null,
            "display": null,
            "flex": null,
            "flex_flow": null,
            "grid_area": null,
            "grid_auto_columns": null,
            "grid_auto_flow": null,
            "grid_auto_rows": null,
            "grid_column": null,
            "grid_gap": null,
            "grid_row": null,
            "grid_template_areas": null,
            "grid_template_columns": null,
            "grid_template_rows": null,
            "height": null,
            "justify_content": null,
            "justify_items": null,
            "left": null,
            "margin": null,
            "max_height": null,
            "max_width": null,
            "min_height": null,
            "min_width": null,
            "object_fit": null,
            "object_position": null,
            "order": null,
            "overflow": null,
            "overflow_x": null,
            "overflow_y": null,
            "padding": null,
            "right": null,
            "top": null,
            "visibility": null,
            "width": null
          }
        },
        "a51d0c99d38e47c7afef9355700cabae": {
          "model_module": "@jupyter-widgets/base",
          "model_module_version": "1.2.0",
          "model_name": "LayoutModel",
          "state": {
            "_model_module": "@jupyter-widgets/base",
            "_model_module_version": "1.2.0",
            "_model_name": "LayoutModel",
            "_view_count": null,
            "_view_module": "@jupyter-widgets/base",
            "_view_module_version": "1.2.0",
            "_view_name": "LayoutView",
            "align_content": null,
            "align_items": null,
            "align_self": null,
            "border": null,
            "bottom": null,
            "display": null,
            "flex": null,
            "flex_flow": null,
            "grid_area": null,
            "grid_auto_columns": null,
            "grid_auto_flow": null,
            "grid_auto_rows": null,
            "grid_column": null,
            "grid_gap": null,
            "grid_row": null,
            "grid_template_areas": null,
            "grid_template_columns": null,
            "grid_template_rows": null,
            "height": null,
            "justify_content": null,
            "justify_items": null,
            "left": null,
            "margin": null,
            "max_height": null,
            "max_width": null,
            "min_height": null,
            "min_width": null,
            "object_fit": null,
            "object_position": null,
            "order": null,
            "overflow": null,
            "overflow_x": null,
            "overflow_y": null,
            "padding": null,
            "right": null,
            "top": null,
            "visibility": null,
            "width": null
          }
        },
        "aa90e37d5abb4c07a0eab6b4737ec6e9": {
          "model_module": "@jupyter-widgets/controls",
          "model_module_version": "1.5.0",
          "model_name": "HTMLModel",
          "state": {
            "_dom_classes": [],
            "_model_module": "@jupyter-widgets/controls",
            "_model_module_version": "1.5.0",
            "_model_name": "HTMLModel",
            "_view_count": null,
            "_view_module": "@jupyter-widgets/controls",
            "_view_module_version": "1.5.0",
            "_view_name": "HTMLView",
            "description": "",
            "description_tooltip": null,
            "layout": "IPY_MODEL_fc6826341eea402aa12a3ea2c65eb762",
            "placeholder": "​",
            "style": "IPY_MODEL_3ff1abecc0234acf94af5e28b3a3318e",
            "value": " 26422272/? [00:01&lt;00:00, 26668071.64it/s]"
          }
        },
        "b101a39545ad482196005fe233c9c03c": {
          "model_module": "@jupyter-widgets/base",
          "model_module_version": "1.2.0",
          "model_name": "LayoutModel",
          "state": {
            "_model_module": "@jupyter-widgets/base",
            "_model_module_version": "1.2.0",
            "_model_name": "LayoutModel",
            "_view_count": null,
            "_view_module": "@jupyter-widgets/base",
            "_view_module_version": "1.2.0",
            "_view_name": "LayoutView",
            "align_content": null,
            "align_items": null,
            "align_self": null,
            "border": null,
            "bottom": null,
            "display": null,
            "flex": null,
            "flex_flow": null,
            "grid_area": null,
            "grid_auto_columns": null,
            "grid_auto_flow": null,
            "grid_auto_rows": null,
            "grid_column": null,
            "grid_gap": null,
            "grid_row": null,
            "grid_template_areas": null,
            "grid_template_columns": null,
            "grid_template_rows": null,
            "height": null,
            "justify_content": null,
            "justify_items": null,
            "left": null,
            "margin": null,
            "max_height": null,
            "max_width": null,
            "min_height": null,
            "min_width": null,
            "object_fit": null,
            "object_position": null,
            "order": null,
            "overflow": null,
            "overflow_x": null,
            "overflow_y": null,
            "padding": null,
            "right": null,
            "top": null,
            "visibility": null,
            "width": null
          }
        },
        "b22adadd6c064bf1868c634c6cd0151e": {
          "model_module": "@jupyter-widgets/base",
          "model_module_version": "1.2.0",
          "model_name": "LayoutModel",
          "state": {
            "_model_module": "@jupyter-widgets/base",
            "_model_module_version": "1.2.0",
            "_model_name": "LayoutModel",
            "_view_count": null,
            "_view_module": "@jupyter-widgets/base",
            "_view_module_version": "1.2.0",
            "_view_name": "LayoutView",
            "align_content": null,
            "align_items": null,
            "align_self": null,
            "border": null,
            "bottom": null,
            "display": null,
            "flex": null,
            "flex_flow": null,
            "grid_area": null,
            "grid_auto_columns": null,
            "grid_auto_flow": null,
            "grid_auto_rows": null,
            "grid_column": null,
            "grid_gap": null,
            "grid_row": null,
            "grid_template_areas": null,
            "grid_template_columns": null,
            "grid_template_rows": null,
            "height": null,
            "justify_content": null,
            "justify_items": null,
            "left": null,
            "margin": null,
            "max_height": null,
            "max_width": null,
            "min_height": null,
            "min_width": null,
            "object_fit": null,
            "object_position": null,
            "order": null,
            "overflow": null,
            "overflow_x": null,
            "overflow_y": null,
            "padding": null,
            "right": null,
            "top": null,
            "visibility": null,
            "width": null
          }
        },
        "b2d08a9ac83a46a1b135b3ec7bd8878d": {
          "model_module": "@jupyter-widgets/controls",
          "model_module_version": "1.5.0",
          "model_name": "HBoxModel",
          "state": {
            "_dom_classes": [],
            "_model_module": "@jupyter-widgets/controls",
            "_model_module_version": "1.5.0",
            "_model_name": "HBoxModel",
            "_view_count": null,
            "_view_module": "@jupyter-widgets/controls",
            "_view_module_version": "1.5.0",
            "_view_name": "HBoxView",
            "box_style": "",
            "children": [
              "IPY_MODEL_0a12e59a947940af91e1f0af295aba2d",
              "IPY_MODEL_21c0fcdc21e946bb9f62973d2180f427",
              "IPY_MODEL_e5778f9de26541998b2fdc8461c0f589"
            ],
            "layout": "IPY_MODEL_15626d700e56402ca5b5f657c71a9af6"
          }
        },
        "b8b318098c5944ec89668f944bb7f000": {
          "model_module": "@jupyter-widgets/base",
          "model_module_version": "1.2.0",
          "model_name": "LayoutModel",
          "state": {
            "_model_module": "@jupyter-widgets/base",
            "_model_module_version": "1.2.0",
            "_model_name": "LayoutModel",
            "_view_count": null,
            "_view_module": "@jupyter-widgets/base",
            "_view_module_version": "1.2.0",
            "_view_name": "LayoutView",
            "align_content": null,
            "align_items": null,
            "align_self": null,
            "border": null,
            "bottom": null,
            "display": null,
            "flex": null,
            "flex_flow": null,
            "grid_area": null,
            "grid_auto_columns": null,
            "grid_auto_flow": null,
            "grid_auto_rows": null,
            "grid_column": null,
            "grid_gap": null,
            "grid_row": null,
            "grid_template_areas": null,
            "grid_template_columns": null,
            "grid_template_rows": null,
            "height": null,
            "justify_content": null,
            "justify_items": null,
            "left": null,
            "margin": null,
            "max_height": null,
            "max_width": null,
            "min_height": null,
            "min_width": null,
            "object_fit": null,
            "object_position": null,
            "order": null,
            "overflow": null,
            "overflow_x": null,
            "overflow_y": null,
            "padding": null,
            "right": null,
            "top": null,
            "visibility": null,
            "width": null
          }
        },
        "b9e0f50f15a641b085e726328bb97944": {
          "model_module": "@jupyter-widgets/controls",
          "model_module_version": "1.5.0",
          "model_name": "HTMLModel",
          "state": {
            "_dom_classes": [],
            "_model_module": "@jupyter-widgets/controls",
            "_model_module_version": "1.5.0",
            "_model_name": "HTMLModel",
            "_view_count": null,
            "_view_module": "@jupyter-widgets/controls",
            "_view_module_version": "1.5.0",
            "_view_name": "HTMLView",
            "description": "",
            "description_tooltip": null,
            "layout": "IPY_MODEL_d5b797514b47488ea7fbe7cee86703f7",
            "placeholder": "​",
            "style": "IPY_MODEL_dbe107a57f12472a884dba6b106c6ddc",
            "value": ""
          }
        },
        "bc08ffdf90d54c0ebf49b601b8c083c5": {
          "model_module": "@jupyter-widgets/controls",
          "model_module_version": "1.5.0",
          "model_name": "HTMLModel",
          "state": {
            "_dom_classes": [],
            "_model_module": "@jupyter-widgets/controls",
            "_model_module_version": "1.5.0",
            "_model_name": "HTMLModel",
            "_view_count": null,
            "_view_module": "@jupyter-widgets/controls",
            "_view_module_version": "1.5.0",
            "_view_name": "HTMLView",
            "description": "",
            "description_tooltip": null,
            "layout": "IPY_MODEL_7c49e41297b741b0a86a4df7439adfac",
            "placeholder": "​",
            "style": "IPY_MODEL_3aa29601be7c4a1598afd6fa6537035e",
            "value": " 29696/? [00:00&lt;00:00, 340758.51it/s]"
          }
        },
        "c148158f16854a2da1866bf1bbdf217a": {
          "model_module": "@jupyter-widgets/base",
          "model_module_version": "1.2.0",
          "model_name": "LayoutModel",
          "state": {
            "_model_module": "@jupyter-widgets/base",
            "_model_module_version": "1.2.0",
            "_model_name": "LayoutModel",
            "_view_count": null,
            "_view_module": "@jupyter-widgets/base",
            "_view_module_version": "1.2.0",
            "_view_name": "LayoutView",
            "align_content": null,
            "align_items": null,
            "align_self": null,
            "border": null,
            "bottom": null,
            "display": null,
            "flex": null,
            "flex_flow": null,
            "grid_area": null,
            "grid_auto_columns": null,
            "grid_auto_flow": null,
            "grid_auto_rows": null,
            "grid_column": null,
            "grid_gap": null,
            "grid_row": null,
            "grid_template_areas": null,
            "grid_template_columns": null,
            "grid_template_rows": null,
            "height": null,
            "justify_content": null,
            "justify_items": null,
            "left": null,
            "margin": null,
            "max_height": null,
            "max_width": null,
            "min_height": null,
            "min_width": null,
            "object_fit": null,
            "object_position": null,
            "order": null,
            "overflow": null,
            "overflow_x": null,
            "overflow_y": null,
            "padding": null,
            "right": null,
            "top": null,
            "visibility": null,
            "width": null
          }
        },
        "c440ada7e5cf4d8da543f1fb6f5a7dde": {
          "model_module": "@jupyter-widgets/base",
          "model_module_version": "1.2.0",
          "model_name": "LayoutModel",
          "state": {
            "_model_module": "@jupyter-widgets/base",
            "_model_module_version": "1.2.0",
            "_model_name": "LayoutModel",
            "_view_count": null,
            "_view_module": "@jupyter-widgets/base",
            "_view_module_version": "1.2.0",
            "_view_name": "LayoutView",
            "align_content": null,
            "align_items": null,
            "align_self": null,
            "border": null,
            "bottom": null,
            "display": null,
            "flex": null,
            "flex_flow": null,
            "grid_area": null,
            "grid_auto_columns": null,
            "grid_auto_flow": null,
            "grid_auto_rows": null,
            "grid_column": null,
            "grid_gap": null,
            "grid_row": null,
            "grid_template_areas": null,
            "grid_template_columns": null,
            "grid_template_rows": null,
            "height": null,
            "justify_content": null,
            "justify_items": null,
            "left": null,
            "margin": null,
            "max_height": null,
            "max_width": null,
            "min_height": null,
            "min_width": null,
            "object_fit": null,
            "object_position": null,
            "order": null,
            "overflow": null,
            "overflow_x": null,
            "overflow_y": null,
            "padding": null,
            "right": null,
            "top": null,
            "visibility": null,
            "width": null
          }
        },
        "c4f0884cc7de4eeea8d919ba2e0acc01": {
          "model_module": "@jupyter-widgets/controls",
          "model_module_version": "1.5.0",
          "model_name": "HBoxModel",
          "state": {
            "_dom_classes": [],
            "_model_module": "@jupyter-widgets/controls",
            "_model_module_version": "1.5.0",
            "_model_name": "HBoxModel",
            "_view_count": null,
            "_view_module": "@jupyter-widgets/controls",
            "_view_module_version": "1.5.0",
            "_view_name": "HBoxView",
            "box_style": "",
            "children": [
              "IPY_MODEL_0bfabd394ca54730a13bea0b1f11f214",
              "IPY_MODEL_900855a7d69143119e8a1732e28e9805",
              "IPY_MODEL_13ca72a47cfa41b1a10909be10890609"
            ],
            "layout": "IPY_MODEL_919ee53bb08440768cdad1dc0cef8bfe"
          }
        },
        "c916c4afcd4743bdb9e6bc9d74972d3a": {
          "model_module": "@jupyter-widgets/controls",
          "model_module_version": "1.5.0",
          "model_name": "HBoxModel",
          "state": {
            "_dom_classes": [],
            "_model_module": "@jupyter-widgets/controls",
            "_model_module_version": "1.5.0",
            "_model_name": "HBoxModel",
            "_view_count": null,
            "_view_module": "@jupyter-widgets/controls",
            "_view_module_version": "1.5.0",
            "_view_name": "HBoxView",
            "box_style": "",
            "children": [
              "IPY_MODEL_185fd22e1f734e1d89bfa176538ce0a9",
              "IPY_MODEL_5a647199df694df195de5191764ec1e9",
              "IPY_MODEL_bc08ffdf90d54c0ebf49b601b8c083c5"
            ],
            "layout": "IPY_MODEL_033d8eb0e9384912a3b3405b05adbae2"
          }
        },
        "cdef442f849f41b1a4665856682c0758": {
          "model_module": "@jupyter-widgets/base",
          "model_module_version": "1.2.0",
          "model_name": "LayoutModel",
          "state": {
            "_model_module": "@jupyter-widgets/base",
            "_model_module_version": "1.2.0",
            "_model_name": "LayoutModel",
            "_view_count": null,
            "_view_module": "@jupyter-widgets/base",
            "_view_module_version": "1.2.0",
            "_view_name": "LayoutView",
            "align_content": null,
            "align_items": null,
            "align_self": null,
            "border": null,
            "bottom": null,
            "display": null,
            "flex": null,
            "flex_flow": null,
            "grid_area": null,
            "grid_auto_columns": null,
            "grid_auto_flow": null,
            "grid_auto_rows": null,
            "grid_column": null,
            "grid_gap": null,
            "grid_row": null,
            "grid_template_areas": null,
            "grid_template_columns": null,
            "grid_template_rows": null,
            "height": null,
            "justify_content": null,
            "justify_items": null,
            "left": null,
            "margin": null,
            "max_height": null,
            "max_width": null,
            "min_height": null,
            "min_width": null,
            "object_fit": null,
            "object_position": null,
            "order": null,
            "overflow": null,
            "overflow_x": null,
            "overflow_y": null,
            "padding": null,
            "right": null,
            "top": null,
            "visibility": null,
            "width": null
          }
        },
        "cecf7c6be06a47f4abbab8f86e8ba8bd": {
          "model_module": "@jupyter-widgets/controls",
          "model_module_version": "1.5.0",
          "model_name": "ProgressStyleModel",
          "state": {
            "_model_module": "@jupyter-widgets/controls",
            "_model_module_version": "1.5.0",
            "_model_name": "ProgressStyleModel",
            "_view_count": null,
            "_view_module": "@jupyter-widgets/base",
            "_view_module_version": "1.2.0",
            "_view_name": "StyleView",
            "bar_color": null,
            "description_width": ""
          }
        },
        "d1e75c53db224e8c8be62a22b4378e0d": {
          "model_module": "@jupyter-widgets/controls",
          "model_module_version": "1.5.0",
          "model_name": "DescriptionStyleModel",
          "state": {
            "_model_module": "@jupyter-widgets/controls",
            "_model_module_version": "1.5.0",
            "_model_name": "DescriptionStyleModel",
            "_view_count": null,
            "_view_module": "@jupyter-widgets/base",
            "_view_module_version": "1.2.0",
            "_view_name": "StyleView",
            "description_width": ""
          }
        },
        "d434a04447de43f384fc0c2a5bd02174": {
          "model_module": "@jupyter-widgets/controls",
          "model_module_version": "1.5.0",
          "model_name": "LabelModel",
          "state": {
            "_dom_classes": [],
            "_model_module": "@jupyter-widgets/controls",
            "_model_module_version": "1.5.0",
            "_model_name": "LabelModel",
            "_view_count": null,
            "_view_module": "@jupyter-widgets/controls",
            "_view_module_version": "1.5.0",
            "_view_name": "LabelView",
            "description": "",
            "description_tooltip": null,
            "layout": "IPY_MODEL_d9edb28d771c4a35afeb2cdc122a64f4",
            "placeholder": "​",
            "style": "IPY_MODEL_29ecb714612b477cb67c0b1ddec81060",
            "value": "0.008 MB of 0.008 MB uploaded (0.000 MB deduped)\r"
          }
        },
        "d5b797514b47488ea7fbe7cee86703f7": {
          "model_module": "@jupyter-widgets/base",
          "model_module_version": "1.2.0",
          "model_name": "LayoutModel",
          "state": {
            "_model_module": "@jupyter-widgets/base",
            "_model_module_version": "1.2.0",
            "_model_name": "LayoutModel",
            "_view_count": null,
            "_view_module": "@jupyter-widgets/base",
            "_view_module_version": "1.2.0",
            "_view_name": "LayoutView",
            "align_content": null,
            "align_items": null,
            "align_self": null,
            "border": null,
            "bottom": null,
            "display": null,
            "flex": null,
            "flex_flow": null,
            "grid_area": null,
            "grid_auto_columns": null,
            "grid_auto_flow": null,
            "grid_auto_rows": null,
            "grid_column": null,
            "grid_gap": null,
            "grid_row": null,
            "grid_template_areas": null,
            "grid_template_columns": null,
            "grid_template_rows": null,
            "height": null,
            "justify_content": null,
            "justify_items": null,
            "left": null,
            "margin": null,
            "max_height": null,
            "max_width": null,
            "min_height": null,
            "min_width": null,
            "object_fit": null,
            "object_position": null,
            "order": null,
            "overflow": null,
            "overflow_x": null,
            "overflow_y": null,
            "padding": null,
            "right": null,
            "top": null,
            "visibility": null,
            "width": null
          }
        },
        "d6f0834528e44ab3979b40bba73d7bc3": {
          "model_module": "@jupyter-widgets/controls",
          "model_module_version": "1.5.0",
          "model_name": "ProgressStyleModel",
          "state": {
            "_model_module": "@jupyter-widgets/controls",
            "_model_module_version": "1.5.0",
            "_model_name": "ProgressStyleModel",
            "_view_count": null,
            "_view_module": "@jupyter-widgets/base",
            "_view_module_version": "1.2.0",
            "_view_name": "StyleView",
            "bar_color": null,
            "description_width": ""
          }
        },
        "d93eb92e54504cb58649c9d8e129cb29": {
          "model_module": "@jupyter-widgets/controls",
          "model_module_version": "1.5.0",
          "model_name": "DescriptionStyleModel",
          "state": {
            "_model_module": "@jupyter-widgets/controls",
            "_model_module_version": "1.5.0",
            "_model_name": "DescriptionStyleModel",
            "_view_count": null,
            "_view_module": "@jupyter-widgets/base",
            "_view_module_version": "1.2.0",
            "_view_name": "StyleView",
            "description_width": ""
          }
        },
        "d9edb28d771c4a35afeb2cdc122a64f4": {
          "model_module": "@jupyter-widgets/base",
          "model_module_version": "1.2.0",
          "model_name": "LayoutModel",
          "state": {
            "_model_module": "@jupyter-widgets/base",
            "_model_module_version": "1.2.0",
            "_model_name": "LayoutModel",
            "_view_count": null,
            "_view_module": "@jupyter-widgets/base",
            "_view_module_version": "1.2.0",
            "_view_name": "LayoutView",
            "align_content": null,
            "align_items": null,
            "align_self": null,
            "border": null,
            "bottom": null,
            "display": null,
            "flex": null,
            "flex_flow": null,
            "grid_area": null,
            "grid_auto_columns": null,
            "grid_auto_flow": null,
            "grid_auto_rows": null,
            "grid_column": null,
            "grid_gap": null,
            "grid_row": null,
            "grid_template_areas": null,
            "grid_template_columns": null,
            "grid_template_rows": null,
            "height": null,
            "justify_content": null,
            "justify_items": null,
            "left": null,
            "margin": null,
            "max_height": null,
            "max_width": null,
            "min_height": null,
            "min_width": null,
            "object_fit": null,
            "object_position": null,
            "order": null,
            "overflow": null,
            "overflow_x": null,
            "overflow_y": null,
            "padding": null,
            "right": null,
            "top": null,
            "visibility": null,
            "width": null
          }
        },
        "da4d267d62694046b435129c4aa97208": {
          "model_module": "@jupyter-widgets/controls",
          "model_module_version": "1.5.0",
          "model_name": "DescriptionStyleModel",
          "state": {
            "_model_module": "@jupyter-widgets/controls",
            "_model_module_version": "1.5.0",
            "_model_name": "DescriptionStyleModel",
            "_view_count": null,
            "_view_module": "@jupyter-widgets/base",
            "_view_module_version": "1.2.0",
            "_view_name": "StyleView",
            "description_width": ""
          }
        },
        "dbe107a57f12472a884dba6b106c6ddc": {
          "model_module": "@jupyter-widgets/controls",
          "model_module_version": "1.5.0",
          "model_name": "DescriptionStyleModel",
          "state": {
            "_model_module": "@jupyter-widgets/controls",
            "_model_module_version": "1.5.0",
            "_model_name": "DescriptionStyleModel",
            "_view_count": null,
            "_view_module": "@jupyter-widgets/base",
            "_view_module_version": "1.2.0",
            "_view_name": "StyleView",
            "description_width": ""
          }
        },
        "dfb5193984f54cb09481e9224cb79d4f": {
          "model_module": "@jupyter-widgets/base",
          "model_module_version": "1.2.0",
          "model_name": "LayoutModel",
          "state": {
            "_model_module": "@jupyter-widgets/base",
            "_model_module_version": "1.2.0",
            "_model_name": "LayoutModel",
            "_view_count": null,
            "_view_module": "@jupyter-widgets/base",
            "_view_module_version": "1.2.0",
            "_view_name": "LayoutView",
            "align_content": null,
            "align_items": null,
            "align_self": null,
            "border": null,
            "bottom": null,
            "display": null,
            "flex": null,
            "flex_flow": null,
            "grid_area": null,
            "grid_auto_columns": null,
            "grid_auto_flow": null,
            "grid_auto_rows": null,
            "grid_column": null,
            "grid_gap": null,
            "grid_row": null,
            "grid_template_areas": null,
            "grid_template_columns": null,
            "grid_template_rows": null,
            "height": null,
            "justify_content": null,
            "justify_items": null,
            "left": null,
            "margin": null,
            "max_height": null,
            "max_width": null,
            "min_height": null,
            "min_width": null,
            "object_fit": null,
            "object_position": null,
            "order": null,
            "overflow": null,
            "overflow_x": null,
            "overflow_y": null,
            "padding": null,
            "right": null,
            "top": null,
            "visibility": null,
            "width": null
          }
        },
        "e0c6c5ea2e524af69e509e63d34cf9f0": {
          "model_module": "@jupyter-widgets/controls",
          "model_module_version": "1.5.0",
          "model_name": "DescriptionStyleModel",
          "state": {
            "_model_module": "@jupyter-widgets/controls",
            "_model_module_version": "1.5.0",
            "_model_name": "DescriptionStyleModel",
            "_view_count": null,
            "_view_module": "@jupyter-widgets/base",
            "_view_module_version": "1.2.0",
            "_view_name": "StyleView",
            "description_width": ""
          }
        },
        "e0e06c527bcd4e8fb47bbc3744a1f209": {
          "model_module": "@jupyter-widgets/controls",
          "model_module_version": "1.5.0",
          "model_name": "FloatProgressModel",
          "state": {
            "_dom_classes": [],
            "_model_module": "@jupyter-widgets/controls",
            "_model_module_version": "1.5.0",
            "_model_name": "FloatProgressModel",
            "_view_count": null,
            "_view_module": "@jupyter-widgets/controls",
            "_view_module_version": "1.5.0",
            "_view_name": "ProgressView",
            "bar_style": "success",
            "description": "",
            "description_tooltip": null,
            "layout": "IPY_MODEL_99b88e7e03cc4ee48e990468b7bd8323",
            "max": 4422102,
            "min": 0,
            "orientation": "horizontal",
            "style": "IPY_MODEL_cecf7c6be06a47f4abbab8f86e8ba8bd",
            "value": 4422102
          }
        },
        "e211285aac0048ca95ccd39dacd7d74c": {
          "model_module": "@jupyter-widgets/base",
          "model_module_version": "1.2.0",
          "model_name": "LayoutModel",
          "state": {
            "_model_module": "@jupyter-widgets/base",
            "_model_module_version": "1.2.0",
            "_model_name": "LayoutModel",
            "_view_count": null,
            "_view_module": "@jupyter-widgets/base",
            "_view_module_version": "1.2.0",
            "_view_name": "LayoutView",
            "align_content": null,
            "align_items": null,
            "align_self": null,
            "border": null,
            "bottom": null,
            "display": null,
            "flex": null,
            "flex_flow": null,
            "grid_area": null,
            "grid_auto_columns": null,
            "grid_auto_flow": null,
            "grid_auto_rows": null,
            "grid_column": null,
            "grid_gap": null,
            "grid_row": null,
            "grid_template_areas": null,
            "grid_template_columns": null,
            "grid_template_rows": null,
            "height": null,
            "justify_content": null,
            "justify_items": null,
            "left": null,
            "margin": null,
            "max_height": null,
            "max_width": null,
            "min_height": null,
            "min_width": null,
            "object_fit": null,
            "object_position": null,
            "order": null,
            "overflow": null,
            "overflow_x": null,
            "overflow_y": null,
            "padding": null,
            "right": null,
            "top": null,
            "visibility": null,
            "width": null
          }
        },
        "e3b70690004e4d4a9393e8d5d1368e3f": {
          "model_module": "@jupyter-widgets/controls",
          "model_module_version": "1.5.0",
          "model_name": "HTMLModel",
          "state": {
            "_dom_classes": [],
            "_model_module": "@jupyter-widgets/controls",
            "_model_module_version": "1.5.0",
            "_model_name": "HTMLModel",
            "_view_count": null,
            "_view_module": "@jupyter-widgets/controls",
            "_view_module_version": "1.5.0",
            "_view_name": "HTMLView",
            "description": "",
            "description_tooltip": null,
            "layout": "IPY_MODEL_3233adb2a224499ca9371c5b7741f06c",
            "placeholder": "​",
            "style": "IPY_MODEL_956f7152f5804d5db13a7e565825fe58",
            "value": " 4422656/? [00:00&lt;00:00, 6853748.56it/s]"
          }
        },
        "e3fc355fd215416fac98f70f8f275af1": {
          "model_module": "@jupyter-widgets/base",
          "model_module_version": "1.2.0",
          "model_name": "LayoutModel",
          "state": {
            "_model_module": "@jupyter-widgets/base",
            "_model_module_version": "1.2.0",
            "_model_name": "LayoutModel",
            "_view_count": null,
            "_view_module": "@jupyter-widgets/base",
            "_view_module_version": "1.2.0",
            "_view_name": "LayoutView",
            "align_content": null,
            "align_items": null,
            "align_self": null,
            "border": null,
            "bottom": null,
            "display": null,
            "flex": null,
            "flex_flow": null,
            "grid_area": null,
            "grid_auto_columns": null,
            "grid_auto_flow": null,
            "grid_auto_rows": null,
            "grid_column": null,
            "grid_gap": null,
            "grid_row": null,
            "grid_template_areas": null,
            "grid_template_columns": null,
            "grid_template_rows": null,
            "height": null,
            "justify_content": null,
            "justify_items": null,
            "left": null,
            "margin": null,
            "max_height": null,
            "max_width": null,
            "min_height": null,
            "min_width": null,
            "object_fit": null,
            "object_position": null,
            "order": null,
            "overflow": null,
            "overflow_x": null,
            "overflow_y": null,
            "padding": null,
            "right": null,
            "top": null,
            "visibility": null,
            "width": null
          }
        },
        "e5778f9de26541998b2fdc8461c0f589": {
          "model_module": "@jupyter-widgets/controls",
          "model_module_version": "1.5.0",
          "model_name": "HTMLModel",
          "state": {
            "_dom_classes": [],
            "_model_module": "@jupyter-widgets/controls",
            "_model_module_version": "1.5.0",
            "_model_name": "HTMLModel",
            "_view_count": null,
            "_view_module": "@jupyter-widgets/controls",
            "_view_module_version": "1.5.0",
            "_view_name": "HTMLView",
            "description": "",
            "description_tooltip": null,
            "layout": "IPY_MODEL_ef2262f15a9f4eb5b165676cea4dc55a",
            "placeholder": "​",
            "style": "IPY_MODEL_da4d267d62694046b435129c4aa97208",
            "value": " 29696/? [00:00&lt;00:00, 340913.34it/s]"
          }
        },
        "e5f53f96e7d844fd92f5aacafa412451": {
          "model_module": "@jupyter-widgets/controls",
          "model_module_version": "1.5.0",
          "model_name": "ProgressStyleModel",
          "state": {
            "_model_module": "@jupyter-widgets/controls",
            "_model_module_version": "1.5.0",
            "_model_name": "ProgressStyleModel",
            "_view_count": null,
            "_view_module": "@jupyter-widgets/base",
            "_view_module_version": "1.2.0",
            "_view_name": "StyleView",
            "bar_color": null,
            "description_width": ""
          }
        },
        "ed414b6645db47c28ff6b6d12881d5f8": {
          "model_module": "@jupyter-widgets/controls",
          "model_module_version": "1.5.0",
          "model_name": "DescriptionStyleModel",
          "state": {
            "_model_module": "@jupyter-widgets/controls",
            "_model_module_version": "1.5.0",
            "_model_name": "DescriptionStyleModel",
            "_view_count": null,
            "_view_module": "@jupyter-widgets/base",
            "_view_module_version": "1.2.0",
            "_view_name": "StyleView",
            "description_width": ""
          }
        },
        "ef2262f15a9f4eb5b165676cea4dc55a": {
          "model_module": "@jupyter-widgets/base",
          "model_module_version": "1.2.0",
          "model_name": "LayoutModel",
          "state": {
            "_model_module": "@jupyter-widgets/base",
            "_model_module_version": "1.2.0",
            "_model_name": "LayoutModel",
            "_view_count": null,
            "_view_module": "@jupyter-widgets/base",
            "_view_module_version": "1.2.0",
            "_view_name": "LayoutView",
            "align_content": null,
            "align_items": null,
            "align_self": null,
            "border": null,
            "bottom": null,
            "display": null,
            "flex": null,
            "flex_flow": null,
            "grid_area": null,
            "grid_auto_columns": null,
            "grid_auto_flow": null,
            "grid_auto_rows": null,
            "grid_column": null,
            "grid_gap": null,
            "grid_row": null,
            "grid_template_areas": null,
            "grid_template_columns": null,
            "grid_template_rows": null,
            "height": null,
            "justify_content": null,
            "justify_items": null,
            "left": null,
            "margin": null,
            "max_height": null,
            "max_width": null,
            "min_height": null,
            "min_width": null,
            "object_fit": null,
            "object_position": null,
            "order": null,
            "overflow": null,
            "overflow_x": null,
            "overflow_y": null,
            "padding": null,
            "right": null,
            "top": null,
            "visibility": null,
            "width": null
          }
        },
        "f31356a6a4d8436cbede27c60dceb424": {
          "model_module": "@jupyter-widgets/controls",
          "model_module_version": "1.5.0",
          "model_name": "HBoxModel",
          "state": {
            "_dom_classes": [],
            "_model_module": "@jupyter-widgets/controls",
            "_model_module_version": "1.5.0",
            "_model_name": "HBoxModel",
            "_view_count": null,
            "_view_module": "@jupyter-widgets/controls",
            "_view_module_version": "1.5.0",
            "_view_name": "HBoxView",
            "box_style": "",
            "children": [
              "IPY_MODEL_471ddc31cbea43e5811eabb798812cb8",
              "IPY_MODEL_6f603ffaa0b34b4195d18d1827f0b15f",
              "IPY_MODEL_aa90e37d5abb4c07a0eab6b4737ec6e9"
            ],
            "layout": "IPY_MODEL_825824a3f5954efa98aaec0f5d3af54b"
          }
        },
        "f367ea4b6c4e4e69bd9da6ebf033578a": {
          "model_module": "@jupyter-widgets/controls",
          "model_module_version": "1.5.0",
          "model_name": "FloatProgressModel",
          "state": {
            "_dom_classes": [],
            "_model_module": "@jupyter-widgets/controls",
            "_model_module_version": "1.5.0",
            "_model_name": "FloatProgressModel",
            "_view_count": null,
            "_view_module": "@jupyter-widgets/controls",
            "_view_module_version": "1.5.0",
            "_view_name": "ProgressView",
            "bar_style": "success",
            "description": "",
            "description_tooltip": null,
            "layout": "IPY_MODEL_f929da259206462bba228fc2c58d53d8",
            "max": 4422102,
            "min": 0,
            "orientation": "horizontal",
            "style": "IPY_MODEL_8e4ef319fd234fadbe846100aa8a59ca",
            "value": 4422102
          }
        },
        "f929da259206462bba228fc2c58d53d8": {
          "model_module": "@jupyter-widgets/base",
          "model_module_version": "1.2.0",
          "model_name": "LayoutModel",
          "state": {
            "_model_module": "@jupyter-widgets/base",
            "_model_module_version": "1.2.0",
            "_model_name": "LayoutModel",
            "_view_count": null,
            "_view_module": "@jupyter-widgets/base",
            "_view_module_version": "1.2.0",
            "_view_name": "LayoutView",
            "align_content": null,
            "align_items": null,
            "align_self": null,
            "border": null,
            "bottom": null,
            "display": null,
            "flex": null,
            "flex_flow": null,
            "grid_area": null,
            "grid_auto_columns": null,
            "grid_auto_flow": null,
            "grid_auto_rows": null,
            "grid_column": null,
            "grid_gap": null,
            "grid_row": null,
            "grid_template_areas": null,
            "grid_template_columns": null,
            "grid_template_rows": null,
            "height": null,
            "justify_content": null,
            "justify_items": null,
            "left": null,
            "margin": null,
            "max_height": null,
            "max_width": null,
            "min_height": null,
            "min_width": null,
            "object_fit": null,
            "object_position": null,
            "order": null,
            "overflow": null,
            "overflow_x": null,
            "overflow_y": null,
            "padding": null,
            "right": null,
            "top": null,
            "visibility": null,
            "width": null
          }
        },
        "fc6826341eea402aa12a3ea2c65eb762": {
          "model_module": "@jupyter-widgets/base",
          "model_module_version": "1.2.0",
          "model_name": "LayoutModel",
          "state": {
            "_model_module": "@jupyter-widgets/base",
            "_model_module_version": "1.2.0",
            "_model_name": "LayoutModel",
            "_view_count": null,
            "_view_module": "@jupyter-widgets/base",
            "_view_module_version": "1.2.0",
            "_view_name": "LayoutView",
            "align_content": null,
            "align_items": null,
            "align_self": null,
            "border": null,
            "bottom": null,
            "display": null,
            "flex": null,
            "flex_flow": null,
            "grid_area": null,
            "grid_auto_columns": null,
            "grid_auto_flow": null,
            "grid_auto_rows": null,
            "grid_column": null,
            "grid_gap": null,
            "grid_row": null,
            "grid_template_areas": null,
            "grid_template_columns": null,
            "grid_template_rows": null,
            "height": null,
            "justify_content": null,
            "justify_items": null,
            "left": null,
            "margin": null,
            "max_height": null,
            "max_width": null,
            "min_height": null,
            "min_width": null,
            "object_fit": null,
            "object_position": null,
            "order": null,
            "overflow": null,
            "overflow_x": null,
            "overflow_y": null,
            "padding": null,
            "right": null,
            "top": null,
            "visibility": null,
            "width": null
          }
        }
      }
    }
  },
  "nbformat": 4,
  "nbformat_minor": 0
}
